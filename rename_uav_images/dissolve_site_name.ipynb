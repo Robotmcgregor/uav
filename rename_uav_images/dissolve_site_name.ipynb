{
 "cells": [
  {
   "cell_type": "code",
   "execution_count": 2,
   "metadata": {},
   "outputs": [
    {
     "name": "stdout",
     "output_type": "stream",
     "text": [
      "U:\\RSU\\mmp\\dhmmp\\9_scripts\\mang_proc\\uav\\multi_clip\n"
     ]
    }
   ],
   "source": [
    "cd U:\\RSU\\mmp\\dhmmp\\9_scripts\\mang_proc\\uav\\multi_clip"
   ]
  },
  {
   "cell_type": "code",
   "execution_count": null,
   "metadata": {},
   "outputs": [],
   "source": [
    "%run list_of_files_multi_dir.py -h\n"
   ]
  },
  {
   "cell_type": "code",
   "execution_count": null,
   "metadata": {},
   "outputs": [],
   "source": [
    "%run list_of_files_multi_dir.py --direc U:\\RSU\\mmp\\uav\\site_chips\\temp\\input_extent --endfilen .shp \\\n",
    "    --txtfile U:\\RSU\\mmp\\uav\\site_chips\\temp\\input_extent\\shp_list.csv"
   ]
  },
  {
   "cell_type": "code",
   "execution_count": 111,
   "metadata": {},
   "outputs": [
    {
     "name": "stderr",
     "output_type": "stream",
     "text": [
      "ERROR:fiona._env:Unable to open EPSG support file gcs.csv.  Try setting the GDAL_DATA environment variable to point to the directory containing EPSG csv files.\n",
      "ERROR:fiona._env:Unable to open EPSG support file gcs.csv.  Try setting the GDAL_DATA environment variable to point to the directory containing EPSG csv files.\n"
     ]
    },
    {
     "name": "stdout",
     "output_type": "stream",
     "text": [
      "['U:\\\\RSU\\\\mmp\\\\uav\\\\site_chips\\\\temp\\\\input_extent\\\\erb.shp'\n",
      " 'U:\\\\RSU\\\\mmp\\\\uav\\\\site_chips\\\\temp\\\\input_extent\\\\gpa.shp'\n",
      " 'U:\\\\RSU\\\\mmp\\\\uav\\\\site_chips\\\\temp\\\\input_extent\\\\maa.shp'\n",
      " 'U:\\\\RSU\\\\mmp\\\\uav\\\\site_chips\\\\temp\\\\input_extent\\\\mab.shp'\n",
      " 'U:\\\\RSU\\\\mmp\\\\uav\\\\site_chips\\\\temp\\\\input_extent\\\\mca.shp'\n",
      " 'U:\\\\RSU\\\\mmp\\\\uav\\\\site_chips\\\\temp\\\\input_extent\\\\uer.shp']\n",
      "U:\\RSU\\mmp\\uav\\site_chips\\temp\\input_extent\\erb.shp\n",
      "U:\\RSU\\mmp\\uav\\site_chips\\temp\\input_extent\\gpa.shp\n"
     ]
    },
    {
     "name": "stderr",
     "output_type": "stream",
     "text": [
      "ERROR:fiona._env:Unable to open EPSG support file gcs.csv.  Try setting the GDAL_DATA environment variable to point to the directory containing EPSG csv files.\n",
      "ERROR:fiona._env:Unable to open EPSG support file gcs.csv.  Try setting the GDAL_DATA environment variable to point to the directory containing EPSG csv files.\n",
      "ERROR:fiona._env:Unable to open EPSG support file gcs.csv.  Try setting the GDAL_DATA environment variable to point to the directory containing EPSG csv files.\n"
     ]
    },
    {
     "name": "stdout",
     "output_type": "stream",
     "text": [
      "U:\\RSU\\mmp\\uav\\site_chips\\temp\\input_extent\\maa.shp\n"
     ]
    },
    {
     "name": "stderr",
     "output_type": "stream",
     "text": [
      "ERROR:fiona._env:Unable to open EPSG support file gcs.csv.  Try setting the GDAL_DATA environment variable to point to the directory containing EPSG csv files.\n",
      "ERROR:fiona._env:Unable to open EPSG support file gcs.csv.  Try setting the GDAL_DATA environment variable to point to the directory containing EPSG csv files.\n",
      "ERROR:fiona._env:Unable to open EPSG support file gcs.csv.  Try setting the GDAL_DATA environment variable to point to the directory containing EPSG csv files.\n"
     ]
    },
    {
     "name": "stdout",
     "output_type": "stream",
     "text": [
      "U:\\RSU\\mmp\\uav\\site_chips\\temp\\input_extent\\mab.shp\n",
      "U:\\RSU\\mmp\\uav\\site_chips\\temp\\input_extent\\mca.shp\n"
     ]
    },
    {
     "name": "stderr",
     "output_type": "stream",
     "text": [
      "ERROR:fiona._env:Unable to open EPSG support file gcs.csv.  Try setting the GDAL_DATA environment variable to point to the directory containing EPSG csv files.\n",
      "ERROR:fiona._env:Unable to open EPSG support file gcs.csv.  Try setting the GDAL_DATA environment variable to point to the directory containing EPSG csv files.\n",
      "ERROR:fiona._env:Unable to open EPSG support file gcs.csv.  Try setting the GDAL_DATA environment variable to point to the directory containing EPSG csv files.\n",
      "ERROR:fiona._env:Unable to open EPSG support file gcs.csv.  Try setting the GDAL_DATA environment variable to point to the directory containing EPSG csv files.\n"
     ]
    },
    {
     "name": "stdout",
     "output_type": "stream",
     "text": [
      "U:\\RSU\\mmp\\uav\\site_chips\\temp\\input_extent\\uer.shp\n"
     ]
    }
   ],
   "source": [
    "%run peperline_dissolve_monitoring_site_shp.py -i U:\\RSU\\mmp\\uav\\site_chips\\temp\\input_extent\\shp_list.csv \\\n",
    "    -p U:\\RSU\\mmp\\uav\\site_chips\\temp\\output_extent\\"
   ]
  },
  {
   "cell_type": "code",
   "execution_count": null,
   "metadata": {},
   "outputs": [],
   "source": [
    "%run U:\\RSU\\mmp\\dhmmp\\9_scripts\\mang_proc\\uav\\multi_clip\\peperline_dissolve_monitoring_site_shp.py --direc U:\\mmp\\darwin\\sentinel\\change_detection_shapefile \\\n",
    "    --exten .shp --txtfile U:\\mmp\\darwin\\sentinel\\change_detection_shapefile\\shp_list.csv"
   ]
  }
 ],
 "metadata": {
  "kernelspec": {
   "display_name": "Python 3",
   "language": "python",
   "name": "python3"
  },
  "language_info": {
   "codemirror_mode": {
    "name": "ipython",
    "version": 3
   },
   "file_extension": ".py",
   "mimetype": "text/x-python",
   "name": "python",
   "nbconvert_exporter": "python",
   "pygments_lexer": "ipython3",
   "version": "3.7.7"
  }
 },
 "nbformat": 4,
 "nbformat_minor": 2
}
