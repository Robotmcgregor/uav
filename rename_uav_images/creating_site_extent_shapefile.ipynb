{
 "cells": [
  {
   "cell_type": "code",
   "execution_count": 1,
   "metadata": {},
   "outputs": [
    {
     "data": {
      "text/plain": [
       "{'AeronavFAA': 'r',\n",
       " 'ARCGEN': 'r',\n",
       " 'BNA': 'raw',\n",
       " 'DXF': 'raw',\n",
       " 'CSV': 'raw',\n",
       " 'OpenFileGDB': 'r',\n",
       " 'ESRIJSON': 'r',\n",
       " 'ESRI Shapefile': 'raw',\n",
       " 'GeoJSON': 'rw',\n",
       " 'GeoJSONSeq': 'rw',\n",
       " 'GPKG': 'rw',\n",
       " 'GML': 'raw',\n",
       " 'GPX': 'raw',\n",
       " 'GPSTrackMaker': 'raw',\n",
       " 'Idrisi': 'r',\n",
       " 'MapInfo File': 'raw',\n",
       " 'DGN': 'raw',\n",
       " 'PCIDSK': 'r',\n",
       " 'S57': 'r',\n",
       " 'SEGY': 'r',\n",
       " 'SUA': 'r',\n",
       " 'TopoJSON': 'r'}"
      ]
     },
     "execution_count": 1,
     "metadata": {},
     "output_type": "execute_result"
    }
   ],
   "source": [
    "import geopandas as gpd\n",
    "import fiona\n",
    "fiona.supported_drivers \n"
   ]
  },
  {
   "cell_type": "code",
   "execution_count": 14,
   "metadata": {},
   "outputs": [],
   "source": [
    "shp= gpd.read_file(r\"U:\\mmp\\uav\\site_chips_2023\\bhg\\bhg.shp\")"
   ]
  },
  {
   "cell_type": "code",
   "execution_count": 15,
   "metadata": {},
   "outputs": [],
   "source": [
    "shp['uid']=shp['ID'].astype(int)"
   ]
  },
  {
   "cell_type": "code",
   "execution_count": 16,
   "metadata": {},
   "outputs": [],
   "source": [
    "shp['uid']= 1"
   ]
  },
  {
   "cell_type": "code",
   "execution_count": 17,
   "metadata": {
    "scrolled": true
   },
   "outputs": [
    {
     "data": {
      "text/html": [
       "<div>\n",
       "<style scoped>\n",
       "    .dataframe tbody tr th:only-of-type {\n",
       "        vertical-align: middle;\n",
       "    }\n",
       "\n",
       "    .dataframe tbody tr th {\n",
       "        vertical-align: top;\n",
       "    }\n",
       "\n",
       "    .dataframe thead th {\n",
       "        text-align: right;\n",
       "    }\n",
       "</style>\n",
       "<table border=\"1\" class=\"dataframe\">\n",
       "  <thead>\n",
       "    <tr style=\"text-align: right;\">\n",
       "      <th></th>\n",
       "      <th>ID</th>\n",
       "      <th>X_MIN</th>\n",
       "      <th>X_MAX</th>\n",
       "      <th>Y_MIN</th>\n",
       "      <th>Y_MAX</th>\n",
       "      <th>geometry</th>\n",
       "      <th>uid</th>\n",
       "    </tr>\n",
       "  </thead>\n",
       "  <tbody>\n",
       "    <tr>\n",
       "      <th>0</th>\n",
       "      <td>18</td>\n",
       "      <td>676020.0</td>\n",
       "      <td>676030.0</td>\n",
       "      <td>8594820.0</td>\n",
       "      <td>8594830.0</td>\n",
       "      <td>POLYGON ((676020.000 8594830.000, 676030.000 8...</td>\n",
       "      <td>1</td>\n",
       "    </tr>\n",
       "    <tr>\n",
       "      <th>1</th>\n",
       "      <td>19</td>\n",
       "      <td>676030.0</td>\n",
       "      <td>676040.0</td>\n",
       "      <td>8594820.0</td>\n",
       "      <td>8594830.0</td>\n",
       "      <td>POLYGON ((676030.000 8594830.000, 676040.000 8...</td>\n",
       "      <td>1</td>\n",
       "    </tr>\n",
       "    <tr>\n",
       "      <th>2</th>\n",
       "      <td>20</td>\n",
       "      <td>676040.0</td>\n",
       "      <td>676050.0</td>\n",
       "      <td>8594820.0</td>\n",
       "      <td>8594830.0</td>\n",
       "      <td>POLYGON ((676040.000 8594830.000, 676050.000 8...</td>\n",
       "      <td>1</td>\n",
       "    </tr>\n",
       "    <tr>\n",
       "      <th>3</th>\n",
       "      <td>21</td>\n",
       "      <td>676050.0</td>\n",
       "      <td>676060.0</td>\n",
       "      <td>8594820.0</td>\n",
       "      <td>8594830.0</td>\n",
       "      <td>POLYGON ((676050.000 8594830.000, 676060.000 8...</td>\n",
       "      <td>1</td>\n",
       "    </tr>\n",
       "    <tr>\n",
       "      <th>4</th>\n",
       "      <td>22</td>\n",
       "      <td>676060.0</td>\n",
       "      <td>676070.0</td>\n",
       "      <td>8594820.0</td>\n",
       "      <td>8594830.0</td>\n",
       "      <td>POLYGON ((676060.000 8594830.000, 676070.000 8...</td>\n",
       "      <td>1</td>\n",
       "    </tr>\n",
       "    <tr>\n",
       "      <th>...</th>\n",
       "      <td>...</td>\n",
       "      <td>...</td>\n",
       "      <td>...</td>\n",
       "      <td>...</td>\n",
       "      <td>...</td>\n",
       "      <td>...</td>\n",
       "      <td>...</td>\n",
       "    </tr>\n",
       "    <tr>\n",
       "      <th>97</th>\n",
       "      <td>637</td>\n",
       "      <td>675970.0</td>\n",
       "      <td>675980.0</td>\n",
       "      <td>8594660.0</td>\n",
       "      <td>8594670.0</td>\n",
       "      <td>POLYGON ((675970.000 8594670.000, 675980.000 8...</td>\n",
       "      <td>1</td>\n",
       "    </tr>\n",
       "    <tr>\n",
       "      <th>98</th>\n",
       "      <td>640</td>\n",
       "      <td>676000.0</td>\n",
       "      <td>676010.0</td>\n",
       "      <td>8594660.0</td>\n",
       "      <td>8594670.0</td>\n",
       "      <td>POLYGON ((676000.000 8594670.000, 676010.000 8...</td>\n",
       "      <td>1</td>\n",
       "    </tr>\n",
       "    <tr>\n",
       "      <th>99</th>\n",
       "      <td>676</td>\n",
       "      <td>675970.0</td>\n",
       "      <td>675980.0</td>\n",
       "      <td>8594650.0</td>\n",
       "      <td>8594660.0</td>\n",
       "      <td>POLYGON ((675970.000 8594660.000, 675980.000 8...</td>\n",
       "      <td>1</td>\n",
       "    </tr>\n",
       "    <tr>\n",
       "      <th>100</th>\n",
       "      <td>678</td>\n",
       "      <td>675990.0</td>\n",
       "      <td>676000.0</td>\n",
       "      <td>8594650.0</td>\n",
       "      <td>8594660.0</td>\n",
       "      <td>POLYGON ((675990.000 8594660.000, 676000.000 8...</td>\n",
       "      <td>1</td>\n",
       "    </tr>\n",
       "    <tr>\n",
       "      <th>101</th>\n",
       "      <td>679</td>\n",
       "      <td>676000.0</td>\n",
       "      <td>676010.0</td>\n",
       "      <td>8594650.0</td>\n",
       "      <td>8594660.0</td>\n",
       "      <td>POLYGON ((676000.000 8594660.000, 676010.000 8...</td>\n",
       "      <td>1</td>\n",
       "    </tr>\n",
       "  </tbody>\n",
       "</table>\n",
       "<p>102 rows × 7 columns</p>\n",
       "</div>"
      ],
      "text/plain": [
       "      ID     X_MIN     X_MAX      Y_MIN      Y_MAX  \\\n",
       "0     18  676020.0  676030.0  8594820.0  8594830.0   \n",
       "1     19  676030.0  676040.0  8594820.0  8594830.0   \n",
       "2     20  676040.0  676050.0  8594820.0  8594830.0   \n",
       "3     21  676050.0  676060.0  8594820.0  8594830.0   \n",
       "4     22  676060.0  676070.0  8594820.0  8594830.0   \n",
       "..   ...       ...       ...        ...        ...   \n",
       "97   637  675970.0  675980.0  8594660.0  8594670.0   \n",
       "98   640  676000.0  676010.0  8594660.0  8594670.0   \n",
       "99   676  675970.0  675980.0  8594650.0  8594660.0   \n",
       "100  678  675990.0  676000.0  8594650.0  8594660.0   \n",
       "101  679  676000.0  676010.0  8594650.0  8594660.0   \n",
       "\n",
       "                                              geometry  uid  \n",
       "0    POLYGON ((676020.000 8594830.000, 676030.000 8...    1  \n",
       "1    POLYGON ((676030.000 8594830.000, 676040.000 8...    1  \n",
       "2    POLYGON ((676040.000 8594830.000, 676050.000 8...    1  \n",
       "3    POLYGON ((676050.000 8594830.000, 676060.000 8...    1  \n",
       "4    POLYGON ((676060.000 8594830.000, 676070.000 8...    1  \n",
       "..                                                 ...  ...  \n",
       "97   POLYGON ((675970.000 8594670.000, 675980.000 8...    1  \n",
       "98   POLYGON ((676000.000 8594670.000, 676010.000 8...    1  \n",
       "99   POLYGON ((675970.000 8594660.000, 675980.000 8...    1  \n",
       "100  POLYGON ((675990.000 8594660.000, 676000.000 8...    1  \n",
       "101  POLYGON ((676000.000 8594660.000, 676010.000 8...    1  \n",
       "\n",
       "[102 rows x 7 columns]"
      ]
     },
     "execution_count": 17,
     "metadata": {},
     "output_type": "execute_result"
    }
   ],
   "source": [
    "shp"
   ]
  },
  {
   "cell_type": "code",
   "execution_count": 18,
   "metadata": {},
   "outputs": [],
   "source": [
    "shp_boundary = shp[['uid']]"
   ]
  },
  {
   "cell_type": "code",
   "execution_count": 19,
   "metadata": {},
   "outputs": [],
   "source": [
    "shp_regions = shp.dissolve(by='uid')"
   ]
  },
  {
   "cell_type": "code",
   "execution_count": 20,
   "metadata": {},
   "outputs": [
    {
     "data": {
      "text/plain": [
       "<Projected CRS: EPSG:32752>\n",
       "Name: WGS 84 / UTM zone 52S\n",
       "Axis Info [cartesian]:\n",
       "- E[east]: Easting (metre)\n",
       "- N[north]: Northing (metre)\n",
       "Area of Use:\n",
       "- name: World - S hemisphere - 126°E to 132°E - by country\n",
       "- bounds: (126.0, -80.0, 132.0, 0.0)\n",
       "Coordinate Operation:\n",
       "- name: UTM zone 52S\n",
       "- method: Transverse Mercator\n",
       "Datum: World Geodetic System 1984\n",
       "- Ellipsoid: WGS 84\n",
       "- Prime Meridian: Greenwich"
      ]
     },
     "execution_count": 20,
     "metadata": {},
     "output_type": "execute_result"
    }
   ],
   "source": [
    "shp_regions.crs"
   ]
  },
  {
   "cell_type": "code",
   "execution_count": 21,
   "metadata": {},
   "outputs": [],
   "source": [
    "#shp_regions.crs = (epsg: 32752)"
   ]
  },
  {
   "cell_type": "code",
   "execution_count": 22,
   "metadata": {},
   "outputs": [],
   "source": [
    "shp_regions.to_file('Y:/PGB/Raster/uav/2023/bhg02/shp/bhg_extent.shp', driver='ESRI Shapefile')"
   ]
  },
  {
   "cell_type": "code",
   "execution_count": 23,
   "metadata": {},
   "outputs": [],
   "source": [
    "#shp_regions"
   ]
  },
  {
   "cell_type": "code",
   "execution_count": 12,
   "metadata": {},
   "outputs": [],
   "source": [
    "#shp= gpd.read_file(\"X:/PGB/Raster/uav/2022/era01_t/shp/era01_extent.shp\", crs:\"+proj=utm +zone=52 +south +datum=WGS84 +units=m +no_defs\" )"
   ]
  },
  {
   "cell_type": "code",
   "execution_count": null,
   "metadata": {},
   "outputs": [],
   "source": []
  },
  {
   "cell_type": "code",
   "execution_count": 13,
   "metadata": {},
   "outputs": [],
   "source": [
    "#shp.crs"
   ]
  },
  {
   "cell_type": "code",
   "execution_count": null,
   "metadata": {},
   "outputs": [],
   "source": []
  }
 ],
 "metadata": {
  "kernelspec": {
   "display_name": "Python 3",
   "language": "python",
   "name": "python3"
  },
  "language_info": {
   "codemirror_mode": {
    "name": "ipython",
    "version": 3
   },
   "file_extension": ".py",
   "mimetype": "text/x-python",
   "name": "python",
   "nbconvert_exporter": "python",
   "pygments_lexer": "ipython3",
   "version": "3.7.7"
  }
 },
 "nbformat": 4,
 "nbformat_minor": 2
}
