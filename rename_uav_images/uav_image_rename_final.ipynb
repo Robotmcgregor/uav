{
 "cells": [
  {
   "cell_type": "code",
   "execution_count": 1,
   "metadata": {},
   "outputs": [],
   "source": [
    "from glob import glob\n",
    "import os\n",
    "import sys\n",
    "import zipfile\n",
    "import shutil"
   ]
  },
  {
   "cell_type": "markdown",
   "metadata": {},
   "source": [
    "## Create directory structure"
   ]
  },
  {
   "cell_type": "code",
   "execution_count": null,
   "metadata": {},
   "outputs": [],
   "source": [
    "directory = r\"D:\\uav\\2022\"\n",
    "site = \"mud\"\n",
    "\n",
    "#the amount of property sub directories you want to create\n",
    "start_range = 1\n",
    "end_range = 4"
   ]
  },
  {
   "cell_type": "code",
   "execution_count": null,
   "metadata": {},
   "outputs": [],
   "source": [
    "def create_dir(path, dir_):\n",
    "    # create path and dires where none exist\n",
    "    path_ = os.path.join(path, dir_)\n",
    "    if not os.path.isdir(path_):\n",
    "        #print('create: ', path_)\n",
    "        os.mkdir(path_)\n",
    "    return path_\n",
    "    \n",
    "# -------------------------------------------\n",
    "x = 1\n",
    "for i in range(start_range, end_range):\n",
    "    #print(i)\n",
    "    if x in range(1, 10):\n",
    "        tag = \"0{0}\".format(str(x))\n",
    "    elif x in range(10, 100):\n",
    "        tag = \"{0}\".format(str(x))\n",
    "    else:\n",
    "        pass\n",
    "    site_tag = \"{0}{1}\".format(site, tag)\n",
    "    x += 1\n",
    "    \n",
    "    # create dirs\n",
    "    main_dir = create_dir(directory, site_tag)\n",
    "    gcp_dir = create_dir(main_dir, \"gcp\")\n",
    "    pro_dir = create_dir(main_dir, \"pro\")\n",
    "    raw_dir = create_dir(main_dir, \"raw\")\n",
    "    raw_dir = create_dir(main_dir, \"shp\")\n",
    "    raw_dir = create_dir(main_dir, \"cal\")\n"
   ]
  },
  {
   "cell_type": "markdown",
   "metadata": {},
   "source": [
    "## Rename uav images"
   ]
  },
  {
   "cell_type": "markdown",
   "metadata": {},
   "source": [
    "Seperate rededge calibartion panels before running this code"
   ]
  },
  {
   "cell_type": "code",
   "execution_count": null,
   "metadata": {},
   "outputs": [],
   "source": [
    "flight_tag = \"mud01\"\n",
    "directory = r\"D:\\uav\\2022\\{0}\\raw\".format(flight_tag)\n",
    "print(directory)\n",
    "#extension = \".tif\"\n",
    "extension = \".JPG\"\n",
    "\n",
    "#raw_data_path = r\"D:\\uav\\2022\\erb01\\raw_data\\DCIM come from data\"\n",
    "raw_data_path = r\"E:\\Mudjinberri drone images 20 September 2022\\Raw images\" "
   ]
  },
  {
   "cell_type": "markdown",
   "metadata": {},
   "source": [
    "### Rename uav images in a single folder DJI P42 gimble"
   ]
  },
  {
   "cell_type": "code",
   "execution_count": null,
   "metadata": {},
   "outputs": [],
   "source": [
    "i = 1\n",
    "for file_ in glob(os.path.join(raw_data_path, \"*{0}\".format(extension))):\n",
    "    print(file_)\n",
    "    _, ext = file_.split(\".\")\n",
    "    print('i: ', i)\n",
    "    if i in range(1, 10):\n",
    "        increment = \"000{0}\".format(i)\n",
    "    elif i in range(10, 100):\n",
    "        increment = \"00{0}\".format(i)\n",
    "    elif i in range(100, 1000):\n",
    "        increment = \"0{0}\".format(i)\n",
    "    else:\n",
    "        increment = \"{0}\".format(i)\n",
    "\n",
    "    i+=1\n",
    "    new_name = \"{0}_{1}.{2}\".format(flight_tag, increment, ext)\n",
    "    print(new_name)\n",
    "    new_path = os.path.join(directory, new_name)\n",
    "    print(new_path)\n",
    "\n",
    "    shutil.copy(file_, new_path)"
   ]
  },
  {
   "cell_type": "code",
   "execution_count": null,
   "metadata": {},
   "outputs": [],
   "source": []
  },
  {
   "cell_type": "markdown",
   "metadata": {},
   "source": [
    "### Rename uav images Micasense from multiple directories"
   ]
  },
  {
   "cell_type": "code",
   "execution_count": null,
   "metadata": {},
   "outputs": [],
   "source": [
    "flight_tag = \"mab01\"\n",
    "directory = r\"D:\\uav\\2018\\{0}\\raw\".format(flight_tag)\n",
    "print(directory)\n",
    "extension = \".tif\"\n",
    "#extension = \".JPG\"\n",
    "\n",
    "#raw_data_path = r\"D:\\uav\\2022\\erb01\\raw_data\\DCIM come from data\"\n",
    "raw_data_path = r\"G:\\mab_folders\\20180808\""
   ]
  },
  {
   "cell_type": "code",
   "execution_count": null,
   "metadata": {},
   "outputs": [],
   "source": [
    "os.path.join(directory, \"*{0}\".format(extension))"
   ]
  },
  {
   "cell_type": "code",
   "execution_count": null,
   "metadata": {
    "scrolled": true
   },
   "outputs": [],
   "source": [
    "sub_dir_list =[]\n",
    "\n",
    "for dirs_, sub_dirs, file in os.walk(raw_data_path, topdown=False):\n",
    "    print('dirs: ', dirs_)\n",
    "    print('sub dirs: ', sub_dirs)\n",
    "\n",
    "    for sub_dir in sub_dirs:\n",
    "        sub_dir_list.append(os.path.join(raw_data_path, sub_dir))\n",
    "        print(os.path.join(raw_data_path, sub_dir))\n",
    "                        \n",
    "\n",
    "\n",
    "print(sub_dir_list)\n",
    "i = 0\n",
    "for dir_ in sub_dir_list:\n",
    "    \n",
    "    #i+=1\n",
    "    print(\"dir_:\", dir_)\n",
    "    print('-'*50)\n",
    "    print('í:', i)\n",
    "    \n",
    "#     print(i)\n",
    "    for image in glob(os.path.join(dir_, \"*{0}\".format(extension))):\n",
    "        print(image)\n",
    "        i+=1\n",
    "        print(i)\n",
    "        split = os.path.split(image)\n",
    "        orig_file_name = split[1]\n",
    "        sp = orig_file_name.split('_')\n",
    "        file_type = sp[1][-4:]\n",
    "        print(\"file_type: \", file_type)\n",
    "\n",
    "        if i in range(1, 10):\n",
    "            increment = \"000{0}\".format(i)\n",
    "        elif i in range(10, 100):\n",
    "            increment = \"00{0}\".format(i)\n",
    "        elif i in range(100, 1000):\n",
    "            increment = \"0{0}\".format(i)\n",
    "        else:\n",
    "            increment = \"{0}\".format(i)\n",
    "\n",
    "        new_name = \"{0}_{1}{2}\".format(flight_tag, increment, extension)\n",
    "        new_path = os.path.join(directory, new_name)\n",
    "        print('copy from: ', image)\n",
    "        print('to: ', new_path)\n",
    "        shutil.copy(image, new_path)"
   ]
  },
  {
   "cell_type": "markdown",
   "metadata": {},
   "source": [
    "### Rename uav images RTK from multiple directories"
   ]
  },
  {
   "cell_type": "code",
   "execution_count": null,
   "metadata": {},
   "outputs": [],
   "source": [
    "flight_tag = \"mac02\"\n",
    "directory = r\"D:\\uav\\2018\\{0}\\raw\".format(flight_tag)\n",
    "print(directory)\n",
    "#extension = \".tif\"\n",
    "extension = \".JPG\"\n",
    "\n",
    "#raw_data_path = r\"D:\\uav\\2022\\erb01\\raw_data\\DCIM come from data\"\n",
    "raw_data_path = r\"G:\\f13\\f13\\dji\\20180808\\DCIM\""
   ]
  },
  {
   "cell_type": "code",
   "execution_count": null,
   "metadata": {},
   "outputs": [],
   "source": [
    "os.path.join(directory, \"*{0}\".format(extension))"
   ]
  },
  {
   "cell_type": "code",
   "execution_count": null,
   "metadata": {
    "scrolled": false
   },
   "outputs": [],
   "source": [
    "sub_dir_list =[]\n",
    "\n",
    "for dirs_, sub_dirs, file in os.walk(raw_data_path, topdown=False):\n",
    "    print('dirs: ', dirs_)\n",
    "    print('sub dirs: ', sub_dirs)\n",
    "\n",
    "    for sub_dir in sub_dirs:\n",
    "        sub_dir_list.append(os.path.join(raw_data_path, sub_dir))\n",
    "\n",
    "\n",
    "print(sub_dir_list)\n",
    "i = 0\n",
    "for dir_ in sub_dir_list:\n",
    "    \n",
    "    \n",
    "    for image in glob(os.path.join(dir_, \"*{0}\".format(extension))):\n",
    "        print(image)\n",
    "        i+=1\n",
    "        print(i)\n",
    "        split = os.path.split(image)\n",
    "        orig_file_name = split[1]\n",
    "        sp = orig_file_name.split('_')\n",
    "        file_type = sp[1][-4:]\n",
    "#         print(\"file_type: \", file_type)\n",
    "\n",
    "        if i in range(1, 10):\n",
    "            increment = \"000{0}\".format(i)\n",
    "        elif i in range(10, 100):\n",
    "            increment = \"00{0}\".format(i)\n",
    "        elif i in range(100, 1000):\n",
    "            increment = \"0{0}\".format(i)\n",
    "        else:\n",
    "            increment = \"{0}\".format(i)\n",
    "\n",
    "        new_name = \"{0}_{1}{2}\".format(flight_tag, increment, extension)\n",
    "        new_path = os.path.join(directory, new_name)\n",
    "        print('copy from: ', image)\n",
    "        print('to: ', new_path)\n",
    "        shutil.copy(image, new_path)"
   ]
  },
  {
   "cell_type": "code",
   "execution_count": null,
   "metadata": {},
   "outputs": [],
   "source": []
  },
  {
   "cell_type": "code",
   "execution_count": null,
   "metadata": {},
   "outputs": [],
   "source": []
  },
  {
   "cell_type": "code",
   "execution_count": null,
   "metadata": {},
   "outputs": [],
   "source": []
  },
  {
   "cell_type": "code",
   "execution_count": null,
   "metadata": {},
   "outputs": [],
   "source": []
  },
  {
   "cell_type": "code",
   "execution_count": null,
   "metadata": {},
   "outputs": [],
   "source": []
  },
  {
   "cell_type": "code",
   "execution_count": null,
   "metadata": {},
   "outputs": [],
   "source": []
  },
  {
   "cell_type": "code",
   "execution_count": null,
   "metadata": {},
   "outputs": [],
   "source": []
  },
  {
   "cell_type": "code",
   "execution_count": null,
   "metadata": {},
   "outputs": [],
   "source": []
  },
  {
   "cell_type": "code",
   "execution_count": null,
   "metadata": {},
   "outputs": [],
   "source": [
    "i = 1\n",
    "for file_ in glob(os.path.join(directory, \"*{0}\".format(extension))):\n",
    "    print(file_)\n",
    "    _, ext = file_.split(\".\")\n",
    "    print('i: ', i)\n",
    "    if i in range(1, 10):\n",
    "        increment = \"000{0}\".format(i)\n",
    "    elif i in range(10, 100):\n",
    "        increment = \"00{0}\".format(i)\n",
    "    elif i in range(100, 1000):\n",
    "        increment = \"0{0}\".format(i)\n",
    "    else:\n",
    "        increment = \"{0}\".format(i)\n",
    "\n",
    "    i+=1\n",
    "    new_name = \"{0}_{1}.{2}\".format(flight_tag, increment, ext)\n",
    "    print(new_name)\n",
    "    new_path = os.path.join(directory, new_name)\n",
    "    os.rename(file_, new_path)"
   ]
  },
  {
   "cell_type": "code",
   "execution_count": null,
   "metadata": {},
   "outputs": [],
   "source": []
  },
  {
   "cell_type": "markdown",
   "metadata": {},
   "source": [
    "## Zip raw images"
   ]
  },
  {
   "cell_type": "code",
   "execution_count": null,
   "metadata": {},
   "outputs": [],
   "source": [
    "flight_tag = \"rhd06\"\n",
    "flight_code = \"p4ed\"\n",
    "image = \"jpg\"\n",
    "directory = r\"H:\\Drone\\2021\\final_uav_structure\\{0}\\raw\".format(flight_tag)\n",
    " \n",
    "zip_file = zipfile.ZipFile(os.path.join(directory, \"{0}_{1}_{2}.zip\".format(flight_code, flight_tag, image.lower())), 'w')\n",
    "                           \n",
    "for folder, subfolders, files in os.walk(directory):\n",
    "    print(files)\n",
    " \n",
    "    for file in files:\n",
    "        if file.endswith(image.upper()):\n",
    "            zip_file.write(os.path.join(folder, file), os.path.relpath(os.path.join(folder,file), directory), compress_type = zipfile.ZIP_DEFLATED)\n",
    "            \n",
    "        elif file.endswith(image.lower()):\n",
    "            zip_file.write(os.path.join(folder, file), os.path.relpath(os.path.join(folder,file), directory), compress_type = zipfile.ZIP_DEFLATED)     \n",
    "zip_file.close()"
   ]
  },
  {
   "cell_type": "code",
   "execution_count": null,
   "metadata": {},
   "outputs": [],
   "source": [
    "import exif\n",
    "from exif import Image"
   ]
  },
  {
   "cell_type": "code",
   "execution_count": null,
   "metadata": {},
   "outputs": [],
   "source": [
    "\n",
    "\n",
    "folder_path = 'sample_images'\n",
    "img_filename = 'image_1.jpg'\n",
    "img_path = f'{folder_path}/{img_filename}'\n",
    "\n",
    "with open(img_path, 'rb') as img_file:\n",
    "    img = Image(img_file)\n",
    "    \n",
    "print(img.has_exif)"
   ]
  }
 ],
 "metadata": {
  "kernelspec": {
   "display_name": "Python 3",
   "language": "python",
   "name": "python3"
  },
  "language_info": {
   "codemirror_mode": {
    "name": "ipython",
    "version": 3
   },
   "file_extension": ".py",
   "mimetype": "text/x-python",
   "name": "python",
   "nbconvert_exporter": "python",
   "pygments_lexer": "ipython3",
   "version": "3.7.7"
  }
 },
 "nbformat": 4,
 "nbformat_minor": 4
}
