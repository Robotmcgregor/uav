{
 "cells": [
  {
   "cell_type": "code",
   "execution_count": 7,
   "metadata": {},
   "outputs": [],
   "source": [
    "#invite people for the Kaggle party\n",
    "import pandas as pd\n",
    "import matplotlib.pyplot as plt\n",
    "import seaborn as sns\n",
    "import numpy as np\n",
    "from scipy.stats import norm\n",
    "from sklearn.preprocessing import StandardScaler\n",
    "from scipy import stats\n",
    "from glob import glob\n",
    "import warnings\n",
    "from matplotlib import rcParams\n",
    "warnings.filterwarnings('ignore')\n",
    "%matplotlib inline\n",
    "rcParams['figure.figsize'] = 8,6"
   ]
  },
  {
   "cell_type": "code",
   "execution_count": 11,
   "metadata": {},
   "outputs": [],
   "source": [
    "# path = r\"\\\\pgb-bas01\\DENR_Satellite_Imagery$\\Scratch\\drone\\rmb\\rtk_testing_2021_alt_prior\"\n",
    "\n",
    "# df_list = []\n",
    "# for file in glob('{0}\\\\error.csv'.format(path)):\n",
    "#     print(file)\n",
    "#     df = pd.read_csv(file)\n",
    "#     df_list.append(df)"
   ]
  },
  {
   "cell_type": "code",
   "execution_count": 13,
   "metadata": {},
   "outputs": [
    {
     "data": {
      "text/html": [
       "<div>\n",
       "<style scoped>\n",
       "    .dataframe tbody tr th:only-of-type {\n",
       "        vertical-align: middle;\n",
       "    }\n",
       "\n",
       "    .dataframe tbody tr th {\n",
       "        vertical-align: top;\n",
       "    }\n",
       "\n",
       "    .dataframe thead th {\n",
       "        text-align: right;\n",
       "    }\n",
       "</style>\n",
       "<table border=\"1\" class=\"dataframe\">\n",
       "  <thead>\n",
       "    <tr style=\"text-align: right;\">\n",
       "      <th></th>\n",
       "      <th>Flight</th>\n",
       "      <th>Alt</th>\n",
       "      <th>Camera</th>\n",
       "      <th>gcp</th>\n",
       "      <th>pixcel_m</th>\n",
       "      <th>1</th>\n",
       "      <th>2</th>\n",
       "      <th>3</th>\n",
       "      <th>4</th>\n",
       "      <th>5</th>\n",
       "      <th>6</th>\n",
       "      <th>7</th>\n",
       "      <th>8</th>\n",
       "      <th>9</th>\n",
       "    </tr>\n",
       "  </thead>\n",
       "  <tbody>\n",
       "    <tr>\n",
       "      <th>0</th>\n",
       "      <td>Jenkins11</td>\n",
       "      <td>50</td>\n",
       "      <td>rbg</td>\n",
       "      <td>none</td>\n",
       "      <td>NaN</td>\n",
       "      <td>1.52</td>\n",
       "      <td>1.59</td>\n",
       "      <td>1.45</td>\n",
       "      <td>1.80</td>\n",
       "      <td>1.58</td>\n",
       "      <td>NaN</td>\n",
       "      <td>NaN</td>\n",
       "      <td>NaN</td>\n",
       "      <td>NaN</td>\n",
       "    </tr>\n",
       "    <tr>\n",
       "      <th>1</th>\n",
       "      <td>Jenkins11</td>\n",
       "      <td>50</td>\n",
       "      <td>rgb</td>\n",
       "      <td>c_ne_se_sw_nw</td>\n",
       "      <td>NaN</td>\n",
       "      <td>0.10</td>\n",
       "      <td>0.09</td>\n",
       "      <td>0.06</td>\n",
       "      <td>0.07</td>\n",
       "      <td>0.09</td>\n",
       "      <td>NaN</td>\n",
       "      <td>NaN</td>\n",
       "      <td>NaN</td>\n",
       "      <td>NaN</td>\n",
       "    </tr>\n",
       "    <tr>\n",
       "      <th>2</th>\n",
       "      <td>Jenkins11</td>\n",
       "      <td>50</td>\n",
       "      <td>multi</td>\n",
       "      <td>none</td>\n",
       "      <td>NaN</td>\n",
       "      <td>1.80</td>\n",
       "      <td>1.84</td>\n",
       "      <td>1.93</td>\n",
       "      <td>1.95</td>\n",
       "      <td>1.98</td>\n",
       "      <td>NaN</td>\n",
       "      <td>NaN</td>\n",
       "      <td>NaN</td>\n",
       "      <td>NaN</td>\n",
       "    </tr>\n",
       "    <tr>\n",
       "      <th>3</th>\n",
       "      <td>Jenkins11</td>\n",
       "      <td>50</td>\n",
       "      <td>multi</td>\n",
       "      <td>c_ne_se_sw_nw</td>\n",
       "      <td>NaN</td>\n",
       "      <td>0.08</td>\n",
       "      <td>9999.00</td>\n",
       "      <td>9999.00</td>\n",
       "      <td>0.01</td>\n",
       "      <td>0.04</td>\n",
       "      <td>NaN</td>\n",
       "      <td>NaN</td>\n",
       "      <td>NaN</td>\n",
       "      <td>NaN</td>\n",
       "    </tr>\n",
       "    <tr>\n",
       "      <th>4</th>\n",
       "      <td>Jenkins11</td>\n",
       "      <td>80</td>\n",
       "      <td>rbg</td>\n",
       "      <td>none</td>\n",
       "      <td>NaN</td>\n",
       "      <td>0.97</td>\n",
       "      <td>1.04</td>\n",
       "      <td>0.96</td>\n",
       "      <td>0.93</td>\n",
       "      <td>0.96</td>\n",
       "      <td>NaN</td>\n",
       "      <td>NaN</td>\n",
       "      <td>NaN</td>\n",
       "      <td>NaN</td>\n",
       "    </tr>\n",
       "  </tbody>\n",
       "</table>\n",
       "</div>"
      ],
      "text/plain": [
       "      Flight  Alt Camera            gcp  pixcel_m     1        2        3  \\\n",
       "0  Jenkins11   50    rbg           none       NaN  1.52     1.59     1.45   \n",
       "1  Jenkins11   50    rgb  c_ne_se_sw_nw       NaN  0.10     0.09     0.06   \n",
       "2  Jenkins11   50  multi           none       NaN  1.80     1.84     1.93   \n",
       "3  Jenkins11   50  multi  c_ne_se_sw_nw       NaN  0.08  9999.00  9999.00   \n",
       "4  Jenkins11   80    rbg           none       NaN  0.97     1.04     0.96   \n",
       "\n",
       "      4     5   6   7   8   9  \n",
       "0  1.80  1.58 NaN NaN NaN NaN  \n",
       "1  0.07  0.09 NaN NaN NaN NaN  \n",
       "2  1.95  1.98 NaN NaN NaN NaN  \n",
       "3  0.01  0.04 NaN NaN NaN NaN  \n",
       "4  0.93  0.96 NaN NaN NaN NaN  "
      ]
     },
     "execution_count": 13,
     "metadata": {},
     "output_type": "execute_result"
    }
   ],
   "source": [
    "data_ = pd.read_csv(r\"\\\\pgb-bas01\\DENR_Satellite_Imagery$\\Scratch\\drone\\rmb\\rtk_testing_2021_alt_prior\\flight_gcp_error.csv\")\n",
    "data_.head()"
   ]
  },
  {
   "cell_type": "code",
   "execution_count": 14,
   "metadata": {},
   "outputs": [],
   "source": [
    "#data_ = pd.concat(df_list)"
   ]
  },
  {
   "cell_type": "code",
   "execution_count": 10,
   "metadata": {},
   "outputs": [],
   "source": [
    "# remove Jenkins1\n",
    "data = data_[data_['flight']!='jenkins']"
   ]
  },
  {
   "cell_type": "code",
   "execution_count": 11,
   "metadata": {},
   "outputs": [
    {
     "data": {
      "text/html": [
       "<div>\n",
       "<style scoped>\n",
       "    .dataframe tbody tr th:only-of-type {\n",
       "        vertical-align: middle;\n",
       "    }\n",
       "\n",
       "    .dataframe tbody tr th {\n",
       "        vertical-align: top;\n",
       "    }\n",
       "\n",
       "    .dataframe thead th {\n",
       "        text-align: right;\n",
       "    }\n",
       "</style>\n",
       "<table border=\"1\" class=\"dataframe\">\n",
       "  <thead>\n",
       "    <tr style=\"text-align: right;\">\n",
       "      <th></th>\n",
       "      <th>flight</th>\n",
       "      <th>gcp_calibrated</th>\n",
       "      <th>height (m)</th>\n",
       "      <th>area (sqm)</th>\n",
       "      <th>camera</th>\n",
       "      <th>gcp</th>\n",
       "      <th>dist (m)</th>\n",
       "      <th>cell size</th>\n",
       "    </tr>\n",
       "  </thead>\n",
       "  <tbody>\n",
       "    <tr>\n",
       "      <th>0</th>\n",
       "      <td>palmo_oval</td>\n",
       "      <td>Point_3, Point_5, Point_6, Point_7, Point_8</td>\n",
       "      <td>50</td>\n",
       "      <td>23852</td>\n",
       "      <td>hover</td>\n",
       "      <td>Point_3</td>\n",
       "      <td>0.055129</td>\n",
       "      <td>0.02714</td>\n",
       "    </tr>\n",
       "    <tr>\n",
       "      <th>1</th>\n",
       "      <td>palmo_oval</td>\n",
       "      <td>Point_3, Point_5, Point_6, Point_7, Point_9</td>\n",
       "      <td>50</td>\n",
       "      <td>23852</td>\n",
       "      <td>hover</td>\n",
       "      <td>Point_5</td>\n",
       "      <td>0.005000</td>\n",
       "      <td>0.02714</td>\n",
       "    </tr>\n",
       "    <tr>\n",
       "      <th>2</th>\n",
       "      <td>palmo_oval</td>\n",
       "      <td>Point_3, Point_5, Point_6, Point_7, Point_10</td>\n",
       "      <td>50</td>\n",
       "      <td>23852</td>\n",
       "      <td>hover</td>\n",
       "      <td>Point_6</td>\n",
       "      <td>0.427970</td>\n",
       "      <td>0.02714</td>\n",
       "    </tr>\n",
       "    <tr>\n",
       "      <th>3</th>\n",
       "      <td>palmo_oval</td>\n",
       "      <td>Point_3, Point_5, Point_6, Point_7, Point_11</td>\n",
       "      <td>50</td>\n",
       "      <td>23852</td>\n",
       "      <td>hover</td>\n",
       "      <td>Point_7</td>\n",
       "      <td>0.312870</td>\n",
       "      <td>0.02714</td>\n",
       "    </tr>\n",
       "    <tr>\n",
       "      <th>4</th>\n",
       "      <td>palmo_oval</td>\n",
       "      <td>Point_3, Point_5, Point_6, Point_7, Point_12</td>\n",
       "      <td>50</td>\n",
       "      <td>23852</td>\n",
       "      <td>hover</td>\n",
       "      <td>Point_8</td>\n",
       "      <td>0.374650</td>\n",
       "      <td>0.02714</td>\n",
       "    </tr>\n",
       "  </tbody>\n",
       "</table>\n",
       "</div>"
      ],
      "text/plain": [
       "       flight                                gcp_calibrated  height (m)  \\\n",
       "0  palmo_oval   Point_3, Point_5, Point_6, Point_7, Point_8          50   \n",
       "1  palmo_oval   Point_3, Point_5, Point_6, Point_7, Point_9          50   \n",
       "2  palmo_oval  Point_3, Point_5, Point_6, Point_7, Point_10          50   \n",
       "3  palmo_oval  Point_3, Point_5, Point_6, Point_7, Point_11          50   \n",
       "4  palmo_oval  Point_3, Point_5, Point_6, Point_7, Point_12          50   \n",
       "\n",
       "   area (sqm) camera      gcp  dist (m)  cell size  \n",
       "0       23852  hover  Point_3  0.055129    0.02714  \n",
       "1       23852  hover  Point_5  0.005000    0.02714  \n",
       "2       23852  hover  Point_6  0.427970    0.02714  \n",
       "3       23852  hover  Point_7  0.312870    0.02714  \n",
       "4       23852  hover  Point_8  0.374650    0.02714  "
      ]
     },
     "execution_count": 11,
     "metadata": {},
     "output_type": "execute_result"
    }
   ],
   "source": [
    "data.head()"
   ]
  },
  {
   "cell_type": "code",
   "execution_count": 12,
   "metadata": {},
   "outputs": [],
   "source": [
    "data.columns = [\"location\", \"rectified\", \"altitude_m\", \"area_m2\", \"camera\", \"gcp\", \"distance_m\", \"resoloution\"]"
   ]
  },
  {
   "cell_type": "code",
   "execution_count": 13,
   "metadata": {},
   "outputs": [],
   "source": [
    "data = data[[\"location\", \"camera\", \"resoloution\", \"rectified\", \"altitude_m\", \"area_m2\",  \"gcp\", \"distance_m\", \"resoloution\"]]"
   ]
  },
  {
   "cell_type": "code",
   "execution_count": 14,
   "metadata": {},
   "outputs": [
    {
     "data": {
      "text/html": [
       "<div>\n",
       "<style scoped>\n",
       "    .dataframe tbody tr th:only-of-type {\n",
       "        vertical-align: middle;\n",
       "    }\n",
       "\n",
       "    .dataframe tbody tr th {\n",
       "        vertical-align: top;\n",
       "    }\n",
       "\n",
       "    .dataframe thead th {\n",
       "        text-align: right;\n",
       "    }\n",
       "</style>\n",
       "<table border=\"1\" class=\"dataframe\">\n",
       "  <thead>\n",
       "    <tr style=\"text-align: right;\">\n",
       "      <th></th>\n",
       "      <th>location</th>\n",
       "      <th>camera</th>\n",
       "      <th>resoloution</th>\n",
       "      <th>rectified</th>\n",
       "      <th>altitude_m</th>\n",
       "      <th>area_m2</th>\n",
       "      <th>gcp</th>\n",
       "      <th>distance_m</th>\n",
       "      <th>resoloution</th>\n",
       "    </tr>\n",
       "  </thead>\n",
       "  <tbody>\n",
       "    <tr>\n",
       "      <th>0</th>\n",
       "      <td>palmo_oval</td>\n",
       "      <td>hover</td>\n",
       "      <td>0.02714</td>\n",
       "      <td>Point_3, Point_5, Point_6, Point_7, Point_8</td>\n",
       "      <td>50</td>\n",
       "      <td>23852</td>\n",
       "      <td>Point_3</td>\n",
       "      <td>0.055129</td>\n",
       "      <td>0.02714</td>\n",
       "    </tr>\n",
       "    <tr>\n",
       "      <th>1</th>\n",
       "      <td>palmo_oval</td>\n",
       "      <td>hover</td>\n",
       "      <td>0.02714</td>\n",
       "      <td>Point_3, Point_5, Point_6, Point_7, Point_9</td>\n",
       "      <td>50</td>\n",
       "      <td>23852</td>\n",
       "      <td>Point_5</td>\n",
       "      <td>0.005000</td>\n",
       "      <td>0.02714</td>\n",
       "    </tr>\n",
       "    <tr>\n",
       "      <th>2</th>\n",
       "      <td>palmo_oval</td>\n",
       "      <td>hover</td>\n",
       "      <td>0.02714</td>\n",
       "      <td>Point_3, Point_5, Point_6, Point_7, Point_10</td>\n",
       "      <td>50</td>\n",
       "      <td>23852</td>\n",
       "      <td>Point_6</td>\n",
       "      <td>0.427970</td>\n",
       "      <td>0.02714</td>\n",
       "    </tr>\n",
       "    <tr>\n",
       "      <th>3</th>\n",
       "      <td>palmo_oval</td>\n",
       "      <td>hover</td>\n",
       "      <td>0.02714</td>\n",
       "      <td>Point_3, Point_5, Point_6, Point_7, Point_11</td>\n",
       "      <td>50</td>\n",
       "      <td>23852</td>\n",
       "      <td>Point_7</td>\n",
       "      <td>0.312870</td>\n",
       "      <td>0.02714</td>\n",
       "    </tr>\n",
       "    <tr>\n",
       "      <th>4</th>\n",
       "      <td>palmo_oval</td>\n",
       "      <td>hover</td>\n",
       "      <td>0.02714</td>\n",
       "      <td>Point_3, Point_5, Point_6, Point_7, Point_12</td>\n",
       "      <td>50</td>\n",
       "      <td>23852</td>\n",
       "      <td>Point_8</td>\n",
       "      <td>0.374650</td>\n",
       "      <td>0.02714</td>\n",
       "    </tr>\n",
       "    <tr>\n",
       "      <th>...</th>\n",
       "      <td>...</td>\n",
       "      <td>...</td>\n",
       "      <td>...</td>\n",
       "      <td>...</td>\n",
       "      <td>...</td>\n",
       "      <td>...</td>\n",
       "      <td>...</td>\n",
       "      <td>...</td>\n",
       "      <td>...</td>\n",
       "    </tr>\n",
       "    <tr>\n",
       "      <th>35</th>\n",
       "      <td>train_tracks_20210825</td>\n",
       "      <td>hover</td>\n",
       "      <td>0.04372</td>\n",
       "      <td>Point_1, Point_3</td>\n",
       "      <td>80</td>\n",
       "      <td>50980</td>\n",
       "      <td>Point_01</td>\n",
       "      <td>1.794597</td>\n",
       "      <td>0.04372</td>\n",
       "    </tr>\n",
       "    <tr>\n",
       "      <th>36</th>\n",
       "      <td>train_tracks_20210825</td>\n",
       "      <td>hover</td>\n",
       "      <td>0.04372</td>\n",
       "      <td>Point_1, Point_3</td>\n",
       "      <td>80</td>\n",
       "      <td>50980</td>\n",
       "      <td>Point_02</td>\n",
       "      <td>1.770696</td>\n",
       "      <td>0.04372</td>\n",
       "    </tr>\n",
       "    <tr>\n",
       "      <th>37</th>\n",
       "      <td>train_tracks_20210825</td>\n",
       "      <td>hover</td>\n",
       "      <td>0.04372</td>\n",
       "      <td>Point_1, Point_3</td>\n",
       "      <td>80</td>\n",
       "      <td>50980</td>\n",
       "      <td>Point_03</td>\n",
       "      <td>1.781283</td>\n",
       "      <td>0.04372</td>\n",
       "    </tr>\n",
       "    <tr>\n",
       "      <th>38</th>\n",
       "      <td>train_tracks_20210825</td>\n",
       "      <td>hover</td>\n",
       "      <td>0.04372</td>\n",
       "      <td>Point_1, Point_3</td>\n",
       "      <td>80</td>\n",
       "      <td>50980</td>\n",
       "      <td>Point_05</td>\n",
       "      <td>1.844770</td>\n",
       "      <td>0.04372</td>\n",
       "    </tr>\n",
       "    <tr>\n",
       "      <th>39</th>\n",
       "      <td>train_tracks_20210825</td>\n",
       "      <td>hover</td>\n",
       "      <td>0.04372</td>\n",
       "      <td>Point_1, Point_3</td>\n",
       "      <td>80</td>\n",
       "      <td>50980</td>\n",
       "      <td>Point_06</td>\n",
       "      <td>1.892040</td>\n",
       "      <td>0.04372</td>\n",
       "    </tr>\n",
       "  </tbody>\n",
       "</table>\n",
       "<p>70 rows × 9 columns</p>\n",
       "</div>"
      ],
      "text/plain": [
       "                 location camera  resoloution  \\\n",
       "0              palmo_oval  hover      0.02714   \n",
       "1              palmo_oval  hover      0.02714   \n",
       "2              palmo_oval  hover      0.02714   \n",
       "3              palmo_oval  hover      0.02714   \n",
       "4              palmo_oval  hover      0.02714   \n",
       "..                    ...    ...          ...   \n",
       "35  train_tracks_20210825  hover      0.04372   \n",
       "36  train_tracks_20210825  hover      0.04372   \n",
       "37  train_tracks_20210825  hover      0.04372   \n",
       "38  train_tracks_20210825  hover      0.04372   \n",
       "39  train_tracks_20210825  hover      0.04372   \n",
       "\n",
       "                                       rectified  altitude_m  area_m2  \\\n",
       "0    Point_3, Point_5, Point_6, Point_7, Point_8          50    23852   \n",
       "1    Point_3, Point_5, Point_6, Point_7, Point_9          50    23852   \n",
       "2   Point_3, Point_5, Point_6, Point_7, Point_10          50    23852   \n",
       "3   Point_3, Point_5, Point_6, Point_7, Point_11          50    23852   \n",
       "4   Point_3, Point_5, Point_6, Point_7, Point_12          50    23852   \n",
       "..                                           ...         ...      ...   \n",
       "35                              Point_1, Point_3          80    50980   \n",
       "36                              Point_1, Point_3          80    50980   \n",
       "37                              Point_1, Point_3          80    50980   \n",
       "38                              Point_1, Point_3          80    50980   \n",
       "39                              Point_1, Point_3          80    50980   \n",
       "\n",
       "         gcp  distance_m  resoloution  \n",
       "0    Point_3    0.055129      0.02714  \n",
       "1    Point_5    0.005000      0.02714  \n",
       "2    Point_6    0.427970      0.02714  \n",
       "3    Point_7    0.312870      0.02714  \n",
       "4    Point_8    0.374650      0.02714  \n",
       "..       ...         ...          ...  \n",
       "35  Point_01    1.794597      0.04372  \n",
       "36  Point_02    1.770696      0.04372  \n",
       "37  Point_03    1.781283      0.04372  \n",
       "38  Point_05    1.844770      0.04372  \n",
       "39  Point_06    1.892040      0.04372  \n",
       "\n",
       "[70 rows x 9 columns]"
      ]
     },
     "execution_count": 14,
     "metadata": {},
     "output_type": "execute_result"
    }
   ],
   "source": [
    "data"
   ]
  },
  {
   "cell_type": "code",
   "execution_count": 15,
   "metadata": {},
   "outputs": [],
   "source": [
    "# fill distance_m with 0\n",
    "data.distance_m = data.distance_m.fillna(0)"
   ]
  },
  {
   "cell_type": "code",
   "execution_count": 16,
   "metadata": {},
   "outputs": [],
   "source": [
    "#data_no = data[data['rectified'] != data.gcp]"
   ]
  },
  {
   "cell_type": "code",
   "execution_count": 17,
   "metadata": {},
   "outputs": [],
   "source": [
    "#data_no.info()"
   ]
  },
  {
   "cell_type": "code",
   "execution_count": 18,
   "metadata": {
    "scrolled": false
   },
   "outputs": [
    {
     "name": "stdout",
     "output_type": "stream",
     "text": [
      "<class 'pandas.core.frame.DataFrame'>\n",
      "Int64Index: 70 entries, 0 to 39\n",
      "Data columns (total 9 columns):\n",
      " #   Column       Non-Null Count  Dtype  \n",
      "---  ------       --------------  -----  \n",
      " 0   location     70 non-null     object \n",
      " 1   camera       70 non-null     object \n",
      " 2   resoloution  70 non-null     float64\n",
      " 3   rectified    70 non-null     object \n",
      " 4   altitude_m   70 non-null     int64  \n",
      " 5   area_m2      70 non-null     int64  \n",
      " 6   gcp          70 non-null     object \n",
      " 7   distance_m   70 non-null     float64\n",
      " 8   resoloution  70 non-null     float64\n",
      "dtypes: float64(3), int64(2), object(4)\n",
      "memory usage: 5.5+ KB\n"
     ]
    }
   ],
   "source": [
    "data.info()"
   ]
  },
  {
   "cell_type": "code",
   "execution_count": 19,
   "metadata": {
    "scrolled": true
   },
   "outputs": [
    {
     "data": {
      "text/plain": [
       "count    70.000000\n",
       "mean      1.141360\n",
       "std       0.775325\n",
       "min       0.000000\n",
       "25%       0.184818\n",
       "50%       1.752304\n",
       "75%       1.779470\n",
       "max       1.913505\n",
       "Name: distance_m, dtype: float64"
      ]
     },
     "execution_count": 19,
     "metadata": {},
     "output_type": "execute_result"
    }
   ],
   "source": [
    "data.distance_m.describe()"
   ]
  },
  {
   "cell_type": "code",
   "execution_count": 20,
   "metadata": {},
   "outputs": [],
   "source": [
    "final_list = []\n",
    "for i in data.rectified:\n",
    "    if i != 'no_gcp':\n",
    "        list_b = i.split(',')\n",
    "        #print(list_b)\n",
    "        value = len(list_b)\n",
    "        #print(value)\n",
    "        final_list.append(value)\n",
    "        #print('_'*50)\n",
    "    else:\n",
    "        final_list.append(0)\n",
    "    "
   ]
  },
  {
   "cell_type": "code",
   "execution_count": 21,
   "metadata": {},
   "outputs": [],
   "source": [
    "data['gcp_count'] = final_list"
   ]
  },
  {
   "cell_type": "code",
   "execution_count": 22,
   "metadata": {},
   "outputs": [],
   "source": [
    "no_gcp = data[data['rectified'] == 'no_gcp']\n",
    "gcp = data[data['rectified'] != 'no_gcp']"
   ]
  },
  {
   "cell_type": "code",
   "execution_count": 23,
   "metadata": {},
   "outputs": [
    {
     "data": {
      "text/html": [
       "<div>\n",
       "<style scoped>\n",
       "    .dataframe tbody tr th:only-of-type {\n",
       "        vertical-align: middle;\n",
       "    }\n",
       "\n",
       "    .dataframe tbody tr th {\n",
       "        vertical-align: top;\n",
       "    }\n",
       "\n",
       "    .dataframe thead th {\n",
       "        text-align: right;\n",
       "    }\n",
       "</style>\n",
       "<table border=\"1\" class=\"dataframe\">\n",
       "  <thead>\n",
       "    <tr style=\"text-align: right;\">\n",
       "      <th></th>\n",
       "      <th>location</th>\n",
       "      <th>camera</th>\n",
       "      <th>resoloution</th>\n",
       "      <th>rectified</th>\n",
       "      <th>altitude_m</th>\n",
       "      <th>area_m2</th>\n",
       "      <th>gcp</th>\n",
       "      <th>distance_m</th>\n",
       "      <th>resoloution</th>\n",
       "      <th>gcp_count</th>\n",
       "    </tr>\n",
       "  </thead>\n",
       "  <tbody>\n",
       "    <tr>\n",
       "      <th>0</th>\n",
       "      <td>palmo_oval</td>\n",
       "      <td>hover</td>\n",
       "      <td>0.02714</td>\n",
       "      <td>Point_3, Point_5, Point_6, Point_7, Point_8</td>\n",
       "      <td>50</td>\n",
       "      <td>23852</td>\n",
       "      <td>Point_3</td>\n",
       "      <td>0.055129</td>\n",
       "      <td>0.02714</td>\n",
       "      <td>5</td>\n",
       "    </tr>\n",
       "    <tr>\n",
       "      <th>1</th>\n",
       "      <td>palmo_oval</td>\n",
       "      <td>hover</td>\n",
       "      <td>0.02714</td>\n",
       "      <td>Point_3, Point_5, Point_6, Point_7, Point_9</td>\n",
       "      <td>50</td>\n",
       "      <td>23852</td>\n",
       "      <td>Point_5</td>\n",
       "      <td>0.005000</td>\n",
       "      <td>0.02714</td>\n",
       "      <td>5</td>\n",
       "    </tr>\n",
       "    <tr>\n",
       "      <th>2</th>\n",
       "      <td>palmo_oval</td>\n",
       "      <td>hover</td>\n",
       "      <td>0.02714</td>\n",
       "      <td>Point_3, Point_5, Point_6, Point_7, Point_10</td>\n",
       "      <td>50</td>\n",
       "      <td>23852</td>\n",
       "      <td>Point_6</td>\n",
       "      <td>0.427970</td>\n",
       "      <td>0.02714</td>\n",
       "      <td>5</td>\n",
       "    </tr>\n",
       "    <tr>\n",
       "      <th>3</th>\n",
       "      <td>palmo_oval</td>\n",
       "      <td>hover</td>\n",
       "      <td>0.02714</td>\n",
       "      <td>Point_3, Point_5, Point_6, Point_7, Point_11</td>\n",
       "      <td>50</td>\n",
       "      <td>23852</td>\n",
       "      <td>Point_7</td>\n",
       "      <td>0.312870</td>\n",
       "      <td>0.02714</td>\n",
       "      <td>5</td>\n",
       "    </tr>\n",
       "    <tr>\n",
       "      <th>4</th>\n",
       "      <td>palmo_oval</td>\n",
       "      <td>hover</td>\n",
       "      <td>0.02714</td>\n",
       "      <td>Point_3, Point_5, Point_6, Point_7, Point_12</td>\n",
       "      <td>50</td>\n",
       "      <td>23852</td>\n",
       "      <td>Point_8</td>\n",
       "      <td>0.374650</td>\n",
       "      <td>0.02714</td>\n",
       "      <td>5</td>\n",
       "    </tr>\n",
       "  </tbody>\n",
       "</table>\n",
       "</div>"
      ],
      "text/plain": [
       "     location camera  resoloution  \\\n",
       "0  palmo_oval  hover      0.02714   \n",
       "1  palmo_oval  hover      0.02714   \n",
       "2  palmo_oval  hover      0.02714   \n",
       "3  palmo_oval  hover      0.02714   \n",
       "4  palmo_oval  hover      0.02714   \n",
       "\n",
       "                                      rectified  altitude_m  area_m2      gcp  \\\n",
       "0   Point_3, Point_5, Point_6, Point_7, Point_8          50    23852  Point_3   \n",
       "1   Point_3, Point_5, Point_6, Point_7, Point_9          50    23852  Point_5   \n",
       "2  Point_3, Point_5, Point_6, Point_7, Point_10          50    23852  Point_6   \n",
       "3  Point_3, Point_5, Point_6, Point_7, Point_11          50    23852  Point_7   \n",
       "4  Point_3, Point_5, Point_6, Point_7, Point_12          50    23852  Point_8   \n",
       "\n",
       "   distance_m  resoloution  gcp_count  \n",
       "0    0.055129      0.02714          5  \n",
       "1    0.005000      0.02714          5  \n",
       "2    0.427970      0.02714          5  \n",
       "3    0.312870      0.02714          5  \n",
       "4    0.374650      0.02714          5  "
      ]
     },
     "execution_count": 23,
     "metadata": {},
     "output_type": "execute_result"
    }
   ],
   "source": [
    "data.head()"
   ]
  },
  {
   "cell_type": "code",
   "execution_count": 24,
   "metadata": {},
   "outputs": [],
   "source": [
    "list_data = [data, no_gcp, gcp]\n",
    "list_label = ['All data', \"No Ground Control Points\", \"Ground Control Points\"]"
   ]
  },
  {
   "cell_type": "code",
   "execution_count": 25,
   "metadata": {
    "scrolled": false
   },
   "outputs": [
    {
     "data": {
      "image/png": "[encoded data removed]",
      "text/plain": [
       "<Figure size 432x288 with 1 Axes>"
      ]
     },
     "metadata": {
      "needs_background": "light"
     },
     "output_type": "display_data"
    },
    {
     "name": "stdout",
     "output_type": "stream",
     "text": [
      "========================================\n",
      "Skewness: -0.535044\n",
      "Excess Kurtosis: -1.548632\n",
      "Basic stats: \n",
      "Mean: 1.141360\n",
      "Var: 0.601129\n",
      "Std: 0.775325\n",
      "========================================\n"
     ]
    },
    {
     "data": {
      "image/png": "[encoded data removed]",
      "text/plain": [
       "<Figure size 432x288 with 1 Axes>"
      ]
     },
     "metadata": {
      "needs_background": "light"
     },
     "output_type": "display_data"
    },
    {
     "name": "stdout",
     "output_type": "stream",
     "text": [
      "========================================\n",
      "Skewness: -1.634738\n",
      "Excess Kurtosis: 4.488339\n",
      "Basic stats: \n",
      "Mean: 1.422793\n",
      "Var: 0.197220\n",
      "Std: 0.444095\n",
      "========================================\n"
     ]
    },
    {
     "data": {
      "image/png": "[encoded data removed]",
      "text/plain": [
       "<Figure size 432x288 with 1 Axes>"
      ]
     },
     "metadata": {
      "needs_background": "light"
     },
     "output_type": "display_data"
    },
    {
     "name": "stdout",
     "output_type": "stream",
     "text": [
      "========================================\n",
      "Skewness: -0.200223\n",
      "Excess Kurtosis: -1.986829\n",
      "Basic stats: \n",
      "Mean: 1.028786\n",
      "Var: 0.724754\n",
      "Std: 0.851325\n",
      "========================================\n"
     ]
    }
   ],
   "source": [
    "for i, label in zip(list_data, list_label):\n",
    "    sns.distplot(i.distance_m).set_title(label)\n",
    "    plt.show()\n",
    "    print('='*40)\n",
    "    print(\"Skewness: %f\" % i.distance_m.skew())\n",
    "    print(\"Excess Kurtosis: %f\" % i.distance_m.kurt())\n",
    "    print('Basic stats: ')\n",
    "    print(\"Mean: %f\" % i.distance_m.mean())\n",
    "    print(\"Var: %f\" % i.distance_m.var())\n",
    "    print(\"Std: %f\" % i.distance_m.std())\n",
    "    print('='*40)\n",
    "\n",
    "    plt.show()"
   ]
  },
  {
   "cell_type": "code",
   "execution_count": 26,
   "metadata": {
    "scrolled": true
   },
   "outputs": [
    {
     "data": {
      "image/png": "[encoded data removed]",
      "text/plain": [
       "<Figure size 432x288 with 1 Axes>"
      ]
     },
     "metadata": {
      "needs_background": "light"
     },
     "output_type": "display_data"
    },
    {
     "name": "stdout",
     "output_type": "stream",
     "text": [
      "========================================\n",
      "\n",
      "Value counts per camera / gcp_count\n",
      "\n",
      "camera  gcp_count\n",
      "hover   0            10\n",
      "        1            10\n",
      "        2            10\n",
      "        3             5\n",
      "        5            10\n",
      "shoot   0             5\n",
      "dtype: int64\n"
     ]
    },
    {
     "data": {
      "image/png": "[encoded data removed]",
      "text/plain": [
       "<Figure size 432x288 with 1 Axes>"
      ]
     },
     "metadata": {
      "needs_background": "light"
     },
     "output_type": "display_data"
    },
    {
     "name": "stdout",
     "output_type": "stream",
     "text": [
      "========================================\n",
      "\n",
      "Value counts per camera / gcp_count\n",
      "\n",
      "camera  gcp_count\n",
      "hover   0            5\n",
      "        1            5\n",
      "        2            5\n",
      "        5            5\n",
      "dtype: int64\n"
     ]
    },
    {
     "data": {
      "image/png": "[encoded data removed]",
      "text/plain": [
       "<Figure size 432x288 with 1 Axes>"
      ]
     },
     "metadata": {
      "needs_background": "light"
     },
     "output_type": "display_data"
    },
    {
     "name": "stdout",
     "output_type": "stream",
     "text": [
      "========================================\n",
      "\n",
      "Value counts per camera / gcp_count\n",
      "\n",
      "camera  gcp_count\n",
      "hover   0            10\n",
      "shoot   0             5\n",
      "dtype: int64\n"
     ]
    },
    {
     "data": {
      "image/png": "[encoded data removed]",
      "text/plain": [
       "<Figure size 432x288 with 1 Axes>"
      ]
     },
     "metadata": {
      "needs_background": "light"
     },
     "output_type": "display_data"
    },
    {
     "name": "stdout",
     "output_type": "stream",
     "text": [
      "========================================\n",
      "\n",
      "Value counts per camera / gcp_count\n",
      "\n",
      "camera  gcp_count\n",
      "hover   0            5\n",
      "dtype: int64\n"
     ]
    },
    {
     "data": {
      "image/png": "[encoded data removed]",
      "text/plain": [
       "<Figure size 432x288 with 1 Axes>"
      ]
     },
     "metadata": {
      "needs_background": "light"
     },
     "output_type": "display_data"
    },
    {
     "name": "stdout",
     "output_type": "stream",
     "text": [
      "========================================\n",
      "\n",
      "Value counts per camera / gcp_count\n",
      "\n",
      "camera  gcp_count\n",
      "hover   1            10\n",
      "        2            10\n",
      "        3             5\n",
      "        5            10\n",
      "dtype: int64\n"
     ]
    },
    {
     "data": {
      "image/png": "[encoded data removed]",
      "text/plain": [
       "<Figure size 432x288 with 1 Axes>"
      ]
     },
     "metadata": {
      "needs_background": "light"
     },
     "output_type": "display_data"
    },
    {
     "name": "stdout",
     "output_type": "stream",
     "text": [
      "========================================\n",
      "\n",
      "Value counts per camera / gcp_count\n",
      "\n",
      "camera  gcp_count\n",
      "hover   1            5\n",
      "        2            5\n",
      "        5            5\n",
      "dtype: int64\n"
     ]
    }
   ],
   "source": [
    "for i, label in zip(list_data, list_label):\n",
    "    alt_list = i.altitude_m.unique().tolist()\n",
    "    for n in alt_list:\n",
    "        df = i[i['altitude_m']==n]\n",
    "        sns.boxplot(x='camera', y='distance_m', data=df, hue=\"gcp_count\").set_title(label + ' at altitude: ' + str(n) + 'm.')\n",
    "        #plt.subplots(figsize=(8, 6))\n",
    "        plt.show()\n",
    "        print('='*40)\n",
    "        print('\\nValue counts per camera / gcp_count\\n')\n",
    "\n",
    "        print(df.groupby(['camera', 'gcp_count']).size())\n",
    "\n",
    "\n",
    "        plt.show()"
   ]
  },
  {
   "cell_type": "code",
   "execution_count": 27,
   "metadata": {},
   "outputs": [
    {
     "data": {
      "image/png": "[encoded data removed]",
      "text/plain": [
       "<Figure size 576x432 with 1 Axes>"
      ]
     },
     "metadata": {
      "needs_background": "light"
     },
     "output_type": "display_data"
    }
   ],
   "source": [
    "#box plot overallqual/saleprice\n",
    "var = 'camera'\n",
    "#data = pd.concat([data['distance'], data[var]], axis=1)\n",
    "f, ax = plt.subplots(figsize=(8, 6))\n",
    "fig = sns.boxplot(x=var, y=\"distance_m\", data=data)"
   ]
  },
  {
   "cell_type": "code",
   "execution_count": 28,
   "metadata": {},
   "outputs": [
    {
     "data": {
      "text/html": [
       "<div>\n",
       "<style scoped>\n",
       "    .dataframe tbody tr th:only-of-type {\n",
       "        vertical-align: middle;\n",
       "    }\n",
       "\n",
       "    .dataframe tbody tr th {\n",
       "        vertical-align: top;\n",
       "    }\n",
       "\n",
       "    .dataframe thead th {\n",
       "        text-align: right;\n",
       "    }\n",
       "</style>\n",
       "<table border=\"1\" class=\"dataframe\">\n",
       "  <thead>\n",
       "    <tr style=\"text-align: right;\">\n",
       "      <th></th>\n",
       "      <th>location</th>\n",
       "      <th>camera</th>\n",
       "      <th>resoloution</th>\n",
       "      <th>rectified</th>\n",
       "      <th>altitude_m</th>\n",
       "      <th>area_m2</th>\n",
       "      <th>gcp</th>\n",
       "      <th>distance_m</th>\n",
       "      <th>resoloution</th>\n",
       "      <th>gcp_count</th>\n",
       "    </tr>\n",
       "  </thead>\n",
       "  <tbody>\n",
       "    <tr>\n",
       "      <th>0</th>\n",
       "      <td>palmo_oval</td>\n",
       "      <td>hover</td>\n",
       "      <td>0.02714</td>\n",
       "      <td>Point_3, Point_5, Point_6, Point_7, Point_8</td>\n",
       "      <td>50</td>\n",
       "      <td>23852</td>\n",
       "      <td>Point_3</td>\n",
       "      <td>0.055129</td>\n",
       "      <td>0.02714</td>\n",
       "      <td>5</td>\n",
       "    </tr>\n",
       "    <tr>\n",
       "      <th>1</th>\n",
       "      <td>palmo_oval</td>\n",
       "      <td>hover</td>\n",
       "      <td>0.02714</td>\n",
       "      <td>Point_3, Point_5, Point_6, Point_7, Point_9</td>\n",
       "      <td>50</td>\n",
       "      <td>23852</td>\n",
       "      <td>Point_5</td>\n",
       "      <td>0.005000</td>\n",
       "      <td>0.02714</td>\n",
       "      <td>5</td>\n",
       "    </tr>\n",
       "    <tr>\n",
       "      <th>2</th>\n",
       "      <td>palmo_oval</td>\n",
       "      <td>hover</td>\n",
       "      <td>0.02714</td>\n",
       "      <td>Point_3, Point_5, Point_6, Point_7, Point_10</td>\n",
       "      <td>50</td>\n",
       "      <td>23852</td>\n",
       "      <td>Point_6</td>\n",
       "      <td>0.427970</td>\n",
       "      <td>0.02714</td>\n",
       "      <td>5</td>\n",
       "    </tr>\n",
       "    <tr>\n",
       "      <th>3</th>\n",
       "      <td>palmo_oval</td>\n",
       "      <td>hover</td>\n",
       "      <td>0.02714</td>\n",
       "      <td>Point_3, Point_5, Point_6, Point_7, Point_11</td>\n",
       "      <td>50</td>\n",
       "      <td>23852</td>\n",
       "      <td>Point_7</td>\n",
       "      <td>0.312870</td>\n",
       "      <td>0.02714</td>\n",
       "      <td>5</td>\n",
       "    </tr>\n",
       "    <tr>\n",
       "      <th>4</th>\n",
       "      <td>palmo_oval</td>\n",
       "      <td>hover</td>\n",
       "      <td>0.02714</td>\n",
       "      <td>Point_3, Point_5, Point_6, Point_7, Point_12</td>\n",
       "      <td>50</td>\n",
       "      <td>23852</td>\n",
       "      <td>Point_8</td>\n",
       "      <td>0.374650</td>\n",
       "      <td>0.02714</td>\n",
       "      <td>5</td>\n",
       "    </tr>\n",
       "    <tr>\n",
       "      <th>...</th>\n",
       "      <td>...</td>\n",
       "      <td>...</td>\n",
       "      <td>...</td>\n",
       "      <td>...</td>\n",
       "      <td>...</td>\n",
       "      <td>...</td>\n",
       "      <td>...</td>\n",
       "      <td>...</td>\n",
       "      <td>...</td>\n",
       "      <td>...</td>\n",
       "    </tr>\n",
       "    <tr>\n",
       "      <th>35</th>\n",
       "      <td>train_tracks_20210825</td>\n",
       "      <td>hover</td>\n",
       "      <td>0.04372</td>\n",
       "      <td>Point_1, Point_3</td>\n",
       "      <td>80</td>\n",
       "      <td>50980</td>\n",
       "      <td>Point_01</td>\n",
       "      <td>1.794597</td>\n",
       "      <td>0.04372</td>\n",
       "      <td>2</td>\n",
       "    </tr>\n",
       "    <tr>\n",
       "      <th>36</th>\n",
       "      <td>train_tracks_20210825</td>\n",
       "      <td>hover</td>\n",
       "      <td>0.04372</td>\n",
       "      <td>Point_1, Point_3</td>\n",
       "      <td>80</td>\n",
       "      <td>50980</td>\n",
       "      <td>Point_02</td>\n",
       "      <td>1.770696</td>\n",
       "      <td>0.04372</td>\n",
       "      <td>2</td>\n",
       "    </tr>\n",
       "    <tr>\n",
       "      <th>37</th>\n",
       "      <td>train_tracks_20210825</td>\n",
       "      <td>hover</td>\n",
       "      <td>0.04372</td>\n",
       "      <td>Point_1, Point_3</td>\n",
       "      <td>80</td>\n",
       "      <td>50980</td>\n",
       "      <td>Point_03</td>\n",
       "      <td>1.781283</td>\n",
       "      <td>0.04372</td>\n",
       "      <td>2</td>\n",
       "    </tr>\n",
       "    <tr>\n",
       "      <th>38</th>\n",
       "      <td>train_tracks_20210825</td>\n",
       "      <td>hover</td>\n",
       "      <td>0.04372</td>\n",
       "      <td>Point_1, Point_3</td>\n",
       "      <td>80</td>\n",
       "      <td>50980</td>\n",
       "      <td>Point_05</td>\n",
       "      <td>1.844770</td>\n",
       "      <td>0.04372</td>\n",
       "      <td>2</td>\n",
       "    </tr>\n",
       "    <tr>\n",
       "      <th>39</th>\n",
       "      <td>train_tracks_20210825</td>\n",
       "      <td>hover</td>\n",
       "      <td>0.04372</td>\n",
       "      <td>Point_1, Point_3</td>\n",
       "      <td>80</td>\n",
       "      <td>50980</td>\n",
       "      <td>Point_06</td>\n",
       "      <td>1.892040</td>\n",
       "      <td>0.04372</td>\n",
       "      <td>2</td>\n",
       "    </tr>\n",
       "  </tbody>\n",
       "</table>\n",
       "<p>70 rows × 10 columns</p>\n",
       "</div>"
      ],
      "text/plain": [
       "                 location camera  resoloution  \\\n",
       "0              palmo_oval  hover      0.02714   \n",
       "1              palmo_oval  hover      0.02714   \n",
       "2              palmo_oval  hover      0.02714   \n",
       "3              palmo_oval  hover      0.02714   \n",
       "4              palmo_oval  hover      0.02714   \n",
       "..                    ...    ...          ...   \n",
       "35  train_tracks_20210825  hover      0.04372   \n",
       "36  train_tracks_20210825  hover      0.04372   \n",
       "37  train_tracks_20210825  hover      0.04372   \n",
       "38  train_tracks_20210825  hover      0.04372   \n",
       "39  train_tracks_20210825  hover      0.04372   \n",
       "\n",
       "                                       rectified  altitude_m  area_m2  \\\n",
       "0    Point_3, Point_5, Point_6, Point_7, Point_8          50    23852   \n",
       "1    Point_3, Point_5, Point_6, Point_7, Point_9          50    23852   \n",
       "2   Point_3, Point_5, Point_6, Point_7, Point_10          50    23852   \n",
       "3   Point_3, Point_5, Point_6, Point_7, Point_11          50    23852   \n",
       "4   Point_3, Point_5, Point_6, Point_7, Point_12          50    23852   \n",
       "..                                           ...         ...      ...   \n",
       "35                              Point_1, Point_3          80    50980   \n",
       "36                              Point_1, Point_3          80    50980   \n",
       "37                              Point_1, Point_3          80    50980   \n",
       "38                              Point_1, Point_3          80    50980   \n",
       "39                              Point_1, Point_3          80    50980   \n",
       "\n",
       "         gcp  distance_m  resoloution  gcp_count  \n",
       "0    Point_3    0.055129      0.02714          5  \n",
       "1    Point_5    0.005000      0.02714          5  \n",
       "2    Point_6    0.427970      0.02714          5  \n",
       "3    Point_7    0.312870      0.02714          5  \n",
       "4    Point_8    0.374650      0.02714          5  \n",
       "..       ...         ...          ...        ...  \n",
       "35  Point_01    1.794597      0.04372          2  \n",
       "36  Point_02    1.770696      0.04372          2  \n",
       "37  Point_03    1.781283      0.04372          2  \n",
       "38  Point_05    1.844770      0.04372          2  \n",
       "39  Point_06    1.892040      0.04372          2  \n",
       "\n",
       "[70 rows x 10 columns]"
      ]
     },
     "execution_count": 28,
     "metadata": {},
     "output_type": "execute_result"
    }
   ],
   "source": [
    "data"
   ]
  },
  {
   "cell_type": "code",
   "execution_count": 29,
   "metadata": {},
   "outputs": [
    {
     "ename": "ValueError",
     "evalue": "The truth value of a Series is ambiguous. Use a.empty, a.bool(), a.item(), a.any() or a.all().",
     "output_type": "error",
     "traceback": [
      "\u001b[1;31m---------------------------------------------------------------------------\u001b[0m",
      "\u001b[1;31mValueError\u001b[0m                                Traceback (most recent call last)",
      "\u001b[1;32m<ipython-input-29-6a58c1a122b4>\u001b[0m in \u001b[0;36m<module>\u001b[1;34m()\u001b[0m\n\u001b[1;32m----> 1\u001b[1;33m \u001b[0msns\u001b[0m\u001b[1;33m.\u001b[0m\u001b[0mpairplot\u001b[0m\u001b[1;33m(\u001b[0m\u001b[0mdata\u001b[0m\u001b[1;33m=\u001b[0m\u001b[0mdata\u001b[0m\u001b[1;33m)\u001b[0m\u001b[1;33m\u001b[0m\u001b[1;33m\u001b[0m\u001b[0m\n\u001b[0m",
      "\u001b[1;32mC:\\Users\\rmcgr\\.conda\\envs\\zonal\\lib\\site-packages\\seaborn\\_decorators.py\u001b[0m in \u001b[0;36minner_f\u001b[1;34m(*args, **kwargs)\u001b[0m\n\u001b[0;32m     44\u001b[0m             )\n\u001b[0;32m     45\u001b[0m         \u001b[0mkwargs\u001b[0m\u001b[1;33m.\u001b[0m\u001b[0mupdate\u001b[0m\u001b[1;33m(\u001b[0m\u001b[1;33m{\u001b[0m\u001b[0mk\u001b[0m\u001b[1;33m:\u001b[0m \u001b[0marg\u001b[0m \u001b[1;32mfor\u001b[0m \u001b[0mk\u001b[0m\u001b[1;33m,\u001b[0m \u001b[0marg\u001b[0m \u001b[1;32min\u001b[0m \u001b[0mzip\u001b[0m\u001b[1;33m(\u001b[0m\u001b[0msig\u001b[0m\u001b[1;33m.\u001b[0m\u001b[0mparameters\u001b[0m\u001b[1;33m,\u001b[0m \u001b[0margs\u001b[0m\u001b[1;33m)\u001b[0m\u001b[1;33m}\u001b[0m\u001b[1;33m)\u001b[0m\u001b[1;33m\u001b[0m\u001b[1;33m\u001b[0m\u001b[0m\n\u001b[1;32m---> 46\u001b[1;33m         \u001b[1;32mreturn\u001b[0m \u001b[0mf\u001b[0m\u001b[1;33m(\u001b[0m\u001b[1;33m**\u001b[0m\u001b[0mkwargs\u001b[0m\u001b[1;33m)\u001b[0m\u001b[1;33m\u001b[0m\u001b[1;33m\u001b[0m\u001b[0m\n\u001b[0m\u001b[0;32m     47\u001b[0m     \u001b[1;32mreturn\u001b[0m \u001b[0minner_f\u001b[0m\u001b[1;33m\u001b[0m\u001b[1;33m\u001b[0m\u001b[0m\n\u001b[0;32m     48\u001b[0m \u001b[1;33m\u001b[0m\u001b[0m\n",
      "\u001b[1;32mC:\\Users\\rmcgr\\.conda\\envs\\zonal\\lib\\site-packages\\seaborn\\axisgrid.py\u001b[0m in \u001b[0;36mpairplot\u001b[1;34m(data, hue, hue_order, palette, vars, x_vars, y_vars, kind, diag_kind, markers, height, aspect, corner, dropna, plot_kws, diag_kws, grid_kws, size)\u001b[0m\n\u001b[0;32m   1925\u001b[0m     grid = PairGrid(data, vars=vars, x_vars=x_vars, y_vars=y_vars, hue=hue,\n\u001b[0;32m   1926\u001b[0m                     \u001b[0mhue_order\u001b[0m\u001b[1;33m=\u001b[0m\u001b[0mhue_order\u001b[0m\u001b[1;33m,\u001b[0m \u001b[0mpalette\u001b[0m\u001b[1;33m=\u001b[0m\u001b[0mpalette\u001b[0m\u001b[1;33m,\u001b[0m \u001b[0mcorner\u001b[0m\u001b[1;33m=\u001b[0m\u001b[0mcorner\u001b[0m\u001b[1;33m,\u001b[0m\u001b[1;33m\u001b[0m\u001b[1;33m\u001b[0m\u001b[0m\n\u001b[1;32m-> 1927\u001b[1;33m                     height=height, aspect=aspect, dropna=dropna, **grid_kws)\n\u001b[0m\u001b[0;32m   1928\u001b[0m \u001b[1;33m\u001b[0m\u001b[0m\n\u001b[0;32m   1929\u001b[0m     \u001b[1;31m# Add the markers here as PairGrid has figured out how many levels of the\u001b[0m\u001b[1;33m\u001b[0m\u001b[1;33m\u001b[0m\u001b[1;33m\u001b[0m\u001b[0m\n",
      "\u001b[1;32mC:\\Users\\rmcgr\\.conda\\envs\\zonal\\lib\\site-packages\\seaborn\\_decorators.py\u001b[0m in \u001b[0;36minner_f\u001b[1;34m(*args, **kwargs)\u001b[0m\n\u001b[0;32m     44\u001b[0m             )\n\u001b[0;32m     45\u001b[0m         \u001b[0mkwargs\u001b[0m\u001b[1;33m.\u001b[0m\u001b[0mupdate\u001b[0m\u001b[1;33m(\u001b[0m\u001b[1;33m{\u001b[0m\u001b[0mk\u001b[0m\u001b[1;33m:\u001b[0m \u001b[0marg\u001b[0m \u001b[1;32mfor\u001b[0m \u001b[0mk\u001b[0m\u001b[1;33m,\u001b[0m \u001b[0marg\u001b[0m \u001b[1;32min\u001b[0m \u001b[0mzip\u001b[0m\u001b[1;33m(\u001b[0m\u001b[0msig\u001b[0m\u001b[1;33m.\u001b[0m\u001b[0mparameters\u001b[0m\u001b[1;33m,\u001b[0m \u001b[0margs\u001b[0m\u001b[1;33m)\u001b[0m\u001b[1;33m}\u001b[0m\u001b[1;33m)\u001b[0m\u001b[1;33m\u001b[0m\u001b[1;33m\u001b[0m\u001b[0m\n\u001b[1;32m---> 46\u001b[1;33m         \u001b[1;32mreturn\u001b[0m \u001b[0mf\u001b[0m\u001b[1;33m(\u001b[0m\u001b[1;33m**\u001b[0m\u001b[0mkwargs\u001b[0m\u001b[1;33m)\u001b[0m\u001b[1;33m\u001b[0m\u001b[1;33m\u001b[0m\u001b[0m\n\u001b[0m\u001b[0;32m     47\u001b[0m     \u001b[1;32mreturn\u001b[0m \u001b[0minner_f\u001b[0m\u001b[1;33m\u001b[0m\u001b[1;33m\u001b[0m\u001b[0m\n\u001b[0;32m     48\u001b[0m \u001b[1;33m\u001b[0m\u001b[0m\n",
      "\u001b[1;32mC:\\Users\\rmcgr\\.conda\\envs\\zonal\\lib\\site-packages\\seaborn\\axisgrid.py\u001b[0m in \u001b[0;36m__init__\u001b[1;34m(self, data, hue, hue_order, palette, hue_kws, vars, x_vars, y_vars, corner, diag_sharey, height, aspect, layout_pad, despine, dropna, size)\u001b[0m\n\u001b[0;32m   1151\u001b[0m \u001b[1;33m\u001b[0m\u001b[0m\n\u001b[0;32m   1152\u001b[0m         \u001b[1;31m# Sort out the variables that define the grid\u001b[0m\u001b[1;33m\u001b[0m\u001b[1;33m\u001b[0m\u001b[1;33m\u001b[0m\u001b[0m\n\u001b[1;32m-> 1153\u001b[1;33m         \u001b[0mnumeric_cols\u001b[0m \u001b[1;33m=\u001b[0m \u001b[0mself\u001b[0m\u001b[1;33m.\u001b[0m\u001b[0m_find_numeric_cols\u001b[0m\u001b[1;33m(\u001b[0m\u001b[0mdata\u001b[0m\u001b[1;33m)\u001b[0m\u001b[1;33m\u001b[0m\u001b[1;33m\u001b[0m\u001b[0m\n\u001b[0m\u001b[0;32m   1154\u001b[0m         \u001b[1;32mif\u001b[0m \u001b[0mhue\u001b[0m \u001b[1;32min\u001b[0m \u001b[0mnumeric_cols\u001b[0m\u001b[1;33m:\u001b[0m\u001b[1;33m\u001b[0m\u001b[1;33m\u001b[0m\u001b[0m\n\u001b[0;32m   1155\u001b[0m             \u001b[0mnumeric_cols\u001b[0m\u001b[1;33m.\u001b[0m\u001b[0mremove\u001b[0m\u001b[1;33m(\u001b[0m\u001b[0mhue\u001b[0m\u001b[1;33m)\u001b[0m\u001b[1;33m\u001b[0m\u001b[1;33m\u001b[0m\u001b[0m\n",
      "\u001b[1;32mC:\\Users\\rmcgr\\.conda\\envs\\zonal\\lib\\site-packages\\seaborn\\axisgrid.py\u001b[0m in \u001b[0;36m_find_numeric_cols\u001b[1;34m(self, data)\u001b[0m\n\u001b[0;32m   1527\u001b[0m         \u001b[0mnumeric_cols\u001b[0m \u001b[1;33m=\u001b[0m \u001b[1;33m[\u001b[0m\u001b[1;33m]\u001b[0m\u001b[1;33m\u001b[0m\u001b[1;33m\u001b[0m\u001b[0m\n\u001b[0;32m   1528\u001b[0m         \u001b[1;32mfor\u001b[0m \u001b[0mcol\u001b[0m \u001b[1;32min\u001b[0m \u001b[0mdata\u001b[0m\u001b[1;33m:\u001b[0m\u001b[1;33m\u001b[0m\u001b[1;33m\u001b[0m\u001b[0m\n\u001b[1;32m-> 1529\u001b[1;33m             \u001b[1;32mif\u001b[0m \u001b[0mvariable_type\u001b[0m\u001b[1;33m(\u001b[0m\u001b[0mdata\u001b[0m\u001b[1;33m[\u001b[0m\u001b[0mcol\u001b[0m\u001b[1;33m]\u001b[0m\u001b[1;33m)\u001b[0m \u001b[1;33m==\u001b[0m \u001b[1;34m\"numeric\"\u001b[0m\u001b[1;33m:\u001b[0m\u001b[1;33m\u001b[0m\u001b[1;33m\u001b[0m\u001b[0m\n\u001b[0m\u001b[0;32m   1530\u001b[0m                 \u001b[0mnumeric_cols\u001b[0m\u001b[1;33m.\u001b[0m\u001b[0mappend\u001b[0m\u001b[1;33m(\u001b[0m\u001b[0mcol\u001b[0m\u001b[1;33m)\u001b[0m\u001b[1;33m\u001b[0m\u001b[1;33m\u001b[0m\u001b[0m\n\u001b[0;32m   1531\u001b[0m         \u001b[1;32mreturn\u001b[0m \u001b[0mnumeric_cols\u001b[0m\u001b[1;33m\u001b[0m\u001b[1;33m\u001b[0m\u001b[0m\n",
      "\u001b[1;32mC:\\Users\\rmcgr\\.conda\\envs\\zonal\\lib\\site-packages\\seaborn\\_core.py\u001b[0m in \u001b[0;36mvariable_type\u001b[1;34m(vector, boolean_type)\u001b[0m\n\u001b[0;32m   1201\u001b[0m     \"\"\"\n\u001b[0;32m   1202\u001b[0m     \u001b[1;31m# Special-case all-na data, which is always \"numeric\"\u001b[0m\u001b[1;33m\u001b[0m\u001b[1;33m\u001b[0m\u001b[1;33m\u001b[0m\u001b[0m\n\u001b[1;32m-> 1203\u001b[1;33m     \u001b[1;32mif\u001b[0m \u001b[0mpd\u001b[0m\u001b[1;33m.\u001b[0m\u001b[0misna\u001b[0m\u001b[1;33m(\u001b[0m\u001b[0mvector\u001b[0m\u001b[1;33m)\u001b[0m\u001b[1;33m.\u001b[0m\u001b[0mall\u001b[0m\u001b[1;33m(\u001b[0m\u001b[1;33m)\u001b[0m\u001b[1;33m:\u001b[0m\u001b[1;33m\u001b[0m\u001b[1;33m\u001b[0m\u001b[0m\n\u001b[0m\u001b[0;32m   1204\u001b[0m         \u001b[1;32mreturn\u001b[0m \u001b[1;34m\"numeric\"\u001b[0m\u001b[1;33m\u001b[0m\u001b[1;33m\u001b[0m\u001b[0m\n\u001b[0;32m   1205\u001b[0m \u001b[1;33m\u001b[0m\u001b[0m\n",
      "\u001b[1;32mC:\\Users\\rmcgr\\.conda\\envs\\zonal\\lib\\site-packages\\pandas\\core\\generic.py\u001b[0m in \u001b[0;36m__nonzero__\u001b[1;34m(self)\u001b[0m\n\u001b[0;32m   1325\u001b[0m     \u001b[1;32mdef\u001b[0m \u001b[0m__nonzero__\u001b[0m\u001b[1;33m(\u001b[0m\u001b[0mself\u001b[0m\u001b[1;33m)\u001b[0m\u001b[1;33m:\u001b[0m\u001b[1;33m\u001b[0m\u001b[1;33m\u001b[0m\u001b[0m\n\u001b[0;32m   1326\u001b[0m         raise ValueError(\n\u001b[1;32m-> 1327\u001b[1;33m             \u001b[1;34mf\"The truth value of a {type(self).__name__} is ambiguous. \"\u001b[0m\u001b[1;33m\u001b[0m\u001b[1;33m\u001b[0m\u001b[0m\n\u001b[0m\u001b[0;32m   1328\u001b[0m             \u001b[1;34m\"Use a.empty, a.bool(), a.item(), a.any() or a.all().\"\u001b[0m\u001b[1;33m\u001b[0m\u001b[1;33m\u001b[0m\u001b[0m\n\u001b[0;32m   1329\u001b[0m         )\n",
      "\u001b[1;31mValueError\u001b[0m: The truth value of a Series is ambiguous. Use a.empty, a.bool(), a.item(), a.any() or a.all()."
     ]
    }
   ],
   "source": [
    "#sns.pairplot(data=data)"
   ]
  },
  {
   "cell_type": "code",
   "execution_count": 30,
   "metadata": {},
   "outputs": [
    {
     "data": {
      "text/html": [
       "<div>\n",
       "<style scoped>\n",
       "    .dataframe tbody tr th:only-of-type {\n",
       "        vertical-align: middle;\n",
       "    }\n",
       "\n",
       "    .dataframe tbody tr th {\n",
       "        vertical-align: top;\n",
       "    }\n",
       "\n",
       "    .dataframe thead th {\n",
       "        text-align: right;\n",
       "    }\n",
       "</style>\n",
       "<table border=\"1\" class=\"dataframe\">\n",
       "  <thead>\n",
       "    <tr style=\"text-align: right;\">\n",
       "      <th></th>\n",
       "      <th>resoloution</th>\n",
       "      <th>altitude_m</th>\n",
       "      <th>area_m2</th>\n",
       "      <th>distance_m</th>\n",
       "      <th>resoloution</th>\n",
       "      <th>gcp_count</th>\n",
       "    </tr>\n",
       "  </thead>\n",
       "  <tbody>\n",
       "    <tr>\n",
       "      <th>resoloution</th>\n",
       "      <td>1.000000</td>\n",
       "      <td>0.999940</td>\n",
       "      <td>0.994765</td>\n",
       "      <td>0.558942</td>\n",
       "      <td>1.000000</td>\n",
       "      <td>0.025575</td>\n",
       "    </tr>\n",
       "    <tr>\n",
       "      <th>altitude_m</th>\n",
       "      <td>0.999940</td>\n",
       "      <td>1.000000</td>\n",
       "      <td>0.993998</td>\n",
       "      <td>0.554187</td>\n",
       "      <td>0.999940</td>\n",
       "      <td>0.024674</td>\n",
       "    </tr>\n",
       "    <tr>\n",
       "      <th>area_m2</th>\n",
       "      <td>0.994765</td>\n",
       "      <td>0.993998</td>\n",
       "      <td>1.000000</td>\n",
       "      <td>0.555358</td>\n",
       "      <td>0.994765</td>\n",
       "      <td>0.053527</td>\n",
       "    </tr>\n",
       "    <tr>\n",
       "      <th>distance_m</th>\n",
       "      <td>0.558942</td>\n",
       "      <td>0.554187</td>\n",
       "      <td>0.555358</td>\n",
       "      <td>1.000000</td>\n",
       "      <td>0.558942</td>\n",
       "      <td>-0.147564</td>\n",
       "    </tr>\n",
       "    <tr>\n",
       "      <th>resoloution</th>\n",
       "      <td>1.000000</td>\n",
       "      <td>0.999940</td>\n",
       "      <td>0.994765</td>\n",
       "      <td>0.558942</td>\n",
       "      <td>1.000000</td>\n",
       "      <td>0.025575</td>\n",
       "    </tr>\n",
       "    <tr>\n",
       "      <th>gcp_count</th>\n",
       "      <td>0.025575</td>\n",
       "      <td>0.024674</td>\n",
       "      <td>0.053527</td>\n",
       "      <td>-0.147564</td>\n",
       "      <td>0.025575</td>\n",
       "      <td>1.000000</td>\n",
       "    </tr>\n",
       "  </tbody>\n",
       "</table>\n",
       "</div>"
      ],
      "text/plain": [
       "             resoloution  altitude_m   area_m2  distance_m  resoloution  \\\n",
       "resoloution     1.000000    0.999940  0.994765    0.558942     1.000000   \n",
       "altitude_m      0.999940    1.000000  0.993998    0.554187     0.999940   \n",
       "area_m2         0.994765    0.993998  1.000000    0.555358     0.994765   \n",
       "distance_m      0.558942    0.554187  0.555358    1.000000     0.558942   \n",
       "resoloution     1.000000    0.999940  0.994765    0.558942     1.000000   \n",
       "gcp_count       0.025575    0.024674  0.053527   -0.147564     0.025575   \n",
       "\n",
       "             gcp_count  \n",
       "resoloution   0.025575  \n",
       "altitude_m    0.024674  \n",
       "area_m2       0.053527  \n",
       "distance_m   -0.147564  \n",
       "resoloution   0.025575  \n",
       "gcp_count     1.000000  "
      ]
     },
     "execution_count": 30,
     "metadata": {},
     "output_type": "execute_result"
    },
    {
     "data": {
      "image/png": "[encoded data removed]",
      "text/plain": [
       "<Figure size 1440x720 with 2 Axes>"
      ]
     },
     "metadata": {
      "needs_background": "light"
     },
     "output_type": "display_data"
    }
   ],
   "source": [
    "# Finding the relations between the variables.\n",
    "plt.figure(figsize=(20,10))\n",
    "c= data.corr()\n",
    "sns.heatmap(c,cmap=\"BrBG\",annot=True)\n",
    "c"
   ]
  },
  {
   "cell_type": "code",
   "execution_count": 31,
   "metadata": {},
   "outputs": [
    {
     "data": {
      "text/html": [
       "<div>\n",
       "<style scoped>\n",
       "    .dataframe tbody tr th:only-of-type {\n",
       "        vertical-align: middle;\n",
       "    }\n",
       "\n",
       "    .dataframe tbody tr th {\n",
       "        vertical-align: top;\n",
       "    }\n",
       "\n",
       "    .dataframe thead th {\n",
       "        text-align: right;\n",
       "    }\n",
       "</style>\n",
       "<table border=\"1\" class=\"dataframe\">\n",
       "  <thead>\n",
       "    <tr style=\"text-align: right;\">\n",
       "      <th></th>\n",
       "      <th></th>\n",
       "      <th></th>\n",
       "      <th>count</th>\n",
       "      <th>mean</th>\n",
       "      <th>std</th>\n",
       "      <th>min</th>\n",
       "      <th>25%</th>\n",
       "      <th>50%</th>\n",
       "      <th>75%</th>\n",
       "      <th>max</th>\n",
       "    </tr>\n",
       "    <tr>\n",
       "      <th>camera</th>\n",
       "      <th>altitude_m</th>\n",
       "      <th>gcp_count</th>\n",
       "      <th></th>\n",
       "      <th></th>\n",
       "      <th></th>\n",
       "      <th></th>\n",
       "      <th></th>\n",
       "      <th></th>\n",
       "      <th></th>\n",
       "      <th></th>\n",
       "    </tr>\n",
       "  </thead>\n",
       "  <tbody>\n",
       "    <tr>\n",
       "      <th rowspan=\"9\" valign=\"top\">hover</th>\n",
       "      <th rowspan=\"5\" valign=\"top\">50</th>\n",
       "      <th>0</th>\n",
       "      <td>10.0</td>\n",
       "      <td>1.321180</td>\n",
       "      <td>0.544749</td>\n",
       "      <td>0.000000</td>\n",
       "      <td>1.208955</td>\n",
       "      <td>1.236873</td>\n",
       "      <td>1.765482</td>\n",
       "      <td>1.841926</td>\n",
       "    </tr>\n",
       "    <tr>\n",
       "      <th>1</th>\n",
       "      <td>10.0</td>\n",
       "      <td>0.743883</td>\n",
       "      <td>0.893868</td>\n",
       "      <td>0.000000</td>\n",
       "      <td>0.037963</td>\n",
       "      <td>0.100306</td>\n",
       "      <td>1.754523</td>\n",
       "      <td>1.838641</td>\n",
       "    </tr>\n",
       "    <tr>\n",
       "      <th>2</th>\n",
       "      <td>10.0</td>\n",
       "      <td>0.742628</td>\n",
       "      <td>0.895671</td>\n",
       "      <td>0.000000</td>\n",
       "      <td>0.036246</td>\n",
       "      <td>0.096435</td>\n",
       "      <td>1.762249</td>\n",
       "      <td>1.833771</td>\n",
       "    </tr>\n",
       "    <tr>\n",
       "      <th>3</th>\n",
       "      <td>5.0</td>\n",
       "      <td>0.207248</td>\n",
       "      <td>0.189161</td>\n",
       "      <td>0.002000</td>\n",
       "      <td>0.010000</td>\n",
       "      <td>0.298450</td>\n",
       "      <td>0.311300</td>\n",
       "      <td>0.414490</td>\n",
       "    </tr>\n",
       "    <tr>\n",
       "      <th>5</th>\n",
       "      <td>10.0</td>\n",
       "      <td>0.830173</td>\n",
       "      <td>0.832182</td>\n",
       "      <td>0.000000</td>\n",
       "      <td>0.119564</td>\n",
       "      <td>0.401310</td>\n",
       "      <td>1.754523</td>\n",
       "      <td>1.838641</td>\n",
       "    </tr>\n",
       "    <tr>\n",
       "      <th rowspan=\"4\" valign=\"top\">80</th>\n",
       "      <th>0</th>\n",
       "      <td>5.0</td>\n",
       "      <td>1.816214</td>\n",
       "      <td>0.058217</td>\n",
       "      <td>1.772134</td>\n",
       "      <td>1.779497</td>\n",
       "      <td>1.789742</td>\n",
       "      <td>1.826191</td>\n",
       "      <td>1.913505</td>\n",
       "    </tr>\n",
       "    <tr>\n",
       "      <th>1</th>\n",
       "      <td>5.0</td>\n",
       "      <td>1.815696</td>\n",
       "      <td>0.058873</td>\n",
       "      <td>1.763728</td>\n",
       "      <td>1.775834</td>\n",
       "      <td>1.783328</td>\n",
       "      <td>1.857620</td>\n",
       "      <td>1.897970</td>\n",
       "    </tr>\n",
       "    <tr>\n",
       "      <th>2</th>\n",
       "      <td>5.0</td>\n",
       "      <td>1.816677</td>\n",
       "      <td>0.050802</td>\n",
       "      <td>1.770696</td>\n",
       "      <td>1.781283</td>\n",
       "      <td>1.794597</td>\n",
       "      <td>1.844770</td>\n",
       "      <td>1.892040</td>\n",
       "    </tr>\n",
       "    <tr>\n",
       "      <th>5</th>\n",
       "      <td>5.0</td>\n",
       "      <td>1.814874</td>\n",
       "      <td>0.055979</td>\n",
       "      <td>1.760608</td>\n",
       "      <td>1.779379</td>\n",
       "      <td>1.789480</td>\n",
       "      <td>1.849491</td>\n",
       "      <td>1.895414</td>\n",
       "    </tr>\n",
       "    <tr>\n",
       "      <th>shoot</th>\n",
       "      <th>50</th>\n",
       "      <th>0</th>\n",
       "      <td>5.0</td>\n",
       "      <td>1.232597</td>\n",
       "      <td>0.034799</td>\n",
       "      <td>1.195259</td>\n",
       "      <td>1.195935</td>\n",
       "      <td>1.243634</td>\n",
       "      <td>1.263175</td>\n",
       "      <td>1.264984</td>\n",
       "    </tr>\n",
       "  </tbody>\n",
       "</table>\n",
       "</div>"
      ],
      "text/plain": [
       "                             count      mean       std       min       25%  \\\n",
       "camera altitude_m gcp_count                                                  \n",
       "hover  50         0           10.0  1.321180  0.544749  0.000000  1.208955   \n",
       "                  1           10.0  0.743883  0.893868  0.000000  0.037963   \n",
       "                  2           10.0  0.742628  0.895671  0.000000  0.036246   \n",
       "                  3            5.0  0.207248  0.189161  0.002000  0.010000   \n",
       "                  5           10.0  0.830173  0.832182  0.000000  0.119564   \n",
       "       80         0            5.0  1.816214  0.058217  1.772134  1.779497   \n",
       "                  1            5.0  1.815696  0.058873  1.763728  1.775834   \n",
       "                  2            5.0  1.816677  0.050802  1.770696  1.781283   \n",
       "                  5            5.0  1.814874  0.055979  1.760608  1.779379   \n",
       "shoot  50         0            5.0  1.232597  0.034799  1.195259  1.195935   \n",
       "\n",
       "                                  50%       75%       max  \n",
       "camera altitude_m gcp_count                                \n",
       "hover  50         0          1.236873  1.765482  1.841926  \n",
       "                  1          0.100306  1.754523  1.838641  \n",
       "                  2          0.096435  1.762249  1.833771  \n",
       "                  3          0.298450  0.311300  0.414490  \n",
       "                  5          0.401310  1.754523  1.838641  \n",
       "       80         0          1.789742  1.826191  1.913505  \n",
       "                  1          1.783328  1.857620  1.897970  \n",
       "                  2          1.794597  1.844770  1.892040  \n",
       "                  5          1.789480  1.849491  1.895414  \n",
       "shoot  50         0          1.243634  1.263175  1.264984  "
      ]
     },
     "execution_count": 31,
     "metadata": {},
     "output_type": "execute_result"
    }
   ],
   "source": [
    "data.groupby(['camera', 'altitude_m', 'gcp_count'])['distance_m'].describe()"
   ]
  },
  {
   "cell_type": "code",
   "execution_count": 32,
   "metadata": {},
   "outputs": [
    {
     "name": "stdout",
     "output_type": "stream",
     "text": [
      "------------------------------------------------------------\n"
     ]
    },
    {
     "data": {
      "image/png": "[encoded data removed]",
      "text/plain": [
       "<Figure size 432x288 with 1 Axes>"
      ]
     },
     "metadata": {
      "needs_background": "light"
     },
     "output_type": "display_data"
    },
    {
     "name": "stdout",
     "output_type": "stream",
     "text": [
      "------------------------------------------------------------\n"
     ]
    },
    {
     "data": {
      "image/png": "[encoded data removed]",
      "text/plain": [
       "<Figure size 432x288 with 1 Axes>"
      ]
     },
     "metadata": {
      "needs_background": "light"
     },
     "output_type": "display_data"
    }
   ],
   "source": [
    "for cam in data.camera.unique():\n",
    "    print('-'*60)\n",
    "    camera_df = data[data['camera']== cam]\n",
    "    sns.boxplot(x='altitude_m', y='distance_m', data=camera_df, hue=\"gcp_count\").set(title= cam + ' boxplot')\n",
    "    plt.show()\n"
   ]
  },
  {
   "cell_type": "code",
   "execution_count": null,
   "metadata": {},
   "outputs": [],
   "source": []
  },
  {
   "cell_type": "code",
   "execution_count": null,
   "metadata": {},
   "outputs": [],
   "source": []
  }
 ],
 "metadata": {
  "kernelspec": {
   "display_name": "Python 3",
   "language": "python",
   "name": "python3"
  },
  "language_info": {
   "codemirror_mode": {
    "name": "ipython",
    "version": 3
   },
   "file_extension": ".py",
   "mimetype": "text/x-python",
   "name": "python",
   "nbconvert_exporter": "python",
   "pygments_lexer": "ipython3",
   "version": "3.7.7"
  }
 },
 "nbformat": 4,
 "nbformat_minor": 4
}
