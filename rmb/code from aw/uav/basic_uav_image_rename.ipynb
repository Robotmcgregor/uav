{
 "cells": [
  {
   "cell_type": "code",
   "execution_count": 3,
   "metadata": {},
   "outputs": [],
   "source": [
    "from glob import glob\n",
    "import os\n",
    "import sys\n",
    "import zipfile"
   ]
  },
  {
   "cell_type": "markdown",
   "metadata": {},
   "source": [
    "## Create directory structure"
   ]
  },
  {
   "cell_type": "code",
   "execution_count": 3,
   "metadata": {},
   "outputs": [],
   "source": [
    "directory = r\"D:\\uav\\2022\"\n",
    "site = \"plm\"\n",
    "#the amount of property sub directories you want to create\n",
    "start_range = 1\n",
    "end_range = 5\n",
    "\n",
    "def create_dir(path, dir_):\n",
    "    # create path and dires where none exist\n",
    "    path_ = os.path.join(path, dir_)\n",
    "    if not os.path.isdir(path_):\n",
    "        #print('create: ', path_)\n",
    "        os.mkdir(path_)\n",
    "    return path_\n",
    "    \n",
    "# -------------------------------------------\n",
    "x = 1\n",
    "for i in range(1,5):\n",
    "    #print(i)\n",
    "    if x in range(1, 10):\n",
    "        tag = \"0{0}\".format(str(x))\n",
    "    elif x in range(10, 100):\n",
    "        tag = \"{0}\".format(str(x))\n",
    "    else:\n",
    "        pass\n",
    "    site_tag = \"{0}{1}\".format(site, tag)\n",
    "    x += 1\n",
    "    \n",
    "    # create dirs\n",
    "    main_dir = create_dir(directory, site_tag)\n",
    "    gcp_dir = create_dir(main_dir, \"gcp\")\n",
    "    pro_dir = create_dir(main_dir, \"pro\")\n",
    "    raw_dir = create_dir(main_dir, \"raw\")\n",
    "    raw_dir = create_dir(main_dir, \"shp\")\n"
   ]
  },
  {
   "cell_type": "markdown",
   "metadata": {},
   "source": [
    "## Rename uav images"
   ]
  },
  {
   "cell_type": "markdown",
   "metadata": {},
   "source": [
    "Seperate rededge calibartion panels before running this code"
   ]
  },
  {
   "cell_type": "code",
   "execution_count": 15,
   "metadata": {},
   "outputs": [
    {
     "name": "stdout",
     "output_type": "stream",
     "text": [
      "D:\\uav\\2022\\plm01\\raw\n"
     ]
    }
   ],
   "source": [
    "flight_tag = \"plm01\"\n",
    "directory = r\"D:\\uav\\2022\\{0}\\raw\".format(flight_tag)\n",
    "print(directory)\n",
    "#extension = \".tif\"\n",
    "extension = \".JPG\""
   ]
  },
  {
   "cell_type": "code",
   "execution_count": 16,
   "metadata": {},
   "outputs": [
    {
     "data": {
      "text/plain": [
       "'D:\\\\uav\\\\2022\\\\plm01\\\\raw\\\\*.JPG'"
      ]
     },
     "execution_count": 16,
     "metadata": {},
     "output_type": "execute_result"
    }
   ],
   "source": [
    "#os.path.join(directory, \"*{0}\".format(extension))"
   ]
  },
  {
   "cell_type": "markdown",
   "metadata": {},
   "source": [
    "### Rename uav images in a single folder DJI P42 gimble"
   ]
  },
  {
   "cell_type": "code",
   "execution_count": 18,
   "metadata": {},
   "outputs": [
    {
     "name": "stdout",
     "output_type": "stream",
     "text": [
      "D:\\uav\\2022\\plm01\\raw\\DJI_0001.JPG\n",
      "i:  1\n",
      "plm01_0001.JPG\n",
      "D:\\uav\\2022\\plm01\\raw\\DJI_0002.JPG\n",
      "i:  2\n",
      "plm01_0002.JPG\n",
      "D:\\uav\\2022\\plm01\\raw\\DJI_0003.JPG\n",
      "i:  3\n",
      "plm01_0003.JPG\n",
      "D:\\uav\\2022\\plm01\\raw\\DJI_0004.JPG\n",
      "i:  4\n",
      "plm01_0004.JPG\n",
      "D:\\uav\\2022\\plm01\\raw\\DJI_0005.JPG\n",
      "i:  5\n",
      "plm01_0005.JPG\n",
      "D:\\uav\\2022\\plm01\\raw\\DJI_0006.JPG\n",
      "i:  6\n",
      "plm01_0006.JPG\n",
      "D:\\uav\\2022\\plm01\\raw\\DJI_0007.JPG\n",
      "i:  7\n",
      "plm01_0007.JPG\n",
      "D:\\uav\\2022\\plm01\\raw\\DJI_0008.JPG\n",
      "i:  8\n",
      "plm01_0008.JPG\n",
      "D:\\uav\\2022\\plm01\\raw\\DJI_0009.JPG\n",
      "i:  9\n",
      "plm01_0009.JPG\n",
      "D:\\uav\\2022\\plm01\\raw\\DJI_0010.JPG\n",
      "i:  10\n",
      "plm01_0010.JPG\n",
      "D:\\uav\\2022\\plm01\\raw\\DJI_0011.JPG\n",
      "i:  11\n",
      "plm01_0011.JPG\n",
      "D:\\uav\\2022\\plm01\\raw\\DJI_0012.JPG\n",
      "i:  12\n",
      "plm01_0012.JPG\n",
      "D:\\uav\\2022\\plm01\\raw\\DJI_0013.JPG\n",
      "i:  13\n",
      "plm01_0013.JPG\n",
      "D:\\uav\\2022\\plm01\\raw\\DJI_0014.JPG\n",
      "i:  14\n",
      "plm01_0014.JPG\n",
      "D:\\uav\\2022\\plm01\\raw\\DJI_0015.JPG\n",
      "i:  15\n",
      "plm01_0015.JPG\n",
      "D:\\uav\\2022\\plm01\\raw\\DJI_0016.JPG\n",
      "i:  16\n",
      "plm01_0016.JPG\n",
      "D:\\uav\\2022\\plm01\\raw\\DJI_0017.JPG\n",
      "i:  17\n",
      "plm01_0017.JPG\n",
      "D:\\uav\\2022\\plm01\\raw\\DJI_0018.JPG\n",
      "i:  18\n",
      "plm01_0018.JPG\n",
      "D:\\uav\\2022\\plm01\\raw\\DJI_0019.JPG\n",
      "i:  19\n",
      "plm01_0019.JPG\n",
      "D:\\uav\\2022\\plm01\\raw\\DJI_0020.JPG\n",
      "i:  20\n",
      "plm01_0020.JPG\n",
      "D:\\uav\\2022\\plm01\\raw\\DJI_0021.JPG\n",
      "i:  21\n",
      "plm01_0021.JPG\n",
      "D:\\uav\\2022\\plm01\\raw\\DJI_0022.JPG\n",
      "i:  22\n",
      "plm01_0022.JPG\n",
      "D:\\uav\\2022\\plm01\\raw\\DJI_0023.JPG\n",
      "i:  23\n",
      "plm01_0023.JPG\n",
      "D:\\uav\\2022\\plm01\\raw\\DJI_0024.JPG\n",
      "i:  24\n",
      "plm01_0024.JPG\n",
      "D:\\uav\\2022\\plm01\\raw\\DJI_0025.JPG\n",
      "i:  25\n",
      "plm01_0025.JPG\n",
      "D:\\uav\\2022\\plm01\\raw\\DJI_0026.JPG\n",
      "i:  26\n",
      "plm01_0026.JPG\n",
      "D:\\uav\\2022\\plm01\\raw\\DJI_0027.JPG\n",
      "i:  27\n",
      "plm01_0027.JPG\n",
      "D:\\uav\\2022\\plm01\\raw\\DJI_0028.JPG\n",
      "i:  28\n",
      "plm01_0028.JPG\n",
      "D:\\uav\\2022\\plm01\\raw\\DJI_0029.JPG\n",
      "i:  29\n",
      "plm01_0029.JPG\n",
      "D:\\uav\\2022\\plm01\\raw\\DJI_0030.JPG\n",
      "i:  30\n",
      "plm01_0030.JPG\n",
      "D:\\uav\\2022\\plm01\\raw\\DJI_0031.JPG\n",
      "i:  31\n",
      "plm01_0031.JPG\n",
      "D:\\uav\\2022\\plm01\\raw\\DJI_0032.JPG\n",
      "i:  32\n",
      "plm01_0032.JPG\n",
      "D:\\uav\\2022\\plm01\\raw\\DJI_0033.JPG\n",
      "i:  33\n",
      "plm01_0033.JPG\n",
      "D:\\uav\\2022\\plm01\\raw\\DJI_0034.JPG\n",
      "i:  34\n",
      "plm01_0034.JPG\n",
      "D:\\uav\\2022\\plm01\\raw\\DJI_0035.JPG\n",
      "i:  35\n",
      "plm01_0035.JPG\n",
      "D:\\uav\\2022\\plm01\\raw\\DJI_0036.JPG\n",
      "i:  36\n",
      "plm01_0036.JPG\n",
      "D:\\uav\\2022\\plm01\\raw\\DJI_0037.JPG\n",
      "i:  37\n",
      "plm01_0037.JPG\n",
      "D:\\uav\\2022\\plm01\\raw\\DJI_0038.JPG\n",
      "i:  38\n",
      "plm01_0038.JPG\n",
      "D:\\uav\\2022\\plm01\\raw\\DJI_0039.JPG\n",
      "i:  39\n",
      "plm01_0039.JPG\n",
      "D:\\uav\\2022\\plm01\\raw\\DJI_0040.JPG\n",
      "i:  40\n",
      "plm01_0040.JPG\n",
      "D:\\uav\\2022\\plm01\\raw\\DJI_0041.JPG\n",
      "i:  41\n",
      "plm01_0041.JPG\n",
      "D:\\uav\\2022\\plm01\\raw\\DJI_0042.JPG\n",
      "i:  42\n",
      "plm01_0042.JPG\n",
      "D:\\uav\\2022\\plm01\\raw\\DJI_0043.JPG\n",
      "i:  43\n",
      "plm01_0043.JPG\n",
      "D:\\uav\\2022\\plm01\\raw\\DJI_0044.JPG\n",
      "i:  44\n",
      "plm01_0044.JPG\n",
      "D:\\uav\\2022\\plm01\\raw\\DJI_0045.JPG\n",
      "i:  45\n",
      "plm01_0045.JPG\n",
      "D:\\uav\\2022\\plm01\\raw\\DJI_0046.JPG\n",
      "i:  46\n",
      "plm01_0046.JPG\n",
      "D:\\uav\\2022\\plm01\\raw\\DJI_0047.JPG\n",
      "i:  47\n",
      "plm01_0047.JPG\n",
      "D:\\uav\\2022\\plm01\\raw\\DJI_0048.JPG\n",
      "i:  48\n",
      "plm01_0048.JPG\n",
      "D:\\uav\\2022\\plm01\\raw\\DJI_0049.JPG\n",
      "i:  49\n",
      "plm01_0049.JPG\n",
      "D:\\uav\\2022\\plm01\\raw\\DJI_0050.JPG\n",
      "i:  50\n",
      "plm01_0050.JPG\n",
      "D:\\uav\\2022\\plm01\\raw\\DJI_0051.JPG\n",
      "i:  51\n",
      "plm01_0051.JPG\n",
      "D:\\uav\\2022\\plm01\\raw\\DJI_0052.JPG\n",
      "i:  52\n",
      "plm01_0052.JPG\n",
      "D:\\uav\\2022\\plm01\\raw\\DJI_0053.JPG\n",
      "i:  53\n",
      "plm01_0053.JPG\n",
      "D:\\uav\\2022\\plm01\\raw\\DJI_0054.JPG\n",
      "i:  54\n",
      "plm01_0054.JPG\n",
      "D:\\uav\\2022\\plm01\\raw\\DJI_0055.JPG\n",
      "i:  55\n",
      "plm01_0055.JPG\n"
     ]
    }
   ],
   "source": [
    "i = 1\n",
    "for file_ in glob(os.path.join(directory, \"*{0}\".format(extension))):\n",
    "    print(file_)\n",
    "    _, ext = file_.split(\".\")\n",
    "    print('i: ', i)\n",
    "    if i in range(1, 10):\n",
    "        increment = \"000{0}\".format(i)\n",
    "    elif i in range(10, 100):\n",
    "        increment = \"00{0}\".format(i)\n",
    "    elif i in range(100, 1000):\n",
    "        increment = \"0{0}\".format(i)\n",
    "    else:\n",
    "        increment = \"{0}\".format(i)\n",
    "\n",
    "    i+=1\n",
    "    new_name = \"{0}_{1}.{2}\".format(flight_tag, increment, ext)\n",
    "    print(new_name)\n",
    "    new_path = os.path.join(directory, new_name)\n",
    "    os.rename(file_, new_path)"
   ]
  },
  {
   "cell_type": "markdown",
   "metadata": {},
   "source": [
    "## Zip raw images"
   ]
  },
  {
   "cell_type": "code",
   "execution_count": null,
   "metadata": {},
   "outputs": [],
   "source": [
    "flight_tag = \"rhd06\"\n",
    "flight_code = \"p4ed\"\n",
    "image = \"jpg\"\n",
    "directory = r\"H:\\Drone\\2021\\final_uav_structure\\{0}\\raw\".format(flight_tag)\n",
    " \n",
    "zip_file = zipfile.ZipFile(os.path.join(directory, \"{0}_{1}_{2}.zip\".format(flight_code, flight_tag, image.lower())), 'w')\n",
    "                           \n",
    "for folder, subfolders, files in os.walk(directory):\n",
    "    print(files)\n",
    " \n",
    "    for file in files:\n",
    "        if file.endswith(image.upper()):\n",
    "            zip_file.write(os.path.join(folder, file), os.path.relpath(os.path.join(folder,file), directory), compress_type = zipfile.ZIP_DEFLATED)\n",
    "            \n",
    "        elif file.endswith(image.lower()):\n",
    "            zip_file.write(os.path.join(folder, file), os.path.relpath(os.path.join(folder,file), directory), compress_type = zipfile.ZIP_DEFLATED)     \n",
    "zip_file.close()"
   ]
  },
  {
   "cell_type": "code",
   "execution_count": null,
   "metadata": {},
   "outputs": [],
   "source": [
    "import exif\n",
    "from exif import Image"
   ]
  },
  {
   "cell_type": "code",
   "execution_count": null,
   "metadata": {},
   "outputs": [],
   "source": [
    "\n",
    "\n",
    "folder_path = 'sample_images'\n",
    "img_filename = 'image_1.jpg'\n",
    "img_path = f'{folder_path}/{img_filename}'\n",
    "\n",
    "with open(img_path, 'rb') as img_file:\n",
    "    img = Image(img_file)\n",
    "    \n",
    "print(img.has_exif)"
   ]
  }
 ],
 "metadata": {
  "kernelspec": {
   "display_name": "Python 3",
   "language": "python",
   "name": "python3"
  },
  "language_info": {
   "codemirror_mode": {
    "name": "ipython",
    "version": 3
   },
   "file_extension": ".py",
   "mimetype": "text/x-python",
   "name": "python",
   "nbconvert_exporter": "python",
   "pygments_lexer": "ipython3",
   "version": "3.5.6"
  }
 },
 "nbformat": 4,
 "nbformat_minor": 4
}
