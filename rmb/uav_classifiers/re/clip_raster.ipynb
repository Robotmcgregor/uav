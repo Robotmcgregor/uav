{
 "cells": [
  {
   "cell_type": "code",
   "execution_count": 1,
   "metadata": {},
   "outputs": [
    {
     "name": "stdout",
     "output_type": "stream",
     "text": [
      "usage: clip_tool_rasterio.py [-h] [-r RASTER] [-s SHPFILE] [-o OUTFILE]\n",
      "\n",
      "optional arguments:\n",
      "  -h, --help            show this help message and exit\n",
      "  -r RASTER, --raster RASTER\n",
      "                        image to clip\n",
      "  -s SHPFILE, --shpfile SHPFILE\n",
      "                        input shapefile used to clip the raster\n",
      "  -o OUTFILE, --outfile OUTFILE\n",
      "                        name for the output raster image\n"
     ]
    }
   ],
   "source": [
    "%run C:\\\\Users\\\\grants\\\\code\\\\img_proc\\\\rasterio_clip_mask\\\\clip_tool_rasterio.py -h"
   ]
  },
  {
   "cell_type": "code",
   "execution_count": 3,
   "metadata": {},
   "outputs": [],
   "source": [
    "%run C:\\\\Users\\\\grants\\\\code\\\\img_proc\\\\rasterio_clip_mask\\\\multi_clip_tool_rasterio.py -i D:/uav_imagery/gulf_field_site_chips/clip_list_re.csv "
   ]
  },
  {
   "cell_type": "code",
   "execution_count": 1,
   "metadata": {},
   "outputs": [
    {
     "name": "stdout",
     "output_type": "stream",
     "text": [
      "D:\\UAV_FIELD_SITES\\re_run_re\n"
     ]
    }
   ],
   "source": [
    "cd D:\\UAV_FIELD_SITES\\re_run_re"
   ]
  },
  {
   "cell_type": "code",
   "execution_count": 4,
   "metadata": {},
   "outputs": [
    {
     "name": "stdout",
     "output_type": "stream",
     "text": [
      "D:/UAV_FIELD_SITES/dhmmp_split_shape/DHMMP_Field_Sites_Site__1.tif\n",
      "D:/UAV_FIELD_SITES/dhmmp_split_shape/DHMMP_Field_Sites_Site__2.tif\n",
      "D:/UAV_FIELD_SITES/dhmmp_split_shape/DHMMP_Field_Sites_Site__3.tif\n",
      "D:/UAV_FIELD_SITES/dhmmp_split_shape/DHMMP_Field_Sites_Site__4.tif\n",
      "D:/UAV_FIELD_SITES/dhmmp_split_shape/DHMMP_Field_Sites_Site__5.tif\n",
      "D:/UAV_FIELD_SITES/dhmmp_split_shape/DHMMP_Field_Sites_Site__6.tif\n",
      "D:/UAV_FIELD_SITES/dhmmp_split_shape/DHMMP_Field_Sites_Site__7.tif\n",
      "D:/UAV_FIELD_SITES/dhmmp_split_shape/DHMMP_Field_Sites_Site__8.tif\n",
      "D:/UAV_FIELD_SITES/dhmmp_split_shape/DHMMP_Field_Sites_Site__9.tif\n",
      "D:/UAV_FIELD_SITES/dhmmp_split_shape/DHMMP_Field_Sites_Site__10.tif\n",
      "D:/UAV_FIELD_SITES/dhmmp_split_shape/DHMMP_Field_Sites_Site__11.tif\n",
      "D:/UAV_FIELD_SITES/dhmmp_split_shape/DHMMP_Field_Sites_Site__12.tif\n",
      "D:/UAV_FIELD_SITES/dhmmp_split_shape/DHMMP_Field_Sites_Site__13.tif\n",
      "D:/UAV_FIELD_SITES/dhmmp_split_shape/DHMMP_Field_Sites_Site__14.tif\n",
      "D:/UAV_FIELD_SITES/dhmmp_split_shape/DHMMP_Field_Sites_Site__15.tif\n",
      "D:/UAV_FIELD_SITES/dhmmp_split_shape/DHMMP_Field_Sites_Site__16.tif\n",
      "D:/UAV_FIELD_SITES/dhmmp_split_shape/DHMMP_Field_Sites_Site__17.tif\n",
      "D:/UAV_FIELD_SITES/dhmmp_split_shape/DHMMP_Field_Sites_Site__18.tif\n",
      "D:/UAV_FIELD_SITES/dhmmp_split_shape/DHMMP_Field_Sites_Site__19.tif\n",
      "D:/UAV_FIELD_SITES/dhmmp_split_shape/DHMMP_Field_Sites_Site__20.tif\n",
      "D:/UAV_FIELD_SITES/dhmmp_split_shape/DHMMP_Field_Sites_Site__21.tif\n",
      "D:/UAV_FIELD_SITES/dhmmp_split_shape/DHMMP_Field_Sites_Site__22.tif\n",
      "D:/UAV_FIELD_SITES/dhmmp_split_shape/DHMMP_Field_Sites_Site__23.tif\n",
      "D:/UAV_FIELD_SITES/dhmmp_split_shape/DHMMP_Field_Sites_Site__24.tif\n",
      "D:/UAV_FIELD_SITES/dhmmp_split_shape/DHMMP_Field_Sites_Site__25.tif\n",
      "D:/UAV_FIELD_SITES/dhmmp_split_shape/DHMMP_Field_Sites_Site__26.tif\n",
      "D:/UAV_FIELD_SITES/dhmmp_split_shape/DHMMP_Field_Sites_Site__27.tif\n",
      "D:/UAV_FIELD_SITES/dhmmp_split_shape/DHMMP_Field_Sites_Site__28.tif\n",
      "D:/UAV_FIELD_SITES/dhmmp_split_shape/DHMMP_Field_Sites_Site__29.tif\n",
      "D:/UAV_FIELD_SITES/dhmmp_split_shape/DHMMP_Field_Sites_Site__30.tif\n"
     ]
    }
   ],
   "source": [
    "%run C:\\\\Users\\\\grants\\\\code\\\\img_proc\\\\rasterio_clip_mask\\\\multi_clip_tool_rasterio.py -i D:\\UAV_FIELD_SITES\\re_shp_list.csv"
   ]
  },
  {
   "cell_type": "code",
   "execution_count": null,
   "metadata": {},
   "outputs": [],
   "source": []
  }
 ],
 "metadata": {
  "kernelspec": {
   "display_name": "Python 3",
   "language": "python",
   "name": "python3"
  },
  "language_info": {
   "codemirror_mode": {
    "name": "ipython",
    "version": 3
   },
   "file_extension": ".py",
   "mimetype": "text/x-python",
   "name": "python",
   "nbconvert_exporter": "python",
   "pygments_lexer": "ipython3",
   "version": "3.7.7"
  }
 },
 "nbformat": 4,
 "nbformat_minor": 2
}
