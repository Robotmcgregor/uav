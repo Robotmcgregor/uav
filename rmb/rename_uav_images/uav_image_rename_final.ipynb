{
 "cells": [
  {
   "cell_type": "code",
   "execution_count": 2,
   "metadata": {},
   "outputs": [],
   "source": [
    "from glob import glob\n",
    "import os\n",
    "import sys\n",
    "import zipfile\n",
    "import shutil"
   ]
  },
  {
   "cell_type": "markdown",
   "metadata": {},
   "source": [
    "## Create directory structure"
   ]
  },
  {
   "cell_type": "code",
   "execution_count": 3,
   "metadata": {},
   "outputs": [],
   "source": [
    "directory = r\"D:\\uav\\2022\"\n",
    "site = \"dhm\"\n",
    "\n",
    "#the amount of property sub directories you want to create\n",
    "start_range = 1\n",
    "end_range = 11"
   ]
  },
  {
   "cell_type": "code",
   "execution_count": 4,
   "metadata": {},
   "outputs": [
    {
     "ename": "FileNotFoundError",
     "evalue": "[WinError 3] The system cannot find the path specified: 'D:\\\\uav\\\\2022\\\\dhm01'",
     "output_type": "error",
     "traceback": [
      "\u001b[1;31m---------------------------------------------------------------------------\u001b[0m",
      "\u001b[1;31mFileNotFoundError\u001b[0m                         Traceback (most recent call last)",
      "\u001b[1;32m<ipython-input-4-908c11ea70e4>\u001b[0m in \u001b[0;36m<module>\u001b[1;34m\u001b[0m\n\u001b[0;32m     21\u001b[0m \u001b[1;33m\u001b[0m\u001b[0m\n\u001b[0;32m     22\u001b[0m     \u001b[1;31m# create dirs\u001b[0m\u001b[1;33m\u001b[0m\u001b[1;33m\u001b[0m\u001b[1;33m\u001b[0m\u001b[0m\n\u001b[1;32m---> 23\u001b[1;33m     \u001b[0mmain_dir\u001b[0m \u001b[1;33m=\u001b[0m \u001b[0mcreate_dir\u001b[0m\u001b[1;33m(\u001b[0m\u001b[0mdirectory\u001b[0m\u001b[1;33m,\u001b[0m \u001b[0msite_tag\u001b[0m\u001b[1;33m)\u001b[0m\u001b[1;33m\u001b[0m\u001b[1;33m\u001b[0m\u001b[0m\n\u001b[0m\u001b[0;32m     24\u001b[0m     \u001b[0mgcp_dir\u001b[0m \u001b[1;33m=\u001b[0m \u001b[0mcreate_dir\u001b[0m\u001b[1;33m(\u001b[0m\u001b[0mmain_dir\u001b[0m\u001b[1;33m,\u001b[0m \u001b[1;34m\"gcp\"\u001b[0m\u001b[1;33m)\u001b[0m\u001b[1;33m\u001b[0m\u001b[1;33m\u001b[0m\u001b[0m\n\u001b[0;32m     25\u001b[0m     \u001b[0mpro_dir\u001b[0m \u001b[1;33m=\u001b[0m \u001b[0mcreate_dir\u001b[0m\u001b[1;33m(\u001b[0m\u001b[0mmain_dir\u001b[0m\u001b[1;33m,\u001b[0m \u001b[1;34m\"pro\"\u001b[0m\u001b[1;33m)\u001b[0m\u001b[1;33m\u001b[0m\u001b[1;33m\u001b[0m\u001b[0m\n",
      "\u001b[1;32m<ipython-input-4-908c11ea70e4>\u001b[0m in \u001b[0;36mcreate_dir\u001b[1;34m(path, dir_)\u001b[0m\n\u001b[0;32m      4\u001b[0m     \u001b[1;32mif\u001b[0m \u001b[1;32mnot\u001b[0m \u001b[0mos\u001b[0m\u001b[1;33m.\u001b[0m\u001b[0mpath\u001b[0m\u001b[1;33m.\u001b[0m\u001b[0misdir\u001b[0m\u001b[1;33m(\u001b[0m\u001b[0mpath_\u001b[0m\u001b[1;33m)\u001b[0m\u001b[1;33m:\u001b[0m\u001b[1;33m\u001b[0m\u001b[1;33m\u001b[0m\u001b[0m\n\u001b[0;32m      5\u001b[0m         \u001b[1;31m#print('create: ', path_)\u001b[0m\u001b[1;33m\u001b[0m\u001b[1;33m\u001b[0m\u001b[1;33m\u001b[0m\u001b[0m\n\u001b[1;32m----> 6\u001b[1;33m         \u001b[0mos\u001b[0m\u001b[1;33m.\u001b[0m\u001b[0mmkdir\u001b[0m\u001b[1;33m(\u001b[0m\u001b[0mpath_\u001b[0m\u001b[1;33m)\u001b[0m\u001b[1;33m\u001b[0m\u001b[1;33m\u001b[0m\u001b[0m\n\u001b[0m\u001b[0;32m      7\u001b[0m     \u001b[1;32mreturn\u001b[0m \u001b[0mpath_\u001b[0m\u001b[1;33m\u001b[0m\u001b[1;33m\u001b[0m\u001b[0m\n\u001b[0;32m      8\u001b[0m \u001b[1;33m\u001b[0m\u001b[0m\n",
      "\u001b[1;31mFileNotFoundError\u001b[0m: [WinError 3] The system cannot find the path specified: 'D:\\\\uav\\\\2022\\\\dhm01'"
     ]
    }
   ],
   "source": [
    "def create_dir(path, dir_):\n",
    "    # create path and dires where none exist\n",
    "    path_ = os.path.join(path, dir_)\n",
    "    if not os.path.isdir(path_):\n",
    "        #print('create: ', path_)\n",
    "        os.mkdir(path_)\n",
    "    return path_\n",
    "    \n",
    "# -------------------------------------------\n",
    "x = 1\n",
    "for i in range(start_range, end_range):\n",
    "    #print(i)\n",
    "    if x in range(1, 10):\n",
    "        tag = \"0{0}\".format(str(x))\n",
    "    elif x in range(10, 100):\n",
    "        tag = \"{0}\".format(str(x))\n",
    "    else:\n",
    "        pass\n",
    "    site_tag = \"{0}{1}\".format(site, tag)\n",
    "    x += 1\n",
    "    \n",
    "    # create dirs\n",
    "    main_dir = create_dir(directory, site_tag)\n",
    "    gcp_dir = create_dir(main_dir, \"gcp\")\n",
    "    pro_dir = create_dir(main_dir, \"pro\")\n",
    "    raw_dir = create_dir(main_dir, \"raw\")\n",
    "    raw_dir = create_dir(main_dir, \"shp\")\n"
   ]
  },
  {
   "cell_type": "markdown",
   "metadata": {},
   "source": [
    "## Rename uav images"
   ]
  },
  {
   "cell_type": "markdown",
   "metadata": {},
   "source": [
    "Seperate rededge calibartion panels before running this code"
   ]
  },
  {
   "cell_type": "code",
   "execution_count": null,
   "metadata": {},
   "outputs": [],
   "source": [
    "flight_tag = \"plm01\"\n",
    "directory = r\"D:\\uav\\2022\\{0}\\raw\".format(flight_tag)\n",
    "print(directory)\n",
    "#extension = \".tif\"\n",
    "extension = \".JPG\""
   ]
  },
  {
   "cell_type": "markdown",
   "metadata": {},
   "source": [
    "### Rename uav images in a single folder DJI P42 gimble"
   ]
  },
  {
   "cell_type": "code",
   "execution_count": null,
   "metadata": {},
   "outputs": [],
   "source": [
    "i = 1\n",
    "for file_ in glob(os.path.join(directory, \"*{0}\".format(extension))):\n",
    "    print(file_)\n",
    "    _, ext = file_.split(\".\")\n",
    "    print('i: ', i)\n",
    "    if i in range(1, 10):\n",
    "        increment = \"000{0}\".format(i)\n",
    "    elif i in range(10, 100):\n",
    "        increment = \"00{0}\".format(i)\n",
    "    elif i in range(100, 1000):\n",
    "        increment = \"0{0}\".format(i)\n",
    "    else:\n",
    "        increment = \"{0}\".format(i)\n",
    "\n",
    "    i+=1\n",
    "    new_name = \"{0}_{1}.{2}\".format(flight_tag, increment, ext)\n",
    "    print(new_name)\n",
    "    new_path = os.path.join(directory, new_name)\n",
    "    os.rename(file_, new_path)"
   ]
  },
  {
   "cell_type": "markdown",
   "metadata": {},
   "source": [
    "### Rename uav images Micasense from multiple directories"
   ]
  },
  {
   "cell_type": "code",
   "execution_count": null,
   "metadata": {},
   "outputs": [],
   "source": [
    "flight_tag = \"hby16\"\n",
    "directory = r\"D:\\uav\\2022\\{0}\\raw\".format(flight_tag)\n",
    "print(directory)\n",
    "extension = \".tif\"\n",
    "#extension = \".JPG\""
   ]
  },
  {
   "cell_type": "code",
   "execution_count": 1,
   "metadata": {},
   "outputs": [
    {
     "ename": "NameError",
     "evalue": "name 'os' is not defined",
     "output_type": "error",
     "traceback": [
      "\u001b[1;31m---------------------------------------------------------------------------\u001b[0m",
      "\u001b[1;31mNameError\u001b[0m                                 Traceback (most recent call last)",
      "\u001b[1;32m<ipython-input-1-eb03bbe120db>\u001b[0m in \u001b[0;36m<module>\u001b[1;34m\u001b[0m\n\u001b[1;32m----> 1\u001b[1;33m \u001b[0mos\u001b[0m\u001b[1;33m.\u001b[0m\u001b[0mpath\u001b[0m\u001b[1;33m.\u001b[0m\u001b[0mjoin\u001b[0m\u001b[1;33m(\u001b[0m\u001b[0mdirectory\u001b[0m\u001b[1;33m,\u001b[0m \u001b[1;34m\"*{0}\"\u001b[0m\u001b[1;33m.\u001b[0m\u001b[0mformat\u001b[0m\u001b[1;33m(\u001b[0m\u001b[0mextension\u001b[0m\u001b[1;33m)\u001b[0m\u001b[1;33m)\u001b[0m\u001b[1;33m\u001b[0m\u001b[1;33m\u001b[0m\u001b[0m\n\u001b[0m",
      "\u001b[1;31mNameError\u001b[0m: name 'os' is not defined"
     ]
    }
   ],
   "source": [
    "os.path.join(directory, \"*{0}\".format(extension))"
   ]
  },
  {
   "cell_type": "code",
   "execution_count": null,
   "metadata": {
    "scrolled": true
   },
   "outputs": [],
   "source": [
    "sub_dir_list =[]\n",
    "\n",
    "for dirs_, sub_dirs, file in os.walk(directory, topdown=False):\n",
    "    print('dirs: ', dirs_)\n",
    "    print('sub dirs: ', sub_dirs)\n",
    "\n",
    "    for sub_dir in sub_dirs:\n",
    "        sub_dir_list.append(os.path.join(directory, sub_dir))\n",
    "\n",
    "\n",
    "print(sub_dir_list)\n",
    "i = 0\n",
    "for dir_ in sub_dir_list:\n",
    "    \n",
    "    #i+=1\n",
    "    print(\"dir_:\", dir_)\n",
    "    print('-'*50)\n",
    "    print('í:', i)\n",
    "    \n",
    "#     print(i)\n",
    "    for image in glob(os.path.join(dir_, \"*{0}\".format(extension))):\n",
    "        print(image)\n",
    "        i+=1\n",
    "        print(i)\n",
    "        split = os.path.split(image)\n",
    "        orig_file_name = split[1]\n",
    "        sp = orig_file_name.split('_')\n",
    "        file_type = sp[1][-4:]\n",
    "        print(\"file_type: \", file_type)\n",
    "\n",
    "        if i in range(1, 10):\n",
    "            increment = \"000{0}\".format(i)\n",
    "        elif i in range(10, 100):\n",
    "            increment = \"00{0}\".format(i)\n",
    "        elif i in range(100, 1000):\n",
    "            increment = \"0{0}\".format(i)\n",
    "        else:\n",
    "            increment = \"{0}\".format(i)\n",
    "\n",
    "        new_name = \"{0}_{1}{2}\".format(flight_tag, increment, extension)\n",
    "        new_path = os.path.join(directory, new_name)\n",
    "        print('copy from: ', image)\n",
    "        print('to: ', new_path)\n",
    "        shutil.copy(image, new_path)"
   ]
  },
  {
   "cell_type": "markdown",
   "metadata": {},
   "source": [
    "### Rename uav images RTK from multiple directories"
   ]
  },
  {
   "cell_type": "code",
   "execution_count": 6,
   "metadata": {},
   "outputs": [
    {
     "name": "stdout",
     "output_type": "stream",
     "text": [
      "D:\\uav\\2022\\dhm01\\raw\n"
     ]
    }
   ],
   "source": [
    "flight_tag = \"dhm01\"\n",
    "directory = r\"D:\\uav\\2022\\{0}\\raw\".format(flight_tag)\n",
    "print(directory)\n",
    "extension = \".tif\"\n",
    "#extension = \".JPG\"\n",
    "\n",
    "#raw_data_path = r\"E:\\uav\\2022\\hby03\\raw_data\\DCIM\"\n",
    "raw_data_path = r\"E:\\DCIM\""
   ]
  },
  {
   "cell_type": "code",
   "execution_count": 7,
   "metadata": {},
   "outputs": [
    {
     "data": {
      "text/plain": [
       "'D:\\\\uav\\\\2022\\\\dhm01\\\\raw\\\\*.tif'"
      ]
     },
     "execution_count": 7,
     "metadata": {},
     "output_type": "execute_result"
    }
   ],
   "source": [
    "os.path.join(directory, \"*{0}\".format(extension))"
   ]
  },
  {
   "cell_type": "code",
   "execution_count": null,
   "metadata": {
    "scrolled": false
   },
   "outputs": [],
   "source": [
    "sub_dir_list =[]\n",
    "\n",
    "for dirs_, sub_dirs, file in os.walk(raw_data_path, topdown=False):\n",
    "    print('dirs: ', dirs_)\n",
    "    print('sub dirs: ', sub_dirs)\n",
    "\n",
    "    for sub_dir in sub_dirs:\n",
    "        sub_dir_list.append(os.path.join(raw_data_path, sub_dir))\n",
    "\n",
    "\n",
    "print(sub_dir_list)\n",
    "i = 0\n",
    "for dir_ in sub_dir_list:\n",
    "    \n",
    "    \n",
    "    for image in glob(os.path.join(dir_, \"*{0}\".format(extension))):\n",
    "        print(image)\n",
    "        i+=1\n",
    "        print(i)\n",
    "        split = os.path.split(image)\n",
    "        orig_file_name = split[1]\n",
    "        sp = orig_file_name.split('_')\n",
    "        file_type = sp[1][-4:]\n",
    "#         print(\"file_type: \", file_type)\n",
    "\n",
    "        if i in range(1, 10):\n",
    "            increment = \"000{0}\".format(i)\n",
    "        elif i in range(10, 100):\n",
    "            increment = \"00{0}\".format(i)\n",
    "        elif i in range(100, 1000):\n",
    "            increment = \"0{0}\".format(i)\n",
    "        else:\n",
    "            increment = \"{0}\".format(i)\n",
    "\n",
    "        new_name = \"{0}_{1}{2}\".format(flight_tag, increment, extension)\n",
    "        new_path = os.path.join(directory, new_name)\n",
    "        print('copy from: ', image)\n",
    "        print('to: ', new_path)\n",
    "        shutil.copy(image, new_path)"
   ]
  },
  {
   "cell_type": "markdown",
   "metadata": {},
   "source": [
    "## Update GCP csv to text"
   ]
  },
  {
   "cell_type": "code",
   "execution_count": 33,
   "metadata": {},
   "outputs": [],
   "source": [
    "# read in csv file exported from arc with projected data\n",
    "df = pd.read_csv(r\"C:\\Users\\rmcgr\\Desktop\\dhm01_test\\updated_gcp\\updated_gcp.csv\")"
   ]
  },
  {
   "cell_type": "code",
   "execution_count": 34,
   "metadata": {},
   "outputs": [],
   "source": [
    "# create path and name of required text file\n",
    "txt_file = r\"C:\\Users\\rmcgr\\Desktop\\dhm01_test\\updated_gcp\\dhm02_gcp.txt\""
   ]
  },
  {
   "cell_type": "code",
   "execution_count": 35,
   "metadata": {},
   "outputs": [],
   "source": [
    "\n",
    "with open(txt_file, 'w') as f:\n",
    "    f.write('## DHM02 GCP WGS84 ZONE 52\\n')\n",
    "    f.write('\\n')\n",
    "\n",
    "    f.write('gcp, easting, northing, z_score\\n')\n",
    "    \n",
    "    \n",
    "    for index, row in df.iterrows():\n",
    "\n",
    "        f.write(str(row['points']) + ', ' +  str(row['e_wgs84']) + ', ' + str(row['y_wgs84']) + ', ' + str(row['z_score']) + '\\n')"
   ]
  },
  {
   "cell_type": "code",
   "execution_count": null,
   "metadata": {},
   "outputs": [],
   "source": []
  },
  {
   "cell_type": "markdown",
   "metadata": {},
   "source": [
    "## Zip raw images"
   ]
  },
  {
   "cell_type": "code",
   "execution_count": null,
   "metadata": {},
   "outputs": [],
   "source": [
    "flight_tag = \"rhd06\"\n",
    "flight_code = \"p4ed\"\n",
    "image = \"jpg\"\n",
    "directory = r\"H:\\Drone\\2021\\final_uav_structure\\{0}\\raw\".format(flight_tag)\n",
    " \n",
    "zip_file = zipfile.ZipFile(os.path.join(directory, \"{0}_{1}_{2}.zip\".format(flight_code, flight_tag, image.lower())), 'w')\n",
    "                           \n",
    "for folder, subfolders, files in os.walk(directory):\n",
    "    print(files)\n",
    " \n",
    "    for file in files:\n",
    "        if file.endswith(image.upper()):\n",
    "            zip_file.write(os.path.join(folder, file), os.path.relpath(os.path.join(folder,file), directory), compress_type = zipfile.ZIP_DEFLATED)\n",
    "            \n",
    "        elif file.endswith(image.lower()):\n",
    "            zip_file.write(os.path.join(folder, file), os.path.relpath(os.path.join(folder,file), directory), compress_type = zipfile.ZIP_DEFLATED)     \n",
    "zip_file.close()"
   ]
  },
  {
   "cell_type": "code",
   "execution_count": null,
   "metadata": {},
   "outputs": [],
   "source": []
  }
 ],
 "metadata": {
  "kernelspec": {
   "display_name": "Python 3",
   "language": "python",
   "name": "python3"
  },
  "language_info": {
   "codemirror_mode": {
    "name": "ipython",
    "version": 3
   },
   "file_extension": ".py",
   "mimetype": "text/x-python",
   "name": "python",
   "nbconvert_exporter": "python",
   "pygments_lexer": "ipython3",
   "version": "3.7.4"
  }
 },
 "nbformat": 4,
 "nbformat_minor": 4
}
