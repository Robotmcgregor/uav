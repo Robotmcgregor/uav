{
 "cells": [
  {
   "cell_type": "code",
   "execution_count": 1,
   "metadata": {},
   "outputs": [],
   "source": [
    "#invite people for the Kaggle party\n",
    "import pandas as pd\n",
    "import matplotlib.pyplot as plt\n",
    "import seaborn as sns\n",
    "import numpy as np\n",
    "from scipy.stats import norm\n",
    "from sklearn.preprocessing import StandardScaler\n",
    "from scipy import stats\n",
    "from glob import glob\n",
    "import warnings\n",
    "from matplotlib import rcParams\n",
    "warnings.filterwarnings('ignore')\n",
    "%matplotlib inline\n",
    "rcParams['figure.figsize'] = 8,6"
   ]
  },
  {
   "cell_type": "code",
   "execution_count": 2,
   "metadata": {},
   "outputs": [],
   "source": [
    "df = pd.read_csv(r\"\\\\pgb-bas01\\DENR_Satellite_Imagery$\\Scratch\\drone\\rmb\\rtk_testing_2021_alt_prior\\flight_gcp_error.csv\")"
   ]
  },
  {
   "cell_type": "code",
   "execution_count": 3,
   "metadata": {},
   "outputs": [],
   "source": [
    "#df.fillna(value=0, inplace=True)\n",
    "df.replace(9999.00, np.nan, inplace=True)"
   ]
  },
  {
   "cell_type": "code",
   "execution_count": 4,
   "metadata": {
    "scrolled": false
   },
   "outputs": [],
   "source": [
    "# df.info()"
   ]
  },
  {
   "cell_type": "code",
   "execution_count": 5,
   "metadata": {
    "scrolled": true
   },
   "outputs": [
    {
     "data": {
      "text/html": [
       "<div>\n",
       "<style scoped>\n",
       "    .dataframe tbody tr th:only-of-type {\n",
       "        vertical-align: middle;\n",
       "    }\n",
       "\n",
       "    .dataframe tbody tr th {\n",
       "        vertical-align: top;\n",
       "    }\n",
       "\n",
       "    .dataframe thead th {\n",
       "        text-align: right;\n",
       "    }\n",
       "</style>\n",
       "<table border=\"1\" class=\"dataframe\">\n",
       "  <thead>\n",
       "    <tr style=\"text-align: right;\">\n",
       "      <th></th>\n",
       "      <th>altitude</th>\n",
       "      <th>pixcel_m</th>\n",
       "      <th>gcp_1</th>\n",
       "      <th>gcp_2</th>\n",
       "      <th>gcp_3</th>\n",
       "      <th>gcp_4</th>\n",
       "      <th>gcp_5</th>\n",
       "      <th>gcp_6</th>\n",
       "      <th>gcp_7</th>\n",
       "      <th>gcp_8</th>\n",
       "      <th>gcp_9</th>\n",
       "    </tr>\n",
       "  </thead>\n",
       "  <tbody>\n",
       "    <tr>\n",
       "      <th>count</th>\n",
       "      <td>54.000000</td>\n",
       "      <td>54.000000</td>\n",
       "      <td>54.000000</td>\n",
       "      <td>53.000000</td>\n",
       "      <td>53.000000</td>\n",
       "      <td>54.000000</td>\n",
       "      <td>54.000000</td>\n",
       "      <td>30.000000</td>\n",
       "      <td>30.000000</td>\n",
       "      <td>30.00000</td>\n",
       "      <td>0.0</td>\n",
       "    </tr>\n",
       "    <tr>\n",
       "      <th>mean</th>\n",
       "      <td>76.666667</td>\n",
       "      <td>0.042370</td>\n",
       "      <td>0.983333</td>\n",
       "      <td>1.018679</td>\n",
       "      <td>1.055925</td>\n",
       "      <td>1.161481</td>\n",
       "      <td>1.035185</td>\n",
       "      <td>1.179333</td>\n",
       "      <td>1.226333</td>\n",
       "      <td>1.22800</td>\n",
       "      <td>NaN</td>\n",
       "    </tr>\n",
       "    <tr>\n",
       "      <th>std</th>\n",
       "      <td>20.740990</td>\n",
       "      <td>0.011601</td>\n",
       "      <td>1.125048</td>\n",
       "      <td>1.147254</td>\n",
       "      <td>1.156050</td>\n",
       "      <td>1.280723</td>\n",
       "      <td>1.170832</td>\n",
       "      <td>1.295256</td>\n",
       "      <td>1.346058</td>\n",
       "      <td>1.29023</td>\n",
       "      <td>NaN</td>\n",
       "    </tr>\n",
       "    <tr>\n",
       "      <th>min</th>\n",
       "      <td>50.000000</td>\n",
       "      <td>0.027000</td>\n",
       "      <td>0.020000</td>\n",
       "      <td>0.030000</td>\n",
       "      <td>0.010000</td>\n",
       "      <td>0.010000</td>\n",
       "      <td>0.010000</td>\n",
       "      <td>0.040000</td>\n",
       "      <td>0.060000</td>\n",
       "      <td>0.02000</td>\n",
       "      <td>NaN</td>\n",
       "    </tr>\n",
       "    <tr>\n",
       "      <th>25%</th>\n",
       "      <td>50.000000</td>\n",
       "      <td>0.028000</td>\n",
       "      <td>0.080000</td>\n",
       "      <td>0.100000</td>\n",
       "      <td>0.070000</td>\n",
       "      <td>0.140000</td>\n",
       "      <td>0.107500</td>\n",
       "      <td>0.167500</td>\n",
       "      <td>0.160000</td>\n",
       "      <td>0.09000</td>\n",
       "      <td>NaN</td>\n",
       "    </tr>\n",
       "    <tr>\n",
       "      <th>50%</th>\n",
       "      <td>80.000000</td>\n",
       "      <td>0.044000</td>\n",
       "      <td>0.455000</td>\n",
       "      <td>0.370000</td>\n",
       "      <td>0.710000</td>\n",
       "      <td>0.770000</td>\n",
       "      <td>0.385000</td>\n",
       "      <td>0.375000</td>\n",
       "      <td>0.485000</td>\n",
       "      <td>0.78500</td>\n",
       "      <td>NaN</td>\n",
       "    </tr>\n",
       "    <tr>\n",
       "      <th>75%</th>\n",
       "      <td>100.000000</td>\n",
       "      <td>0.054750</td>\n",
       "      <td>1.730000</td>\n",
       "      <td>1.750000</td>\n",
       "      <td>1.800000</td>\n",
       "      <td>1.957500</td>\n",
       "      <td>1.815000</td>\n",
       "      <td>1.830000</td>\n",
       "      <td>1.795000</td>\n",
       "      <td>1.78250</td>\n",
       "      <td>NaN</td>\n",
       "    </tr>\n",
       "    <tr>\n",
       "      <th>max</th>\n",
       "      <td>100.000000</td>\n",
       "      <td>0.059000</td>\n",
       "      <td>3.370000</td>\n",
       "      <td>3.440000</td>\n",
       "      <td>3.630000</td>\n",
       "      <td>4.140000</td>\n",
       "      <td>3.630000</td>\n",
       "      <td>3.440000</td>\n",
       "      <td>3.700000</td>\n",
       "      <td>3.47000</td>\n",
       "      <td>NaN</td>\n",
       "    </tr>\n",
       "  </tbody>\n",
       "</table>\n",
       "</div>"
      ],
      "text/plain": [
       "         altitude   pixcel_m      gcp_1      gcp_2      gcp_3      gcp_4  \\\n",
       "count   54.000000  54.000000  54.000000  53.000000  53.000000  54.000000   \n",
       "mean    76.666667   0.042370   0.983333   1.018679   1.055925   1.161481   \n",
       "std     20.740990   0.011601   1.125048   1.147254   1.156050   1.280723   \n",
       "min     50.000000   0.027000   0.020000   0.030000   0.010000   0.010000   \n",
       "25%     50.000000   0.028000   0.080000   0.100000   0.070000   0.140000   \n",
       "50%     80.000000   0.044000   0.455000   0.370000   0.710000   0.770000   \n",
       "75%    100.000000   0.054750   1.730000   1.750000   1.800000   1.957500   \n",
       "max    100.000000   0.059000   3.370000   3.440000   3.630000   4.140000   \n",
       "\n",
       "           gcp_5      gcp_6      gcp_7     gcp_8  gcp_9  \n",
       "count  54.000000  30.000000  30.000000  30.00000    0.0  \n",
       "mean    1.035185   1.179333   1.226333   1.22800    NaN  \n",
       "std     1.170832   1.295256   1.346058   1.29023    NaN  \n",
       "min     0.010000   0.040000   0.060000   0.02000    NaN  \n",
       "25%     0.107500   0.167500   0.160000   0.09000    NaN  \n",
       "50%     0.385000   0.375000   0.485000   0.78500    NaN  \n",
       "75%     1.815000   1.830000   1.795000   1.78250    NaN  \n",
       "max     3.630000   3.440000   3.700000   3.47000    NaN  "
      ]
     },
     "execution_count": 5,
     "metadata": {},
     "output_type": "execute_result"
    }
   ],
   "source": [
    "df.describe()"
   ]
  },
  {
   "cell_type": "code",
   "execution_count": 6,
   "metadata": {},
   "outputs": [],
   "source": [
    "no_gcp = df[df['gcp']== 'none']\n",
    "# no_gcp.describe()"
   ]
  },
  {
   "cell_type": "code",
   "execution_count": 7,
   "metadata": {},
   "outputs": [],
   "source": [
    "df['avg_dist'] = df[['gcp_1', 'gcp_2', 'gcp_3', 'gcp_4', 'gcp_5', 'gcp_6', 'gcp_7', 'gcp_8', 'gcp_9']].mean(axis=1)"
   ]
  },
  {
   "cell_type": "code",
   "execution_count": 8,
   "metadata": {},
   "outputs": [],
   "source": [
    "\n",
    "no_gcp = df[df['gcp'] == 'none']\n",
    "no_gcp['gcp_count'] = 0\n",
    "\n",
    "gcp = df[df['gcp'] != 'c_ne_se_sw_nw']\n",
    "gcp['gcp_count'] = 5\n",
    "\n",
    "\n",
    "data = pd.concat([gcp, no_gcp])"
   ]
  },
  {
   "cell_type": "code",
   "execution_count": 9,
   "metadata": {},
   "outputs": [
    {
     "data": {
      "text/html": [
       "<div>\n",
       "<style scoped>\n",
       "    .dataframe tbody tr th:only-of-type {\n",
       "        vertical-align: middle;\n",
       "    }\n",
       "\n",
       "    .dataframe tbody tr th {\n",
       "        vertical-align: top;\n",
       "    }\n",
       "\n",
       "    .dataframe thead th {\n",
       "        text-align: right;\n",
       "    }\n",
       "</style>\n",
       "<table border=\"1\" class=\"dataframe\">\n",
       "  <thead>\n",
       "    <tr style=\"text-align: right;\">\n",
       "      <th></th>\n",
       "      <th></th>\n",
       "      <th></th>\n",
       "      <th>count</th>\n",
       "      <th>mean</th>\n",
       "      <th>std</th>\n",
       "      <th>min</th>\n",
       "      <th>25%</th>\n",
       "      <th>50%</th>\n",
       "      <th>75%</th>\n",
       "      <th>max</th>\n",
       "    </tr>\n",
       "    <tr>\n",
       "      <th>camera</th>\n",
       "      <th>altitude</th>\n",
       "      <th>gcp_count</th>\n",
       "      <th></th>\n",
       "      <th></th>\n",
       "      <th></th>\n",
       "      <th></th>\n",
       "      <th></th>\n",
       "      <th></th>\n",
       "      <th></th>\n",
       "      <th></th>\n",
       "    </tr>\n",
       "  </thead>\n",
       "  <tbody>\n",
       "    <tr>\n",
       "      <th rowspan=\"6\" valign=\"top\">multi</th>\n",
       "      <th rowspan=\"2\" valign=\"top\">50</th>\n",
       "      <th>0</th>\n",
       "      <td>4.0</td>\n",
       "      <td>2.501187</td>\n",
       "      <td>0.794421</td>\n",
       "      <td>1.80625</td>\n",
       "      <td>1.876562</td>\n",
       "      <td>2.363000</td>\n",
       "      <td>2.987625</td>\n",
       "      <td>3.47250</td>\n",
       "    </tr>\n",
       "    <tr>\n",
       "      <th>5</th>\n",
       "      <td>4.0</td>\n",
       "      <td>2.501187</td>\n",
       "      <td>0.794421</td>\n",
       "      <td>1.80625</td>\n",
       "      <td>1.876562</td>\n",
       "      <td>2.363000</td>\n",
       "      <td>2.987625</td>\n",
       "      <td>3.47250</td>\n",
       "    </tr>\n",
       "    <tr>\n",
       "      <th rowspan=\"2\" valign=\"top\">80</th>\n",
       "      <th>0</th>\n",
       "      <td>4.0</td>\n",
       "      <td>1.856688</td>\n",
       "      <td>1.129524</td>\n",
       "      <td>0.97000</td>\n",
       "      <td>1.141000</td>\n",
       "      <td>1.493375</td>\n",
       "      <td>2.209062</td>\n",
       "      <td>3.47000</td>\n",
       "    </tr>\n",
       "    <tr>\n",
       "      <th>5</th>\n",
       "      <td>4.0</td>\n",
       "      <td>1.856688</td>\n",
       "      <td>1.129524</td>\n",
       "      <td>0.97000</td>\n",
       "      <td>1.141000</td>\n",
       "      <td>1.493375</td>\n",
       "      <td>2.209062</td>\n",
       "      <td>3.47000</td>\n",
       "    </tr>\n",
       "    <tr>\n",
       "      <th rowspan=\"2\" valign=\"top\">100</th>\n",
       "      <th>0</th>\n",
       "      <td>4.0</td>\n",
       "      <td>1.862000</td>\n",
       "      <td>1.151663</td>\n",
       "      <td>0.92800</td>\n",
       "      <td>1.139500</td>\n",
       "      <td>1.510625</td>\n",
       "      <td>2.233125</td>\n",
       "      <td>3.49875</td>\n",
       "    </tr>\n",
       "    <tr>\n",
       "      <th>5</th>\n",
       "      <td>4.0</td>\n",
       "      <td>1.862000</td>\n",
       "      <td>1.151663</td>\n",
       "      <td>0.92800</td>\n",
       "      <td>1.139500</td>\n",
       "      <td>1.510625</td>\n",
       "      <td>2.233125</td>\n",
       "      <td>3.49875</td>\n",
       "    </tr>\n",
       "    <tr>\n",
       "      <th rowspan=\"6\" valign=\"top\">rgb</th>\n",
       "      <th rowspan=\"2\" valign=\"top\">50</th>\n",
       "      <th>0</th>\n",
       "      <td>5.0</td>\n",
       "      <td>2.095400</td>\n",
       "      <td>1.170069</td>\n",
       "      <td>0.56750</td>\n",
       "      <td>1.588000</td>\n",
       "      <td>1.827500</td>\n",
       "      <td>2.964000</td>\n",
       "      <td>3.53000</td>\n",
       "    </tr>\n",
       "    <tr>\n",
       "      <th>5</th>\n",
       "      <td>5.0</td>\n",
       "      <td>2.095400</td>\n",
       "      <td>1.170069</td>\n",
       "      <td>0.56750</td>\n",
       "      <td>1.588000</td>\n",
       "      <td>1.827500</td>\n",
       "      <td>2.964000</td>\n",
       "      <td>3.53000</td>\n",
       "    </tr>\n",
       "    <tr>\n",
       "      <th rowspan=\"2\" valign=\"top\">80</th>\n",
       "      <th>0</th>\n",
       "      <td>5.0</td>\n",
       "      <td>1.666400</td>\n",
       "      <td>1.162509</td>\n",
       "      <td>0.59875</td>\n",
       "      <td>0.972000</td>\n",
       "      <td>1.280000</td>\n",
       "      <td>1.926250</td>\n",
       "      <td>3.55500</td>\n",
       "    </tr>\n",
       "    <tr>\n",
       "      <th>5</th>\n",
       "      <td>5.0</td>\n",
       "      <td>1.666400</td>\n",
       "      <td>1.162509</td>\n",
       "      <td>0.59875</td>\n",
       "      <td>0.972000</td>\n",
       "      <td>1.280000</td>\n",
       "      <td>1.926250</td>\n",
       "      <td>3.55500</td>\n",
       "    </tr>\n",
       "    <tr>\n",
       "      <th rowspan=\"2\" valign=\"top\">100</th>\n",
       "      <th>0</th>\n",
       "      <td>5.0</td>\n",
       "      <td>1.656650</td>\n",
       "      <td>1.185498</td>\n",
       "      <td>0.56625</td>\n",
       "      <td>0.938000</td>\n",
       "      <td>1.334000</td>\n",
       "      <td>1.845000</td>\n",
       "      <td>3.60000</td>\n",
       "    </tr>\n",
       "    <tr>\n",
       "      <th>5</th>\n",
       "      <td>5.0</td>\n",
       "      <td>1.656650</td>\n",
       "      <td>1.185498</td>\n",
       "      <td>0.56625</td>\n",
       "      <td>0.938000</td>\n",
       "      <td>1.334000</td>\n",
       "      <td>1.845000</td>\n",
       "      <td>3.60000</td>\n",
       "    </tr>\n",
       "  </tbody>\n",
       "</table>\n",
       "</div>"
      ],
      "text/plain": [
       "                           count      mean       std      min       25%  \\\n",
       "camera altitude gcp_count                                                 \n",
       "multi  50       0            4.0  2.501187  0.794421  1.80625  1.876562   \n",
       "                5            4.0  2.501187  0.794421  1.80625  1.876562   \n",
       "       80       0            4.0  1.856688  1.129524  0.97000  1.141000   \n",
       "                5            4.0  1.856688  1.129524  0.97000  1.141000   \n",
       "       100      0            4.0  1.862000  1.151663  0.92800  1.139500   \n",
       "                5            4.0  1.862000  1.151663  0.92800  1.139500   \n",
       "rgb    50       0            5.0  2.095400  1.170069  0.56750  1.588000   \n",
       "                5            5.0  2.095400  1.170069  0.56750  1.588000   \n",
       "       80       0            5.0  1.666400  1.162509  0.59875  0.972000   \n",
       "                5            5.0  1.666400  1.162509  0.59875  0.972000   \n",
       "       100      0            5.0  1.656650  1.185498  0.56625  0.938000   \n",
       "                5            5.0  1.656650  1.185498  0.56625  0.938000   \n",
       "\n",
       "                                50%       75%      max  \n",
       "camera altitude gcp_count                               \n",
       "multi  50       0          2.363000  2.987625  3.47250  \n",
       "                5          2.363000  2.987625  3.47250  \n",
       "       80       0          1.493375  2.209062  3.47000  \n",
       "                5          1.493375  2.209062  3.47000  \n",
       "       100      0          1.510625  2.233125  3.49875  \n",
       "                5          1.510625  2.233125  3.49875  \n",
       "rgb    50       0          1.827500  2.964000  3.53000  \n",
       "                5          1.827500  2.964000  3.53000  \n",
       "       80       0          1.280000  1.926250  3.55500  \n",
       "                5          1.280000  1.926250  3.55500  \n",
       "       100      0          1.334000  1.845000  3.60000  \n",
       "                5          1.334000  1.845000  3.60000  "
      ]
     },
     "execution_count": 9,
     "metadata": {},
     "output_type": "execute_result"
    }
   ],
   "source": [
    "data.groupby(['camera', 'altitude', 'gcp_count'])['avg_dist'].describe()"
   ]
  },
  {
   "cell_type": "code",
   "execution_count": 10,
   "metadata": {},
   "outputs": [],
   "source": [
    "list_data = [no_gcp, gcp]\n",
    "list_label = [\"No Ground Control Points\", \"5 Ground Control Points\"]"
   ]
  },
  {
   "cell_type": "code",
   "execution_count": 11,
   "metadata": {
    "scrolled": false
   },
   "outputs": [
    {
     "data": {
      "image/png": "[encoded data removed]",
      "text/plain": [
       "<Figure size 432x288 with 1 Axes>"
      ]
     },
     "metadata": {
      "needs_background": "light"
     },
     "output_type": "display_data"
    },
    {
     "name": "stdout",
     "output_type": "stream",
     "text": [
      "========================================\n",
      "Skewness: 0.509897\n",
      "Excess Kurtosis: -1.134509\n",
      "Basic stats: \n",
      "Mean: 1.924880\n",
      "Var: 1.092518\n",
      "Std: 1.045236\n",
      "========================================\n"
     ]
    },
    {
     "data": {
      "image/png": "[encoded data removed]",
      "text/plain": [
       "<Figure size 432x288 with 1 Axes>"
      ]
     },
     "metadata": {
      "needs_background": "light"
     },
     "output_type": "display_data"
    },
    {
     "name": "stdout",
     "output_type": "stream",
     "text": [
      "========================================\n",
      "Skewness: 0.509897\n",
      "Excess Kurtosis: -1.134509\n",
      "Basic stats: \n",
      "Mean: 1.924880\n",
      "Var: 1.092518\n",
      "Std: 1.045236\n",
      "========================================\n"
     ]
    }
   ],
   "source": [
    "for i, label in zip(list_data, list_label):\n",
    "    sns.distplot(i.avg_dist).set_title(label)\n",
    "    plt.show()\n",
    "    print('='*40)\n",
    "    print(\"Skewness: %f\" % i.avg_dist.skew())\n",
    "    print(\"Excess Kurtosis: %f\" % i.avg_dist.kurt())\n",
    "    print('Basic stats: ')\n",
    "    print(\"Mean: %f\" % i.avg_dist.mean())\n",
    "    print(\"Var: %f\" % i.avg_dist.var())\n",
    "    print(\"Std: %f\" % i.avg_dist.std())\n",
    "    print('='*40)\n",
    "\n",
    "    plt.show()"
   ]
  },
  {
   "cell_type": "code",
   "execution_count": 12,
   "metadata": {},
   "outputs": [
    {
     "name": "stdout",
     "output_type": "stream",
     "text": [
      "------------------------------------------------------------\n"
     ]
    },
    {
     "data": {
      "image/png": "[encoded data removed]",
      "text/plain": [
       "<Figure size 432x288 with 1 Axes>"
      ]
     },
     "metadata": {
      "needs_background": "light"
     },
     "output_type": "display_data"
    },
    {
     "name": "stdout",
     "output_type": "stream",
     "text": [
      "========================================\n",
      "\n",
      "Value counts per camera / gcp_count\n",
      "\n",
      "camera  gcp_count\n",
      "multi   0            12\n",
      "        5            12\n",
      "rgb     0            15\n",
      "        5            15\n",
      "dtype: int64\n",
      "------------------------------------------------------------\n"
     ]
    },
    {
     "data": {
      "image/png": "[encoded data removed]",
      "text/plain": [
       "<Figure size 432x288 with 1 Axes>"
      ]
     },
     "metadata": {
      "needs_background": "light"
     },
     "output_type": "display_data"
    },
    {
     "name": "stdout",
     "output_type": "stream",
     "text": [
      "========================================\n",
      "\n",
      "Value counts per camera / gcp_count\n",
      "\n",
      "camera  gcp_count\n",
      "multi   0            12\n",
      "        5            12\n",
      "rgb     0            15\n",
      "        5            15\n",
      "dtype: int64\n"
     ]
    }
   ],
   "source": [
    "for cam in data.camera.unique():\n",
    "    print('-'*60)\n",
    "    camera_df = data[data['camera']== cam]\n",
    "    sns.boxplot(x='altitude', y='avg_dist', data=camera_df, hue=\"gcp_count\").set(title= cam + ' boxplot')\n",
    "    plt.show()\n",
    "    print('='*40)\n",
    "    print('\\nValue counts per camera / gcp_count\\n')\n",
    "\n",
    "    print(data.groupby(['camera', 'gcp_count']).size())\n"
   ]
  },
  {
   "cell_type": "code",
   "execution_count": null,
   "metadata": {},
   "outputs": [],
   "source": []
  },
  {
   "cell_type": "code",
   "execution_count": null,
   "metadata": {},
   "outputs": [],
   "source": []
  },
  {
   "cell_type": "code",
   "execution_count": null,
   "metadata": {},
   "outputs": [],
   "source": []
  },
  {
   "cell_type": "code",
   "execution_count": null,
   "metadata": {},
   "outputs": [],
   "source": []
  }
 ],
 "metadata": {
  "kernelspec": {
   "display_name": "Python 3",
   "language": "python",
   "name": "python3"
  },
  "language_info": {
   "codemirror_mode": {
    "name": "ipython",
    "version": 3
   },
   "file_extension": ".py",
   "mimetype": "text/x-python",
   "name": "python",
   "nbconvert_exporter": "python",
   "pygments_lexer": "ipython3",
   "version": "3.7.7"
  }
 },
 "nbformat": 4,
 "nbformat_minor": 4
}
