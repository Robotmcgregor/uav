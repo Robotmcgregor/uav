{
 "cells": [
  {
   "cell_type": "code",
   "execution_count": null,
   "metadata": {},
   "outputs": [],
   "source": [
    "%run apply_re_classifier_multi.py"
   ]
  },
  {
   "cell_type": "code",
   "execution_count": 3,
   "metadata": {},
   "outputs": [
    {
     "name": "stdout",
     "output_type": "stream",
     "text": [
      "E:/UAV_FIELD_SITES/dhmmp_split_shape/re/DHMMP_Field_Sites_Site__1_re_class.tif complete\n",
      "E:/UAV_FIELD_SITES/dhmmp_split_shape/re/DHMMP_Field_Sites_Site__10_re_class.tif complete\n",
      "E:/UAV_FIELD_SITES/dhmmp_split_shape/re/DHMMP_Field_Sites_Site__11_re_class.tif complete\n",
      "E:/UAV_FIELD_SITES/dhmmp_split_shape/re/DHMMP_Field_Sites_Site__12_re_class.tif complete\n",
      "E:/UAV_FIELD_SITES/dhmmp_split_shape/re/DHMMP_Field_Sites_Site__13_re_class.tif complete\n",
      "E:/UAV_FIELD_SITES/dhmmp_split_shape/re/DHMMP_Field_Sites_Site__14_re_class.tif complete\n",
      "E:/UAV_FIELD_SITES/dhmmp_split_shape/re/DHMMP_Field_Sites_Site__15_re_class.tif complete\n",
      "E:/UAV_FIELD_SITES/dhmmp_split_shape/re/DHMMP_Field_Sites_Site__16_re_class.tif complete\n",
      "E:/UAV_FIELD_SITES/dhmmp_split_shape/re/DHMMP_Field_Sites_Site__17_re_class.tif complete\n",
      "E:/UAV_FIELD_SITES/dhmmp_split_shape/re/DHMMP_Field_Sites_Site__18_re_class.tif complete\n",
      "E:/UAV_FIELD_SITES/dhmmp_split_shape/re/DHMMP_Field_Sites_Site__19_re_class.tif complete\n",
      "E:/UAV_FIELD_SITES/dhmmp_split_shape/re/DHMMP_Field_Sites_Site__2_re_class.tif complete\n",
      "E:/UAV_FIELD_SITES/dhmmp_split_shape/re/DHMMP_Field_Sites_Site__20_re_class.tif complete\n",
      "E:/UAV_FIELD_SITES/dhmmp_split_shape/re/DHMMP_Field_Sites_Site__21_re_class.tif complete\n",
      "E:/UAV_FIELD_SITES/dhmmp_split_shape/re/DHMMP_Field_Sites_Site__22_re_class.tif complete\n",
      "E:/UAV_FIELD_SITES/dhmmp_split_shape/re/DHMMP_Field_Sites_Site__23_re_class.tif complete\n",
      "E:/UAV_FIELD_SITES/dhmmp_split_shape/re/DHMMP_Field_Sites_Site__24_re_class.tif complete\n",
      "E:/UAV_FIELD_SITES/dhmmp_split_shape/re/DHMMP_Field_Sites_Site__25_re_class.tif complete\n",
      "E:/UAV_FIELD_SITES/dhmmp_split_shape/re/DHMMP_Field_Sites_Site__26_re_class.tif complete\n",
      "E:/UAV_FIELD_SITES/dhmmp_split_shape/re/DHMMP_Field_Sites_Site__27_re_class.tif complete\n",
      "E:/UAV_FIELD_SITES/dhmmp_split_shape/re/DHMMP_Field_Sites_Site__28_re_class.tif complete\n",
      "E:/UAV_FIELD_SITES/dhmmp_split_shape/re/DHMMP_Field_Sites_Site__29_re_class.tif complete\n",
      "E:/UAV_FIELD_SITES/dhmmp_split_shape/re/DHMMP_Field_Sites_Site__3_re_class.tif complete\n",
      "E:/UAV_FIELD_SITES/dhmmp_split_shape/re/DHMMP_Field_Sites_Site__30_re_class.tif complete\n",
      "E:/UAV_FIELD_SITES/dhmmp_split_shape/re/DHMMP_Field_Sites_Site__4_re_class.tif complete\n",
      "E:/UAV_FIELD_SITES/dhmmp_split_shape/re/DHMMP_Field_Sites_Site__5_re_class.tif complete\n",
      "E:/UAV_FIELD_SITES/dhmmp_split_shape/re/DHMMP_Field_Sites_Site__6_re_class.tif complete\n",
      "E:/UAV_FIELD_SITES/dhmmp_split_shape/re/DHMMP_Field_Sites_Site__7_re_class.tif complete\n",
      "E:/UAV_FIELD_SITES/dhmmp_split_shape/re/DHMMP_Field_Sites_Site__8_re_class.tif complete\n",
      "E:/UAV_FIELD_SITES/dhmmp_split_shape/re/DHMMP_Field_Sites_Site__9_re_class.tif complete\n"
     ]
    }
   ],
   "source": [
    "%run apply_re_classifier_multi.py -s E:/UAV_FIELD_SITES/dhmmp_split_shape/re/tif_list.csv \\\n",
    "    -d E:/UAV_FIELD_SITES/dhmmp_split_shape/re/ -c E:/UAV_FIELD_SITES/dhmmp_split_shape/re/dhmmp_re_field_site_PVm_PVc_PVs.csv"
   ]
  },
  {
   "cell_type": "code",
   "execution_count": 4,
   "metadata": {},
   "outputs": [
    {
     "name": "stdout",
     "output_type": "stream",
     "text": [
      "D:/uav_imagery/gulf_field_site_chips/re/Gulf_sites_10m_all_site__1ant01_re_class.tif complete\n",
      "D:/uav_imagery/gulf_field_site_chips/re/Gulf_sites_10m_all_site__1ant02_re_class.tif complete\n",
      "D:/uav_imagery/gulf_field_site_chips/re/Gulf_sites_10m_all_site__1ant03_re_class.tif complete\n",
      "D:/uav_imagery/gulf_field_site_chips/re/Gulf_sites_10m_all_site__1ant04_re_class.tif complete\n",
      "D:/uav_imagery/gulf_field_site_chips/re/Gulf_sites_10m_all_site__1ant05_re_class.tif complete\n",
      "D:/uav_imagery/gulf_field_site_chips/re/Gulf_sites_10m_all_site__1bnt_01_re_class.tif complete\n",
      "D:/uav_imagery/gulf_field_site_chips/re/Gulf_sites_10m_all_site__1bnt_02_re_class.tif complete\n",
      "D:/uav_imagery/gulf_field_site_chips/re/Gulf_sites_10m_all_site__1bnt_03_re_class.tif complete\n",
      "D:/uav_imagery/gulf_field_site_chips/re/Gulf_sites_10m_all_site__2ANT_01_re_class.tif complete\n",
      "D:/uav_imagery/gulf_field_site_chips/re/Gulf_sites_10m_all_site__2ANT_02_re_class.tif complete\n",
      "D:/uav_imagery/gulf_field_site_chips/re/Gulf_sites_10m_all_site__2ANT_03_re_class.tif complete\n",
      "D:/uav_imagery/gulf_field_site_chips/re/Gulf_sites_10m_all_site__2ANT_04_re_class.tif complete\n",
      "D:/uav_imagery/gulf_field_site_chips/re/Gulf_sites_10m_all_site__2ANT_05_re_class.tif complete\n",
      "D:/uav_imagery/gulf_field_site_chips/re/Gulf_sites_10m_all_site__2BNT_01_re_class.tif complete\n",
      "D:/uav_imagery/gulf_field_site_chips/re/Gulf_sites_10m_all_site__2BNT_02_re_class.tif complete\n",
      "D:/uav_imagery/gulf_field_site_chips/re/Gulf_sites_10m_all_site__2BNT_03_re_class.tif complete\n",
      "D:/uav_imagery/gulf_field_site_chips/re/Gulf_sites_10m_all_site__2BNT_04_re_class.tif complete\n",
      "D:/uav_imagery/gulf_field_site_chips/re/Gulf_sites_10m_all_site__2BNT_05_re_class.tif complete\n",
      "D:/uav_imagery/gulf_field_site_chips/re/Gulf_sites_10m_all_site__2BNT_06_re_class.tif complete\n"
     ]
    }
   ],
   "source": [
    "%run apply_re_classifier_multi.py -s D:/uav_imagery/gulf_field_site_chips/re/tif_list_re.csv \\\n",
    "    -d D:/uav_imagery/gulf_field_site_chips/re/ -c D:/uav_imagery/gulf_field_site_chips/re/gulf_re_field_site_PVm_PVc_PVs.csv"
   ]
  },
  {
   "cell_type": "code",
   "execution_count": null,
   "metadata": {},
   "outputs": [],
   "source": []
  }
 ],
 "metadata": {
  "kernelspec": {
   "display_name": "Python 3",
   "language": "python",
   "name": "python3"
  },
  "language_info": {
   "codemirror_mode": {
    "name": "ipython",
    "version": 3
   },
   "file_extension": ".py",
   "mimetype": "text/x-python",
   "name": "python",
   "nbconvert_exporter": "python",
   "pygments_lexer": "ipython3",
   "version": "3.7.7"
  }
 },
 "nbformat": 4,
 "nbformat_minor": 2
}
