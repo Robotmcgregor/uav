{
 "cells": [
  {
   "cell_type": "code",
   "execution_count": 1,
   "metadata": {
    "collapsed": true
   },
   "outputs": [],
   "source": [
    "import pandas as pd"
   ]
  },
  {
   "cell_type": "code",
   "execution_count": 2,
   "metadata": {},
   "outputs": [
    {
     "name": "stdout",
     "output_type": "stream",
     "text": [
      " Volume in drive C is System\n",
      " Volume Serial Number is 12FA-D4D7\n",
      "\n",
      " Directory of C:\\Users\\grants\\code\\Mangroves\\ppC\\uav2019\\re_classifier_5bands\n",
      "\n",
      "23/07/2019  04:49 PM    <DIR>          .\n",
      "23/07/2019  04:49 PM    <DIR>          ..\n",
      "23/07/2019  04:49 PM    <DIR>          .ipynb_checkpoints\n",
      "18/07/2019  04:02 PM             3,296 apply_re_classifier_multi.py\n",
      "21/05/2019  10:15 AM         3,271,214 combined_training_rededge_UID_Processed.csv\n",
      "16/07/2019  02:10 PM               471 combined_training_rededge_UID_Processed_Result.csv\n",
      "16/07/2019  02:10 PM       156,183,530 combined_training_rededge_UID_Processed_Result.p\n",
      "16/07/2019  02:10 PM               126 combined_training_rededge_UID_Processed_Result_Sorted.csv\n",
      "16/07/2019  02:11 PM             3,297 PP_C_RedEdge_Model_V2.py\n",
      "16/07/2019  02:09 PM             3,869 Sklearn_Random_Forest_Classifier_Rededge_Model.py\n",
      "16/07/2019  02:12 PM             3,856 Untitled.ipynb\n",
      "19/07/2019  03:27 PM            14,241 Untitled1.ipynb\n",
      "19/07/2019  08:30 AM               555 Untitled2.ipynb\n",
      "23/07/2019  04:49 PM                72 Untitled3.ipynb\n",
      "              11 File(s)    159,484,527 bytes\n",
      "               3 Dir(s)   7,157,567,488 bytes free\n"
     ]
    }
   ],
   "source": [
    "ls"
   ]
  },
  {
   "cell_type": "code",
   "execution_count": 4,
   "metadata": {},
   "outputs": [
    {
     "name": "stdout",
     "output_type": "stream",
     "text": [
      "['Unnamed: 0', 'site', 'class', 'blue', 'green', 'red', 'nir', 'rededge', 'ratio21', 'ratio31', 'ratio32', 'ratio41', 'ratio42', 'ratio43', 'ratio51', 'ratio52', 'ratio53', 'ratio54', 'NDGI', 'GreenIndex', 'VARI', 'GLI', 'TGI', 'GSAVI', 'GNDVI', 'CVI', 'RI', 'GDVI', 'DVI', 'SAVI', 'NDVI', 'MSR', 'MSAVI', 'CIgreen']\n"
     ]
    }
   ],
   "source": [
    "df = pd.read_csv(\"combined_training_rededge_UID_Processed.csv\", header=0)\n",
    "print (list(df))"
   ]
  },
  {
   "cell_type": "code",
   "execution_count": 5,
   "metadata": {},
   "outputs": [
    {
     "data": {
      "text/plain": [
       "array([ 5,  1,  3,  2,  8,  7,  9,  6,  4, 11, 10, 13, 12], dtype=int64)"
      ]
     },
     "execution_count": 5,
     "metadata": {},
     "output_type": "execute_result"
    }
   ],
   "source": [
    "df['class'].unique()"
   ]
  },
  {
   "cell_type": "code",
   "execution_count": 6,
   "metadata": {
    "collapsed": true
   },
   "outputs": [],
   "source": [
    "df2 = df[[ 'site', 'class', 'blue', 'green', 'red', 'nir', 'rededge',]]"
   ]
  },
  {
   "cell_type": "code",
   "execution_count": 7,
   "metadata": {},
   "outputs": [
    {
     "data": {
      "text/plain": [
       "array([ 5,  1,  3,  2,  8,  7,  9,  6,  4, 11, 10, 12], dtype=int64)"
      ]
     },
     "execution_count": 7,
     "metadata": {},
     "output_type": "execute_result"
    }
   ],
   "source": [
    "df3 = df2[(df2['class'] != 13)]\n",
    "df3['class'].unique()"
   ]
  },
  {
   "cell_type": "code",
   "execution_count": 9,
   "metadata": {
    "collapsed": true
   },
   "outputs": [],
   "source": [
    "df3"
   ]
  },
  {
   "cell_type": "code",
   "execution_count": 10,
   "metadata": {},
   "outputs": [
    {
     "name": "stdout",
     "output_type": "stream",
     "text": [
      "(5701, 34)\n",
      "(5688, 7)\n"
     ]
    }
   ],
   "source": [
    "print (df.shape)\n",
    "print (df3.shape)"
   ]
  },
  {
   "cell_type": "code",
   "execution_count": 15,
   "metadata": {
    "collapsed": true
   },
   "outputs": [],
   "source": [
    "df4 = df3.sample(5650)"
   ]
  },
  {
   "cell_type": "code",
   "execution_count": 17,
   "metadata": {
    "collapsed": true
   },
   "outputs": [],
   "source": [
    "df4.to_csv('combined_training_rededge.csv')"
   ]
  },
  {
   "cell_type": "code",
   "execution_count": null,
   "metadata": {
    "collapsed": true
   },
   "outputs": [],
   "source": []
  }
 ],
 "metadata": {
  "anaconda-cloud": {},
  "kernelspec": {
   "display_name": "Python 3",
   "language": "python",
   "name": "python3"
  },
  "language_info": {
   "codemirror_mode": {
    "name": "ipython",
    "version": 3
   },
   "file_extension": ".py",
   "mimetype": "text/x-python",
   "name": "python",
   "nbconvert_exporter": "python",
   "pygments_lexer": "ipython3",
   "version": "3.7.7"
  }
 },
 "nbformat": 4,
 "nbformat_minor": 2
}
