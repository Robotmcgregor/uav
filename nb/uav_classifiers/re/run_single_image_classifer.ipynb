{
 "cells": [
  {
   "cell_type": "code",
   "execution_count": 1,
   "metadata": {},
   "outputs": [
    {
     "name": "stdout",
     "output_type": "stream",
     "text": [
      " Volume in drive E is Data_01\n",
      " Volume Serial Number is 72D1-0BED\n",
      "\n",
      " Directory of E:\\DENR\\code\\uav_classifiers\\re\n",
      "\n",
      "04/26/2022  09:12 AM    <DIR>          .\n",
      "04/26/2022  09:12 AM    <DIR>          ..\n",
      "04/26/2022  09:12 AM    <DIR>          .ipynb_checkpoints\n",
      "08/13/2019  05:33 AM             3,840 apply_re_classifier_multi.py\n",
      "04/26/2022  09:06 AM             7,123 Band_importance_score_re_Class.pdf\n",
      "08/24/2019  10:52 AM             4,652 clip_raster.ipynb\n",
      "07/23/2019  05:27 PM           429,135 combined_training_rededge.csv\n",
      "07/29/2019  11:26 AM       148,251,934 combined_training_rededge_Result.p\n",
      "04/26/2022  09:09 AM             3,275 PP_C_RedEdge_Model_V2.py\n",
      "04/26/2022  09:12 AM            17,339 RandomForestClassifer_Micasense_rededge_development.ipynb\n",
      "04/26/2022  08:34 AM             4,871 re_training_data_prep.ipynb\n",
      "04/26/2022  09:06 AM       163,601,196 rfc_cpickle_re_20220426.p\n",
      "08/13/2019  05:40 AM             6,595 run_multi_apply_classifier.ipynb\n",
      "04/26/2022  09:12 AM                72 run_single_image_classifer.ipynb\n",
      "04/26/2022  09:06 AM                48 test_results.csv\n",
      "              12 File(s)    312,330,080 bytes\n",
      "               3 Dir(s)  1,889,328,578,560 bytes free\n"
     ]
    }
   ],
   "source": [
    "ls"
   ]
  },
  {
   "cell_type": "code",
   "execution_count": 3,
   "metadata": {},
   "outputs": [],
   "source": [
    "%run PP_C_RedEdge_Model_V2.py --reffile F:\\DENR\\grants\\scratch\\uav_tests\\wmc01_multi_test_clip.tif \\\n",
    "    --outfile F:\\DENR\\grants\\scratch\\uav_tests\\wmc01_multi_test_clip_class_test.tif \\\n",
    "        --picklefile rfc_cpickle_re_20220426_temp_test.p"
   ]
  },
  {
   "cell_type": "code",
   "execution_count": 6,
   "metadata": {},
   "outputs": [],
   "source": [
    "%run PP_C_RedEdge_Model_V2.py --reffile Z:\\Scratch\\grants\\code\\uav_classifiers\\DHMMP14_20180430_rededge_5GCPs_5cm_Cubic_Clip.tif \\\n",
    "    --outfile Z:\\Scratch\\grants\\code\\uav_classifiers\\DHMMP14_20180430_rededge_5GCPs_5cm_Cubic_Clip_class_test.tif"
   ]
  },
  {
   "cell_type": "code",
   "execution_count": null,
   "metadata": {},
   "outputs": [],
   "source": []
  }
 ],
 "metadata": {
  "kernelspec": {
   "display_name": "Python 3",
   "language": "python",
   "name": "python3"
  },
  "language_info": {
   "codemirror_mode": {
    "name": "ipython",
    "version": 3
   },
   "file_extension": ".py",
   "mimetype": "text/x-python",
   "name": "python",
   "nbconvert_exporter": "python",
   "pygments_lexer": "ipython3",
   "version": "3.7.7"
  }
 },
 "nbformat": 4,
 "nbformat_minor": 2
}
