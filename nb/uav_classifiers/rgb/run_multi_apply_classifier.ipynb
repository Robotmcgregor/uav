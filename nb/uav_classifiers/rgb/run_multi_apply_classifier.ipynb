{
 "cells": [
  {
   "cell_type": "code",
   "execution_count": 1,
   "metadata": {},
   "outputs": [
    {
     "name": "stdout",
     "output_type": "stream",
     "text": [
      "usage: apply_dji_classifier_multi_v2.py [-h] [-s IMGLIST] [-d DIREC] [-c CSV]\n",
      "\n",
      "optional arguments:\n",
      "  -h, --help            show this help message and exit\n",
      "  -s IMGLIST, --imglist IMGLIST\n",
      "                        provide the path and name of the csv file with the\n",
      "                        list of imagery to process\n",
      "  -d DIREC, --direc DIREC\n",
      "                        path to the directory containing the imagery\n",
      "  -c CSV, --csv CSV     provide the path to the directory and name of the csv\n",
      "                        file containing the results\n"
     ]
    }
   ],
   "source": [
    "%run apply_dji_classifier_multi_v2.py -h"
   ]
  },
  {
   "cell_type": "code",
   "execution_count": 3,
   "metadata": {},
   "outputs": [
    {
     "name": "stdout",
     "output_type": "stream",
     "text": [
      "E:\\UAV_FIELD_SITES\\dhmmp_split_shape\\dji\\DHMMP_Field_Sites_Site__1_dji_class.tif complete\n",
      "E:\\UAV_FIELD_SITES\\dhmmp_split_shape\\dji\\DHMMP_Field_Sites_Site__10_dji_class.tif complete\n",
      "E:\\UAV_FIELD_SITES\\dhmmp_split_shape\\dji\\DHMMP_Field_Sites_Site__11_dji_class.tif complete\n",
      "E:\\UAV_FIELD_SITES\\dhmmp_split_shape\\dji\\DHMMP_Field_Sites_Site__12_dji_class.tif complete\n",
      "E:\\UAV_FIELD_SITES\\dhmmp_split_shape\\dji\\DHMMP_Field_Sites_Site__13_dji_class.tif complete\n",
      "E:\\UAV_FIELD_SITES\\dhmmp_split_shape\\dji\\DHMMP_Field_Sites_Site__14_dji_class.tif complete\n",
      "E:\\UAV_FIELD_SITES\\dhmmp_split_shape\\dji\\DHMMP_Field_Sites_Site__15_dji_class.tif complete\n",
      "E:\\UAV_FIELD_SITES\\dhmmp_split_shape\\dji\\DHMMP_Field_Sites_Site__16_dji_class.tif complete\n",
      "E:\\UAV_FIELD_SITES\\dhmmp_split_shape\\dji\\DHMMP_Field_Sites_Site__17_dji_class.tif complete\n",
      "E:\\UAV_FIELD_SITES\\dhmmp_split_shape\\dji\\DHMMP_Field_Sites_Site__18_dji_class.tif complete\n",
      "E:\\UAV_FIELD_SITES\\dhmmp_split_shape\\dji\\DHMMP_Field_Sites_Site__19_dji_class.tif complete\n",
      "E:\\UAV_FIELD_SITES\\dhmmp_split_shape\\dji\\DHMMP_Field_Sites_Site__2_dji_class.tif complete\n",
      "E:\\UAV_FIELD_SITES\\dhmmp_split_shape\\dji\\DHMMP_Field_Sites_Site__20_dji_class.tif complete\n",
      "E:\\UAV_FIELD_SITES\\dhmmp_split_shape\\dji\\DHMMP_Field_Sites_Site__21_dji_class.tif complete\n",
      "E:\\UAV_FIELD_SITES\\dhmmp_split_shape\\dji\\DHMMP_Field_Sites_Site__22_dji_class.tif complete\n",
      "E:\\UAV_FIELD_SITES\\dhmmp_split_shape\\dji\\DHMMP_Field_Sites_Site__23_dji_class.tif complete\n",
      "E:\\UAV_FIELD_SITES\\dhmmp_split_shape\\dji\\DHMMP_Field_Sites_Site__24_dji_class.tif complete\n",
      "E:\\UAV_FIELD_SITES\\dhmmp_split_shape\\dji\\DHMMP_Field_Sites_Site__25_dji_class.tif complete\n",
      "E:\\UAV_FIELD_SITES\\dhmmp_split_shape\\dji\\DHMMP_Field_Sites_Site__26_dji_class.tif complete\n",
      "E:\\UAV_FIELD_SITES\\dhmmp_split_shape\\dji\\DHMMP_Field_Sites_Site__27_dji_class.tif complete\n",
      "E:\\UAV_FIELD_SITES\\dhmmp_split_shape\\dji\\DHMMP_Field_Sites_Site__28_dji_class.tif complete\n",
      "E:\\UAV_FIELD_SITES\\dhmmp_split_shape\\dji\\DHMMP_Field_Sites_Site__29_dji_class.tif complete\n",
      "E:\\UAV_FIELD_SITES\\dhmmp_split_shape\\dji\\DHMMP_Field_Sites_Site__3_dji_class.tif complete\n",
      "E:\\UAV_FIELD_SITES\\dhmmp_split_shape\\dji\\DHMMP_Field_Sites_Site__30_dji_class.tif complete\n",
      "E:\\UAV_FIELD_SITES\\dhmmp_split_shape\\dji\\DHMMP_Field_Sites_Site__4_dji_class.tif complete\n",
      "E:\\UAV_FIELD_SITES\\dhmmp_split_shape\\dji\\DHMMP_Field_Sites_Site__5_dji_class.tif complete\n",
      "E:\\UAV_FIELD_SITES\\dhmmp_split_shape\\dji\\DHMMP_Field_Sites_Site__6_dji_class.tif complete\n",
      "E:\\UAV_FIELD_SITES\\dhmmp_split_shape\\dji\\DHMMP_Field_Sites_Site__7_dji_class.tif complete\n",
      "E:\\UAV_FIELD_SITES\\dhmmp_split_shape\\dji\\DHMMP_Field_Sites_Site__8_dji_class.tif complete\n",
      "E:\\UAV_FIELD_SITES\\dhmmp_split_shape\\dji\\DHMMP_Field_Sites_Site__9_dji_class.tif complete\n"
     ]
    }
   ],
   "source": [
    "%run apply_dji_classifier_multi_v2.py -s E:\\UAV_FIELD_SITES\\dhmmp_split_shape\\dji\\tif_list.csv \\\n",
    "-d E:\\UAV_FIELD_SITES\\dhmmp_split_shape\\dji\\ \\\n",
    "    -c E:\\UAV_FIELD_SITES\\dhmmp_split_shape\\dji\\dhmmp_dji_uav_field_PVm_PVc_PVs.csv"
   ]
  },
  {
   "cell_type": "code",
   "execution_count": 4,
   "metadata": {},
   "outputs": [
    {
     "name": "stdout",
     "output_type": "stream",
     "text": [
      "D:\\uav_imagery\\gulf_field_site_chips\\dji\\Gulf_sites_10m_all_site__1ant01_dji_class.tif complete\n",
      "D:\\uav_imagery\\gulf_field_site_chips\\dji\\Gulf_sites_10m_all_site__1ant02_dji_class.tif complete\n",
      "D:\\uav_imagery\\gulf_field_site_chips\\dji\\Gulf_sites_10m_all_site__1ant03_dji_class.tif complete\n",
      "D:\\uav_imagery\\gulf_field_site_chips\\dji\\Gulf_sites_10m_all_site__1ant04_dji_class.tif complete\n",
      "D:\\uav_imagery\\gulf_field_site_chips\\dji\\Gulf_sites_10m_all_site__1ant05_dji_class.tif complete\n",
      "D:\\uav_imagery\\gulf_field_site_chips\\dji\\Gulf_sites_10m_all_site__1bnt_01_dji_class.tif complete\n",
      "D:\\uav_imagery\\gulf_field_site_chips\\dji\\Gulf_sites_10m_all_site__1bnt_02_dji_class.tif complete\n",
      "D:\\uav_imagery\\gulf_field_site_chips\\dji\\Gulf_sites_10m_all_site__1bnt_03_dji_class.tif complete\n",
      "D:\\uav_imagery\\gulf_field_site_chips\\dji\\Gulf_sites_10m_all_site__2ANT_01_dji_class.tif complete\n",
      "D:\\uav_imagery\\gulf_field_site_chips\\dji\\Gulf_sites_10m_all_site__2ANT_02_dji_class.tif complete\n",
      "D:\\uav_imagery\\gulf_field_site_chips\\dji\\Gulf_sites_10m_all_site__2ANT_03_dji_class.tif complete\n",
      "D:\\uav_imagery\\gulf_field_site_chips\\dji\\Gulf_sites_10m_all_site__2ANT_04_dji_class.tif complete\n",
      "D:\\uav_imagery\\gulf_field_site_chips\\dji\\Gulf_sites_10m_all_site__2ANT_05_dji_class.tif complete\n",
      "D:\\uav_imagery\\gulf_field_site_chips\\dji\\Gulf_sites_10m_all_site__2BNT_01_dji_class.tif complete\n",
      "D:\\uav_imagery\\gulf_field_site_chips\\dji\\Gulf_sites_10m_all_site__2BNT_02_dji_class.tif complete\n",
      "D:\\uav_imagery\\gulf_field_site_chips\\dji\\Gulf_sites_10m_all_site__2BNT_03_dji_class.tif complete\n",
      "D:\\uav_imagery\\gulf_field_site_chips\\dji\\Gulf_sites_10m_all_site__2BNT_04_dji_class.tif complete\n",
      "D:\\uav_imagery\\gulf_field_site_chips\\dji\\Gulf_sites_10m_all_site__2BNT_05_dji_class.tif complete\n",
      "D:\\uav_imagery\\gulf_field_site_chips\\dji\\Gulf_sites_10m_all_site__2BNT_06_dji_class.tif complete\n"
     ]
    }
   ],
   "source": [
    "%run apply_dji_classifier_multi_v2.py -s D:\\uav_imagery\\gulf_field_site_chips\\dji\\tif_list_dji.csv \\\n",
    "-d D:\\uav_imagery\\gulf_field_site_chips\\dji\\ \\\n",
    "    -c D:\\uav_imagery\\gulf_field_site_chips\\dji\\gulf_dji_uav_field_PVm_PVc_PVs.csv.csv"
   ]
  },
  {
   "cell_type": "code",
   "execution_count": 2,
   "metadata": {},
   "outputs": [
    {
     "name": "stdout",
     "output_type": "stream",
     "text": [
      "E:/UAV_FIELD_SITES/dji/DHMMP01_20180403_dji_5GCPs_2cm_Clip_dji_class.tif complete\n",
      "E:/UAV_FIELD_SITES/dji/DHMMP02_20180403_dji_5GCPs_2cm_Clip_dji_class.tif complete\n",
      "E:/UAV_FIELD_SITES/dji/DHMMP03_20180604_dji_5GCPs_2cm_Clip_dji_class.tif complete\n",
      "E:/UAV_FIELD_SITES/dji/DHMMP04_20180604_dji_5GCPs_2cm_Clip_dji_class.tif complete\n",
      "E:/UAV_FIELD_SITES/dji/DHMMP05_20180411_dji_5GCPs_2cm_Clip_dji_class.tif complete\n",
      "E:/UAV_FIELD_SITES/dji/DHMMP06_20180411_dji_5GCPs_2cm_Clip_dji_class.tif complete\n",
      "E:/UAV_FIELD_SITES/dji/DHMMP07_20180417_dji_5GCPs_2cm_Clip_dji_class.tif complete\n",
      "E:/UAV_FIELD_SITES/dji/DHMMP08_20180417_dji_5GCPs_2cm_Clip_dji_class.tif complete\n",
      "E:/UAV_FIELD_SITES/dji/DHMMP09_20180417_dji_5GCPs_2cm_Clip_dji_class.tif complete\n",
      "E:/UAV_FIELD_SITES/dji/DHMMP10_2_20180426_dji_5GCPs_2cm_Clip_dji_class.tif complete\n",
      "E:/UAV_FIELD_SITES/dji/DHMMP11_20180426_dji_5GCPs_2cm_Clip_dji_class.tif complete\n",
      "E:/UAV_FIELD_SITES/dji/DHMMP12_20180426_dji_5GCPs_2cm_Clip_dji_class.tif complete\n",
      "E:/UAV_FIELD_SITES/dji/DHMMP13_20180430_dji_5GCPs_2cm_Clip_dji_class.tif complete\n",
      "E:/UAV_FIELD_SITES/dji/DHMMP14_20180430_dji_5GCPs_2cm_Clip_dji_class.tif complete\n",
      "E:/UAV_FIELD_SITES/dji/DHMMP15_20180626_dji_5GCPs_2cm_Clip_dji_class.tif complete\n",
      "E:/UAV_FIELD_SITES/dji/DHMMP16_20180626_dji_5GCPs_2cm_Clip_dji_class.tif complete\n",
      "E:/UAV_FIELD_SITES/dji/DHMMP17_20180626_dji_5GCPs_2cm_Clip_dji_class.tif complete\n",
      "E:/UAV_FIELD_SITES/dji/DHMMP18_20180628_dji_5GCPs_2cm_Clip_dji_class.tif complete\n",
      "E:/UAV_FIELD_SITES/dji/DHMMP19_2_20180628_dji_5GCPs_2cm_Clip_dji_class.tif complete\n",
      "E:/UAV_FIELD_SITES/dji/DHMMP20_20180711_dji_5GCPS_2cm_Clip_dji_class.tif complete\n",
      "E:/UAV_FIELD_SITES/dji/DHMMP21_20180711_dji_5GCPS_2cm_Clip_dji_class.tif complete\n",
      "E:/UAV_FIELD_SITES/dji/DHMMP22_20180711_dji_5GCPs_2cm_Clip_dji_class.tif complete\n",
      "E:/UAV_FIELD_SITES/dji/DHMMP23_20180808_dji_5GCPs_2cm_Clip_dji_class.tif complete\n",
      "E:/UAV_FIELD_SITES/dji/DHMMP24_20180808_dji_5GCPs_2cm_Clip_dji_class.tif complete\n",
      "E:/UAV_FIELD_SITES/dji/DHMMP25_20180808_dji_5GCPs_2cm_Clip_dji_class.tif complete\n",
      "E:/UAV_FIELD_SITES/dji/DHMMP26_20190528_dji_5GCPs_2cm_Clip_dji_class.tif complete\n",
      "E:/UAV_FIELD_SITES/dji/DHMMP27_20190528_dji_5GCPs_2cm_Clip_dji_class.tif complete\n",
      "E:/UAV_FIELD_SITES/dji/DHMMP28_20190529_dji_5GCPs_2cm_Clip_dji_class.tif complete\n",
      "E:/UAV_FIELD_SITES/dji/DHMMP29_20190529_dji_5GCPs_2cm_Clip_dji_class.tif complete\n",
      "E:/UAV_FIELD_SITES/dji/DHMMP30_20190528_dji_5GCPs_2cm_Clip_dji_class.tif complete\n"
     ]
    }
   ],
   "source": [
    "%run apply_dji_classifier_multi_v2.py -s E:/UAV_FIELD_SITES/dji/tif_list.csv \\\n",
    "-d E:/UAV_FIELD_SITES/dji/ \\\n",
    "    -c E:/UAV_FIELD_SITES/dji/dji_uav_field_green.csv"
   ]
  },
  {
   "cell_type": "code",
   "execution_count": 1,
   "metadata": {},
   "outputs": [
    {
     "name": "stdout",
     "output_type": "stream",
     "text": [
      "usage: PP_C_DJI_Model_V2.py [-h] [--reffile REFFILE] [--outfile OUTFILE]\n",
      "                            [--picklefile PICKLEFILE]\n",
      "\n",
      "optional arguments:\n",
      "  -h, --help            show this help message and exit\n",
      "  --reffile REFFILE     Input the image\n",
      "  --outfile OUTFILE     Name of output file\n",
      "  --picklefile PICKLEFILE\n",
      "                        Input pickle file (default is\n",
      "                        combined_training_dji_Result.p)\n"
     ]
    }
   ],
   "source": [
    "%run PP_C_DJI_Model_V2.py --reffile  "
   ]
  },
  {
   "cell_type": "code",
   "execution_count": null,
   "metadata": {},
   "outputs": [],
   "source": []
  }
 ],
 "metadata": {
  "kernelspec": {
   "display_name": "Python 3",
   "language": "python",
   "name": "python3"
  },
  "language_info": {
   "codemirror_mode": {
    "name": "ipython",
    "version": 3
   },
   "file_extension": ".py",
   "mimetype": "text/x-python",
   "name": "python",
   "nbconvert_exporter": "python",
   "pygments_lexer": "ipython3",
   "version": "3.7.4"
  }
 },
 "nbformat": 4,
 "nbformat_minor": 2
}
