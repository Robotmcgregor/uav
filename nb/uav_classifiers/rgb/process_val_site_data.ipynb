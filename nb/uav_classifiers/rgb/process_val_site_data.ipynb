{
 "cells": [
  {
   "cell_type": "code",
   "execution_count": 14,
   "metadata": {},
   "outputs": [
    {
     "data": {
      "text/plain": [
       "'E:/dji_classifer/validation/f9/f9_30m_re/shp_list.csv'"
      ]
     },
     "execution_count": 14,
     "metadata": {},
     "output_type": "execute_result"
    }
   ],
   "source": [
    "path = r\"E:/dji_classifer/validation/f9/f9_30m_re/\"\n",
    "\n",
    "shp_list_output = path + r\"shp_list.csv\"\n",
    "\n",
    "shp_list_output"
   ]
  },
  {
   "cell_type": "code",
   "execution_count": 18,
   "metadata": {},
   "outputs": [
    {
     "name": "stdout",
     "output_type": "stream",
     "text": [
      "E:\\dji_classifer\\validation\\f10\\f10_30m_re\\grdf10_02_ID__12.shp\n",
      "E:\\dji_classifer\\validation\\f10\\f10_30m_re\\grdf10_02_ID__13.shp\n",
      "E:\\dji_classifer\\validation\\f10\\f10_30m_re\\grdf10_02_ID__14.shp\n",
      "E:\\dji_classifer\\validation\\f10\\f10_30m_re\\grdf10_02_ID__15.shp\n",
      "E:\\dji_classifer\\validation\\f10\\f10_30m_re\\grdf10_02_ID__25.shp\n",
      "E:\\dji_classifer\\validation\\f10\\f10_30m_re\\grdf10_02_ID__26.shp\n",
      "E:\\dji_classifer\\validation\\f10\\f10_30m_re\\grdf10_02_ID__32.shp\n",
      "E:\\dji_classifer\\validation\\f10\\f10_30m_re\\grdf10_02_ID__33.shp\n",
      "E:\\dji_classifer\\validation\\f10\\f10_30m_re\\grdf10_02_ID__35.shp\n",
      "E:\\dji_classifer\\validation\\f10\\f10_30m_re\\grdf10_02_ID__36.shp\n",
      "E:\\dji_classifer\\validation\\f10\\f10_30m_re\\grdf10_02_ID__42.shp\n",
      "E:\\dji_classifer\\validation\\f10\\f10_30m_re\\grdf10_02_ID__43.shp\n",
      "E:\\dji_classifer\\validation\\f10\\f10_30m_re\\grdf10_02_ID__46.shp\n",
      "E:\\dji_classifer\\validation\\f10\\f10_30m_re\\grdf10_02_ID__52.shp\n",
      "E:\\dji_classifer\\validation\\f10\\f10_30m_re\\grdf10_02_ID__53.shp\n",
      "E:\\dji_classifer\\validation\\f10\\f10_30m_re\\grdf10_02_ID__54.shp\n",
      "E:\\dji_classifer\\validation\\f10\\f10_30m_re\\grdf10_02_ID__62.shp\n",
      "E:\\dji_classifer\\validation\\f10\\f10_30m_re\\grdf10_02_ID__63.shp\n",
      "E:\\dji_classifer\\validation\\f10\\f10_30m_re\\grdf10_02_ID__64.shp\n",
      "E:\\dji_classifer\\validation\\f10\\f10_30m_re\\grdf10_02_ID__65.shp\n",
      "E:\\dji_classifer\\validation\\f10\\f10_30m_re\\grdf10_02_ID__66.shp\n",
      "E:\\dji_classifer\\validation\\f10\\f10_30m_re\\grdf10_02_ID__72.shp\n",
      "E:\\dji_classifer\\validation\\f10\\f10_30m_re\\grdf10_02_ID__73.shp\n",
      "E:\\dji_classifer\\validation\\f10\\f10_30m_re\\grdf10_02_ID__74.shp\n",
      "E:\\dji_classifer\\validation\\f10\\f10_30m_re\\grdf10_02_ID__75.shp\n",
      "E:\\dji_classifer\\validation\\f10\\f10_30m_re\\grdf10_02_ID__76.shp\n"
     ]
    }
   ],
   "source": [
    "%run C:/Users/grants/code/file_management/list_of_files_multi_dir.py --direc E:\\dji_classifer\\validation\\f10\\f10_30m_re --endfilen .shp \\\n",
    "    --txtfile E:\\dji_classifer\\validation\\f10\\f10_30m_re\\shp_list.csv  "
   ]
  },
  {
   "cell_type": "code",
   "execution_count": 19,
   "metadata": {},
   "outputs": [
    {
     "name": "stdout",
     "output_type": "stream",
     "text": [
      "E:/dji_classifer/validation/f10/f10_30m_re/clip_list.csv\n"
     ]
    }
   ],
   "source": [
    "import pandas as pd\n",
    "\n",
    "\"\"\"\n",
    "read in the list of shapefiles and clean up the list to input \n",
    "into the multi clip script\n",
    "\"\"\"\n",
    "\n",
    "# provide the path to the folder with the list of shapfiles\n",
    "path = r\"E:/dji_classifer/validation/f10/f10_30m_re/\"\n",
    "\n",
    "# provide the path and name of the raster imagery being clipped.\n",
    "img = r\"U:\\Working\\Land_veg\\AA_Vegetation\\INPEX_project\\PP_C_2019\\UAV_PD\\f10\\RE\\Flight10_20180711_rededge_GCPs_5cm_Cubic\\Flight10_20180711_rededge_GCPs_5cm_Cubic.tif\"\n",
    "\n",
    "data = path + r\"shp_list.csv\"\n",
    "\n",
    "clip_list = pd.read_csv(data, header=None)\n",
    "clip_list['img'] = img\n",
    "clip_list.columns=['shp','img']\n",
    "clip_list.head(3)\n",
    "clip_list_final = clip_list[['img','shp']]\n",
    "path = data[:-12]\n",
    "\n",
    "print (path + 'clip_list.csv')\n",
    "clip_list_final.to_csv(path + 'clip_list.csv')"
   ]
  },
  {
   "cell_type": "code",
   "execution_count": null,
   "metadata": {},
   "outputs": [],
   "source": []
  }
 ],
 "metadata": {
  "kernelspec": {
   "display_name": "Python 3",
   "language": "python",
   "name": "python3"
  },
  "language_info": {
   "codemirror_mode": {
    "name": "ipython",
    "version": 3
   },
   "file_extension": ".py",
   "mimetype": "text/x-python",
   "name": "python",
   "nbconvert_exporter": "python",
   "pygments_lexer": "ipython3",
   "version": "3.6.3"
  }
 },
 "nbformat": 4,
 "nbformat_minor": 2
}
