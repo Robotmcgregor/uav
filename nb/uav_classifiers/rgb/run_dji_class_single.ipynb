{
 "cells": [
  {
   "cell_type": "code",
   "execution_count": 1,
   "metadata": {},
   "outputs": [
    {
     "name": "stdout",
     "output_type": "stream",
     "text": [
      " Volume in drive E is Data_01\n",
      " Volume Serial Number is 72D1-0BED\n",
      "\n",
      " Directory of E:\\DENR\\code\\uav_classifiers\\rgb\n",
      "\n",
      "04/22/2022  08:31 AM    <DIR>          .\n",
      "04/22/2022  08:31 AM    <DIR>          ..\n",
      "04/22/2022  08:31 AM    <DIR>          .ipynb_checkpoints\n",
      "08/13/2019  02:27 PM             3,823 apply_dji_classifier_multi_v2.py\n",
      "07/23/2019  05:27 PM           135,211 combined_training_dji.csv\n",
      "02/05/2020  01:31 PM       258,475,038 combined_training_dji_20200205.p\n",
      "02/05/2020  01:31 PM                96 combined_training_dji_importance_score.csv\n",
      "07/23/2019  06:05 PM       258,555,596 combined_training_dji_Result.p\n",
      "07/23/2019  06:06 PM             2,715 PP_C_DJI_Model_V2.py\n",
      "07/19/2019  12:53 PM             4,833 process_val_site_data.ipynb\n",
      "04/01/2022  02:09 PM            29,606 RandomForestClassifer_DJI_model_development.ipynb\n",
      "04/22/2022  08:30 AM                72 run_dji_class_single.ipynb\n",
      "04/01/2022  02:13 PM            11,679 run_multi_apply_classifier.ipynb\n",
      "07/23/2019  06:06 PM             3,800 Sklearn_Random_Forest_Classifier_DJI_Model.py\n",
      "              11 File(s)    517,222,469 bytes\n",
      "               3 Dir(s)  1,889,712,472,064 bytes free\n"
     ]
    }
   ],
   "source": [
    "ls"
   ]
  },
  {
   "cell_type": "code",
   "execution_count": 2,
   "metadata": {},
   "outputs": [],
   "source": [
    "%run PP_C_DJI_Model_V2.py --reffile F:\\DENR\\grants\\scratch\\uav_tests\\dvn02_clip.tif \\\n",
    "    --outfile F:\\DENR\\grants\\scratch\\uav_tests\\dvn02_clip_class2.tif"
   ]
  },
  {
   "cell_type": "code",
   "execution_count": 1,
   "metadata": {},
   "outputs": [
    {
     "name": "stdout",
     "output_type": "stream",
     "text": [
      "usage: PP_C_DJI_Model_V2.py [-h] [--reffile REFFILE] [--outfile OUTFILE]\n",
      "                            [--picklefile PICKLEFILE]\n",
      "\n",
      "optional arguments:\n",
      "  -h, --help            show this help message and exit\n",
      "  --reffile REFFILE     Input the image\n",
      "  --outfile OUTFILE     Name of output file\n",
      "  --picklefile PICKLEFILE\n",
      "                        Input pickle file (default is\n",
      "                        combined_training_dji_Result.p)\n"
     ]
    }
   ],
   "source": [
    "%run PP_C_DJI_Model_V2.py"
   ]
  },
  {
   "cell_type": "code",
   "execution_count": null,
   "metadata": {},
   "outputs": [],
   "source": []
  }
 ],
 "metadata": {
  "kernelspec": {
   "display_name": "Python 3",
   "language": "python",
   "name": "python3"
  },
  "language_info": {
   "codemirror_mode": {
    "name": "ipython",
    "version": 3
   },
   "file_extension": ".py",
   "mimetype": "text/x-python",
   "name": "python",
   "nbconvert_exporter": "python",
   "pygments_lexer": "ipython3",
   "version": "3.7.4"
  }
 },
 "nbformat": 4,
 "nbformat_minor": 2
}
