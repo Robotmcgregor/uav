{
 "cells": [
  {
   "cell_type": "markdown",
   "metadata": {},
   "source": [
    "# UAV photo separator"
   ]
  },
  {
   "cell_type": "markdown",
   "metadata": {},
   "source": [
    "**Notebook description**: This notebook should be run using output shapefiles created from the ArcMap geotag photo tool. This notebook reads in a geotag photo tool export shapefile and creates a csv with a list of images one per row and copies the photos into a newly created directory “variable” parameter input.\n",
    "\n",
    "\n",
    "**When to use this notebook**: This notebook should be used when a UAV capture is too large to process without separating the flights (i.e. >7000 images for Alienware 557). Separating flights this way may result in better outputs.\n"
   ]
  },
  {
   "cell_type": "code",
   "execution_count": 47,
   "metadata": {},
   "outputs": [],
   "source": [
    "import geopandas as gpd\n",
    "import csv\n",
    "import os\n",
    "import shutil"
   ]
  },
  {
   "cell_type": "code",
   "execution_count": 51,
   "metadata": {},
   "outputs": [],
   "source": [
    "# input shapefile\n",
    "file_path = r\"L:\\uav\\2022\\gry01\\Export_OutputN.shp\"\n",
    "\n",
    "# output location\n",
    "export_dir_path = r\"L:\\uav\\2022\\gry01\"\n",
    "\n",
    "# Variable name for directory and output files\n",
    "variable = \"gry01_north\""
   ]
  },
  {
   "cell_type": "code",
   "execution_count": 52,
   "metadata": {},
   "outputs": [],
   "source": [
    "gdf = gpd.read_file(file_path)"
   ]
  },
  {
   "cell_type": "code",
   "execution_count": 53,
   "metadata": {},
   "outputs": [
    {
     "data": {
      "text/html": [
       "<div>\n",
       "<style scoped>\n",
       "    .dataframe tbody tr th:only-of-type {\n",
       "        vertical-align: middle;\n",
       "    }\n",
       "\n",
       "    .dataframe tbody tr th {\n",
       "        vertical-align: top;\n",
       "    }\n",
       "\n",
       "    .dataframe thead th {\n",
       "        text-align: right;\n",
       "    }\n",
       "</style>\n",
       "<table border=\"1\" class=\"dataframe\">\n",
       "  <thead>\n",
       "    <tr style=\"text-align: right;\">\n",
       "      <th></th>\n",
       "      <th>OBJECTID</th>\n",
       "      <th>Path</th>\n",
       "      <th>Name</th>\n",
       "      <th>DateTime</th>\n",
       "      <th>Direction</th>\n",
       "      <th>geometry</th>\n",
       "    </tr>\n",
       "  </thead>\n",
       "  <tbody>\n",
       "    <tr>\n",
       "      <th>0</th>\n",
       "      <td>1</td>\n",
       "      <td>L:\\uav\\2022\\gry01\\raw\\gry01_0001.tif</td>\n",
       "      <td>gry01_0001.tif</td>\n",
       "      <td>2022:05:24 10:23:55</td>\n",
       "      <td>-9999.0</td>\n",
       "      <td>POINT Z (130.35943 -16.10858 319.70100)</td>\n",
       "    </tr>\n",
       "    <tr>\n",
       "      <th>1</th>\n",
       "      <td>2</td>\n",
       "      <td>L:\\uav\\2022\\gry01\\raw\\gry01_0002.tif</td>\n",
       "      <td>gry01_0002.tif</td>\n",
       "      <td>2022:05:24 10:23:55</td>\n",
       "      <td>-9999.0</td>\n",
       "      <td>POINT Z (130.35943 -16.10858 319.71600)</td>\n",
       "    </tr>\n",
       "    <tr>\n",
       "      <th>2</th>\n",
       "      <td>3</td>\n",
       "      <td>L:\\uav\\2022\\gry01\\raw\\gry01_0003.tif</td>\n",
       "      <td>gry01_0003.tif</td>\n",
       "      <td>2022:05:24 10:23:55</td>\n",
       "      <td>-9999.0</td>\n",
       "      <td>POINT Z (130.35943 -16.10858 319.70000)</td>\n",
       "    </tr>\n",
       "    <tr>\n",
       "      <th>3</th>\n",
       "      <td>4</td>\n",
       "      <td>L:\\uav\\2022\\gry01\\raw\\gry01_0004.tif</td>\n",
       "      <td>gry01_0004.tif</td>\n",
       "      <td>2022:05:24 10:23:55</td>\n",
       "      <td>-9999.0</td>\n",
       "      <td>POINT Z (130.35943 -16.10858 319.71500)</td>\n",
       "    </tr>\n",
       "    <tr>\n",
       "      <th>4</th>\n",
       "      <td>5</td>\n",
       "      <td>L:\\uav\\2022\\gry01\\raw\\gry01_0005.tif</td>\n",
       "      <td>gry01_0005.tif</td>\n",
       "      <td>2022:05:24 10:23:55</td>\n",
       "      <td>-9999.0</td>\n",
       "      <td>POINT Z (130.35943 -16.10858 319.71500)</td>\n",
       "    </tr>\n",
       "    <tr>\n",
       "      <th>...</th>\n",
       "      <td>...</td>\n",
       "      <td>...</td>\n",
       "      <td>...</td>\n",
       "      <td>...</td>\n",
       "      <td>...</td>\n",
       "      <td>...</td>\n",
       "    </tr>\n",
       "    <tr>\n",
       "      <th>4495</th>\n",
       "      <td>6766</td>\n",
       "      <td>L:\\uav\\2022\\gry01\\raw\\gry01_6766.tif</td>\n",
       "      <td>gry01_6766.tif</td>\n",
       "      <td>2022:05:24 13:59:39</td>\n",
       "      <td>-9999.0</td>\n",
       "      <td>POINT Z (130.35576 -16.11098 326.50900)</td>\n",
       "    </tr>\n",
       "    <tr>\n",
       "      <th>4496</th>\n",
       "      <td>6767</td>\n",
       "      <td>L:\\uav\\2022\\gry01\\raw\\gry01_6767.tif</td>\n",
       "      <td>gry01_6767.tif</td>\n",
       "      <td>2022:05:24 13:59:39</td>\n",
       "      <td>-9999.0</td>\n",
       "      <td>POINT Z (130.35576 -16.11098 326.52400)</td>\n",
       "    </tr>\n",
       "    <tr>\n",
       "      <th>4497</th>\n",
       "      <td>6768</td>\n",
       "      <td>L:\\uav\\2022\\gry01\\raw\\gry01_6768.tif</td>\n",
       "      <td>gry01_6768.tif</td>\n",
       "      <td>2022:05:24 13:59:39</td>\n",
       "      <td>-9999.0</td>\n",
       "      <td>POINT Z (130.35576 -16.11098 326.51000)</td>\n",
       "    </tr>\n",
       "    <tr>\n",
       "      <th>4498</th>\n",
       "      <td>6769</td>\n",
       "      <td>L:\\uav\\2022\\gry01\\raw\\gry01_6769.tif</td>\n",
       "      <td>gry01_6769.tif</td>\n",
       "      <td>2022:05:24 13:59:39</td>\n",
       "      <td>-9999.0</td>\n",
       "      <td>POINT Z (130.35576 -16.11098 326.52500)</td>\n",
       "    </tr>\n",
       "    <tr>\n",
       "      <th>4499</th>\n",
       "      <td>6770</td>\n",
       "      <td>L:\\uav\\2022\\gry01\\raw\\gry01_6770.tif</td>\n",
       "      <td>gry01_6770.tif</td>\n",
       "      <td>2022:05:24 13:59:39</td>\n",
       "      <td>-9999.0</td>\n",
       "      <td>POINT Z (130.35576 -16.11098 326.52500)</td>\n",
       "    </tr>\n",
       "  </tbody>\n",
       "</table>\n",
       "<p>4500 rows × 6 columns</p>\n",
       "</div>"
      ],
      "text/plain": [
       "      OBJECTID                                  Path            Name  \\\n",
       "0            1  L:\\uav\\2022\\gry01\\raw\\gry01_0001.tif  gry01_0001.tif   \n",
       "1            2  L:\\uav\\2022\\gry01\\raw\\gry01_0002.tif  gry01_0002.tif   \n",
       "2            3  L:\\uav\\2022\\gry01\\raw\\gry01_0003.tif  gry01_0003.tif   \n",
       "3            4  L:\\uav\\2022\\gry01\\raw\\gry01_0004.tif  gry01_0004.tif   \n",
       "4            5  L:\\uav\\2022\\gry01\\raw\\gry01_0005.tif  gry01_0005.tif   \n",
       "...        ...                                   ...             ...   \n",
       "4495      6766  L:\\uav\\2022\\gry01\\raw\\gry01_6766.tif  gry01_6766.tif   \n",
       "4496      6767  L:\\uav\\2022\\gry01\\raw\\gry01_6767.tif  gry01_6767.tif   \n",
       "4497      6768  L:\\uav\\2022\\gry01\\raw\\gry01_6768.tif  gry01_6768.tif   \n",
       "4498      6769  L:\\uav\\2022\\gry01\\raw\\gry01_6769.tif  gry01_6769.tif   \n",
       "4499      6770  L:\\uav\\2022\\gry01\\raw\\gry01_6770.tif  gry01_6770.tif   \n",
       "\n",
       "                 DateTime  Direction                                 geometry  \n",
       "0     2022:05:24 10:23:55    -9999.0  POINT Z (130.35943 -16.10858 319.70100)  \n",
       "1     2022:05:24 10:23:55    -9999.0  POINT Z (130.35943 -16.10858 319.71600)  \n",
       "2     2022:05:24 10:23:55    -9999.0  POINT Z (130.35943 -16.10858 319.70000)  \n",
       "3     2022:05:24 10:23:55    -9999.0  POINT Z (130.35943 -16.10858 319.71500)  \n",
       "4     2022:05:24 10:23:55    -9999.0  POINT Z (130.35943 -16.10858 319.71500)  \n",
       "...                   ...        ...                                      ...  \n",
       "4495  2022:05:24 13:59:39    -9999.0  POINT Z (130.35576 -16.11098 326.50900)  \n",
       "4496  2022:05:24 13:59:39    -9999.0  POINT Z (130.35576 -16.11098 326.52400)  \n",
       "4497  2022:05:24 13:59:39    -9999.0  POINT Z (130.35576 -16.11098 326.51000)  \n",
       "4498  2022:05:24 13:59:39    -9999.0  POINT Z (130.35576 -16.11098 326.52500)  \n",
       "4499  2022:05:24 13:59:39    -9999.0  POINT Z (130.35576 -16.11098 326.52500)  \n",
       "\n",
       "[4500 rows x 6 columns]"
      ]
     },
     "execution_count": 53,
     "metadata": {},
     "output_type": "execute_result"
    }
   ],
   "source": [
    "gdf"
   ]
  },
  {
   "cell_type": "code",
   "execution_count": 54,
   "metadata": {},
   "outputs": [],
   "source": [
    "dir_path = os.path.join(export_dir_path, variable)\n",
    "if not os.path.isdir(dir_path):\n",
    "    \n",
    "    os.mkdir(os.path.join(dir_path))"
   ]
  },
  {
   "cell_type": "code",
   "execution_count": 55,
   "metadata": {},
   "outputs": [],
   "source": [
    "list_name = gdf.Name.unique().tolist()"
   ]
  },
  {
   "cell_type": "code",
   "execution_count": 56,
   "metadata": {},
   "outputs": [],
   "source": [
    "def output_csv_fn(list_image, export_dir_path, variable):\n",
    "    \"\"\" Return a csv containing each file paths stored in the list_image variable (1 path per line).\n",
    "\n",
    "    @param list_image: list object containing the path to all rainfall images within the rainfall directory that meet\n",
    "    the search criteria - created under the list_dir_fn function.\n",
    "    @param export_dir_path: string object containing the path to the export directory.\n",
    "    @return export_: string object containing the path to the populated csv.\n",
    "    \"\"\"\n",
    "    # assumes that file_list is a flat list, it adds a new path in a new row, producing multiple observations.\n",
    "    export_ = (export_dir_path + '\\\\{0}_image_list.csv'.format(variable))\n",
    "    with open(export_, \"w\") as output:\n",
    "        writer = csv.writer(output, lineterminator='\\n')\n",
    "        for file in list_image:\n",
    "            writer.writerow([file])\n",
    "\n",
    "    return export_"
   ]
  },
  {
   "cell_type": "code",
   "execution_count": 57,
   "metadata": {},
   "outputs": [],
   "source": [
    "# Create csv list of images"
   ]
  },
  {
   "cell_type": "code",
   "execution_count": 58,
   "metadata": {},
   "outputs": [
    {
     "data": {
      "text/plain": [
       "'L:\\\\uav\\\\2022\\\\gry01\\\\gry01_north_image_list.csv'"
      ]
     },
     "execution_count": 58,
     "metadata": {},
     "output_type": "execute_result"
    }
   ],
   "source": [
    "output_csv_fn(list_name, export_dir_path, variable)"
   ]
  },
  {
   "cell_type": "code",
   "execution_count": 59,
   "metadata": {},
   "outputs": [],
   "source": [
    "# Loop through and copy photos to new output directory\n",
    "\n",
    "for name, path_ in zip(gdf.Name.unique(), gdf.Path.unique()):\n",
    "    shutil.copy(path_, os.path.join(dir_path, name))\n",
    "    "
   ]
  }
 ],
 "metadata": {
  "kernelspec": {
   "display_name": "Python 3",
   "language": "python",
   "name": "python3"
  },
  "language_info": {
   "codemirror_mode": {
    "name": "ipython",
    "version": 3
   },
   "file_extension": ".py",
   "mimetype": "text/x-python",
   "name": "python",
   "nbconvert_exporter": "python",
   "pygments_lexer": "ipython3",
   "version": "3.7.7"
  }
 },
 "nbformat": 4,
 "nbformat_minor": 4
}
