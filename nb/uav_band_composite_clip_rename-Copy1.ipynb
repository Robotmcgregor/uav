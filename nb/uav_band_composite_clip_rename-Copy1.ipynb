{
 "cells": [
  {
   "cell_type": "markdown",
   "metadata": {},
   "source": [
    "# UAV product workflow"
   ]
  },
  {
   "cell_type": "markdown",
   "metadata": {},
   "source": [
    "In order for UAV data to be published in the DEPWS spatial library UAV data procedures require that the data has been processed using the approved methodology, and that the final product has been composited (where applicable) clipped, renamed with meta data updated.\n",
    "\n",
    "This notebook facilities the processing of UAV images by:\n",
    " - Compositing grayscale images form the multispectral camera\n",
    " - Clipping images with an extent vector\n",
    " - Renaming the output in the required format\n",
    " - Updating final product metadata."
   ]
  },
  {
   "cell_type": "markdown",
   "metadata": {},
   "source": [
    "## Import modules"
   ]
  },
  {
   "cell_type": "code",
   "execution_count": null,
   "metadata": {},
   "outputs": [],
   "source": [
    "import os\n",
    "import shutil\n",
    "import gdal\n",
    "import numpy as np\n",
    "from osgeo import gdal, gdalconst"
   ]
  },
  {
   "cell_type": "code",
   "execution_count": null,
   "metadata": {},
   "outputs": [],
   "source": [
    "site = \"dhm02\"\n",
    "dir_ = \"mosaic_g\"\n",
    "directory = r\"D:\\uav\\2022\""
   ]
  },
  {
   "cell_type": "code",
   "execution_count": null,
   "metadata": {},
   "outputs": [],
   "source": [
    "os.chdir(r\"{0}\\{1}\\{2}\".format(directory, site, dir_))"
   ]
  },
  {
   "cell_type": "code",
   "execution_count": null,
   "metadata": {},
   "outputs": [],
   "source": [
    "ls"
   ]
  },
  {
   "cell_type": "markdown",
   "metadata": {},
   "source": [
    "## Composite greyscale images"
   ]
  },
  {
   "cell_type": "code",
   "execution_count": null,
   "metadata": {},
   "outputs": [],
   "source": [
    "#cd Z:\\Scratch\\Rob\\code\\draft\\uav\\uav_composite_image"
   ]
  },
  {
   "cell_type": "code",
   "execution_count": null,
   "metadata": {},
   "outputs": [],
   "source": [
    "cd D:\\code\\uav_composite_image"
   ]
  },
  {
   "cell_type": "markdown",
   "metadata": {},
   "source": [
    "### Composite Multi band UAV images"
   ]
  },
  {
   "cell_type": "code",
   "execution_count": null,
   "metadata": {},
   "outputs": [],
   "source": [
    "%run run_composite_multi_bands_image.py \\\n",
    "--directory Z:\\Scratch\\uav\\2022\\wmc03\\mosaic_n  \\\n",
    "    --outfile Z:\\Scratch\\uav\\2022\\wmc03\\mosaic_n\\p4cj_wmc03_20220402_recnm3.tif"
   ]
  },
  {
   "cell_type": "markdown",
   "metadata": {},
   "source": [
    "## Clip raster with extent shapefile"
   ]
  },
  {
   "cell_type": "code",
   "execution_count": null,
   "metadata": {},
   "outputs": [],
   "source": [
    "os.listdir(r\"{0}\\{1}\\mosaic_g\".format(directory, site))"
   ]
  },
  {
   "cell_type": "code",
   "execution_count": null,
   "metadata": {},
   "outputs": [],
   "source": [
    "if not os.path.isdir(r\"{0}\\{1}\\shp\".format(directory, site)):   \n",
    "    os.mkdir(r\"{0}\\{1}\\shp\".format(directory, site))\n",
    "    \n",
    "os.listdir(r\"{0}\\{1}\\shp\".format(directory, site))"
   ]
  },
  {
   "cell_type": "markdown",
   "metadata": {},
   "source": [
    "## Multispectral Composite Clip"
   ]
  },
  {
   "cell_type": "code",
   "execution_count": null,
   "metadata": {},
   "outputs": [],
   "source": [
    "#cd C:\\Users\\rmcgr\\Rangeland_monitoring\\image_processing"
   ]
  },
  {
   "cell_type": "code",
   "execution_count": null,
   "metadata": {},
   "outputs": [],
   "source": [
    "cd D:\\code\\image_processing"
   ]
  },
  {
   "cell_type": "code",
   "execution_count": null,
   "metadata": {},
   "outputs": [],
   "source": [
    "%run clip_tool_rasterio.py \\\n",
    "--raster D:\\uav\\2022\\wmc03\\mosaic_n\\p4cj_wmc03_20220402_recnm3.tif \\\n",
    "    --shpfile D:\\uav\\2022\\wmc03\\shp\\wmc03_extent.shp \\\n",
    "        --outfile D:\\uav\\2022\\wmc03\\p4cj_wmc03_20220402_refnm3.tif"
   ]
  },
  {
   "cell_type": "markdown",
   "metadata": {},
   "source": [
    "## RGB Clip"
   ]
  },
  {
   "cell_type": "code",
   "execution_count": null,
   "metadata": {},
   "outputs": [],
   "source": [
    "#cd C:\\Users\\rmcgr\\Rangeland_monitoring\\image_processing"
   ]
  },
  {
   "cell_type": "code",
   "execution_count": null,
   "metadata": {},
   "outputs": [],
   "source": [
    "cd D:\\code\\image_processing"
   ]
  },
  {
   "cell_type": "code",
   "execution_count": null,
   "metadata": {},
   "outputs": [],
   "source": [
    "%run clip_tool_rasterio.py \\\n",
    "--raster D:\\uav\\2022\\dhm02\\mosaic_g\\p4if_dhm02_g_mosaic_group1.tif \\\n",
    "    --shpfile D:\\uav\\2022\\dhm02\\shp\\dhm02_extent.shp \\\n",
    "        --outfile D:\\uav\\2022\\dhm02\\p4if_dhm02_20220712_rgbnm2.tif"
   ]
  },
  {
   "cell_type": "markdown",
   "metadata": {},
   "source": [
    "## Metadata update"
   ]
  },
  {
   "cell_type": "markdown",
   "metadata": {},
   "source": [
    "### All UAV final products"
   ]
  },
  {
   "cell_type": "code",
   "execution_count": null,
   "metadata": {},
   "outputs": [],
   "source": [
    "capture_date = '20220712'\n",
    "pilot = 'Daniel Low Choy'\n",
    "processing_date = \"20220713\"\n",
    "utm = '52'\n",
    "image_code = 'p4if'"
   ]
  },
  {
   "cell_type": "markdown",
   "metadata": {},
   "source": [
    "## Multispec"
   ]
  },
  {
   "cell_type": "code",
   "execution_count": null,
   "metadata": {},
   "outputs": [],
   "source": [
    "image = r\"{0}\\{1}\\{3}_{1}_{2}_refnm{4}.tif\".format(directory, site, capture_date, image_code, utm[1])\n",
    "print(image)"
   ]
  },
  {
   "cell_type": "markdown",
   "metadata": {},
   "source": [
    "## RGB"
   ]
  },
  {
   "cell_type": "code",
   "execution_count": null,
   "metadata": {},
   "outputs": [],
   "source": [
    "image = r\"{0}\\{1}\\{3}_{1}_{2}_rgbnm{4}.tif\".format(directory, site, capture_date, image_code, utm[1])\n",
    "print(image)"
   ]
  },
  {
   "cell_type": "markdown",
   "metadata": {},
   "source": [
    "## Run metadata update"
   ]
  },
  {
   "cell_type": "code",
   "execution_count": null,
   "metadata": {},
   "outputs": [],
   "source": [
    "\n",
    "#image = r\"{0}\\{1}\\{3}_{1}_{2}_rgbnm2.tif\".format(directory, site, capture_date, image_code)\n",
    "print('Update metadata for: ',  image)\n",
    "gdal.AllRegister()\n",
    "\n",
    "inputdataset = gdal.Open(image)\n",
    "\n",
    "inputdataset.SetMetadataItem(\"Flight\",\"{0}\".format(site))\n",
    "\n",
    "inputdataset.SetMetadataItem(\"Flight date\",\"{0}\".format(capture_date))\n",
    "inputdataset.SetMetadataItem(\"Pilot\",\"{0}\".format(pilot))\n",
    "\n",
    "# platform and sensor\n",
    "if image[-28:-27] == 'a':\n",
    "    inputdataset.SetMetadataItem(\"Platform\",\"DJI Phantom 4\")\n",
    "    inputdataset.SetMetadataItem(\"Sensor\",\"Micasense RedEdge-3\")\n",
    "    bands = \"blue, green, red, red edge, nir\"\n",
    "elif image[-28:-27] == 'b':\n",
    "    inputdataset.SetMetadataItem(\"Platform\",\"DJI Phantom 4\")\n",
    "    inputdataset.SetMetadataItem(\"Sensor\",\"Micasence RedEdge-M\") \n",
    "    bands = \"blue, green, red, red edge, nir\"\n",
    "elif image[-28:-27] == 'c':\n",
    "    inputdataset.SetMetadataItem(\"Platform\",\"DJI Phantom 4 RTK01\")\n",
    "    inputdataset.SetMetadataItem(\"Sensor\",\"DJI Multi WM331A\")\n",
    "    bands = \"blue, green, red, red edge, nir\"\n",
    "elif image[-28:-27] == 'd':\n",
    "    inputdataset.SetMetadataItem(\"Platform\",\"DJI Phantom 4\")\n",
    "    inputdataset.SetMetadataItem(\"Sensor\",\"DJI RGB WM331A\")  \n",
    "    bands = \"blue, green, red\"\n",
    "elif image[-28:-27] == 'e':\n",
    "    inputdataset.SetMetadataItem(\"Platform\",\"DJI Phantom 4\")\n",
    "    inputdataset.SetMetadataItem(\"Sensor\",\"DJI RGB WM331A\") \n",
    "    bands = \"blue, green, red\"\n",
    "elif image[-28:-27] == 'g':\n",
    "    inputdataset.SetMetadataItem(\"Platform\",\"DJI Phantom 4 RTK01\")\n",
    "    inputdataset.SetMetadataItem(\"Sensor\",\"DJI RGB WM331A\")\n",
    "    bands = \"blue, green, red\"\n",
    "elif image[-28:-27] == 'h':\n",
    "    inputdataset.SetMetadataItem(\"Platform\",\"DJI Phantom 4 RTK02\")\n",
    "    inputdataset.SetMetadataItem(\"Sensor\",\"DJI RGB WM331A\") \n",
    "    bands = \"blue, green, red\"\n",
    "elif image[-28:-27] == 'i':\n",
    "    inputdataset.SetMetadataItem(\"Platform\",\"DJI Phantom 4 RTK02\")\n",
    "    inputdataset.SetMetadataItem(\"Sensor\",\"DJI RGB WM331A\")\n",
    "    bands = \"blue, green, red\"\n",
    "    \n",
    "else:\n",
    "    pass\n",
    "    \n",
    "inputdataset.SetMetadataItem(\"Processing date\",\"{0}\".format(processing_date))\n",
    "                             \n",
    "#datum                             \n",
    "if utm == '52':                     \n",
    "    inputdataset.SetMetadataItem(\"Datum\",\"WGS 1984\")\n",
    "    inputdataset.SetMetadataItem(\"Projection\",\"UTM zone 52S\")\n",
    "    inputdataset.SetMetadataItem(\"EPSG\",\"32752\")\n",
    "elif utm == '53':\n",
    "    inputdataset.SetMetadataItem(\"Datum\",\"WGS 1984\")\n",
    "    inputdataset.SetMetadataItem(\"Projection\",\"UTM zone 53S\")\n",
    "    inputdataset.SetMetadataItem(\"EPSG\",\"32753\") \n",
    "else:\n",
    "    pass\n",
    "\n",
    "gcp = image[-7:-6]\n",
    "if gcp == 'g':\n",
    "    inputdataset.SetMetadataItem(\"Geo-rectified\",\"Yes\")\n",
    "elif gcp == 'n':\n",
    "    inputdataset.SetMetadataItem(\"Geo-rectified\",\"No\")\n",
    "else:\n",
    "    pass\n",
    "\n",
    "inputdataset.SetMetadataItem(\"Band composition\",\"{0}\".format(bands))\n",
    "\n",
    "inputdataset = None\n",
    "\n",
    "src = gdal.Open(image, gdalconst.GA_ReadOnly)\n",
    "\n",
    "print(src.GetMetadata())\n"
   ]
  },
  {
   "cell_type": "code",
   "execution_count": null,
   "metadata": {},
   "outputs": [],
   "source": []
  },
  {
   "cell_type": "code",
   "execution_count": null,
   "metadata": {},
   "outputs": [],
   "source": [
    "shutil.rmtree(r\"{0}\\{1}\\mosaic_n\".format(directory, site))"
   ]
  },
  {
   "cell_type": "code",
   "execution_count": null,
   "metadata": {},
   "outputs": [],
   "source": [
    "shutil.rmtree(r\"{0}\\{1}\\mosaic_g\".format(directory, site))"
   ]
  }
 ],
 "metadata": {
  "kernelspec": {
   "display_name": "Python 3",
   "language": "python",
   "name": "python3"
  },
  "language_info": {
   "codemirror_mode": {
    "name": "ipython",
    "version": 3
   },
   "file_extension": ".py",
   "mimetype": "text/x-python",
   "name": "python",
   "nbconvert_exporter": "python",
   "pygments_lexer": "ipython3",
   "version": "3.7.4"
  }
 },
 "nbformat": 4,
 "nbformat_minor": 4
}
