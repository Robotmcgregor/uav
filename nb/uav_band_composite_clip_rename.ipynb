{
 "cells": [
  {
   "cell_type": "markdown",
   "metadata": {},
   "source": [
    "# UAV product workflow"
   ]
  },
  {
   "cell_type": "markdown",
   "metadata": {},
   "source": [
    "In order for UAV data to be published in the DEPWS spatial library UAV data procedures require that the data has been processed using the approved methodology, and that the final product has been composited (where applicable) clipped, renamed with its Meta data updated.\n",
    "\n",
    "This notebook facilities the processing of UAV images by:\n",
    " - Compositing grayscale images form the multispectral camera\n",
    " - Clipping images with an extent vector\n",
    " - Renaming the output in the required format\n",
    " - Updating final product metadata.\n"
   ]
  },
  {
   "cell_type": "markdown",
   "metadata": {},
   "source": [
    "## Import modules"
   ]
  },
  {
   "cell_type": "code",
   "execution_count": 1,
   "metadata": {},
   "outputs": [],
   "source": [
    "import os\n",
    "import shutil\n",
    "import gdal\n",
    "import numpy as np\n",
    "from osgeo import gdal, gdalconst"
   ]
  },
  {
   "cell_type": "code",
   "execution_count": 4,
   "metadata": {},
   "outputs": [],
   "source": [
    "site = \"wtr01\"\n",
    "dir_ = \"mosaic_n\"\n",
    "directory = r\"Z:\\Scratch\\uav\\2022\""
   ]
  },
  {
   "cell_type": "code",
   "execution_count": 5,
   "metadata": {},
   "outputs": [],
   "source": [
    "os.chdir(r\"{0}\\{1}\\{2}\".format(directory, site, dir_))"
   ]
  },
  {
   "cell_type": "code",
   "execution_count": 6,
   "metadata": {},
   "outputs": [
    {
     "name": "stdout",
     "output_type": "stream",
     "text": [
      " Volume in drive Z is Data_02 (Sat Imagery) (Disk4)\n",
      " Volume Serial Number is FABC-DD60\n",
      "\n",
      " Directory of Z:\\Scratch\\uav\\2022\\wtr01\\mosaic_n\n",
      "\n",
      "11/09/2022  07:56 AM    <DIR>          .\n",
      "11/09/2022  07:56 AM    <DIR>          ..\n",
      "04/22/2022  04:09 PM               605 p4ch_wtr01_n_mosaic_blue.prj\n",
      "04/22/2022  04:09 PM                76 p4ch_wtr01_n_mosaic_blue.tfw\n",
      "11/09/2022  07:56 AM       181,416,282 p4ch_wtr01_n_mosaic_blue.tif\n",
      "11/09/2022  07:56 AM        46,541,167 p4ch_wtr01_n_mosaic_blue.tif.ovr\n",
      "04/22/2022  04:19 PM               605 p4ch_wtr01_n_mosaic_green.prj\n",
      "04/22/2022  04:19 PM                76 p4ch_wtr01_n_mosaic_green.tfw\n",
      "04/22/2022  04:19 PM       182,042,907 p4ch_wtr01_n_mosaic_green.tif\n",
      "04/22/2022  04:49 PM               605 p4ch_wtr01_n_mosaic_nir.prj\n",
      "04/22/2022  04:49 PM                76 p4ch_wtr01_n_mosaic_nir.tfw\n",
      "04/22/2022  04:49 PM       178,961,972 p4ch_wtr01_n_mosaic_nir.tif\n",
      "04/22/2022  04:39 PM               605 p4ch_wtr01_n_mosaic_red edge.prj\n",
      "04/22/2022  04:39 PM                76 p4ch_wtr01_n_mosaic_red edge.tfw\n",
      "04/22/2022  04:39 PM       179,573,306 p4ch_wtr01_n_mosaic_red edge.tif\n",
      "04/22/2022  04:29 PM               605 p4ch_wtr01_n_mosaic_red.prj\n",
      "04/22/2022  04:29 PM                76 p4ch_wtr01_n_mosaic_red.tfw\n",
      "04/22/2022  04:29 PM       180,605,098 p4ch_wtr01_n_mosaic_red.tif\n",
      "              16 File(s)    949,144,137 bytes\n",
      "               2 Dir(s)  1,520,960,626,688 bytes free\n"
     ]
    }
   ],
   "source": [
    "ls"
   ]
  },
  {
   "cell_type": "markdown",
   "metadata": {},
   "source": [
    "## Composite greyscale images"
   ]
  },
  {
   "cell_type": "code",
   "execution_count": 14,
   "metadata": {},
   "outputs": [
    {
     "name": "stdout",
     "output_type": "stream",
     "text": [
      "C:\\Users\\rmcgr\\ntg_repo\\uav\\scripts\n"
     ]
    }
   ],
   "source": [
    "cd C:\\Users\\rmcgr\\ntg_repo\\uav\\scripts"
   ]
  },
  {
   "cell_type": "markdown",
   "metadata": {},
   "source": [
    "### Composite Multi band UAV images"
   ]
  },
  {
   "cell_type": "code",
   "execution_count": 18,
   "metadata": {},
   "outputs": [
    {
     "name": "stdout",
     "output_type": "stream",
     "text": [
      "usage: run_composite_multi_bands_image.py [-h] [--directory DIRECTORY]\n",
      "                                          [--outfile OUTFILE]\n",
      "\n",
      "Create a single stack of Sentinel-2 bands, all at 10m pixel size. Output is a\n",
      "single stack of 10 layers. Bands are out out put as\n",
      "B1','B2','B3','B4','B5','B6','B7','B8','B9','B10 which is the Sentinel-2 band\n",
      "numbers B02, B03, B04, B08, B05, B06, B07, B08A, B11, B12.\n",
      "\n",
      "optional arguments:\n",
      "  -h, --help            show this help message and exit\n",
      "  --directory DIRECTORY\n",
      "                        Name of 10m input file. Expected to have exactly 4\n",
      "                        bands.\n",
      "  --outfile OUTFILE     Name of output image file\n"
     ]
    }
   ],
   "source": [
    "%run run_composite_multi_bands_image.py -h"
   ]
  },
  {
   "cell_type": "code",
   "execution_count": 20,
   "metadata": {},
   "outputs": [
    {
     "name": "stdout",
     "output_type": "stream",
     "text": [
      "init script\n",
      "p4ch_wtr01_20220408_recnm2.tif complete\n"
     ]
    }
   ],
   "source": [
    "%run run_composite_multi_bands_image.py \\\n",
    "--directory Z:\\Scratch\\uav\\2022\\wtr01\\mosaic_n  \\\n",
    "    --outfile Z:\\Scratch\\uav\\2022\\wtr01\\mosaic_n\\p4ch_wtr01_20220408_recnm2.tif"
   ]
  },
  {
   "cell_type": "code",
   "execution_count": 21,
   "metadata": {},
   "outputs": [
    {
     "name": "stdout",
     "output_type": "stream",
     "text": [
      " Volume in drive C has no label.\n",
      " Volume Serial Number is 6656-0234\n",
      "\n",
      " Directory of C:\\Users\\rmcgr\\ntg_repo\\uav\\scripts\n",
      "\n",
      "11/09/2022  08:24 AM    <DIR>          .\n",
      "11/09/2022  08:24 AM    <DIR>          ..\n",
      "10/03/2022  08:20 AM             4,246 clip_tool_rasterio.py\n",
      "11/09/2022  08:24 AM             1,734 run_composite_multi_bands_image.py\n",
      "               2 File(s)          5,980 bytes\n",
      "               2 Dir(s)   2,308,317,184 bytes free\n"
     ]
    }
   ],
   "source": [
    "ls"
   ]
  },
  {
   "cell_type": "code",
   "execution_count": null,
   "metadata": {},
   "outputs": [],
   "source": [
    "    --outfile Z:\\Scratch\\uav\\2022\\wtr01\\mosaic_n\\p4ch_wtr01_20220408_recnm2.tif"
   ]
  },
  {
   "cell_type": "markdown",
   "metadata": {},
   "source": [
    "## Clip raster with extent shapefile"
   ]
  },
  {
   "cell_type": "code",
   "execution_count": 9,
   "metadata": {},
   "outputs": [
    {
     "data": {
      "text/plain": [
       "['p4ch_wtr01_n_mosaic_blue.prj',\n",
       " 'p4ch_wtr01_n_mosaic_blue.tfw',\n",
       " 'p4ch_wtr01_n_mosaic_blue.tif',\n",
       " 'p4ch_wtr01_n_mosaic_blue.tif.ovr',\n",
       " 'p4ch_wtr01_n_mosaic_green.prj',\n",
       " 'p4ch_wtr01_n_mosaic_green.tfw',\n",
       " 'p4ch_wtr01_n_mosaic_green.tif',\n",
       " 'p4ch_wtr01_n_mosaic_nir.prj',\n",
       " 'p4ch_wtr01_n_mosaic_nir.tfw',\n",
       " 'p4ch_wtr01_n_mosaic_nir.tif',\n",
       " 'p4ch_wtr01_n_mosaic_red edge.prj',\n",
       " 'p4ch_wtr01_n_mosaic_red edge.tfw',\n",
       " 'p4ch_wtr01_n_mosaic_red edge.tif',\n",
       " 'p4ch_wtr01_n_mosaic_red.prj',\n",
       " 'p4ch_wtr01_n_mosaic_red.tfw',\n",
       " 'p4ch_wtr01_n_mosaic_red.tif']"
      ]
     },
     "execution_count": 9,
     "metadata": {},
     "output_type": "execute_result"
    }
   ],
   "source": [
    "os.listdir(r\"{0}\\{1}\\mosaic_n\".format(directory, site))"
   ]
  },
  {
   "cell_type": "code",
   "execution_count": 10,
   "metadata": {},
   "outputs": [
    {
     "data": {
      "text/plain": [
       "['wtr01_extent.cpg',\n",
       " 'wtr01_extent.dbf',\n",
       " 'wtr01_extent.prj',\n",
       " 'wtr01_extent.sbn',\n",
       " 'wtr01_extent.sbx',\n",
       " 'wtr01_extent.shp',\n",
       " 'wtr01_extent.shp.DZ0320.22544.3324.sr.lock',\n",
       " 'wtr01_extent.shx']"
      ]
     },
     "execution_count": 10,
     "metadata": {},
     "output_type": "execute_result"
    }
   ],
   "source": [
    "if not os.path.isdir(r\"{0}\\{1}\\shp\".format(directory, site)):   \n",
    "    os.mkdir(r\"{0}\\{1}\\shp\".format(directory, site))\n",
    "    \n",
    "os.listdir(r\"{0}\\{1}\\shp\".format(directory, site))"
   ]
  },
  {
   "cell_type": "markdown",
   "metadata": {},
   "source": [
    "## Multispectral Composite Clip"
   ]
  },
  {
   "cell_type": "code",
   "execution_count": 11,
   "metadata": {},
   "outputs": [
    {
     "name": "stdout",
     "output_type": "stream",
     "text": [
      "C:\\Users\\rmcgr\\ntg_repo\\uav\\scripts\n"
     ]
    }
   ],
   "source": [
    "cd C:\\Users\\rmcgr\\ntg_repo\\uav\\scripts"
   ]
  },
  {
   "cell_type": "code",
   "execution_count": 13,
   "metadata": {},
   "outputs": [
    {
     "ename": "RasterioIOError",
     "evalue": "Z:\\Scratch\\uav\\2022\\wmc01\\mosaic_n\\p4ch_wtr01_20220408_recnm2.tif: No such file or directory",
     "output_type": "error",
     "traceback": [
      "\u001b[1;31m---------------------------------------------------------------------------\u001b[0m",
      "\u001b[1;31mCPLE_OpenFailedError\u001b[0m                      Traceback (most recent call last)",
      "\u001b[1;32mrasterio\\_base.pyx\u001b[0m in \u001b[0;36mrasterio._base.DatasetBase.__init__\u001b[1;34m()\u001b[0m\n",
      "\u001b[1;32mrasterio\\_shim.pyx\u001b[0m in \u001b[0;36mrasterio._shim.open_dataset\u001b[1;34m()\u001b[0m\n",
      "\u001b[1;32mrasterio\\_err.pyx\u001b[0m in \u001b[0;36mrasterio._err.exc_wrap_pointer\u001b[1;34m()\u001b[0m\n",
      "\u001b[1;31mCPLE_OpenFailedError\u001b[0m: Z:\\Scratch\\uav\\2022\\wmc01\\mosaic_n\\p4ch_wtr01_20220408_recnm2.tif: No such file or directory",
      "\nDuring handling of the above exception, another exception occurred:\n",
      "\u001b[1;31mRasterioIOError\u001b[0m                           Traceback (most recent call last)",
      "\u001b[1;32mC:\\Users\\rmcgr\\ntg_repo\\uav\\scripts\\clip_tool_rasterio.py\u001b[0m in \u001b[0;36m<module>\u001b[1;34m()\u001b[0m\n\u001b[0;32m    142\u001b[0m \u001b[1;33m\u001b[0m\u001b[0m\n\u001b[0;32m    143\u001b[0m \u001b[1;32mif\u001b[0m \u001b[0m__name__\u001b[0m \u001b[1;33m==\u001b[0m \u001b[1;34m\"__main__\"\u001b[0m\u001b[1;33m:\u001b[0m\u001b[1;33m\u001b[0m\u001b[1;33m\u001b[0m\u001b[0m\n\u001b[1;32m--> 144\u001b[1;33m     \u001b[0mmain\u001b[0m\u001b[1;33m(\u001b[0m\u001b[1;33m)\u001b[0m\u001b[1;33m\u001b[0m\u001b[1;33m\u001b[0m\u001b[0m\n\u001b[0m",
      "\u001b[1;32mC:\\Users\\rmcgr\\ntg_repo\\uav\\scripts\\clip_tool_rasterio.py\u001b[0m in \u001b[0;36mmain\u001b[1;34m()\u001b[0m\n\u001b[0;32m    113\u001b[0m     \u001b[0mout_tif\u001b[0m \u001b[1;33m=\u001b[0m \u001b[0mcmdargs\u001b[0m\u001b[1;33m.\u001b[0m\u001b[0moutfile\u001b[0m\u001b[1;33m\u001b[0m\u001b[1;33m\u001b[0m\u001b[0m\n\u001b[0;32m    114\u001b[0m \u001b[1;33m\u001b[0m\u001b[0m\n\u001b[1;32m--> 115\u001b[1;33m     \u001b[0mdata\u001b[0m \u001b[1;33m=\u001b[0m \u001b[0mrasterio\u001b[0m\u001b[1;33m.\u001b[0m\u001b[0mopen\u001b[0m\u001b[1;33m(\u001b[0m\u001b[0minImage\u001b[0m\u001b[1;33m)\u001b[0m\u001b[1;33m\u001b[0m\u001b[1;33m\u001b[0m\u001b[0m\n\u001b[0m\u001b[0;32m    116\u001b[0m \u001b[1;33m\u001b[0m\u001b[0m\n\u001b[0;32m    117\u001b[0m     \u001b[0mgeo_dissolve\u001b[0m \u001b[1;33m=\u001b[0m \u001b[0mdissolveShp\u001b[0m\u001b[1;33m(\u001b[0m\u001b[0minshp\u001b[0m\u001b[1;33m)\u001b[0m\u001b[1;33m\u001b[0m\u001b[1;33m\u001b[0m\u001b[0m\n",
      "\u001b[1;32mC:\\ProgramData\\Anaconda3\\envs\\rmb_zonal\\lib\\site-packages\\rasterio\\env.py\u001b[0m in \u001b[0;36mwrapper\u001b[1;34m(*args, **kwds)\u001b[0m\n\u001b[0;32m    443\u001b[0m \u001b[1;33m\u001b[0m\u001b[0m\n\u001b[0;32m    444\u001b[0m         \u001b[1;32mwith\u001b[0m \u001b[0menv_ctor\u001b[0m\u001b[1;33m(\u001b[0m\u001b[0msession\u001b[0m\u001b[1;33m=\u001b[0m\u001b[0msession\u001b[0m\u001b[1;33m)\u001b[0m\u001b[1;33m:\u001b[0m\u001b[1;33m\u001b[0m\u001b[1;33m\u001b[0m\u001b[0m\n\u001b[1;32m--> 445\u001b[1;33m             \u001b[1;32mreturn\u001b[0m \u001b[0mf\u001b[0m\u001b[1;33m(\u001b[0m\u001b[1;33m*\u001b[0m\u001b[0margs\u001b[0m\u001b[1;33m,\u001b[0m \u001b[1;33m**\u001b[0m\u001b[0mkwds\u001b[0m\u001b[1;33m)\u001b[0m\u001b[1;33m\u001b[0m\u001b[1;33m\u001b[0m\u001b[0m\n\u001b[0m\u001b[0;32m    446\u001b[0m \u001b[1;33m\u001b[0m\u001b[0m\n\u001b[0;32m    447\u001b[0m     \u001b[1;32mreturn\u001b[0m \u001b[0mwrapper\u001b[0m\u001b[1;33m\u001b[0m\u001b[1;33m\u001b[0m\u001b[0m\n",
      "\u001b[1;32mC:\\ProgramData\\Anaconda3\\envs\\rmb_zonal\\lib\\site-packages\\rasterio\\__init__.py\u001b[0m in \u001b[0;36mopen\u001b[1;34m(fp, mode, driver, width, height, count, crs, transform, dtype, nodata, sharing, **kwargs)\u001b[0m\n\u001b[0;32m    217\u001b[0m         \u001b[1;31m# None.\u001b[0m\u001b[1;33m\u001b[0m\u001b[1;33m\u001b[0m\u001b[1;33m\u001b[0m\u001b[0m\n\u001b[0;32m    218\u001b[0m         \u001b[1;32mif\u001b[0m \u001b[0mmode\u001b[0m \u001b[1;33m==\u001b[0m \u001b[1;34m'r'\u001b[0m\u001b[1;33m:\u001b[0m\u001b[1;33m\u001b[0m\u001b[1;33m\u001b[0m\u001b[0m\n\u001b[1;32m--> 219\u001b[1;33m             \u001b[0ms\u001b[0m \u001b[1;33m=\u001b[0m \u001b[0mDatasetReader\u001b[0m\u001b[1;33m(\u001b[0m\u001b[0mpath\u001b[0m\u001b[1;33m,\u001b[0m \u001b[0mdriver\u001b[0m\u001b[1;33m=\u001b[0m\u001b[0mdriver\u001b[0m\u001b[1;33m,\u001b[0m \u001b[0msharing\u001b[0m\u001b[1;33m=\u001b[0m\u001b[0msharing\u001b[0m\u001b[1;33m,\u001b[0m \u001b[1;33m**\u001b[0m\u001b[0mkwargs\u001b[0m\u001b[1;33m)\u001b[0m\u001b[1;33m\u001b[0m\u001b[1;33m\u001b[0m\u001b[0m\n\u001b[0m\u001b[0;32m    220\u001b[0m         \u001b[1;32melif\u001b[0m \u001b[0mmode\u001b[0m \u001b[1;33m==\u001b[0m \u001b[1;34m'r+'\u001b[0m\u001b[1;33m:\u001b[0m\u001b[1;33m\u001b[0m\u001b[1;33m\u001b[0m\u001b[0m\n\u001b[0;32m    221\u001b[0m             \u001b[0ms\u001b[0m \u001b[1;33m=\u001b[0m \u001b[0mget_writer_for_path\u001b[0m\u001b[1;33m(\u001b[0m\u001b[0mpath\u001b[0m\u001b[1;33m)\u001b[0m\u001b[1;33m(\u001b[0m\u001b[0mpath\u001b[0m\u001b[1;33m,\u001b[0m \u001b[0mmode\u001b[0m\u001b[1;33m,\u001b[0m \u001b[0mdriver\u001b[0m\u001b[1;33m=\u001b[0m\u001b[0mdriver\u001b[0m\u001b[1;33m,\u001b[0m \u001b[0msharing\u001b[0m\u001b[1;33m=\u001b[0m\u001b[0msharing\u001b[0m\u001b[1;33m,\u001b[0m \u001b[1;33m**\u001b[0m\u001b[0mkwargs\u001b[0m\u001b[1;33m)\u001b[0m\u001b[1;33m\u001b[0m\u001b[1;33m\u001b[0m\u001b[0m\n",
      "\u001b[1;32mrasterio\\_base.pyx\u001b[0m in \u001b[0;36mrasterio._base.DatasetBase.__init__\u001b[1;34m()\u001b[0m\n",
      "\u001b[1;31mRasterioIOError\u001b[0m: Z:\\Scratch\\uav\\2022\\wmc01\\mosaic_n\\p4ch_wtr01_20220408_recnm2.tif: No such file or directory"
     ]
    }
   ],
   "source": [
    "%run clip_tool_rasterio.py \\\n",
    "--raster Z:\\Scratch\\uav\\2022\\wmc01\\mosaic_n\\p4ch_wtr01_20220408_recnm2.tif \\\n",
    "    --shpfile Z:\\Scratch\\uav\\2022\\wtr01\\shp\\wtr01_extent.shp \\\n",
    "        --outfile Z:\\Scratch\\uav\\2022\\wtr01\\p4ch_wtr01_20220408_refnm2.tif"
   ]
  },
  {
   "cell_type": "markdown",
   "metadata": {},
   "source": [
    "## RGB Clip"
   ]
  },
  {
   "cell_type": "code",
   "execution_count": 5,
   "metadata": {},
   "outputs": [
    {
     "name": "stdout",
     "output_type": "stream",
     "text": [
      "C:\\Users\\rmcgr\\ntg_repo\\uav\\scripts\n"
     ]
    }
   ],
   "source": [
    "cd C:\\Users\\rmcgr\\ntg_repo\\uav\\scripts"
   ]
  },
  {
   "cell_type": "code",
   "execution_count": 7,
   "metadata": {},
   "outputs": [
    {
     "name": "stdout",
     "output_type": "stream",
     "text": [
      "usage: clip_tool_rasterio.py [-h] [-r RASTER] [-s SHPFILE] [-o OUTFILE]\n",
      "\n",
      "optional arguments:\n",
      "  -h, --help            show this help message and exit\n",
      "  -r RASTER, --raster RASTER\n",
      "                        image to clip\n",
      "  -s SHPFILE, --shpfile SHPFILE\n",
      "                        input shapefile used to clip the raster\n",
      "  -o OUTFILE, --outfile OUTFILE\n",
      "                        name for the output raster image\n"
     ]
    }
   ],
   "source": [
    "%run clip_tool_rasterio.py -h"
   ]
  },
  {
   "cell_type": "code",
   "execution_count": 9,
   "metadata": {},
   "outputs": [
    {
     "ename": "AttributeError",
     "evalue": "'NoneType' object has no attribute 'data'",
     "output_type": "error",
     "traceback": [
      "\u001b[1;31m---------------------------------------------------------------------------\u001b[0m",
      "\u001b[1;31mAttributeError\u001b[0m                            Traceback (most recent call last)",
      "\u001b[1;32mC:\\Users\\rmcgr\\ntg_repo\\uav\\scripts\\clip_tool_rasterio.py\u001b[0m in \u001b[0;36m<module>\u001b[1;34m()\u001b[0m\n\u001b[0;32m    142\u001b[0m \u001b[1;33m\u001b[0m\u001b[0m\n\u001b[0;32m    143\u001b[0m \u001b[1;32mif\u001b[0m \u001b[0m__name__\u001b[0m \u001b[1;33m==\u001b[0m \u001b[1;34m\"__main__\"\u001b[0m\u001b[1;33m:\u001b[0m\u001b[1;33m\u001b[0m\u001b[1;33m\u001b[0m\u001b[0m\n\u001b[1;32m--> 144\u001b[1;33m     \u001b[0mmain\u001b[0m\u001b[1;33m(\u001b[0m\u001b[1;33m)\u001b[0m\u001b[1;33m\u001b[0m\u001b[1;33m\u001b[0m\u001b[0m\n\u001b[0m",
      "\u001b[1;32mC:\\Users\\rmcgr\\ntg_repo\\uav\\scripts\\clip_tool_rasterio.py\u001b[0m in \u001b[0;36mmain\u001b[1;34m()\u001b[0m\n\u001b[0;32m    122\u001b[0m \u001b[1;33m\u001b[0m\u001b[0m\n\u001b[0;32m    123\u001b[0m     \u001b[1;31m# get the projection and datum form the input image and update the clip datas metadata\u001b[0m\u001b[1;33m\u001b[0m\u001b[1;33m\u001b[0m\u001b[1;33m\u001b[0m\u001b[0m\n\u001b[1;32m--> 124\u001b[1;33m     \u001b[0mepsg_code\u001b[0m \u001b[1;33m=\u001b[0m \u001b[0mint\u001b[0m\u001b[1;33m(\u001b[0m\u001b[0mdata\u001b[0m\u001b[1;33m.\u001b[0m\u001b[0mcrs\u001b[0m\u001b[1;33m.\u001b[0m\u001b[0mdata\u001b[0m\u001b[1;33m[\u001b[0m\u001b[1;34m'init'\u001b[0m\u001b[1;33m]\u001b[0m\u001b[1;33m[\u001b[0m\u001b[1;36m5\u001b[0m\u001b[1;33m:\u001b[0m\u001b[1;33m]\u001b[0m\u001b[1;33m)\u001b[0m\u001b[1;33m\u001b[0m\u001b[1;33m\u001b[0m\u001b[0m\n\u001b[0m\u001b[0;32m    125\u001b[0m \u001b[1;33m\u001b[0m\u001b[0m\n\u001b[0;32m    126\u001b[0m     \u001b[1;31m# select the relevent epsg code and convert it to proj4 format\u001b[0m\u001b[1;33m\u001b[0m\u001b[1;33m\u001b[0m\u001b[1;33m\u001b[0m\u001b[0m\n",
      "\u001b[1;31mAttributeError\u001b[0m: 'NoneType' object has no attribute 'data'"
     ]
    }
   ],
   "source": [
    "%run clip_tool_rasterio.py \\\n",
    "--raster E:\\Roshna\\uav\\2022\\dnv06\\mosaic_n\\p4gh_dnv06_n_mosaic_group1.tif \\\n",
    "    --shpfile E:\\Roshna\\uav\\2022\\dnv06\\shp\\dnv06_extent.shp \\\n",
    "        --outfile E:\\Roshna\\uav\\2022\\dnv06\\p4gh_dnv06_20220330_rgbm3.tif"
   ]
  },
  {
   "cell_type": "markdown",
   "metadata": {},
   "source": [
    "## Metadata update"
   ]
  },
  {
   "cell_type": "markdown",
   "metadata": {},
   "source": [
    "### All UAV final products"
   ]
  },
  {
   "cell_type": "code",
   "execution_count": 45,
   "metadata": {},
   "outputs": [],
   "source": [
    "year = '20220402'\n",
    "pilot = 'Robert McGregor'\n",
    "processing_date = \"20220520\"\n",
    "utm = '53'\n",
    "image_code = 'p4cj'"
   ]
  },
  {
   "cell_type": "code",
   "execution_count": 46,
   "metadata": {},
   "outputs": [
    {
     "name": "stdout",
     "output_type": "stream",
     "text": [
      "Update metadata for:  Z:\\Scratch\\uav\\2022\\wmc03\\p4cj_wmc03_20220402_refnm3.tif\n",
      "{'AREA_OR_POINT': 'Area', 'Band composition': 'blue, green, red, red edge, nir', 'Datum': 'WGS 1984', 'EPSG': '32753', 'Flight': 'wmc03', 'Flight date': '20220402', 'Geo-rectified': 'No', 'Pilot': 'Robert McGregor', 'Platform': 'DJI Phantom 4', 'Processing date': '20220520', 'Projection': 'UTM zone 53S', 'Sensor': 'DJI Multi WM331A'}\n"
     ]
    }
   ],
   "source": [
    "\n",
    "image = r\"{0}\\{1}\\{3}_{1}_{2}_refnm3.tif\".format(directory, site, year, image_code)\n",
    "print('Update metadata for: ',  image)\n",
    "gdal.AllRegister()\n",
    "\n",
    "inputdataset = gdal.Open(image)\n",
    "\n",
    "inputdataset.SetMetadataItem(\"Flight\",\"{0}\".format(site))\n",
    "\n",
    "inputdataset.SetMetadataItem(\"Flight date\",\"{0}\".format(year))\n",
    "inputdataset.SetMetadataItem(\"Pilot\",\"{0}\".format(pilot))\n",
    "\n",
    "# platform and sensor\n",
    "if image[-28:-27] == 'a':\n",
    "    inputdataset.SetMetadataItem(\"Platform\",\"DJI Phantom 4\")\n",
    "    inputdataset.SetMetadataItem(\"Sensor\",\"Micasense RedEdge-3\")\n",
    "    bands = \"blue, green, red, red edge, nir\"\n",
    "elif image[-28:-27] == 'b':\n",
    "    inputdataset.SetMetadataItem(\"Platform\",\"DJI Phantom 4\")\n",
    "    inputdataset.SetMetadataItem(\"Sensor\",\"Micasence RedEdge-M\") \n",
    "    bands = \"blue, green, red, red edge, nir\"\n",
    "elif image[-28:-27] == 'c':\n",
    "    inputdataset.SetMetadataItem(\"Platform\",\"DJI Phantom 4\")\n",
    "    inputdataset.SetMetadataItem(\"Sensor\",\"DJI Multi WM331A\")\n",
    "    bands = \"blue, green, red, red edge, nir\"\n",
    "elif image[-28:-27] == 'd':\n",
    "    inputdataset.SetMetadataItem(\"Platform\",\"DJI Phantom 4\")\n",
    "    inputdataset.SetMetadataItem(\"Sensor\",\"DJI RGB WM331A\")  \n",
    "    bands = \"blue, green, red\"\n",
    "elif image[-28:-27] == 'e':\n",
    "    inputdataset.SetMetadataItem(\"Platform\",\"DJI Phantom 4\")\n",
    "    inputdataset.SetMetadataItem(\"Sensor\",\"DJI RGB WM331A\") \n",
    "    bands = \"blue, green, red\"\n",
    "elif image[-28:-27] == 'g':\n",
    "    inputdataset.SetMetadataItem(\"Platform\",\"DJI Phantom 4\")\n",
    "    inputdataset.SetMetadataItem(\"Sensor\",\"DJI RGB WM331A\")\n",
    "    bands = \"blue, green, red\"\n",
    "else:\n",
    "    pass\n",
    "    \n",
    "inputdataset.SetMetadataItem(\"Processing date\",\"{0}\".format(processing_date))\n",
    "                             \n",
    "#datum                             \n",
    "if utm == '52':                     \n",
    "    inputdataset.SetMetadataItem(\"Datum\",\"WGS 1984\")\n",
    "    inputdataset.SetMetadataItem(\"Projection\",\"UTM zone 52S\")\n",
    "    inputdataset.SetMetadataItem(\"EPSG\",\"32752\")\n",
    "elif utm == '53':\n",
    "    inputdataset.SetMetadataItem(\"Datum\",\"WGS 1984\")\n",
    "    inputdataset.SetMetadataItem(\"Projection\",\"UTM zone 53S\")\n",
    "    inputdataset.SetMetadataItem(\"EPSG\",\"32753\") \n",
    "else:\n",
    "    pass\n",
    "\n",
    "gcp = image[-7:-6]\n",
    "if gcp == 'g':\n",
    "    inputdataset.SetMetadataItem(\"Geo-rectified\",\"Yes\")\n",
    "elif gcp == 'n':\n",
    "    inputdataset.SetMetadataItem(\"Geo-rectified\",\"No\")\n",
    "else:\n",
    "    pass\n",
    "\n",
    "inputdataset.SetMetadataItem(\"Band composition\",\"{0}\".format(bands))\n",
    "\n",
    "inputdataset = None\n",
    "\n",
    "src = gdal.Open(image, gdalconst.GA_ReadOnly)\n",
    "\n",
    "print(src.GetMetadata())"
   ]
  },
  {
   "cell_type": "code",
   "execution_count": null,
   "metadata": {},
   "outputs": [],
   "source": [
    "shutil.rmtree(r\"{0}\\{1}\\mosaic_n\".format(directory, site))"
   ]
  },
  {
   "cell_type": "code",
   "execution_count": null,
   "metadata": {},
   "outputs": [],
   "source": [
    "shutil.rmtree(r\"{0}\\{1}\\mosaic_g\".format(directory, site))"
   ]
  }
 ],
 "metadata": {
  "kernelspec": {
   "display_name": "Python 3",
   "language": "python",
   "name": "python3"
  },
  "language_info": {
   "codemirror_mode": {
    "name": "ipython",
    "version": 3
   },
   "file_extension": ".py",
   "mimetype": "text/x-python",
   "name": "python",
   "nbconvert_exporter": "python",
   "pygments_lexer": "ipython3",
   "version": "3.7.7"
  }
 },
 "nbformat": 4,
 "nbformat_minor": 4
}
