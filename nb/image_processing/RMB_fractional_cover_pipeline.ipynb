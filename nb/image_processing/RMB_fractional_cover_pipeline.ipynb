{
 "cells": [
  {
   "cell_type": "markdown",
   "metadata": {},
   "source": [
    "# RMB Fractional Cover Zonal Stats Pipeline.\n",
    "\n",
    "Copyright 2021 Robert McGregor"
   ]
  },
  {
   "cell_type": "markdown",
   "metadata": {},
   "source": [
    "### cd to the directory from the Anaconda/Miniconda terminal.\n",
    "\n",
    "cd E:\\DENR\\code\\rangeland_monitoring\\fractional_cover_zonal_stats_pipeline"
   ]
  },
  {
   "cell_type": "markdown",
   "metadata": {},
   "source": [
    "Depending on your system you may need to add \"/d\"\n",
    "i.e. cd /d E:\\DENR\\code\\rangeland_monitoring\\fractional_cover_zonal_stats_pipeline"
   ]
  },
  {
   "cell_type": "markdown",
   "metadata": {},
   "source": [
    "This notebook controls the processing of fractonal cover zonal stats and produces the following outputs:\n",
    "- static time series plot\n",
    "- interactive time series plot\n",
    "- fractonal cover zonal stats csv\n",
    "- rainfall zonal stats csv"
   ]
  },
  {
   "cell_type": "markdown",
   "metadata": {},
   "source": [
    "## Setup"
   ]
  },
  {
   "cell_type": "markdown",
   "metadata": {},
   "source": [
    "## Required packages:\n",
    "The ODK Aggregate processing pipeline requires the following package:\n",
    "\n",
    "- os\n",
    "- csv\n",
    "- warinings\n",
    "- geopandas\n",
    "- datetime\n",
    "- os\n",
    "- argparse\n",
    "- sys\n",
    "- shutill\n",
    "- sys\n",
    "- glob\n",
    "- pandas\n",
    "- rasterstats\n",
    "- matplotlib\n",
    "- bokeh\n",
    "\n",
    "If you are using this notebook locally, you may need to install these packages using conda or pip. Uncomment one of the cells below by removing the hashtag('#') and run the cell by pressing **Shift+Enter**."
   ]
  },
  {
   "cell_type": "markdown",
   "metadata": {},
   "source": [
    "## Lets check the full list of packages in your environment"
   ]
  },
  {
   "cell_type": "code",
   "execution_count": null,
   "metadata": {},
   "outputs": [],
   "source": [
    "! conda list"
   ]
  },
  {
   "cell_type": "markdown",
   "metadata": {},
   "source": [
    "## Lets check the core packages versions in your conda environment."
   ]
  },
  {
   "cell_type": "code",
   "execution_count": null,
   "metadata": {},
   "outputs": [],
   "source": [
    "import pandas; print(f\"pandas: {pandas.__version__}\")\n",
    "import numpy; print(f\"numpy: {numpy.__version__}\")\n",
    "import geopandas; print(f\"geopandas: {geopandas.__version__}\")\n",
    "import argparse; print(f\"argpass: {argparse.__version__}\")\n",
    "import selenium; print(f\"selenium: {selenium.__version__}\")\n",
    "import rasterstats; print(f\"rasterstats: {rasterstats.__version__}\")\n",
    "import matplotlib; print(f\"matplotlib: {matplotlib.__version__}\")\n",
    "import bokeh; print(f\"bokeh: {bokeh.__version__}\")\n"
   ]
  },
  {
   "cell_type": "markdown",
   "metadata": {},
   "source": [
    "## Don't have a package?"
   ]
  },
  {
   "cell_type": "code",
   "execution_count": null,
   "metadata": {},
   "outputs": [],
   "source": [
    "# If you do not have the required packages uncomment out the required line if you are on you local computer you will \n",
    "# need use external wifi (i.e. hotspot your phone)\n",
    "\n",
    "#! conda install -c conda-forge numpy geopandas argparse rasterstats matplotlib bokeh\n",
    "#! conda install -c conda-forge numpy\n",
    "#! conda install -c conda-forge geopandas\n",
    "#! conda install -c conda-forge argparse\n",
    "#! conda install -c conda-forge rasterstats\n",
    "#! conda install -c conda-forge matplotlib\n",
    "#! conda install -c conda-forge bokeh"
   ]
  },
  {
   "cell_type": "markdown",
   "metadata": {},
   "source": [
    "## Command arguments"
   ]
  },
  {
   "cell_type": "markdown",
   "metadata": {},
   "source": [
    "\n",
    "- '-t', '--tile_grid', help='Enter filepath for the Landsat Tile Grid.shp.', default is set to r\"E:\\DENR\\code\\rangeland_monitoring\\fractional_cover_zonal_stats_pipeline\\assets\\shapefiles\\Landsat_wrs2_TileGrid.shp\"\n",
    "- '-d', '--directory_odk', help='The directory containing the ODK output excel files.'\n",
    "- '-x', '--export_dir', help='Enter the export directory for all of the final outputs.', default is set to, r\"Z:\\DENR_Satellite_Imagery\\Scratch\\Zonal_Stats_Pipeline\\rmb_fractional_cover_zonal_stats\\outputs\"\n",
    "- '-i', '--image_count', type=int, help='Enter the minimum amount of Landsat images required per tile as an integer (i.e. 800).', default is set to 800\n",
    "- '-l', '--landsat_dir', help='Enter the Landsat Directory path', default is set to 'Z:\\Landsat\\wrs2'.\n",
    "- '-n', '--no_data', help='Enter the Landsat Fractional Cover no data value (i.e. 0)', default is set to 0.\n",
    "- '-r', '--rainfall_dir', help='Enter the rainfall image directory path.', default is set to r'E:\\DENR\\code\\rangeland_monitoring\\fractional_cover_zonal_stats_pipeline\\assets\\rainfall_raster'.\n",
    "- '-s1', '--search_criteria1', help='Enter the end name search criteria string for the fractional cover Landsat images (i.e. 'dilm2_zstdmask.img').', default is set to 'dilm2_zstdmask.img'.\n",
    "- '-s2', '--search_criteria2', help='Enter the end name search criteria string for the fractional cover Landsat images (i.e. 'dilm3_zstdmask.img').', default is set to 'dilm3_zstdmask.img'.\n",
    "- '-s3', '--search_criteria3', help='Enter the end name search criteria string for the QLD Rainfall images (i.e. '.img').', default='.img'.\n",
    "- '-e', '--end_date', help='Final date for the rainfall data override (i.e.2020-08-31) Do not enter if you want the script to determine the finish date..', default is set to '2020-08-31'.\n",
    "- '-v', '--visits', help='Path to the latest integrated site shapefile containing previous visit information (default).', default is set to r'E:\\DENR\\code\\rangeland_monitoring\\rmb_zonal_plots_ploting_pipeline\\assets\\shapefiles\\NT_StarTransect_20200713.shp'.\n",
    "- '-p', '--pastoral_estate', help='File path to the pastoral estate shapefile.', default is set to  r'E:\\DENR\\code\\rangeland_monitoring\\fractional_cover_zonal_stats_pipeline\\assets\\shapefiles\\pastoral_estate.shp'.\n",
    "- '-m', '--rolling_mean', help='Integer value (i.e 3 or 5) to create the rolling mean of the date.', default is set to 5."
   ]
  },
  {
   "cell_type": "markdown",
   "metadata": {},
   "source": [
    "•\tTile grid - The file path to the Landsat Tile Grid shapefile.\n",
    "    Default: E:\\DENR\\code\\rangeland_monitoring\\rmb_fractional_cover_zonal_stats_pipeline\\assets\\shapefiles\\Landsat_wrs2_TileGrid.shp\n",
    "\n",
    "•\tDirectory odk - The directory containing the ODK output excel files at a property level, or the complete output derived from RMB Aggregate Processing Pipeline.\n",
    "    No default\n",
    "\n",
    "•\tExport dir - The export directory for all of outputs (temporary folder).\n",
    "    Default:  Z:\\Scratch\\Zonal_Stats_Pipeline\\rmb_fractional_cover_zonal_stats\\outputs\n",
    "\n",
    "•\tImage count - The minimum amount of Landsat images required per tile as an integer (i.e. 950).\n",
    "     Default: 950 (default is updated annually) \n",
    "     \n",
    "•\tLandsat dir – The file path to the Landsat tile directory\n",
    "    Default: Z:\\Landsat\\wrs2\n",
    "    \n",
    "•\tNo data - The Landsat Fractional Cover no data value (i.e. 0)\n",
    "    Default: 0\n",
    "    \n",
    "•\tRainfall dir - The file path to the rainfall raster image directory.\n",
    "    Default: Z:\\Scratch\\Zonal_Stats_Pipeline\\rainfall\n",
    "•\tSearch criteria 1 - The end name search criteria string for Landsat Fractional Cover rasters (i.e. dilm2_zstdmask.img).\n",
    "    Default: dilm2_zstdmask.img\n",
    "    \n",
    "•\tSearch criteria 2 - The end name search criteria string for Landsat Fractional Cover rasters (i.e. dilm3_zstdmask.img).\n",
    "    Default: dilm3_zstdmask.img\n",
    "    \n",
    "•\tSearch criteria 3 - The end name search criteria string for QLD Gov derived rainfall images (i.e. '.img').\n",
    "    Default: '.img'\n",
    "    \n",
    "•\tEnd date - Final date for the plotting of rainfall data.\n",
    "    Default: 2021-08-31\n",
    "    \n",
    "•\tVisits – File path to the latest integrated site shapefile containing previous visit history.\n",
    "    Default: E:\\DENR\\code\\rangeland_monitoring\\rmb_zonal_plots_ploting_pipeline\\assets\\shapefiles\\NT_StarTransect_20200713.shp\n",
    "    \n",
    "•\tPastoral estate - File path to the pastoral estate shapefile.\n",
    "    Default: E:\\DENR\\code\\rangeland_monitoring\\rmb_fractional_cover_zonal_stats_pipeline\\assets\\shapefiles\\pastoral_estate.shp\n",
    "    \n",
    "•\tRolling mean - Integer value (i.e 3 or 5) to create the plotting rolling mean of the date.\n",
    "    Default: 5\n",
    "    \n",
    "•\tPastoral districts dir - File path to the Pastoral Districts directory.\n",
    "    Default: Z:\\Scratch\\Zonal_Stats_Pipeline\\rmb_aggregate_processing\\Pastoral_Districts\n"
   ]
  },
  {
   "cell_type": "markdown",
   "metadata": {},
   "source": [
    "#### Known issues"
   ]
  },
  {
   "cell_type": "markdown",
   "metadata": {},
   "source": [
    "- Running this script outside of the remote desktop will be slow especially for the regions. \n",
    "    - Alice Springs should only run on the remote server.\n",
    "    - Katherine is unknown at this time.\n",
    "    - Darwin can run it locally or on the remote server.\n",
    "    \n",
    "- Running this script on the remote server in the base Anaconda environment will not connect to the reproject database; as such, you will have false projection shapefiles.\n",
    "- Jupyter notebooks holds items in memory, if you change a command argument, you may need to end the Kernel (Restart & Clear Output).\n"
   ]
  },
  {
   "cell_type": "markdown",
   "metadata": {},
   "source": [
    "### Check that you have connected to the project database"
   ]
  },
  {
   "cell_type": "code",
   "execution_count": 1,
   "metadata": {},
   "outputs": [
    {
     "data": {
      "text/plain": [
       "<Geographic 2D CRS: GEOGCS[\"GDA94\",DATUM[\"D_GDA_1994\",SPHEROID[\"GRS_19 ...>\n",
       "Name: GDA94\n",
       "Axis Info [ellipsoidal]:\n",
       "- lon[east]: Longitude (Degree)\n",
       "- lat[north]: Latitude (Degree)\n",
       "Area of Use:\n",
       "- undefined\n",
       "Datum: Geocentric Datum of Australia 1994\n",
       "- Ellipsoid: GRS 1980\n",
       "- Prime Meridian: Greenwich"
      ]
     },
     "execution_count": 1,
     "metadata": {},
     "output_type": "execute_result"
    }
   ],
   "source": [
    "import geopandas as gpd\n",
    "import os\n",
    "\n",
    "path_parent = os.path.dirname(os.getcwd())\n",
    "previous_visists_shapefile =  r\"C:\\Users\\uavra\\image_processing\\shapefiles\\NT_Pastoral_Estate.shp\"\n",
    "gdf = gpd.read_file(previous_visists_shapefile)\n",
    "gdf.crs"
   ]
  },
  {
   "cell_type": "markdown",
   "metadata": {},
   "source": [
    "##### Do your results look like this?"
   ]
  },
  {
   "cell_type": "markdown",
   "metadata": {},
   "source": [
    "<Geographic 2D CRS: EPSG:4326>\n",
    "Name: WGS 84\n",
    "Axis Info [ellipsoidal]:\n",
    "- Lat[north]: Geodetic latitude (degree)\n",
    "- Lon[east]: Geodetic longitude (degree)\n",
    "Area of Use:\n",
    "- name: World\n",
    "- bounds: (-180.0, -90.0, 180.0, 90.0)\n",
    "Datum: World Geodetic System 1984\n",
    "- Ellipsoid: WGS 84\n",
    "- Prime Meridian: Greenwich\n"
   ]
  },
  {
   "cell_type": "markdown",
   "metadata": {},
   "source": [
    "If yes, you are ready to run some code.\n",
    "\n",
    "If not, open this notebook from within the conda environment zonal, and try again.\n",
    "\n",
    "Still having issues? Contact Rob or Grant on Teams, sharing your screen to trouble shoot."
   ]
  },
  {
   "cell_type": "markdown",
   "metadata": {},
   "source": [
    "## Run the RMB Fractional Cover Zonal Stats Pipeline"
   ]
  },
  {
   "cell_type": "markdown",
   "metadata": {},
   "source": [
    "#### Change your working directory"
   ]
  },
  {
   "cell_type": "code",
   "execution_count": 1,
   "metadata": {
    "scrolled": true
   },
   "outputs": [
    {
     "name": "stdout",
     "output_type": "stream",
     "text": [
      "E:\\DENR\\code\\rangeland_monitoring\\rmb_fractional_cover_zonal_stats_pipeline_tif\\code\n"
     ]
    }
   ],
   "source": [
    "import os\n",
    "path_parent = os.path.dirname(os.getcwd())\n",
    "code_dir =  path_parent +  '\\\\code'\n",
    "os.chdir(code_dir)\n",
    "print(os.getcwd())\n",
    "# path should be: E:\\DENR\\code\\rangeland_monitoring\\fractional_cover_zonal_stats_pipeline\\code"
   ]
  },
  {
   "cell_type": "code",
   "execution_count": 2,
   "metadata": {},
   "outputs": [],
   "source": [
    "#run step1_1_initiate_fractional_cover_zonal_stats_pipeline.py -h"
   ]
  },
  {
   "cell_type": "code",
   "execution_count": 3,
   "metadata": {},
   "outputs": [
    {
     "name": "stdout",
     "output_type": "stream",
     "text": [
      "The following temporary directory will be created:  \\rmcgr_20211019_0751\n",
      "The following export directory will be created:  Z:\\Scratch\\Zonal_Stats_Pipeline\\rmb_fractional_cover_zonal_stats\\outputs\\rmcgr_20211019_0751\n",
      "--------------------------------------------------\n",
      "rain_finish_date:  2021-09-30\n",
      "The following ODK forms were identified for processing:\n",
      " - Integrated:  1\n",
      "tile_status_dir: Z:\\Scratch\\Zonal_Stats_Pipeline\\rmb_fractional_cover_zonal_stats\\outputs\\rmcgr_20211019_0751\\tile_status\n",
      "==================================================\n",
      "Confirm that there are sufficient fractional cover tiles for processing\n",
      "landsat_tile_dir:  Z:\\Landsat\\wrs2\\106_073\n",
      " - Total fractional cover tiles located:  991\n",
      " - Minimum tiles (command argument):  950\n",
      "==================================================\n",
      "--------------------------------------------------\n",
      "zonal_stats_output:  Z:\\Scratch\\Zonal_Stats_Pipeline\\rmb_fractional_cover_zonal_stats\\outputs\\rmcgr_20211019_0751\\zonal_stats\n",
      "Z:\\Scratch\\Zonal_Stats_Pipeline\\rmb_fractional_cover_zonal_stats\\outputs\\rmcgr_20211019_0751\\tile_status\\for_processing\\106_073_landsat_tile_list.csv\n",
      "==================================================\n",
      "Working on tile:  106073\n",
      "==================================================\n",
      "......\n",
      "Z:\\Scratch\\Zonal_Stats_Pipeline\\rmb_fractional_cover_zonal_stats\\outputs\\rmcgr_20211019_0751\\zonal_stats\\WLM_Wallamunga_106073_zonal_stats.csv\n",
      "==================================================\n",
      "tile:  Z:\\Scratch\\Zonal_Stats_Pipeline\\rmb_fractional_cover_zonal_stats\\outputs\\rmcgr_20211019_0751\\tile_status\\for_processing\\106_073_landsat_tile_list.csv\n",
      "complete_tile:  106073\n",
      "==================================================\n",
      "tile:  Z:\\Scratch\\Zonal_Stats_Pipeline\\rmb_fractional_cover_zonal_stats\\outputs\\rmcgr_20211019_0751\\tile_status\\for_processing\\106_073_landsat_tile_list.csv\n",
      "complete_tile:  106073\n",
      "\n",
      "--------------------------------------------------\n",
      "rain_finish_date:  2021-09-30\n",
      "2021-09-30\n",
      "prop_dist_dict:  {'ADDER': 'Barkly', 'AILERON': 'Northern Alice Springs', 'ALEXANDRIA': 'Barkly', 'ALLAMBI': 'Southern Alice Springs', 'ALROY DOWNS': 'Barkly', 'AMBALINDUM': 'Northern Alice Springs', 'AMBURLA': 'Northern Alice Springs', 'AMMAROO': 'Plenty', 'AMUNGEE MUNGEE': 'Gulf', 'ANDADO': 'Southern Alice Springs', 'ANGAS DOWNS': 'Southern Alice Springs', 'ANNINGIE': 'Northern Alice Springs', 'ANNITOWA': 'Tennant Creek', 'ANTHONY LAGOON': 'Barkly', 'ARAPUNYA': 'Plenty', 'ARGADARGADA': 'Plenty', 'AROONA': 'Katherine', 'AUSTRAL DOWNS': 'Barkly', 'AUVERGNE': 'VRD', 'AVAGO': 'Sturt Plateau', 'AVON DOWNS': 'Barkly', 'BAN BAN SPRINGS': 'Darwin', 'BANJO': 'Sturt Plateau', 'BANKA BANKA EAST': 'Barkly', 'BANKA BANKA WEST': 'Barkly', 'BEETALOO': 'Barkly', 'BENMARA': 'Barkly', 'BIG RIVER': 'Roper', 'BIRDUM CREEK': 'Sturt Plateau', 'BIRRIMBA': 'Sturt Plateau', 'BIRRINDUDU': 'VRD', 'BLOODWOOD DOWNS': 'Sturt Plateau', 'BOND SPRINGS': 'Northern Alice Springs', 'BONROOK': 'Darwin', 'BRIDGE CREEK': 'Darwin', 'BROADMERE': 'Gulf', 'BRUNCHILLY': 'Barkly', 'BRUNETTE DOWNS': 'Barkly', 'BUCHANAN DOWNS': 'Sturt Plateau', 'BULLO RIVER': 'VRD', 'BUNDA': 'VRD', 'BURRAMURRA': 'Barkly', 'BUSHY PARK': 'Northern Alice Springs', 'CALVERT HILLS': 'Gulf', 'CAMFIELD': 'VRD', 'CATTLE CREEK': 'VRD', 'CLARAVALE': 'Darwin', 'CONISTON': 'Northern Alice Springs', 'CONWAY': 'Roper', 'COW CREEK': 'Sturt Plateau', 'CRESSWELL DOWNS': 'Barkly', 'CURTIN SPRINGS': 'Southern Alice Springs', 'DALMORE DOWNS': 'Barkly', 'DEEP WELL': 'Southern Alice Springs', 'DELAMERE': 'VRD', 'DELMORE DOWNS': 'Northern Alice Springs', 'DELNY': 'Northern Alice Springs', 'DERRY DOWNS': 'Plenty', 'DERWENT': 'Northern Alice Springs', 'DIXIE': 'Katherine', 'DNEIPER': 'Northern Alice Springs', 'DORISVALE': 'Darwin', 'DOUGLAS': 'Darwin', 'DOUGLAS SOUTH': 'Darwin', 'DOUGLAS WEST': 'Darwin', 'DRY RIVER': 'Sturt Plateau', 'DUNGOWAN': 'Sturt Plateau', 'EAST RANKEN': 'Barkly', 'ELIZABETH DOWNS': 'Darwin', 'ELKEDRA': 'Tennant Creek', 'EPENARRA': 'Tennant Creek', 'ERLDUNDA': 'Southern Alice Springs', 'EVA DOWNS': 'Barkly', 'FLORINA': 'Katherine', 'FLYING FOX': 'Roper', 'FORREST HILL': 'Sturt Plateau', 'GEORGINA DOWNS': 'Barkly', 'GILNOCKIE': 'Sturt Plateau', 'GLEN HELEN': 'Northern Alice Springs', 'GOONDOOLOO': 'Roper', 'GORRIE': 'Sturt Plateau', 'GREENBANK': 'Gulf', 'HAMILTON DOWNS': 'Northern Alice Springs', 'HAYFIELD': 'Sturt Plateau', 'HELEN SPRINGS': 'Barkly', 'HENBURY': 'Southern Alice Springs', 'HIDDEN VALLEY': 'Sturt Plateau', 'HODGSON RIVER': 'Gulf', 'HORSESHOE BEND': 'Southern Alice Springs', 'HUCKITTA': 'Plenty', 'HUMBERT RIVER': 'VRD', 'IDRACOWRA': 'Southern Alice Springs', 'INDIANA': 'Plenty', 'INVERWAY': 'VRD', 'JERVOIS': 'Plenty', 'JINDARE': 'Darwin', 'JINKA': 'Plenty', 'KALALA': 'Sturt Plateau', 'KATHERINE DOWNS': 'Katherine', 'KIANA': 'Gulf', 'KILLARNEY': 'VRD', 'KIRKIMBIE': 'VRD', 'KOOLPINYAH': 'Darwin', 'KURUNDI': 'Tennant Creek', 'LABELLE DOWNS': 'Darwin', 'LAKE NASH': 'Barkly', 'LAKEFIELD': 'Sturt Plateau', 'LARRIZONA': 'Sturt Plateau', 'LEGUNE': 'VRD', 'LILLA CREEK': 'Southern Alice Springs', 'LIMBUNYA': 'VRD', 'LITCHFIELD': 'Darwin', 'LONESOME DOVE': 'Roper', 'LORELLA': 'Gulf', 'LUCY CREEK': 'Plenty', 'LYNDAVALE': 'Southern Alice Springs', 'MACDONALD DOWNS': 'Northern Alice Springs', 'MAINORU': 'Roper', 'MALLAPUNYAH SPRINGS': 'Gulf', 'MANANGOORA': 'Gulf', 'MANBULLOO': 'Katherine', 'MANNERS CREEK': 'Plenty', 'MARGARET DOWNS': 'Sturt Plateau', 'MARQUA': 'Plenty', 'MARRAKAI': 'Darwin', 'MARY RIVER EAST': 'Darwin', 'MARY RIVER WEST': 'Darwin', 'MARYFIELD': 'Sturt Plateau', 'MARYVALE': 'Southern Alice Springs', 'MATHISON': 'Katherine', 'MCARTHUR RIVER': 'Gulf', 'MCKINLAY RIVER': 'Darwin', 'MIDDLE CREEK': 'Sturt Plateau', 'MITTIEBAH': 'Barkly', 'MONTEJINNI EAST': 'VRD', 'MONTEJINNI WEST': 'VRD', 'MOROAK': 'Roper', 'MOUNT CAVENAGH': 'Southern Alice Springs', 'MOUNT DENISON': 'Northern Alice Springs', 'MOUNT DOREEN': 'Northern Alice Springs', 'MOUNT DRUMMOND': 'Barkly', 'MOUNT EBENEZER': 'Southern Alice Springs', 'MOUNT KEPPLER': 'Darwin', 'MOUNT MCMINN': 'Roper', 'MOUNT RIDDOCK': 'Northern Alice Springs', 'MOUNT RINGWOOD': 'Darwin', 'MOUNT SKINNER': 'Northern Alice Springs', 'MOUNTAIN VALLEY': 'Roper', 'MULGA PARK': 'Southern Alice Springs', 'MUNGABROOM': 'Barkly', 'MURRANJI': 'Sturt Plateau', 'MURRAY DOWNS': 'Tennant Creek', 'NAMUL-NAMUL': 'Roper', 'NAPPERBY': 'Northern Alice Springs', 'NARWIETOOMA': 'Northern Alice Springs', 'NENEN': 'Sturt Plateau', 'NEUTRAL JUNCTION': 'Northern Alice Springs', 'NEW CROWN': 'Southern Alice Springs', 'NEWCASTLE WATERS': 'Barkly', 'NEWHAVEN': 'Northern Alice Springs', 'NEWRY': 'VRD', 'NUMERY': 'Southern Alice Springs', 'NUTWOOD DOWNS': 'Gulf', 'OLD MACDONALD DOWNS': 'Northern Alice Springs', 'OLD MOUNT BUNDEY': 'Darwin', 'OORATIPPRA': 'Plenty', 'ORANGE CREEK': 'Southern Alice Springs', 'OWEN SPRINGS': 'Southern Alice Springs', 'PALMER VALLEY': 'Southern Alice Springs', 'PHILLIP CREEK': 'Tennant Creek', 'PINE HILL': 'Northern Alice Springs', 'POWELL CREEK': 'Barkly', 'PROVIDENCE': 'Sturt Plateau', 'PUNGALINA': 'Gulf', 'RINGWOOD': 'Southern Alice Springs', 'RIVEREN': 'VRD', 'ROCKHAMPTON DOWNS': 'Barkly', 'ROCKLANDS': 'Barkly', 'ROSEWOOD': 'VRD', 'SCOTT CREEK': 'Katherine', 'SEVEN EMU': 'Gulf', 'SHENANDOAH': 'Sturt Plateau', 'SHENANDOAH EAST': 'Sturt Plateau', 'SINGLETON': 'Tennant Creek', 'SOUDAN': 'Barkly', 'SPIRIT HILLS': 'VRD', 'SPRING CREEK': 'Gulf', 'STAPLETON': 'Katherine', 'STIRLING': 'Northern Alice Springs', 'SUNDAY CREEK': 'Sturt Plateau', 'SUPLEJACK': 'VRD', 'TANDYIDGEE': 'Barkly', 'TANUMBIRINI': 'Gulf', 'TARLEE': 'Sturt Plateau', 'TARLTON DOWNS': 'Plenty', 'TENNANT CREEK': 'Tennant Creek', 'THE GARDEN': 'Northern Alice Springs', 'TIPPERARY EAST': 'Darwin', 'TIPPERARY WEST': 'Darwin', 'TOBERMOREY': 'Plenty', 'TODD RIVER': 'Southern Alice Springs', 'UCHARONIDGE': 'Barkly', 'UMBEARA': 'Southern Alice Springs', 'UNDOOLYA': 'Southern Alice Springs', 'VERMELHA': 'Sturt Plateau', 'VICTORIA RIVER DOWNS': 'VRD', 'VICTORY DOWNS': 'Southern Alice Springs', 'WALHALLOW': 'Barkly', 'WALLAMUNGA': 'VRD', 'WATERLOO': 'VRD', 'WAVE HILL': 'VRD', 'WELLTREE': 'Darwin', 'WEST RANKEN': 'Barkly', 'WESTERN CREEK': 'Sturt Plateau', 'WILLEROO': 'Katherine', 'WOLLOGORANG': 'Gulf', 'WOMBUNGI': 'VRD', 'WONGALARA': 'Roper', 'WOODGREEN': 'Northern Alice Springs', 'WOOLNER': 'Darwin', 'WYWORRIE': 'Sturt Plateau', 'YAMBAH': 'Northern Alice Springs'}\n",
      "prop_tag_dict:  {'ADDER': 'ADR', 'AILERON': 'ALN', 'ALEXANDRIA': 'AXA', 'ALLAMBI': 'ALB', 'ALROY DOWNS': 'ARD', 'AMBALINDUM': 'ALM', 'AMBURLA': 'AMB', 'AMMAROO': 'AMO', 'AMUNGEE MUNGEE': 'AMG', 'ANDADO': 'ADO', 'ANGAS DOWNS': 'AGD', 'ANNINGIE': 'ANG', 'ANNITOWA': 'ATW', 'ANTHONY LAGOON': 'ATL', 'ARAPUNYA': 'APY', 'ARGADARGADA': 'ARG', 'AROONA': 'ANA', 'AUSTRAL DOWNS': 'ASD', 'AUVERGNE': 'AVN', 'AVAGO': 'AGO', 'AVON DOWNS': 'AVD', 'BAN BAN SPRINGS': 'BBS', 'BANJO': 'BJO', 'BANKA BANKA EAST': 'BKE', 'BANKA BANKA WEST': 'BKW', 'BEETALOO': 'BTL', 'BENMARA': 'BMA', 'BIG RIVER': 'BGR', 'BIRDUM CREEK': 'BDC', 'BIRRIMBA': 'BIB', 'BIRRINDUDU': 'BDU', 'BLOODWOOD DOWNS': 'BWD', 'BOND SPRINGS': 'BDS', 'BONROOK': 'BRK', 'BRIDGE CREEK': 'BCK', 'BROADMERE': 'BDM', 'BRUNCHILLY': 'BCY', 'BRUNETTE DOWNS': 'BND', 'BUCHANAN DOWNS': 'BCD', 'BULLO RIVER': 'BLR', 'BUNDA': 'BDA', 'BURRAMURRA': 'BRM', 'BUSHY PARK': 'BSP', 'CALVERT HILLS': 'CVH', 'CAMFIELD': 'CFD', 'CATTLE CREEK': 'CTC', 'CLARAVALE': 'CLV', 'CONISTON': 'CST', 'CONWAY': 'CNW', 'COW CREEK': 'CWC', 'CRESSWELL DOWNS': 'CRW', 'CURTIN SPRINGS': 'CTS', 'DALMORE DOWNS': 'DLD', 'DEEP WELL': 'DWL', 'DELAMERE': 'DLM', 'DELMORE DOWNS': 'DMD', 'DELNY': 'DLY', 'DERRY DOWNS': 'DRD', 'DERWENT': 'DWT', 'DIXIE': 'DXE', 'DNEIPER': 'DNR', 'DORISVALE': 'DVL', 'DOUGLAS': 'DGL', 'DOUGLAS SOUTH': 'DGS', 'DOUGLAS WEST': 'DGW', 'DRY RIVER': 'DYR', 'DUNGOWAN': 'DGN', 'EAST RANKEN': 'ERK', 'ELIZABETH DOWNS': 'ELD', 'ELKEDRA': 'EKD', 'EPENARRA': 'EPN', 'ERLDUNDA': 'EDA', 'EVA DOWNS': 'EVD', 'FLORINA': 'FLR', 'FLYING FOX': 'FYF', 'FORREST HILL': 'FOH', 'GEORGINA DOWNS': 'GGD', 'GILNOCKIE': 'GNK', 'GLEN HELEN': 'GHN', 'GOONDOOLOO': 'GDL', 'GORRIE': 'GRW', 'GREENBANK': 'GBK', 'HAMILTON DOWNS': 'HMD', 'HAYFIELD': 'HFD', 'HELEN SPRINGS': 'HLS', 'HENBURY': 'HBY', 'HIDDEN VALLEY': 'HDV', 'HODGSON RIVER': 'HDR', 'HORSESHOE BEND': 'HSB', 'HUCKITTA': 'HKT', 'HUMBERT RIVER': 'HBR', 'IDRACOWRA': 'ICR', 'INDIANA': 'IDA', 'INVERWAY': 'INV', 'JERVOIS': 'JVS', 'JINDARE': 'JDR', 'JINKA': 'JKA', 'KALALA': 'KLA', 'KATHERINE DOWNS': 'KTD', 'KIANA': 'KNA', 'KILLARNEY': 'KLY', 'KIRKIMBIE': 'KKB', 'KOOLPINYAH': 'KPH', 'KURUNDI': 'KRD', 'LABELLE DOWNS': 'LBD', 'LAKE NASH': 'LKN', 'LAKEFIELD': 'LKF', 'LARRIZONA': 'LRZ', 'LEGUNE': 'LEG', 'LILLA CREEK': 'LLC', 'LIMBUNYA': 'LBY', 'LITCHFIELD': 'LTF', 'LONESOME DOVE': 'LSD', 'LORELLA': 'LRL', 'LUCY CREEK': 'LCC', 'LYNDAVALE': 'LDV', 'MACDONALD DOWNS': 'MCD', 'MAINORU': 'MNU', 'MALLAPUNYAH SPRINGS': 'MLP', 'MANANGOORA': 'MNG', 'MANBULLOO': 'MBL', 'MANNERS CREEK': 'MNC', 'MARGARET DOWNS': 'MGD', 'MARQUA': 'MQA', 'MARRAKAI': 'MKI', 'MARY RIVER EAST': 'MRE', 'MARY RIVER WEST': 'MRW', 'MARYFIELD': 'MYF', 'MARYVALE': 'MVL', 'MATHISON': 'MTH', 'MCARTHUR RIVER': 'MAR', 'MCKINLAY RIVER': 'MKY', 'MIDDLE CREEK': 'MDC', 'MITTIEBAH': 'MTB', 'MONTEJINNI EAST': 'MJE', 'MONTEJINNI WEST': 'MJW', 'MOROAK': 'MOK', 'MOUNT CAVENAGH': 'MCV', 'MOUNT DENISON': 'MDS', 'MOUNT DOREEN': 'MDR', 'MOUNT DRUMMOND': 'MDM', 'MOUNT EBENEZER': 'MEZ', 'MOUNT KEPPLER': 'MKP', 'MOUNT MCMINN': 'MTM', 'MOUNT RIDDOCK': 'MRK', 'MOUNT RINGWOOD': 'MRG', 'MOUNT SKINNER': 'MSK', 'MOUNTAIN VALLEY': 'MTV', 'MULGA PARK': 'MGP', 'MUNGABROOM': 'MGB', 'MURRANJI': 'MRJ', 'MURRAY DOWNS': 'MYD', 'NAMUL-NAMUL': 'NML', 'NAPPERBY': 'NPB', 'NARWIETOOMA': 'NWT', 'NENEN': 'NEN', 'NEUTRAL JUNCTION': 'NTJ', 'NEW CROWN': 'NCN', 'NEWCASTLE WATERS': 'NCW', 'NEWHAVEN': 'NHV', 'NEWRY': 'NWY', 'NUMERY': 'NMY', 'NUTWOOD DOWNS': 'NWD', 'OLD MACDONALD DOWNS': 'OMD', 'OLD MOUNT BUNDEY': 'OMB', 'OORATIPPRA': 'OTP', 'ORANGE CREEK': 'ORC', 'OWEN SPRINGS': 'OWS', 'PALMER VALLEY': 'PMV', 'PHILLIP CREEK': 'PLC', 'PINE HILL': 'PNH', 'POWELL CREEK': 'PWC', 'PROVIDENCE': 'PRV', 'PUNGALINA': 'PGL', 'RINGWOOD': 'RGW', 'RIVEREN': 'RVN', 'ROCKHAMPTON DOWNS': 'RHD', 'ROCKLANDS': 'RKL', 'ROSEWOOD': 'RSW', 'SCOTT CREEK': 'STC', 'SEVEN EMU': 'SVE', 'SHENANDOAH': 'SDH', 'SHENANDOAH EAST': 'SDE', 'SINGLETON': 'SGN', 'SOUDAN': 'SDN', 'SPIRIT HILLS': 'SPH', 'SPRING CREEK': 'SPC', 'STAPLETON': 'STP', 'STIRLING': 'STL', 'SUNDAY CREEK': 'SDC', 'SUPLEJACK': 'SPJ', 'TANDYIDGEE': 'TDG', 'TANUMBIRINI': 'TMR', 'TARLEE': 'TLE', 'TARLTON DOWNS': 'TLD', 'TENNANT CREEK': 'TNC', 'THE GARDEN': 'TGN', 'TIPPERARY EAST': 'TPE', 'TIPPERARY WEST': 'TPW', 'TOBERMOREY': 'TBM', 'TODD RIVER': 'TDR', 'UCHARONIDGE': 'URG', 'UMBEARA': 'UBR', 'UNDOOLYA': 'UDL', 'VERMELHA': 'VMH', 'VICTORIA RIVER DOWNS': 'VRD', 'VICTORY DOWNS': 'VTD', 'WALHALLOW': 'WLH', 'WALLAMUNGA': 'WLM', 'WATERLOO': 'WTL', 'WAVE HILL': 'WVH', 'WELLTREE': 'WLT', 'WEST RANKEN': 'WRK', 'WESTERN CREEK': 'WCW', 'WILLEROO': 'WLR', 'WOLLOGORANG': 'WLN', 'WOMBUNGI': 'WGI', 'WONGALARA': 'WLO', 'WOODGREEN': 'WDG', 'WOOLNER': 'WNR', 'WYWORRIE': 'WYW', 'YAMBAH': 'YBH'}\n",
      "2_1_tile:  Z:\\Scratch\\Zonal_Stats_Pipeline\\rmb_fractional_cover_zonal_stats\\outputs\\rmcgr_20211019_0751\\zonal_stats\\WLM_Wallamunga_106073_zonal_stats.csv\n",
      "==================================================\n"
     ]
    },
    {
     "name": "stdout",
     "output_type": "stream",
     "text": [
      "final_tile:  106073\n",
      "complete_tile:  106073\n",
      "start_date:  1988-05-01\n",
      "finish_date:  2021-09-30\n",
      "complete_tile:  106073\n",
      "==================================================\n",
      "plot_bare_g complete tile:  106073\n",
      "==================================================\n",
      "plot_bare_g complete tile:  106073\n",
      "==================================================\n",
      "plot_bare_g complete tile:  106073\n",
      "==================================================\n",
      "plot_bare_g complete tile:  106073\n",
      "==================================================\n",
      "plot_bare_g complete tile:  106073\n",
      "==================================================\n",
      "plot_bare_g complete tile:  106073\n",
      "==================================================\n",
      "plot_bare_g complete tile:  106073\n",
      "==================================================\n",
      "plot_bare_g complete tile:  106073\n",
      "==================================================\n",
      "plot_bare_g complete tile:  106073\n",
      "PPPPPPPPPPPPPPPPPPPPPPPPPPPPPPPPPPPPPPPPPPPPPPPPPP\n",
      "file_path:  Z:\\Scratch\\Zonal_Stats_Pipeline\\rmb_fractional_cover_zonal_stats\\outputs\\rmcgr_20211019_0751\\zonal_stats\\WLM_Wallamunga_106073_zonal_stats.csv\n",
      "file:  WLM_Wallamunga_106073_zonal_stats.csv\n",
      "--------------------------------------------------\n",
      "tile_:  106073\n",
      "ind_prop_output:  Z:\\Scratch\\Zonal_Stats_Pipeline\\rmb_fractional_cover_zonal_stats\\outputs\\rmcgr_20211019_0751\\prop_output\\Wallamunga\n",
      "line 72 file output:  Z:\\Scratch\\Zonal_Stats_Pipeline\\rmb_fractional_cover_zonal_stats\\outputs\\rmcgr_20211019_0751\\prop_output\\Wallamunga\\Wallamunga_106073_fc_zonal_stats.csv\n",
      "matching_path:  ['U:\\\\Pastoral_Districts\\\\Vrd\\\\WLM_Wallamunga']\n",
      "prop_dir_path:  U:\\Pastoral_Districts\\Vrd\\WLM_Wallamunga\n",
      "dest_prop_path:  U:\\Pastoral_Districts\\Vrd\\WLM_Wallamunga\\Data\\Rs_Outputs\\Zonal_Stats\n",
      "raw_year_dir_path:  U:\\Pastoral_Districts\\Vrd\\WLM_Wallamunga\\Data\\Rs_Outputs\\Zonal_Stats\\2021\\Raw\n",
      "line 84 site df output:  U:\\Pastoral_Districts\\Vrd\\WLM_Wallamunga\\Data\\Rs_Outputs\\Zonal_Stats\\2021\\Raw\\Wallamunga_106073_fc_zonal_stats.csv\n",
      "TTTTTTTTTTTTTTTTTTTTTTTTTTTTTTTTTTTTTTTTTTTTTTTTTT\n",
      "PPPPPPPPPPPPPPPPPPPPPPPPPPPPPPPPPPPPPPPPPPPPPPPPPP\n",
      "file_path:  Z:\\Scratch\\Zonal_Stats_Pipeline\\rmb_fractional_cover_zonal_stats\\outputs\\rmcgr_20211019_0751\\rainfall\\WLM_Wallamunga_106073_rainfall_zonal_stats.csv\n",
      "file:  WLM_Wallamunga_106073_rainfall_zonal_stats.csv\n",
      "106073\n",
      "--------------------------------------------------\n",
      "tile_:  106073\n",
      "ind_prop_output:  Z:\\Scratch\\Zonal_Stats_Pipeline\\rmb_fractional_cover_zonal_stats\\outputs\\rmcgr_20211019_0751\\prop_output\\Wallamunga\n",
      "line 72 file output:  Z:\\Scratch\\Zonal_Stats_Pipeline\\rmb_fractional_cover_zonal_stats\\outputs\\rmcgr_20211019_0751\\prop_output\\Wallamunga\\Wallamunga_106073_rain_zonal_stats.csv\n",
      "matching_path:  ['U:\\\\Pastoral_Districts\\\\Vrd\\\\WLM_Wallamunga']\n",
      "prop_dir_path:  U:\\Pastoral_Districts\\Vrd\\WLM_Wallamunga\n",
      "dest_prop_path:  U:\\Pastoral_Districts\\Vrd\\WLM_Wallamunga\\Data\\Rs_Outputs\\Zonal_Stats\n",
      "raw_year_dir_path:  U:\\Pastoral_Districts\\Vrd\\WLM_Wallamunga\\Data\\Rs_Outputs\\Zonal_Stats\\2021\\Raw\n",
      "line 84 site df output:  U:\\Pastoral_Districts\\Vrd\\WLM_Wallamunga\\Data\\Rs_Outputs\\Zonal_Stats\\2021\\Raw\\Wallamunga_106073_rain_zonal_stats.csv\n",
      "TTTTTTTTTTTTTTTTTTTTTTTTTTTTTTTTTTTTTTTTTTTTTTTTTT\n",
      "Zonal stats and plots have been created!!.The zonal stats pipeline has finished.\n",
      "Temporary directory and its contents has been deleted from your working drive.\n",
      "fractional cover zonal stats pipeline is complete.\n",
      "goodbye.\n"
     ]
    }
   ],
   "source": [
    "run step1_1_initiate_fractional_cover_zonal_stats_pipeline.py -d U:\\Pastoral_Districts\\VRD\\WLM_Wallamunga\\Data\\Processed_Odk\\Property\\2021\\Csv"
   ]
  },
  {
   "cell_type": "code",
   "execution_count": null,
   "metadata": {},
   "outputs": [],
   "source": []
  }
 ],
 "metadata": {
  "kernelspec": {
   "display_name": "Python 3",
   "language": "python",
   "name": "python3"
  },
  "language_info": {
   "codemirror_mode": {
    "name": "ipython",
    "version": 3
   },
   "file_extension": ".py",
   "mimetype": "text/x-python",
   "name": "python",
   "nbconvert_exporter": "python",
   "pygments_lexer": "ipython3",
   "version": "3.7.7"
  }
 },
 "nbformat": 4,
 "nbformat_minor": 2
}
