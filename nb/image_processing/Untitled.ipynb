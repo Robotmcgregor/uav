{
 "cells": [
  {
   "cell_type": "code",
   "execution_count": null,
   "metadata": {},
   "outputs": [],
   "source": [
    "#os.environ[\"PROJ_LIB\"] = r\"C:\\Users\\uavra\\Miniconda3\\envs\\rmb_zonal\\Library\\share\""
   ]
  },
  {
   "cell_type": "markdown",
   "metadata": {},
   "source": [
    "https://rasterio.readthedocs.io/en/latest/quickstart.html"
   ]
  },
  {
   "cell_type": "code",
   "execution_count": 1,
   "metadata": {},
   "outputs": [
    {
     "name": "stderr",
     "output_type": "stream",
     "text": [
      "In C:\\ProgramData\\Anaconda3\\lib\\site-packages\\matplotlib\\mpl-data\\stylelib\\_classic_test.mplstyle: \n",
      "The text.latex.preview rcparam was deprecated in Matplotlib 3.3 and will be removed two minor releases later.\n",
      "In C:\\ProgramData\\Anaconda3\\lib\\site-packages\\matplotlib\\mpl-data\\stylelib\\_classic_test.mplstyle: \n",
      "The mathtext.fallback_to_cm rcparam was deprecated in Matplotlib 3.3 and will be removed two minor releases later.\n",
      "In C:\\ProgramData\\Anaconda3\\lib\\site-packages\\matplotlib\\mpl-data\\stylelib\\_classic_test.mplstyle: Support for setting the 'mathtext.fallback_to_cm' rcParam is deprecated since 3.3 and will be removed two minor releases later; use 'mathtext.fallback : 'cm' instead.\n",
      "In C:\\ProgramData\\Anaconda3\\lib\\site-packages\\matplotlib\\mpl-data\\stylelib\\_classic_test.mplstyle: \n",
      "The validate_bool_maybe_none function was deprecated in Matplotlib 3.3 and will be removed two minor releases later.\n",
      "In C:\\ProgramData\\Anaconda3\\lib\\site-packages\\matplotlib\\mpl-data\\stylelib\\_classic_test.mplstyle: \n",
      "The savefig.jpeg_quality rcparam was deprecated in Matplotlib 3.3 and will be removed two minor releases later.\n",
      "In C:\\ProgramData\\Anaconda3\\lib\\site-packages\\matplotlib\\mpl-data\\stylelib\\_classic_test.mplstyle: \n",
      "The keymap.all_axes rcparam was deprecated in Matplotlib 3.3 and will be removed two minor releases later.\n",
      "In C:\\ProgramData\\Anaconda3\\lib\\site-packages\\matplotlib\\mpl-data\\stylelib\\_classic_test.mplstyle: \n",
      "The animation.avconv_path rcparam was deprecated in Matplotlib 3.3 and will be removed two minor releases later.\n",
      "In C:\\ProgramData\\Anaconda3\\lib\\site-packages\\matplotlib\\mpl-data\\stylelib\\_classic_test.mplstyle: \n",
      "The animation.avconv_args rcparam was deprecated in Matplotlib 3.3 and will be removed two minor releases later.\n"
     ]
    },
    {
     "data": {
      "text/plain": [
       "{'divide': 'warn', 'over': 'warn', 'under': 'ignore', 'invalid': 'warn'}"
      ]
     },
     "execution_count": 1,
     "metadata": {},
     "output_type": "execute_result"
    }
   ],
   "source": [
    "from glob import glob\n",
    "\n",
    "import earthpy as et\n",
    "import earthpy.spatial as es\n",
    "import earthpy.plot as ep\n",
    "\n",
    "import rasterio as rio\n",
    "\n",
    "import matplotlib.pyplot as plt\n",
    "import numpy as np\n",
    "from matplotlib.colors import ListedColormap\n",
    "\n",
    "#import plotly.graph_objects as go\n",
    "import os\n",
    "\n",
    "np.seterr(divide='ignore', invalid='ignore')"
   ]
  },
  {
   "cell_type": "code",
   "execution_count": 2,
   "metadata": {},
   "outputs": [],
   "source": [
    "path = r\"H:\\Drone\\rtk_testing_2022_v2\\jenkins11\\multi\\jenkins11_rtk_hover_allBands_50_gcp_centre\\3_dsm_ortho\\2_mosaic\""
   ]
  },
  {
   "cell_type": "code",
   "execution_count": 3,
   "metadata": {},
   "outputs": [
    {
     "name": "stdout",
     "output_type": "stream",
     "text": [
      "==================================================\n",
      "sorted_list:  ['H:\\\\Drone\\\\rtk_testing_2022_v2\\\\jenkins11\\\\multi\\\\jenkins11_rtk_hover_allBands_50_gcp_centre\\\\3_dsm_ortho\\\\2_mosaic\\\\jenkins11_rtk_hover_allBands_50_gcp_centre_mosaic_blue.tif', 'H:\\\\Drone\\\\rtk_testing_2022_v2\\\\jenkins11\\\\multi\\\\jenkins11_rtk_hover_allBands_50_gcp_centre\\\\3_dsm_ortho\\\\2_mosaic\\\\jenkins11_rtk_hover_allBands_50_gcp_centre_mosaic_green.tif', 'H:\\\\Drone\\\\rtk_testing_2022_v2\\\\jenkins11\\\\multi\\\\jenkins11_rtk_hover_allBands_50_gcp_centre\\\\3_dsm_ortho\\\\2_mosaic\\\\jenkins11_rtk_hover_allBands_50_gcp_centre_mosaic_red.tif', 'H:\\\\Drone\\\\rtk_testing_2022_v2\\\\jenkins11\\\\multi\\\\jenkins11_rtk_hover_allBands_50_gcp_centre\\\\3_dsm_ortho\\\\2_mosaic\\\\jenkins11_rtk_hover_allBands_50_gcp_centre_mosaic_red edge.tif', 'H:\\\\Drone\\\\rtk_testing_2022_v2\\\\jenkins11\\\\multi\\\\jenkins11_rtk_hover_allBands_50_gcp_centre\\\\3_dsm_ortho\\\\2_mosaic\\\\jenkins11_rtk_hover_allBands_50_gcp_centre_mosaic_nir.tif']\n",
      "dir_:  H:\\Drone\\rtk_testing_2022_v2\\jenkins11\\multi\\jenkins11_rtk_hover_allBands_50_gcp_centre\\3_dsm_ortho\\2_mosaic\n",
      "file_name:  jenkins11_rtk_hover_allBands_50_gcp_centre_mosaic_rgb.tif\n",
      "export_file:  H:\\Drone\\rtk_testing_2022_v2\\jenkins11\\multi\\jenkins11_rtk_hover_allBands_50_gcp_centre\\3_dsm_ortho\\2_mosaic\\composite\\jenkins11_rtk_hover_allBands_50_gcp_centre_mosaic_rgb.tif\n"
     ]
    }
   ],
   "source": [
    "sorted_list  = []\n",
    "for band in ['blue', 'green', 'red', 'red edge', 'nir']:\n",
    "    search = os.path.join(path, \"*{0}.tif\".format(band))\n",
    "\n",
    "    band_path = glob(search)\n",
    "    #print('band_path: ', band_path)\n",
    "    #     if 'transparent' not in band_path:\n",
    "    list_ = [x for x in band_path if \"transparent\" not in x]\n",
    "    #     res = [ele for ele in band_path if check_pres(ele, test_str)]\n",
    "        \n",
    "    sorted_list.extend(list_)\n",
    "   \n",
    "print('='*50)\n",
    "print('sorted_list: ', sorted_list)    \n",
    "path_split = os.path.split(sorted_list[0])\n",
    "#print(path_split)\n",
    "dir_ = path_split[0]\n",
    "print('dir_: ', dir_)\n",
    "file_name = path_split[1].replace('blue', 'bgrrenir')\n",
    "print('file_name: ', file_name)    \n",
    "# export_file = sorted_list[0].replace('blue', 'rgb')\n",
    "# print('='*50)\n",
    "# print(export_file)\n",
    "comp_dir = os.path.join(dir_, \"composite\")\n",
    "\n",
    "if not os.path.isdir(comp_dir):\n",
    "    os.mkdir(comp_dir)\n",
    "    \n",
    "export_file = os.path.join(comp_dir, file_name)  \n",
    "print('export_file: ', export_file)"
   ]
  },
  {
   "cell_type": "code",
   "execution_count": 4,
   "metadata": {},
   "outputs": [
    {
     "data": {
      "text/plain": [
       "True"
      ]
     },
     "execution_count": 4,
     "metadata": {},
     "output_type": "execute_result"
    }
   ],
   "source": [
    "import os\n",
    "import earthpy.spatial as es\n",
    "from earthpy.io import path_to_example\n",
    "#band_fnames = sorted_list\n",
    "#band_paths = [path_to_example(fname) for fname in band_fnames]\n",
    "destfile = export_file\n",
    "arr, arr_meta = es.stack(sorted_list, destfile)\n",
    "arr.shape\n",
    "\n",
    "os.path.isfile(destfile)\n",
    "\n",
    "# optionally, clean up example output\n",
    "#os.remove(destfile)"
   ]
  },
  {
   "cell_type": "code",
   "execution_count": null,
   "metadata": {},
   "outputs": [],
   "source": []
  },
  {
   "cell_type": "code",
   "execution_count": null,
   "metadata": {},
   "outputs": [],
   "source": [
    "with rio.open(sorted_list[0]) as src0:\n",
    "    print(src0.crs)\n",
    "    meta = src0.meta\n",
    "    \n",
    "print(meta)"
   ]
  },
  {
   "cell_type": "code",
   "execution_count": null,
   "metadata": {},
   "outputs": [],
   "source": [
    "meta.update(count = len(sorted_list))\n"
   ]
  },
  {
   "cell_type": "code",
   "execution_count": null,
   "metadata": {},
   "outputs": [],
   "source": [
    "print(meta)"
   ]
  },
  {
   "cell_type": "code",
   "execution_count": null,
   "metadata": {},
   "outputs": [],
   "source": [
    "with rio.open(export_file, 'w', **meta) as dst:\n",
    "    for id, layer in enumerate(sorted_list, start=1):\n",
    "        with rio.open(layer) as src1:\n",
    "            dst.write_band(id, src1.read(1))"
   ]
  },
  {
   "cell_type": "code",
   "execution_count": null,
   "metadata": {},
   "outputs": [],
   "source": [
    "with rio.open(export_file) as stack_src:\n",
    "    stack_data = stack_src.read(masked=True)\n",
    "    stack_meta = stack_src.profile"
   ]
  },
  {
   "cell_type": "code",
   "execution_count": null,
   "metadata": {},
   "outputs": [],
   "source": [
    "stack_meta"
   ]
  },
  {
   "cell_type": "code",
   "execution_count": null,
   "metadata": {
    "scrolled": true
   },
   "outputs": [],
   "source": [
    "array, raster_prof = es.stack(sorted_list, out_path=comp_out)"
   ]
  },
  {
   "cell_type": "code",
   "execution_count": null,
   "metadata": {},
   "outputs": [],
   "source": [
    "l = []\n",
    "\n",
    "for i in sorted_list:\n",
    "    with rio.open(i, 'r') as f:\n",
    "        l.append(f.read(1))\n",
    "    \n",
    "arr_st = np.stack(l)\n",
    "\n"
   ]
  },
  {
   "cell_type": "code",
   "execution_count": null,
   "metadata": {},
   "outputs": [],
   "source": [
    "ep.plot_bands(arr_st, \n",
    "              cmap = 'gist_earth', \n",
    "              figsize = (20, 12), \n",
    "              cols = 5, \n",
    "              cbar = False)\n",
    "plt.show()"
   ]
  },
  {
   "cell_type": "code",
   "execution_count": null,
   "metadata": {},
   "outputs": [],
   "source": [
    "# RGB Composite Image\n",
    "\n",
    "rgb = ep.plot_rgb(arr_st, \n",
    "                  rgb=(2,1,0), \n",
    "                  figsize=(10, 16))\n",
    "plt.show()\n",
    "\n",
    "export_path = sorted_list[0].replace('blue', 'rgb')\n",
    "plt.savefig(export_path)\n",
    "# RGB Composite Image with Strech\n",
    "\n",
    "ep.plot_rgb(arr_st,\n",
    "            rgb=(2,1,0),\n",
    "            stretch=True,\n",
    "            str_clip=0.2,\n",
    "            figsize=(10, 16))\n",
    "plt.show()\n",
    "\n",
    "ep.plot_rgb(arr_st,\n",
    "            rgb=(0,1,2,3,4),\n",
    "            stretch=True,\n",
    "            str_clip=0.2,\n",
    "            figsize=(10, 16))\n",
    "\n",
    "plt.show()\n",
    "export_path = sorted_list[0].replace('blue', 'bgrrenir')\n",
    "plt.savefig(export_path)\n"
   ]
  },
  {
   "cell_type": "code",
   "execution_count": null,
   "metadata": {},
   "outputs": [],
   "source": [
    "colors = ['blue', 'green', 'red', 'tomato', 'maroon']\n",
    "\n",
    "ep.hist(arr_st, \n",
    "        colors = colors,\n",
    "        title=[f'Band-{i}' for i in range(1, 6)], \n",
    "        cols=3, \n",
    "        alpha=0.5, \n",
    "        figsize = (12, 10))\n",
    "\n",
    "plt.show()"
   ]
  },
  {
   "cell_type": "markdown",
   "metadata": {},
   "source": [
    "## Normalized Difference Vegetation Index (NDVI)"
   ]
  },
  {
   "cell_type": "markdown",
   "metadata": {},
   "source": [
    "The Soil-Adjusted Vegetation Index (SAVI) is a vegetation index that attempts to minimize soil brightness influences using a soil-brightness correction factor. This is often used in arid regions where vegetative cover is low."
   ]
  },
  {
   "cell_type": "markdown",
   "metadata": {},
   "source": [
    "NDVI = ((NIR - Red)/(NIR + Red))"
   ]
  },
  {
   "cell_type": "code",
   "execution_count": null,
   "metadata": {
    "scrolled": true
   },
   "outputs": [],
   "source": [
    "ndvi = es.normalized_diff(arr_st[4], arr_st[2])\n",
    "\n",
    "ep.plot_bands(ndvi, cmap=\"RdYlGn\", cols=1, vmin=-1, vmax=1, figsize=(10, 14))\n",
    "\n",
    "plt.show()"
   ]
  },
  {
   "cell_type": "markdown",
   "metadata": {},
   "source": [
    "# Soil Adjusted Vegetation Index (SAVI)"
   ]
  },
  {
   "cell_type": "markdown",
   "metadata": {},
   "source": [
    "The Soil-Adjusted Vegetation Index (SAVI) is a vegetation index that attempts to minimize soil brightness influences using a soil-brightness correction factor. This is often used in arid regions where vegetative cover is low."
   ]
  },
  {
   "cell_type": "markdown",
   "metadata": {},
   "source": [
    "SAVI = ((NIR - Red) / (NIR + Red + L)) x (1 + L)"
   ]
  },
  {
   "cell_type": "markdown",
   "metadata": {},
   "source": [
    "The L value varies depending on the amount of green vegetative cover. Generally, in areas with no green vegetation cover, L=1; in areas of moderate green vegetative cover, L=0.5; and in areas with very high vegetation cover, L=0 (which is equivalent to the NDVI method). This index outputs values between -1.0 and 1.0. Let’s see the code for the implementation of SAVI."
   ]
  },
  {
   "cell_type": "code",
   "execution_count": null,
   "metadata": {},
   "outputs": [],
   "source": [
    "L = 0.5\n",
    "\n",
    "savi = ((arr_st[4] - arr_st[2]) / (arr_st[4] + arr_st[2] + L)) * (1 + L)\n",
    "\n",
    "ep.plot_bands(savi, cmap=\"RdYlGn\", cols=1, vmin=-1, vmax=1, figsize=(10, 14))\n",
    "\n",
    "plt.show()"
   ]
  },
  {
   "cell_type": "markdown",
   "metadata": {},
   "source": [
    "## Visible Atmospherically Resistant Index (VARI)"
   ]
  },
  {
   "cell_type": "markdown",
   "metadata": {},
   "source": [
    "The Visible Atmospherically Resistant Index (VARI) is designed to emphasize vegetation in the visible portion of the spectrum while mitigating illumination differences and atmospheric effects. It is ideal for RGB or color images; it utilizes all three color bands."
   ]
  },
  {
   "cell_type": "markdown",
   "metadata": {},
   "source": [
    "VARI = (Green - Red)/ (Green + Red - Blue)"
   ]
  },
  {
   "cell_type": "code",
   "execution_count": null,
   "metadata": {},
   "outputs": [],
   "source": [
    "vari = (arr_st[1] - arr_st[2])/ (arr_st[1] + arr_st[0] - arr_st[2])\n",
    "\n",
    "ep.plot_bands(vari, cmap=\"RdYlGn\", cols=1, vmin=-1, vmax=1, figsize=(10, 14))\n",
    "\n",
    "plt.show()"
   ]
  },
  {
   "cell_type": "code",
   "execution_count": null,
   "metadata": {},
   "outputs": [],
   "source": [
    "import geopandas as gpd"
   ]
  },
  {
   "cell_type": "code",
   "execution_count": null,
   "metadata": {},
   "outputs": [],
   "source": [
    "file = r'C:\\Users\\uavra\\Miniconda3\\pkgs\\libgdal-3.4.0-hd873378_9\\info\\test\\test_data\\sites.shp'"
   ]
  },
  {
   "cell_type": "code",
   "execution_count": null,
   "metadata": {},
   "outputs": [],
   "source": [
    "gdf = gpd.read_file(r\"C:\\Users\\uavra\\image_processing\\shapefiles\\NT_Pastoral_Estate.shp\")"
   ]
  },
  {
   "cell_type": "code",
   "execution_count": null,
   "metadata": {},
   "outputs": [],
   "source": [
    "gdf.crs"
   ]
  },
  {
   "cell_type": "code",
   "execution_count": null,
   "metadata": {},
   "outputs": [],
   "source": []
  }
 ],
 "metadata": {
  "kernelspec": {
   "display_name": "Python 3",
   "language": "python",
   "name": "python3"
  },
  "language_info": {
   "codemirror_mode": {
    "name": "ipython",
    "version": 3
   },
   "file_extension": ".py",
   "mimetype": "text/x-python",
   "name": "python",
   "nbconvert_exporter": "python",
   "pygments_lexer": "ipython3",
   "version": "3.7.4"
  }
 },
 "nbformat": 4,
 "nbformat_minor": 4
}
