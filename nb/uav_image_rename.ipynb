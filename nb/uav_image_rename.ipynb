{
 "cells": [
  {
   "cell_type": "code",
   "execution_count": 1,
   "metadata": {},
   "outputs": [],
   "source": [
    "import os\n",
    "import sys"
   ]
  },
  {
   "cell_type": "code",
   "execution_count": null,
   "metadata": {},
   "outputs": [],
   "source": [
    "directory = r\"D:\\uav\\2021\"\n",
    "extension = \".tif\"\n",
    "n_bands = 5\n",
    "zone =52\n",
    "new_name = \"ptmmf_20210520_rhd20_pgs\""
   ]
  },
  {
   "cell_type": "code",
   "execution_count": null,
   "metadata": {},
   "outputs": [],
   "source": [
    "os.mkdir(os.path.join(directory, \"temp_dir\"))"
   ]
  },
  {
   "cell_type": "code",
   "execution_count": null,
   "metadata": {},
   "outputs": [],
   "source": [
    "for root, dirs, files in os.walk(directory, topdown=False):\n",
    "    x = 0\n",
    "    for name in files:\n",
    "        x+= 1\n",
    "        #print(x)\n",
    "        file_ = os.path.join(root, name)\n",
    "        split = os.path.split(file_)\n",
    "        orig_file_name = split[1]\n",
    "        sp = orig_file_name.split('_')\n",
    "        print(sp)\n",
    "        print(sp[2])\n",
    "        band, ext = sp[2].split('.')\n",
    "        if band == '1':\n",
    "            new_band = 'bb'\n",
    "        elif band == '2':\n",
    "            new_band = 'bg'\n",
    "        elif band == '3':\n",
    "            new_band = 'br'\n",
    "        elif band == '4':\n",
    "            new_band = 'bn'\n",
    "        elif band == '5':\n",
    "            new_band = 'be'\n",
    "        else:\n",
    "            print(\"error\")\n",
    "            sys.exit()\n",
    "            \n",
    "        if zone ==52:\n",
    "            new_zone = 'm2'\n",
    "        elif zone ==53:\n",
    "            new_zone = 'm3'\n",
    "        else:\n",
    "            print(\"error\")\n",
    "            sys.exit()\n",
    "            \n",
    "        new_name_ = \"{0}{1}{2}.{3}\".format(new_name, new_band, new_zone, ext)\n",
    "\n",
    "        print(new_name_)"
   ]
  },
  {
   "cell_type": "code",
   "execution_count": null,
   "metadata": {},
   "outputs": [],
   "source": [
    "list_a = []\n",
    "for root, dirs, files in os.walk(directory, topdown=False):\n",
    "    for name in files:\n",
    "        file_ = os.path.join(root, name)\n",
    "        list_a.append(file_)\n",
    "x = 0        \n",
    "for i in list_a:\n",
    "    x= x+1\n",
    "    print(x)\n",
    "    while x <=5:\n",
    "        image_no = 1\n",
    "        print('image: ', image_no)\n",
    "        break\n",
    "        \n",
    "        \n",
    "    "
   ]
  },
  {
   "cell_type": "code",
   "execution_count": null,
   "metadata": {},
   "outputs": [],
   "source": [
    "\n",
    "#Keep a counter for your for loop. When your counter reaches, 100, break\n",
    "\n",
    "counter = 0\n",
    "for filename in filenames:\n",
    "    if counter == 100:\n",
    "        break\n",
    "\n",
    "            \n",
    "        \n",
    "        \n"
   ]
  },
  {
   "cell_type": "code",
   "execution_count": null,
   "metadata": {},
   "outputs": [],
   "source": [
    "while n > 0:\n",
    "    print(n)\n",
    "    n = n-1\n",
    "    print (\"Blastoff!\")"
   ]
  },
  {
   "cell_type": "markdown",
   "metadata": {},
   "source": [
    "## Basic uav image rename"
   ]
  },
  {
   "cell_type": "code",
   "execution_count": null,
   "metadata": {},
   "outputs": [],
   "source": [
    "from glob import glob\n",
    "import os\n",
    "import sys"
   ]
  },
  {
   "cell_type": "code",
   "execution_count": null,
   "metadata": {},
   "outputs": [],
   "source": [
    "directory = r\"Z:\\Scratch\\uav\\2021\\rhd07\\raw\"\n",
    "extension = \".tif\"\n",
    "#extension = \".JPG\"\n",
    "#platform_sensor_tag = \"p4b\"\n",
    "#altitude_tag = \"d\"\n",
    "flight_tag = \"rhd07\"\n",
    "date_capture = \"20210520\"\n",
    "#image_tag = \"ref\"\n",
    "zone_tag =\"m2\"\n",
    "#new_name = \"ptmmf_20210520_rhd20_pgs\""
   ]
  },
  {
   "cell_type": "code",
   "execution_count": null,
   "metadata": {},
   "outputs": [],
   "source": [
    "i = 1\n",
    "for file_ in glob(os.path.join(directory, \"*{0}\".format(extension))):\n",
    "    print(file_)\n",
    "    _, ext = file_.split(\".\")\n",
    "    print('i: ', i)\n",
    "    if i in range(1, 10):\n",
    "        increment = \"000{0}\".format(i)\n",
    "    elif i in range(10, 100):\n",
    "        increment = \"00{0}\".format(i)\n",
    "    elif i in range(100, 1000):\n",
    "        increment = \"0{0}\".format(i)\n",
    "    else:\n",
    "        increment = \"{0}\".format(i)\n",
    "\n",
    "    i+=1\n",
    "    new_name = \"{0}_{1}.{2}\".format(flight_tag, increment, ext)\n",
    "    print(new_name)\n",
    "    new_path = os.path.join(directory, new_name)\n",
    "    os.rename(file_, new_path)"
   ]
  },
  {
   "cell_type": "code",
   "execution_count": null,
   "metadata": {},
   "outputs": [],
   "source": []
  },
  {
   "cell_type": "code",
   "execution_count": null,
   "metadata": {},
   "outputs": [],
   "source": []
  }
 ],
 "metadata": {
  "kernelspec": {
   "display_name": "Python 3",
   "language": "python",
   "name": "python3"
  },
  "language_info": {
   "codemirror_mode": {
    "name": "ipython",
    "version": 3
   },
   "file_extension": ".py",
   "mimetype": "text/x-python",
   "name": "python",
   "nbconvert_exporter": "python",
   "pygments_lexer": "ipython3",
   "version": "3.7.4"
  }
 },
 "nbformat": 4,
 "nbformat_minor": 4
}
