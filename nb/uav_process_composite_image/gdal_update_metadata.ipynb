{
 "cells": [
  {
   "cell_type": "code",
   "execution_count": 20,
   "metadata": {},
   "outputs": [],
   "source": [
    "import os\n",
    "import gdal\n",
    "import numpy as np\n",
    "from osgeo import gdal, gdalconst"
   ]
  },
  {
   "cell_type": "code",
   "execution_count": 21,
   "metadata": {},
   "outputs": [],
   "source": [
    "input_image_path = r\"Z:\\Scratch\\uav\\test_comp\\test2.tif\""
   ]
  },
  {
   "cell_type": "code",
   "execution_count": 24,
   "metadata": {},
   "outputs": [
    {
     "name": "stdout",
     "output_type": "stream",
     "text": [
      "test2\n"
     ]
    }
   ],
   "source": [
    "split_ =os.path.split(input_image_path)\n",
    "file_name = split_[1][:-4]\n",
    "print(file_name)"
   ]
  },
  {
   "cell_type": "code",
   "execution_count": 13,
   "metadata": {},
   "outputs": [],
   "source": [
    "gdal.AllRegister()\n",
    "\n",
    "inputdataset = gdal.Open(input_image_path)\n",
    "inputdataset.SetMetadataItem(\"Flight\",\"test flight\")\n",
    "inputdataset.SetMetadataItem(\"Flight altitude\",\"1000m\")\n",
    "inputdataset.SetMetadataItem(\"Flight date\",\"20210520\")\n",
    "inputdataset.SetMetadataItem(\"Pilot\",\"Robert McGregor\")\n",
    "inputdataset.SetMetadataItem(\"Platform\",\"DJI Phantom 4\")\n",
    "inputdataset.SetMetadataItem(\"Sensor\",\"MicaSense-M\")\n",
    "inputdataset.SetMetadataItem(\"Processing date\",\"20220226\")\n",
    "inputdataset.SetMetadataItem(\"Datum\",\"WGS 1984\")\n",
    "inputdataset.SetMetadataItem(\"Projection\",\"UTM zone 52S\")\n",
    "inputdataset.SetMetadataItem(\"EPSG\",\"32752\")\n",
    "inputdataset.SetMetadataItem(\"Otho-rectified\",\"Yes\")\n",
    "inputdataset.SetMetadataItem(\"Band composition\",\"blue, green, red, red edge, nir\")\n",
    "\n",
    "inputdataset = None"
   ]
  },
  {
   "cell_type": "code",
   "execution_count": 18,
   "metadata": {},
   "outputs": [
    {
     "ename": "SyntaxError",
     "evalue": "invalid syntax (<ipython-input-18-509d8db3bd0f>, line 2)",
     "output_type": "error",
     "traceback": [
      "\u001b[1;36m  File \u001b[1;32m\"<ipython-input-18-509d8db3bd0f>\"\u001b[1;36m, line \u001b[1;32m2\u001b[0m\n\u001b[1;33m    gdal_edit -mo TEST='new'\u001b[0m\n\u001b[1;37m                     ^\u001b[0m\n\u001b[1;31mSyntaxError\u001b[0m\u001b[1;31m:\u001b[0m invalid syntax\n"
     ]
    }
   ],
   "source": [
    "inputdataset = gdal.Open(inputImagePath)\n",
    "gdal_edit -mo TEST='new' "
   ]
  },
  {
   "cell_type": "code",
   "execution_count": 14,
   "metadata": {},
   "outputs": [],
   "source": [
    "src = gdal.Open(r\"Z:\\Scratch\\uav\\test_comp\\test2.tif\", gdalconst.GA_ReadOnly)"
   ]
  },
  {
   "cell_type": "code",
   "execution_count": 15,
   "metadata": {},
   "outputs": [
    {
     "data": {
      "text/plain": [
       "'Z:\\\\Scratch\\\\uav\\\\test_comp\\\\test2.tif'"
      ]
     },
     "execution_count": 15,
     "metadata": {},
     "output_type": "execute_result"
    }
   ],
   "source": [
    "# Description lost\n",
    "src.GetDescription()"
   ]
  },
  {
   "cell_type": "code",
   "execution_count": 16,
   "metadata": {},
   "outputs": [
    {
     "data": {
      "text/plain": [
       "{'Band composition': 'blue, green, red, red edge, nir',\n",
       " 'Flight': 'test flight',\n",
       " 'Flight altitude': '1000m',\n",
       " 'Flight date': '20210520',\n",
       " 'Otho-rectified': 'Yes',\n",
       " 'Pilot': 'Robert McGregor',\n",
       " 'Platform': 'DJI Phantom 4',\n",
       " 'Processing date': '20220226',\n",
       " 'Sensor': 'MicaSense-M',\n",
       " 'TEST': 'TEST METADATA'}"
      ]
     },
     "execution_count": 16,
     "metadata": {},
     "output_type": "execute_result"
    }
   ],
   "source": [
    "src.GetMetadata()"
   ]
  },
  {
   "cell_type": "code",
   "execution_count": null,
   "metadata": {},
   "outputs": [],
   "source": [
    "band = src.GetRasterBand(2)\n",
    "band.GetMetadata()"
   ]
  },
  {
   "cell_type": "code",
   "execution_count": null,
   "metadata": {},
   "outputs": [],
   "source": [
    "!gdalinfo -mm src"
   ]
  },
  {
   "cell_type": "code",
   "execution_count": null,
   "metadata": {},
   "outputs": [],
   "source": [
    "gdal_edit.py -mo TIFFTAG_ARTIST=\"It was me\" in.tif"
   ]
  },
  {
   "cell_type": "code",
   "execution_count": null,
   "metadata": {},
   "outputs": [],
   "source": []
  }
 ],
 "metadata": {
  "kernelspec": {
   "display_name": "Python 3",
   "language": "python",
   "name": "python3"
  },
  "language_info": {
   "codemirror_mode": {
    "name": "ipython",
    "version": 3
   },
   "file_extension": ".py",
   "mimetype": "text/x-python",
   "name": "python",
   "nbconvert_exporter": "python",
   "pygments_lexer": "ipython3",
   "version": "3.7.7"
  }
 },
 "nbformat": 4,
 "nbformat_minor": 4
}
