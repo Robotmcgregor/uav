{
 "cells": [
  {
   "cell_type": "markdown",
   "metadata": {},
   "source": [
    "# UAV product workflow"
   ]
  },
  {
   "cell_type": "markdown",
   "metadata": {},
   "source": [
    "In order for UAV data to be published in the DEPWS spatial library UAV data procedures require that the data has been processed using the approved methodology, and that the final product has been composited (where applicable) clipped, renamed with its Meta data updated.\n",
    "\n",
    "This notebook facilities the processing of UAV images by:\n",
    " - Compositing grayscale images form the multispectral camera\n",
    " - Clipping images with an extent vector\n",
    " - Renaming the output in the required format\n",
    " - Updating final product metadata.\n"
   ]
  },
  {
   "cell_type": "markdown",
   "metadata": {},
   "source": [
    "## Import modules"
   ]
  },
  {
   "cell_type": "code",
   "execution_count": null,
   "metadata": {},
   "outputs": [],
   "source": [
    "import os\n",
    "import shutil\n",
    "import gdal\n",
    "import numpy as np\n",
    "from osgeo import gdal, gdalconst"
   ]
  },
  {
   "cell_type": "code",
   "execution_count": null,
   "metadata": {},
   "outputs": [],
   "source": [
    "site = \"wtr05\"\n",
    "dir_ = \"mosaic_n\"\n",
    "directory = r\"Z:\\Scratch\\uav\\2022\""
   ]
  },
  {
   "cell_type": "code",
   "execution_count": null,
   "metadata": {},
   "outputs": [],
   "source": [
    "os.chdir(r\"{0}\\{1}\\{2}\".format(directory, site, dir_))"
   ]
  },
  {
   "cell_type": "code",
   "execution_count": null,
   "metadata": {},
   "outputs": [],
   "source": [
    "ls"
   ]
  },
  {
   "cell_type": "markdown",
   "metadata": {},
   "source": [
    "## Composite greyscale images"
   ]
  },
  {
   "cell_type": "code",
   "execution_count": null,
   "metadata": {},
   "outputs": [],
   "source": [
    "cd C:\\Users\\rmcgr\\ntg_repo\\uav\\scripts"
   ]
  },
  {
   "cell_type": "markdown",
   "metadata": {},
   "source": [
    "### Composite Multi band UAV images"
   ]
  },
  {
   "cell_type": "code",
   "execution_count": null,
   "metadata": {},
   "outputs": [],
   "source": [
    "#%run run_composite_multi_bands_image.py -h"
   ]
  },
  {
   "cell_type": "code",
   "execution_count": null,
   "metadata": {},
   "outputs": [],
   "source": [
    "%run run_composite_multi_bands_image.py \\\n",
    "--directory Z:\\Scratch\\uav\\2022\\wtr05\\mosaic_n  \\\n",
    "    --outfile Z:\\Scratch\\uav\\2022\\wtr05\\mosaic_n\\p4ch_wtr05_20220409_recnm2.tif"
   ]
  },
  {
   "cell_type": "markdown",
   "metadata": {},
   "source": [
    "## Clip raster with extent shapefile"
   ]
  },
  {
   "cell_type": "code",
   "execution_count": null,
   "metadata": {},
   "outputs": [],
   "source": [
    "os.listdir(r\"{0}\\{1}\\mosaic_n\".format(directory, site))"
   ]
  },
  {
   "cell_type": "code",
   "execution_count": null,
   "metadata": {},
   "outputs": [],
   "source": [
    "if not os.path.isdir(r\"{0}\\{1}\\shp\".format(directory, site)):   \n",
    "    os.mkdir(r\"{0}\\{1}\\shp\".format(directory, site))\n",
    "    \n",
    "os.listdir(r\"{0}\\{1}\\shp\".format(directory, site))"
   ]
  },
  {
   "cell_type": "markdown",
   "metadata": {},
   "source": [
    "## Multispectral Composite Clip"
   ]
  },
  {
   "cell_type": "code",
   "execution_count": null,
   "metadata": {},
   "outputs": [],
   "source": [
    "cd C:\\Users\\rmcgr\\ntg_repo\\uav\\scripts"
   ]
  },
  {
   "cell_type": "code",
   "execution_count": null,
   "metadata": {},
   "outputs": [],
   "source": [
    "%run clip_tool_rasterio.py \\\n",
    "--raster Z:\\Scratch\\uav\\2022\\wtr05\\mosaic_n\\p4ch_wtr05_20220409_recnm2.tif \\\n",
    "    --shpfile Z:\\Scratch\\uav\\2022\\wtr05\\shp\\wtr05_extent.shp \\\n",
    "        --outfile Z:\\Scratch\\uav\\2022\\wtr05\\p4ch_wtr05_20220409_refnm2.tif"
   ]
  },
  {
   "cell_type": "markdown",
   "metadata": {},
   "source": [
    "## RGB Clip"
   ]
  },
  {
   "cell_type": "code",
   "execution_count": null,
   "metadata": {},
   "outputs": [],
   "source": [
    "cd C:\\Users\\rmcgr\\ntg_repo\\uav\\scripts"
   ]
  },
  {
   "cell_type": "code",
   "execution_count": null,
   "metadata": {},
   "outputs": [],
   "source": [
    "%run clip_tool_rasterio.py -h"
   ]
  },
  {
   "cell_type": "code",
   "execution_count": null,
   "metadata": {},
   "outputs": [],
   "source": [
    "%run clip_tool_rasterio.py \\\n",
    "--raster Z:\\Scratch\\uav\\2022\\wtr04\\mosaic_n\\p4gh_wtr04_n_mosaic_group1.tif \\\n",
    "    --shpfile Z:\\Scratch\\uav\\2022\\wtr04\\shp\\wtr04_extent.shp \\\n",
    "        --outfile Z:\\Scratch\\uav\\2022\\wtr04\\p4gh_wtr04_20220408_rgbnm2.tif"
   ]
  },
  {
   "cell_type": "markdown",
   "metadata": {},
   "source": [
    "## Metadata update"
   ]
  },
  {
   "cell_type": "markdown",
   "metadata": {},
   "source": [
    "### All UAV final products"
   ]
  },
  {
   "cell_type": "code",
   "execution_count": null,
   "metadata": {},
   "outputs": [],
   "source": [
    "cd C:\\Users\\rmcgr\\ntg_repo\\uav\\scripts"
   ]
  },
  {
   "cell_type": "code",
   "execution_count": null,
   "metadata": {},
   "outputs": [],
   "source": [
    "flight_date = '20220409'\n",
    "pilot = 'Robert McGregor'\n",
    "processing_date = \"20220505\"\n",
    "utm = '52'\n",
    "image_code = 'p4ch'\n",
    "\n",
    "rgb = '' # y or n"
   ]
  },
  {
   "cell_type": "code",
   "execution_count": null,
   "metadata": {},
   "outputs": [],
   "source": [
    "if rgb == 'y':\n",
    "    image = r\"{0}\\{1}\\{3}_{1}_{2}_rgbnm{4}.tif\".format(directory, site, flight_date, image_code, utm[1])\n",
    "else:\n",
    "    image = r\"{0}\\{1}\\{3}_{1}_{2}_refnm{4}.tif\".format(directory, site, flight_date, image_code, utm[1])\n",
    "    \n",
    "print('Update metadata for: ',  image)\n",
    "gdal.AllRegister()\n",
    "\n",
    "inputdataset = gdal.Open(image)\n",
    "\n",
    "inputdataset.SetMetadataItem(\"Flight\",\"{0}\".format(site))\n",
    "\n",
    "inputdataset.SetMetadataItem(\"Flight date\",\"{0}\".format(flight_date))\n",
    "inputdataset.SetMetadataItem(\"Pilot\",\"{0}\".format(pilot))\n",
    "\n",
    "# platform and sensor\n",
    "if image[-28:-27] == 'a':\n",
    "    inputdataset.SetMetadataItem(\"Platform\",\"DJI Phantom 4\")\n",
    "    inputdataset.SetMetadataItem(\"Sensor\",\"Micasense RedEdge-3\")\n",
    "    bands = \"blue, green, red, red edge, nir\"\n",
    "elif image[-28:-27] == 'b':\n",
    "    inputdataset.SetMetadataItem(\"Platform\",\"DJI Phantom 4\")\n",
    "    inputdataset.SetMetadataItem(\"Sensor\",\"Micasence RedEdge-M\") \n",
    "    bands = \"blue, green, red, red edge, nir\"\n",
    "elif image[-28:-27] == 'c':\n",
    "    inputdataset.SetMetadataItem(\"Platform\",\"DJI Phantom 4\")\n",
    "    inputdataset.SetMetadataItem(\"Sensor\",\"DJI Multi WM331A\")\n",
    "    bands = \"blue, green, red, red edge, nir\"\n",
    "elif image[-28:-27] == 'd':\n",
    "    inputdataset.SetMetadataItem(\"Platform\",\"DJI Phantom 4\")\n",
    "    inputdataset.SetMetadataItem(\"Sensor\",\"DJI RGB WM331A\")  \n",
    "    bands = \"blue, green, red\"\n",
    "elif image[-28:-27] == 'e':\n",
    "    inputdataset.SetMetadataItem(\"Platform\",\"DJI Phantom 4\")\n",
    "    inputdataset.SetMetadataItem(\"Sensor\",\"DJI RGB WM331A\") \n",
    "    bands = \"blue, green, red\"\n",
    "elif image[-28:-27] == 'g':\n",
    "    inputdataset.SetMetadataItem(\"Platform\",\"DJI Phantom 4\")\n",
    "    inputdataset.SetMetadataItem(\"Sensor\",\"DJI RGB WM331A\")\n",
    "    bands = \"blue, green, red\"\n",
    "else:\n",
    "    pass\n",
    "    \n",
    "inputdataset.SetMetadataItem(\"Processing date\",\"{0}\".format(processing_date))\n",
    "                             \n",
    "#datum                             \n",
    "if utm == '52':                     \n",
    "    inputdataset.SetMetadataItem(\"Datum\",\"WGS 1984\")\n",
    "    inputdataset.SetMetadataItem(\"Projection\",\"UTM zone 52S\")\n",
    "    inputdataset.SetMetadataItem(\"EPSG\",\"32752\")\n",
    "elif utm == '53':\n",
    "    inputdataset.SetMetadataItem(\"Datum\",\"WGS 1984\")\n",
    "    inputdataset.SetMetadataItem(\"Projection\",\"UTM zone 53S\")\n",
    "    inputdataset.SetMetadataItem(\"EPSG\",\"32753\") \n",
    "else:\n",
    "    pass\n",
    "\n",
    "gcp = image[-7:-6]\n",
    "if gcp == 'g':\n",
    "    inputdataset.SetMetadataItem(\"Geo-rectified\",\"Yes\")\n",
    "elif gcp == 'n':\n",
    "    inputdataset.SetMetadataItem(\"Geo-rectified\",\"No\")\n",
    "else:\n",
    "    pass\n",
    "\n",
    "inputdataset.SetMetadataItem(\"Band composition\",\"{0}\".format(bands))\n",
    "\n",
    "inputdataset = None\n",
    "\n",
    "src = gdal.Open(image, gdalconst.GA_ReadOnly)\n",
    "\n",
    "print(src.GetMetadata())"
   ]
  },
  {
   "cell_type": "code",
   "execution_count": null,
   "metadata": {},
   "outputs": [],
   "source": [
    "shutil.rmtree(r\"{0}\\{1}\\mosaic_n\".format(directory, site))"
   ]
  },
  {
   "cell_type": "code",
   "execution_count": null,
   "metadata": {},
   "outputs": [],
   "source": [
    "shutil.rmtree(r\"{0}\\{1}\\mosaic_g\".format(directory, site))"
   ]
  },
  {
   "cell_type": "code",
   "execution_count": null,
   "metadata": {},
   "outputs": [],
   "source": []
  },
  {
   "cell_type": "code",
   "execution_count": null,
   "metadata": {},
   "outputs": [],
   "source": [
    "from rasterio.plot import show\n",
    "from rasterio.merge import merge\n",
    "import rasterio as rio"
   ]
  },
  {
   "cell_type": "code",
   "execution_count": null,
   "metadata": {},
   "outputs": [],
   "source": [
    "image1 = r\"Z:\\Scratch\\uav\\2022\\gry03\\mosaic_n1\\p4ch_gry03_20220525_recnm2.tif\"\n",
    "image2 = r\"Z:\\Scratch\\uav\\2022\\gry03\\mosaic_n2\\p4ch_gry03_20220525_recnm2_.tif\""
   ]
  },
  {
   "cell_type": "code",
   "execution_count": null,
   "metadata": {},
   "outputs": [],
   "source": [
    "raster_files = [image1, image2]\n",
    "raster_to_mosiac = []"
   ]
  },
  {
   "cell_type": "code",
   "execution_count": null,
   "metadata": {},
   "outputs": [],
   "source": [
    "for p in raster_files:\n",
    "    raster = rio.open(p)\n",
    "    raster_to_mosiac.append(raster)"
   ]
  },
  {
   "cell_type": "code",
   "execution_count": null,
   "metadata": {},
   "outputs": [],
   "source": [
    "mosaic, output = merge(raster_to_mosiac)"
   ]
  },
  {
   "cell_type": "code",
   "execution_count": null,
   "metadata": {},
   "outputs": [],
   "source": [
    "output_meta = raster.meta.copy()\n",
    "output_meta.update(\n",
    "    {\"driver\": \"GTiff\",\n",
    "        \"height\": mosaic.shape[1],\n",
    "        \"width\": mosaic.shape[2],\n",
    "        \"transform\": output,\n",
    "    }\n",
    ")"
   ]
  },
  {
   "cell_type": "code",
   "execution_count": null,
   "metadata": {},
   "outputs": [],
   "source": [
    "output_path = r'Z:\\Scratch\\uav\\2022\\gry03\\mosaic_output.tif'"
   ]
  },
  {
   "cell_type": "code",
   "execution_count": null,
   "metadata": {},
   "outputs": [],
   "source": [
    "with rio.open(output_path, 'w', **output_meta) as m:\n",
    "    m.write(mosaic)"
   ]
  },
  {
   "cell_type": "code",
   "execution_count": null,
   "metadata": {},
   "outputs": [],
   "source": []
  }
 ],
 "metadata": {
  "kernelspec": {
   "display_name": "Python 3",
   "language": "python",
   "name": "python3"
  },
  "language_info": {
   "codemirror_mode": {
    "name": "ipython",
    "version": 3
   },
   "file_extension": ".py",
   "mimetype": "text/x-python",
   "name": "python",
   "nbconvert_exporter": "python",
   "pygments_lexer": "ipython3",
   "version": "3.7.4"
  }
 },
 "nbformat": 4,
 "nbformat_minor": 4
}
