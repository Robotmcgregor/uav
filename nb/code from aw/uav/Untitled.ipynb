{
 "cells": [
  {
   "cell_type": "code",
   "execution_count": null,
   "metadata": {},
   "outputs": [],
   "source": [
    "\"\"\"\n",
    "Reads in two input files and adds them together.\n",
    "Assumes that they have the same number of bands.\n",
    "\"\"\"\n",
    "from rios import applier\n",
    "\n",
    "# Set up input and output filenames.\n",
    "infiles = applier.FilenameAssociations()\n",
    "infiles.image1 = \"file1.img\"\n",
    "infiles.image2 = \"file2.img\"\n",
    "\n",
    "outfiles = applier.FilenameAssociations()\n",
    "outfiles.outimage = \"outfile.img\"\n",
    "\n",
    "# Set up the function to be applied\n",
    "def addThem(info, inputs, outputs):\n",
    "    \"\"\"\n",
    "    Function to be called by rios.\n",
    "    Adds image1 and image2 from the inputs, and\n",
    "    places the result in the outputs as outimage.\n",
    "    \"\"\"\n",
    "    outputs.outimage = inputs.image1 + inputs.image2\n",
    "\n",
    "# Apply the function to the inputs, creating the outputs.\n",
    "applier.apply(addThem, infiles, outfiles)"
   ]
  }
 ],
 "metadata": {
  "kernelspec": {
   "display_name": "Python 3",
   "language": "python",
   "name": "python3"
  },
  "language_info": {
   "codemirror_mode": {
    "name": "ipython",
    "version": 3
   },
   "file_extension": ".py",
   "mimetype": "text/x-python",
   "name": "python",
   "nbconvert_exporter": "python",
   "pygments_lexer": "ipython3",
   "version": "3.7.7"
  }
 },
 "nbformat": 4,
 "nbformat_minor": 4
}
