{
 "cells": [
  {
   "cell_type": "markdown",
   "metadata": {},
   "source": [
    "# RTK drone image rename"
   ]
  },
  {
   "cell_type": "code",
   "execution_count": 1,
   "metadata": {},
   "outputs": [],
   "source": [
    "import os\n",
    "import sys\n",
    "import shutil\n",
    "from glob import glob"
   ]
  },
  {
   "cell_type": "code",
   "execution_count": 2,
   "metadata": {},
   "outputs": [],
   "source": [
    "ssd_path = r\"D:\\uav\\2022\\plm01\\uav_data\"\n",
    "d_drive = r\"D:\\uav\\2022\"\n",
    "site_name = \"plm01\"\n",
    "image_type = 'JPG'"
   ]
  },
  {
   "cell_type": "code",
   "execution_count": 5,
   "metadata": {},
   "outputs": [
    {
     "name": "stdout",
     "output_type": "stream",
     "text": [
      "directory allready exists..\n",
      "Choose a new site name or year directory\n"
     ]
    }
   ],
   "source": [
    "def make_dir_fn(directory, sub_dir):\n",
    "    \"\"\"Check and create flight directory\"\"\"\n",
    "    \n",
    "    new_dir = os.path.join(directory, sub_dir)\n",
    "    \n",
    "    if os.path.isdir(new_dir):\n",
    "        print('directory allready exists..')\n",
    "        print('Choose a new site name or year directory')\n",
    "        site_name_orig = False\n",
    "    else:\n",
    "        os.mkdir(new_dir)\n",
    "        print('Created new dir: ', new_dir)\n",
    "        site_name_orig = True\n",
    "    return new_dir, site_name_orig\n",
    "   \n",
    "    \n",
    "def make_sub_dir_fn(directory, sub_dir):\n",
    "    \"\"\"Check and create sub directory\"\"\"\n",
    "    \n",
    "    new_dir = os.path.join(directory, sub_dir)\n",
    "    \n",
    "    if os.path.isdir(new_dir):\n",
    "        print('{0} directory allready exists..'.format(new_dir))\n",
    "\n",
    "    else:\n",
    "        os.mkdir(new_dir)\n",
    "        print('Created new dir: ', new_dir)\n",
    "    return new_dir\n",
    "\n",
    "sub_dir_list = []\n",
    "\n",
    "# Check and create flight directory\n",
    "flight_dir, site_name_orig = make_dir_fn(d_drive, site_name)\n",
    "\n",
    "if site_name_orig == True:\n",
    "\n",
    "    raw_sub_dir = make_dir_fn(flight_dir, \"raw\")\n",
    "    # new_dir = os.path.join(d_drive, site_name)\n",
    "    # print('new_dir: ', new_dir)\n",
    "    # if os.path.isdir(new_dir):\n",
    "    #     print('directory allready exists..')\n",
    "    #     print('Choose a new site name or year directory')\n",
    "    #     #sys.exit()\n",
    "    # else:\n",
    "    #     os.mkdir(new_dir)\n",
    "    #     print('Created new dir: ', new_dir)\n",
    "\n",
    "    # raw_dir = os.path.join(new_dir, \"raw\")\n",
    "    # os.mkdir(raw_dir)\n",
    "\n",
    "    for dirs_, sub_dirs, file in os.walk(ssd_path, topdown=False):\n",
    "        print('dirs: ', dirs_)\n",
    "        print('sub dirs: ', sub_dirs)\n",
    "\n",
    "        for sub_dir in sub_dirs:\n",
    "            sub_dir_list.append(os.path.join(ssd_path, sub_dir))\n",
    "\n",
    "\n",
    "    print(sub_dir_list)\n",
    "    for dir_ in sub_dir_list:\n",
    "        i = 0\n",
    "    #     print(i)\n",
    "    #     for image in glob(os.path.join(dir_, \"*.{0}\".format(image_type))):\n",
    "    #         print(image)\n",
    "    #         i+=1\n",
    "    #         split = os.path.split(image)\n",
    "    #         orig_file_name = split[1]\n",
    "    #         sp = orig_file_name.split('_')\n",
    "    #         file_type = sp[1][-4:]\n",
    "    #         print(file_type)\n",
    "\n",
    "    #         if i in range(1, 10):\n",
    "    #             increment = \"000{0}\".format(i)\n",
    "    #         elif i in range(10, 100):\n",
    "    #             increment = \"00{0}\".format(i)\n",
    "    #         elif i in range(100, 1000):\n",
    "    #             increment = \"0{0}\".format(i)\n",
    "    #         else:\n",
    "    #             increment = \"{0}\".format(i)\n",
    "\n",
    "    #         new_name = \"{0}_{1}{2}\".format(site_name, increment, file_type)\n",
    "    #         new_path = os.path.join(raw_dir, new_name)\n",
    "    #         print('copy from: ', image)\n",
    "    #         print('to: ', new_path)\n",
    "    #         shutil.copy(image, new_path)\n",
    "\n"
   ]
  },
  {
   "cell_type": "code",
   "execution_count": null,
   "metadata": {},
   "outputs": [],
   "source": []
  },
  {
   "cell_type": "code",
   "execution_count": null,
   "metadata": {},
   "outputs": [],
   "source": []
  }
 ],
 "metadata": {
  "kernelspec": {
   "display_name": "Python 3",
   "language": "python",
   "name": "python3"
  },
  "language_info": {
   "codemirror_mode": {
    "name": "ipython",
    "version": 3
   },
   "file_extension": ".py",
   "mimetype": "text/x-python",
   "name": "python",
   "nbconvert_exporter": "python",
   "pygments_lexer": "ipython3",
   "version": "3.5.6"
  }
 },
 "nbformat": 4,
 "nbformat_minor": 4
}
