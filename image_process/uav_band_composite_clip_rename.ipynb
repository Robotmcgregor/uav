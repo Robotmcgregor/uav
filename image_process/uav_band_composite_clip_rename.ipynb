{
 "cells": [
  {
   "cell_type": "markdown",
   "metadata": {},
   "source": [
    "# UAV product workflow"
   ]
  },
  {
   "cell_type": "markdown",
   "metadata": {},
   "source": [
    "In order for UAV data to be published in the DEPWS spatial library UAV data procedures require that the data has been processed using the approved methodology, and that the final product has been composited (where applicable) clipped, renamed with meta data updated.\n",
    "\n",
    "This notebook facilities the processing of UAV images by:\n",
    " - Compositing grayscale images form the multispectral camera\n",
    " - Clipping images with an extent vector\n",
    " - Renaming the output in the required format\n",
    " - Updating final product metadata."
   ]
  },
  {
   "cell_type": "markdown",
   "metadata": {},
   "source": [
    "## Import modules"
   ]
  },
  {
   "cell_type": "code",
   "execution_count": 98,
   "metadata": {},
   "outputs": [],
   "source": [
    "import os\n",
    "import shutil\n",
    "import gdal\n",
    "import numpy as np\n",
    "from osgeo import gdal, gdalconst"
   ]
  },
  {
   "cell_type": "code",
   "execution_count": 99,
   "metadata": {},
   "outputs": [],
   "source": [
    "site = \"gpa01\"\n",
    "dir_ = \"2_mosaic\"\n",
    "directory = r\"X:\\PGB\\Raster\\uav\\2022\\gpa01\\pro\\p4hf_gpa01_g\\3_dsm_ortho\""
   ]
  },
  {
   "cell_type": "code",
   "execution_count": 100,
   "metadata": {},
   "outputs": [],
   "source": [
    "os.chdir(r\"{0}\\{1}\".format(directory, dir_))"
   ]
  },
  {
   "cell_type": "code",
   "execution_count": null,
   "metadata": {},
   "outputs": [],
   "source": [
    "ls"
   ]
  },
  {
   "cell_type": "markdown",
   "metadata": {},
   "source": [
    "## Composite greyscale images"
   ]
  },
  {
   "cell_type": "code",
   "execution_count": null,
   "metadata": {},
   "outputs": [],
   "source": [
    "#cd Z:\\Scratch\\Rob\\code\\draft\\uav\\uav_composite_image"
   ]
  },
  {
   "cell_type": "code",
   "execution_count": 101,
   "metadata": {},
   "outputs": [
    {
     "name": "stdout",
     "output_type": "stream",
     "text": [
      "U:\\RSU\\mmp\\dhmmp\\9_scripts\\code_uav\\image_process\n"
     ]
    }
   ],
   "source": [
    "cd U:\\RSU\\mmp\\dhmmp\\9_scripts\\code_uav\\image_process"
   ]
  },
  {
   "cell_type": "markdown",
   "metadata": {},
   "source": [
    "### Composite Multi band UAV images"
   ]
  },
  {
   "cell_type": "code",
   "execution_count": 103,
   "metadata": {},
   "outputs": [
    {
     "name": "stdout",
     "output_type": "stream",
     "text": [
      "init script\n",
      "X:\\PGB\\Raster\\uav\\2022\\gpa01\\pro\\p4hf_gpa01_g\\3_dsm_ortho\\2_mosaic\\p4hf_gpa01_20220614_refgm2.tif complete\n"
     ]
    }
   ],
   "source": [
    "%run run_composite_multi_bands_image.py \\\n",
    "--directory X:\\PGB\\Raster\\uav\\2022\\gpa01\\pro\\p4hf_gpa01_g\\3_dsm_ortho\\2_mosaic  \\\n",
    "    --outfile X:\\PGB\\Raster\\uav\\2022\\gpa01\\pro\\p4hf_gpa01_g\\3_dsm_ortho\\2_mosaic\\p4hf_gpa01_20220614_refgm2.tif"
   ]
  },
  {
   "cell_type": "markdown",
   "metadata": {},
   "source": [
    "## Clip raster with extent shapefile"
   ]
  },
  {
   "cell_type": "code",
   "execution_count": 104,
   "metadata": {},
   "outputs": [
    {
     "data": {
      "text/plain": [
       "['p4hf_gpa01_20220614_refgm2.tif',\n",
       " 'p4hf_gpa01_20220614_refgm2.tif.aux.xml',\n",
       " 'p4hf_gpa01_g_mosaic_blue.prj',\n",
       " 'p4hf_gpa01_g_mosaic_blue.tfw',\n",
       " 'p4hf_gpa01_g_mosaic_blue.tif',\n",
       " 'p4hf_gpa01_g_mosaic_green.prj',\n",
       " 'p4hf_gpa01_g_mosaic_green.tfw',\n",
       " 'p4hf_gpa01_g_mosaic_green.tif',\n",
       " 'p4hf_gpa01_g_mosaic_nir.prj',\n",
       " 'p4hf_gpa01_g_mosaic_nir.tfw',\n",
       " 'p4hf_gpa01_g_mosaic_nir.tif',\n",
       " 'p4hf_gpa01_g_mosaic_red edge.prj',\n",
       " 'p4hf_gpa01_g_mosaic_red edge.tfw',\n",
       " 'p4hf_gpa01_g_mosaic_red edge.tif',\n",
       " 'p4hf_gpa01_g_mosaic_red.prj',\n",
       " 'p4hf_gpa01_g_mosaic_red.tfw',\n",
       " 'p4hf_gpa01_g_mosaic_red.tif',\n",
       " 'tiles']"
      ]
     },
     "execution_count": 104,
     "metadata": {},
     "output_type": "execute_result"
    }
   ],
   "source": [
    "os.listdir(r\"{0}\\2_mosaic\".format(directory))"
   ]
  },
  {
   "cell_type": "code",
   "execution_count": 106,
   "metadata": {},
   "outputs": [],
   "source": [
    "site = \"gpa01\"\n",
    "dir_ = \"2_mosaic\"\n",
    "directory = r\"X:\\PGB\\Raster\\uav\\2022\""
   ]
  },
  {
   "cell_type": "code",
   "execution_count": 107,
   "metadata": {},
   "outputs": [
    {
     "data": {
      "text/plain": [
       "['gpa01_extent.cpg',\n",
       " 'gpa01_extent.dbf',\n",
       " 'gpa01_extent.prj',\n",
       " 'gpa01_extent.shp',\n",
       " 'gpa01_extent.shx']"
      ]
     },
     "execution_count": 107,
     "metadata": {},
     "output_type": "execute_result"
    }
   ],
   "source": [
    "if not os.path.isdir(r\"{0}\\{1}\\shp\".format(directory, site)):  \n",
    "    os.mkdir(r\"{0}\\{1}\\shp\".format(directory, site))\n",
    "    \n",
    "os.listdir(r\"{0}\\{1}\\shp\".format(directory, site))"
   ]
  },
  {
   "cell_type": "markdown",
   "metadata": {},
   "source": [
    "## Multispectral Composite Clip"
   ]
  },
  {
   "cell_type": "code",
   "execution_count": 108,
   "metadata": {},
   "outputs": [],
   "source": [
    "#cd C:\\Users\\rmcgr\\Rangeland_monitoring\\image_processing"
   ]
  },
  {
   "cell_type": "code",
   "execution_count": 109,
   "metadata": {},
   "outputs": [
    {
     "name": "stdout",
     "output_type": "stream",
     "text": [
      "U:\\RSU\\mmp\\dhmmp\\9_scripts\\code_uav\\image_process\n"
     ]
    }
   ],
   "source": [
    "cd U:\\RSU\\mmp\\dhmmp\\9_scripts\\code_uav\\image_process"
   ]
  },
  {
   "cell_type": "code",
   "execution_count": 114,
   "metadata": {},
   "outputs": [
    {
     "name": "stdout",
     "output_type": "stream",
     "text": [
      "32752 +proj=utm +zone=52 +south +ellps=WGS84 +datum=WGS84 +units=m +no_defs\n"
     ]
    }
   ],
   "source": [
    "%run clip_tool_rasterio.py \\\n",
    "--raster X:\\PGB\\Raster\\uav\\2022\\gpa01\\pro\\p4hf_gpa01_g\\3_dsm_ortho\\2_mosaic\\p4hf_gpa01_20220614_refgm2.tif \\\n",
    "    --shpfile X:\\PGB\\Raster\\uav\\2022\\gpa01\\shp\\gpa01_extent.shp \\\n",
    "        --outfile X:\\PGB\\Raster\\uav\\2022\\gpa01\\p4hf_gpa01_20220614_refgm2.tif"
   ]
  },
  {
   "cell_type": "markdown",
   "metadata": {},
   "source": [
    "## RGB Clip"
   ]
  },
  {
   "cell_type": "code",
   "execution_count": null,
   "metadata": {},
   "outputs": [],
   "source": [
    "#cd C:\\Users\\rmcgr\\Rangeland_monitoring\\image_processing"
   ]
  },
  {
   "cell_type": "code",
   "execution_count": 10,
   "metadata": {},
   "outputs": [
    {
     "name": "stdout",
     "output_type": "stream",
     "text": [
      "U:\\RSU\\mmp\\dhmmp\\9_scripts\\code_uav\\image_process\n"
     ]
    }
   ],
   "source": [
    "cd U:\\RSU\\mmp\\dhmmp\\9_scripts\\code_uav\\image_process"
   ]
  },
  {
   "cell_type": "code",
   "execution_count": 25,
   "metadata": {},
   "outputs": [
    {
     "ename": "RasterioIOError",
     "evalue": "X:\\PGB\\Raster\\uav\\2022\\era02\\pro\\p4if_era02\\3_dsm_ortho\\2_mosaic\\p4if_era02_mosaic_group1.tif: No such file or directory",
     "output_type": "error",
     "traceback": [
      "\u001b[1;31m---------------------------------------------------------------------------\u001b[0m",
      "\u001b[1;31mCPLE_OpenFailedError\u001b[0m                      Traceback (most recent call last)",
      "\u001b[1;32mrasterio\\_base.pyx\u001b[0m in \u001b[0;36mrasterio._base.DatasetBase.__init__\u001b[1;34m()\u001b[0m\n",
      "\u001b[1;32mrasterio\\_shim.pyx\u001b[0m in \u001b[0;36mrasterio._shim.open_dataset\u001b[1;34m()\u001b[0m\n",
      "\u001b[1;32mrasterio\\_err.pyx\u001b[0m in \u001b[0;36mrasterio._err.exc_wrap_pointer\u001b[1;34m()\u001b[0m\n",
      "\u001b[1;31mCPLE_OpenFailedError\u001b[0m: X:\\PGB\\Raster\\uav\\2022\\era02\\pro\\p4if_era02\\3_dsm_ortho\\2_mosaic\\p4if_era02_mosaic_group1.tif: No such file or directory",
      "\nDuring handling of the above exception, another exception occurred:\n",
      "\u001b[1;31mRasterioIOError\u001b[0m                           Traceback (most recent call last)",
      "\u001b[1;32mU:\\RSU\\mmp\\dhmmp\\9_scripts\\code_uav\\image_process\\clip_tool_rasterio.py\u001b[0m in \u001b[0;36m<module>\u001b[1;34m\u001b[0m\n\u001b[0;32m    142\u001b[0m \u001b[1;33m\u001b[0m\u001b[0m\n\u001b[0;32m    143\u001b[0m \u001b[1;32mif\u001b[0m \u001b[0m__name__\u001b[0m \u001b[1;33m==\u001b[0m \u001b[1;34m\"__main__\"\u001b[0m\u001b[1;33m:\u001b[0m\u001b[1;33m\u001b[0m\u001b[1;33m\u001b[0m\u001b[0m\n\u001b[1;32m--> 144\u001b[1;33m     \u001b[0mmain\u001b[0m\u001b[1;33m(\u001b[0m\u001b[1;33m)\u001b[0m\u001b[1;33m\u001b[0m\u001b[1;33m\u001b[0m\u001b[0m\n\u001b[0m",
      "\u001b[1;32mU:\\RSU\\mmp\\dhmmp\\9_scripts\\code_uav\\image_process\\clip_tool_rasterio.py\u001b[0m in \u001b[0;36mmain\u001b[1;34m()\u001b[0m\n\u001b[0;32m    113\u001b[0m     \u001b[0mout_tif\u001b[0m \u001b[1;33m=\u001b[0m \u001b[0mcmdargs\u001b[0m\u001b[1;33m.\u001b[0m\u001b[0moutfile\u001b[0m\u001b[1;33m\u001b[0m\u001b[1;33m\u001b[0m\u001b[0m\n\u001b[0;32m    114\u001b[0m \u001b[1;33m\u001b[0m\u001b[0m\n\u001b[1;32m--> 115\u001b[1;33m     \u001b[0mdata\u001b[0m \u001b[1;33m=\u001b[0m \u001b[0mrasterio\u001b[0m\u001b[1;33m.\u001b[0m\u001b[0mopen\u001b[0m\u001b[1;33m(\u001b[0m\u001b[0minImage\u001b[0m\u001b[1;33m)\u001b[0m\u001b[1;33m\u001b[0m\u001b[1;33m\u001b[0m\u001b[0m\n\u001b[0m\u001b[0;32m    116\u001b[0m \u001b[1;33m\u001b[0m\u001b[0m\n\u001b[0;32m    117\u001b[0m     \u001b[0mgeo_dissolve\u001b[0m \u001b[1;33m=\u001b[0m \u001b[0mdissolveShp\u001b[0m\u001b[1;33m(\u001b[0m\u001b[0minshp\u001b[0m\u001b[1;33m)\u001b[0m\u001b[1;33m\u001b[0m\u001b[1;33m\u001b[0m\u001b[0m\n",
      "\u001b[1;32mC:\\Users\\admrmcgr\\.conda\\envs\\ana_base\\lib\\site-packages\\rasterio\\env.py\u001b[0m in \u001b[0;36mwrapper\u001b[1;34m(*args, **kwds)\u001b[0m\n\u001b[0;32m    421\u001b[0m \u001b[1;33m\u001b[0m\u001b[0m\n\u001b[0;32m    422\u001b[0m         \u001b[1;32mwith\u001b[0m \u001b[0menv_ctor\u001b[0m\u001b[1;33m(\u001b[0m\u001b[0msession\u001b[0m\u001b[1;33m=\u001b[0m\u001b[0msession\u001b[0m\u001b[1;33m)\u001b[0m\u001b[1;33m:\u001b[0m\u001b[1;33m\u001b[0m\u001b[1;33m\u001b[0m\u001b[0m\n\u001b[1;32m--> 423\u001b[1;33m             \u001b[1;32mreturn\u001b[0m \u001b[0mf\u001b[0m\u001b[1;33m(\u001b[0m\u001b[1;33m*\u001b[0m\u001b[0margs\u001b[0m\u001b[1;33m,\u001b[0m \u001b[1;33m**\u001b[0m\u001b[0mkwds\u001b[0m\u001b[1;33m)\u001b[0m\u001b[1;33m\u001b[0m\u001b[1;33m\u001b[0m\u001b[0m\n\u001b[0m\u001b[0;32m    424\u001b[0m \u001b[1;33m\u001b[0m\u001b[0m\n\u001b[0;32m    425\u001b[0m     \u001b[1;32mreturn\u001b[0m \u001b[0mwrapper\u001b[0m\u001b[1;33m\u001b[0m\u001b[1;33m\u001b[0m\u001b[0m\n",
      "\u001b[1;32mC:\\Users\\admrmcgr\\.conda\\envs\\ana_base\\lib\\site-packages\\rasterio\\__init__.py\u001b[0m in \u001b[0;36mopen\u001b[1;34m(fp, mode, driver, width, height, count, crs, transform, dtype, nodata, sharing, **kwargs)\u001b[0m\n\u001b[0;32m    214\u001b[0m         \u001b[1;31m# None.\u001b[0m\u001b[1;33m\u001b[0m\u001b[1;33m\u001b[0m\u001b[1;33m\u001b[0m\u001b[0m\n\u001b[0;32m    215\u001b[0m         \u001b[1;32mif\u001b[0m \u001b[0mmode\u001b[0m \u001b[1;33m==\u001b[0m \u001b[1;34m'r'\u001b[0m\u001b[1;33m:\u001b[0m\u001b[1;33m\u001b[0m\u001b[1;33m\u001b[0m\u001b[0m\n\u001b[1;32m--> 216\u001b[1;33m             \u001b[0ms\u001b[0m \u001b[1;33m=\u001b[0m \u001b[0mDatasetReader\u001b[0m\u001b[1;33m(\u001b[0m\u001b[0mpath\u001b[0m\u001b[1;33m,\u001b[0m \u001b[0mdriver\u001b[0m\u001b[1;33m=\u001b[0m\u001b[0mdriver\u001b[0m\u001b[1;33m,\u001b[0m \u001b[1;33m**\u001b[0m\u001b[0mkwargs\u001b[0m\u001b[1;33m)\u001b[0m\u001b[1;33m\u001b[0m\u001b[1;33m\u001b[0m\u001b[0m\n\u001b[0m\u001b[0;32m    217\u001b[0m         \u001b[1;32melif\u001b[0m \u001b[0mmode\u001b[0m \u001b[1;33m==\u001b[0m \u001b[1;34m'r+'\u001b[0m\u001b[1;33m:\u001b[0m\u001b[1;33m\u001b[0m\u001b[1;33m\u001b[0m\u001b[0m\n\u001b[0;32m    218\u001b[0m             \u001b[0ms\u001b[0m \u001b[1;33m=\u001b[0m \u001b[0mget_writer_for_path\u001b[0m\u001b[1;33m(\u001b[0m\u001b[0mpath\u001b[0m\u001b[1;33m)\u001b[0m\u001b[1;33m(\u001b[0m\u001b[0mpath\u001b[0m\u001b[1;33m,\u001b[0m \u001b[0mmode\u001b[0m\u001b[1;33m,\u001b[0m \u001b[0mdriver\u001b[0m\u001b[1;33m=\u001b[0m\u001b[0mdriver\u001b[0m\u001b[1;33m,\u001b[0m \u001b[1;33m**\u001b[0m\u001b[0mkwargs\u001b[0m\u001b[1;33m)\u001b[0m\u001b[1;33m\u001b[0m\u001b[1;33m\u001b[0m\u001b[0m\n",
      "\u001b[1;32mrasterio\\_base.pyx\u001b[0m in \u001b[0;36mrasterio._base.DatasetBase.__init__\u001b[1;34m()\u001b[0m\n",
      "\u001b[1;31mRasterioIOError\u001b[0m: X:\\PGB\\Raster\\uav\\2022\\era02\\pro\\p4if_era02\\3_dsm_ortho\\2_mosaic\\p4if_era02_mosaic_group1.tif: No such file or directory"
     ]
    }
   ],
   "source": [
    "%run clip_tool_rasterio.py \\\n",
    "--raster X:\\PGB\\Raster\\uav\\2022\\era02\\pro\\p4if_era02\\3_dsm_ortho\\2_mosaic\\p4if_era02_mosaic_group1.tif \\\n",
    "    --shpfile X:\\PGB\\Raster\\uav\\2022\\era02\\shp\\era02_extent.shp \\\n",
    "        --outfile X:\\PGB\\Raster\\uav\\2022\\era02\\p4if_era02_20220714_rgbgm2.tif"
   ]
  },
  {
   "cell_type": "markdown",
   "metadata": {},
   "source": [
    "## Metadata update"
   ]
  },
  {
   "cell_type": "markdown",
   "metadata": {},
   "source": [
    "### All UAV final products"
   ]
  },
  {
   "cell_type": "code",
   "execution_count": 118,
   "metadata": {},
   "outputs": [],
   "source": [
    "capture_date = '20220614'\n",
    "pilot = 'Daniel Choy'\n",
    "processing_date = \"20220614\"\n",
    "utm = '52'\n",
    "image_code = 'p4hf'\n",
    "\n",
    "site = \"gpa01\"\n",
    "dir_ = \"2_mosaic\"\n",
    "directory = r\"X:\\PGB\\Raster\\uav\\2022\""
   ]
  },
  {
   "cell_type": "markdown",
   "metadata": {},
   "source": [
    "## Multispec"
   ]
  },
  {
   "cell_type": "code",
   "execution_count": 34,
   "metadata": {},
   "outputs": [
    {
     "name": "stdout",
     "output_type": "stream",
     "text": [
      "X:\\PGB\\Raster\\uav\\2022\\maa01\\p4hf_maa01_20220810_refnm2.tif\n"
     ]
    }
   ],
   "source": [
    "image = r\"{0}\\{1}\\{3}_{1}_{2}_refnm{4}.tif\".format(directory, site, capture_date, image_code, utm[1])\n",
    "print(image)"
   ]
  },
  {
   "cell_type": "code",
   "execution_count": 119,
   "metadata": {},
   "outputs": [
    {
     "name": "stdout",
     "output_type": "stream",
     "text": [
      "X:\\PGB\\Raster\\uav\\2022\\gpa01\\p4hf_gpa01_20220614_refgm2.tif\n"
     ]
    }
   ],
   "source": [
    "image = r\"{0}\\{1}\\{3}_{1}_{2}_refgm{4}.tif\".format(directory, site, capture_date, image_code, utm[1])\n",
    "print(image)"
   ]
  },
  {
   "cell_type": "code",
   "execution_count": 120,
   "metadata": {
    "scrolled": true
   },
   "outputs": [
    {
     "name": "stdout",
     "output_type": "stream",
     "text": [
      "Update metadata for:  X:\\PGB\\Raster\\uav\\2022\\gpa01\\p4hf_gpa01_20220614_refgm2.tif\n",
      "{'AREA_OR_POINT': 'Area', 'Band composition': 'blue, green, red', 'Datum': 'WGS 1984', 'EPSG': '32752', 'Flight': 'gpa01', 'Flight date': '20220614', 'Geo-rectified': 'Yes', 'Pilot': 'Daniel Choy', 'Platform': 'DJI Phantom 4 RTK02', 'Processing date': '20220614', 'Projection': 'UTM zone 52S', 'Sensor': 'DJI RGB WM331A'}\n"
     ]
    }
   ],
   "source": [
    "\n",
    "#image = r\"{0}\\{1}\\{3}_{1}_{2}_rgbnm2.tif\".format(directory, site, capture_date, image_code)\n",
    "print('Update metadata for: ',  image)\n",
    "gdal.AllRegister()\n",
    "\n",
    "inputdataset = gdal.Open(image)\n",
    "\n",
    "inputdataset.SetMetadataItem(\"Flight\",\"{0}\".format(site))\n",
    "\n",
    "inputdataset.SetMetadataItem(\"Flight date\",\"{0}\".format(capture_date))\n",
    "inputdataset.SetMetadataItem(\"Pilot\",\"{0}\".format(pilot))\n",
    "\n",
    "# platform and sensor\n",
    "if image[-28:-27] == 'a':\n",
    "    inputdataset.SetMetadataItem(\"Platform\",\"DJI Phantom 4\")\n",
    "    inputdataset.SetMetadataItem(\"Sensor\",\"Micasense RedEdge-3\")\n",
    "    bands = \"blue, green, red, red edge, nir\"\n",
    "elif image[-28:-27] == 'b':\n",
    "    inputdataset.SetMetadataItem(\"Platform\",\"DJI Phantom 4\")\n",
    "    inputdataset.SetMetadataItem(\"Sensor\",\"Micasence RedEdge-M\") \n",
    "    bands = \"blue, green, red, red edge, nir\"\n",
    "elif image[-28:-27] == 'c':\n",
    "    inputdataset.SetMetadataItem(\"Platform\",\"DJI Phantom 4 RTK01\")\n",
    "    inputdataset.SetMetadataItem(\"Sensor\",\"DJI Multi WM331A\")\n",
    "    bands = \"blue, green, red, red edge, nir\"\n",
    "elif image[-28:-27] == 'd':\n",
    "    inputdataset.SetMetadataItem(\"Platform\",\"DJI Phantom 4\")\n",
    "    inputdataset.SetMetadataItem(\"Sensor\",\"DJI RGB WM331A\")  \n",
    "    bands = \"blue, green, red\"\n",
    "elif image[-28:-27] == 'e':\n",
    "    inputdataset.SetMetadataItem(\"Platform\",\"DJI Phantom 4\")\n",
    "    inputdataset.SetMetadataItem(\"Sensor\",\"DJI RGB WM331A\") \n",
    "    bands = \"blue, green, red\"\n",
    "elif image[-28:-27] == 'g':\n",
    "    inputdataset.SetMetadataItem(\"Platform\",\"DJI Phantom 4 RTK01\")\n",
    "    inputdataset.SetMetadataItem(\"Sensor\",\"DJI RGB WM331A\")\n",
    "    bands = \"blue, green, red\"\n",
    "elif image[-28:-27] == 'h':\n",
    "    inputdataset.SetMetadataItem(\"Platform\",\"DJI Phantom 4 RTK02\")\n",
    "    inputdataset.SetMetadataItem(\"Sensor\",\"DJI RGB WM331A\") \n",
    "    bands = \"blue, green, red\"\n",
    "elif image[-28:-27] == 'i':\n",
    "    inputdataset.SetMetadataItem(\"Platform\",\"DJI Phantom 4 RTK02\")\n",
    "    inputdataset.SetMetadataItem(\"Sensor\",\"DJI RGB WM331A\")\n",
    "    bands = \"blue, green, red\"\n",
    "    \n",
    "else:\n",
    "    pass\n",
    "    \n",
    "inputdataset.SetMetadataItem(\"Processing date\",\"{0}\".format(processing_date))\n",
    "                             \n",
    "#datum                             \n",
    "if utm == '52':                     \n",
    "    inputdataset.SetMetadataItem(\"Datum\",\"WGS 1984\")\n",
    "    inputdataset.SetMetadataItem(\"Projection\",\"UTM zone 52S\")\n",
    "    inputdataset.SetMetadataItem(\"EPSG\",\"32752\")\n",
    "elif utm == '53':\n",
    "    inputdataset.SetMetadataItem(\"Datum\",\"WGS 1984\")\n",
    "    inputdataset.SetMetadataItem(\"Projection\",\"UTM zone 53S\")\n",
    "    inputdataset.SetMetadataItem(\"EPSG\",\"32753\") \n",
    "else:\n",
    "    pass\n",
    "\n",
    "gcp = image[-7:-6]\n",
    "if gcp == 'g':\n",
    "    inputdataset.SetMetadataItem(\"Geo-rectified\",\"Yes\")\n",
    "elif gcp == 'n':\n",
    "    inputdataset.SetMetadataItem(\"Geo-rectified\",\"No\")\n",
    "else:\n",
    "    pass\n",
    "\n",
    "inputdataset.SetMetadataItem(\"Band composition\",\"{0}\".format(bands))\n",
    "\n",
    "inputdataset = None\n",
    "\n",
    "src = gdal.Open(image, gdalconst.GA_ReadOnly)\n",
    "\n",
    "print(src.GetMetadata())\n"
   ]
  },
  {
   "cell_type": "markdown",
   "metadata": {},
   "source": [
    "## RGB"
   ]
  },
  {
   "cell_type": "code",
   "execution_count": null,
   "metadata": {},
   "outputs": [],
   "source": [
    "capture_date = '20230803'\n",
    "pilot = 'Daniel Choy'\n",
    "processing_date = \"20220614\"\n",
    "utm = '52'\n",
    "image_code = 'p4hf'\n",
    "\n",
    "site = \"gpa01\"\n",
    "dir_ = \"2_mosaic\"\n",
    "directory = r\"X:\\PGB\\Raster\\uav\\2022\""
   ]
  },
  {
   "cell_type": "code",
   "execution_count": null,
   "metadata": {},
   "outputs": [],
   "source": [
    "image = r\"{0}\\{1}\\{3}_{1}_{2}_rgbnm{4}.tif\".format(directory, site, capture_date, image_code, utm[1])\n",
    "print(image)"
   ]
  },
  {
   "cell_type": "code",
   "execution_count": null,
   "metadata": {},
   "outputs": [],
   "source": [
    "image = r\"{0}\\{1}\\{3}_{1}_{2}_rgbgm2{4}.tif\".format(directory, site, capture_date, image_code, utm[1])\n",
    "print(image)"
   ]
  },
  {
   "cell_type": "markdown",
   "metadata": {},
   "source": [
    "## Run metadata update"
   ]
  },
  {
   "cell_type": "code",
   "execution_count": null,
   "metadata": {},
   "outputs": [],
   "source": [
    "\n",
    "#image = r\"{0}\\{1}\\{3}_{1}_{2}_rgbnm2.tif\".format(directory, site, capture_date, image_code)\n",
    "print('Update metadata for: ',  image)\n",
    "gdal.AllRegister()\n",
    "\n",
    "inputdataset = gdal.Open(image)\n",
    "\n",
    "inputdataset.SetMetadataItem(\"Flight\",\"{0}\".format(site))\n",
    "\n",
    "inputdataset.SetMetadataItem(\"Flight date\",\"{0}\".format(capture_date))\n",
    "inputdataset.SetMetadataItem(\"Pilot\",\"{0}\".format(pilot))\n",
    "\n",
    "# platform and sensor\n",
    "if image[-28:-27] == 'a':\n",
    "    inputdataset.SetMetadataItem(\"Platform\",\"DJI Phantom 4\")\n",
    "    inputdataset.SetMetadataItem(\"Sensor\",\"Micasense RedEdge-3\")\n",
    "    bands = \"blue, green, red, red edge, nir\"\n",
    "elif image[-28:-27] == 'b':\n",
    "    inputdataset.SetMetadataItem(\"Platform\",\"DJI Phantom 4\")\n",
    "    inputdataset.SetMetadataItem(\"Sensor\",\"Micasence RedEdge-M\") \n",
    "    bands = \"blue, green, red, red edge, nir\"\n",
    "elif image[-28:-27] == 'c':\n",
    "    inputdataset.SetMetadataItem(\"Platform\",\"DJI Phantom 4 RTK01\")\n",
    "    inputdataset.SetMetadataItem(\"Sensor\",\"DJI Multi WM331A\")\n",
    "    bands = \"blue, green, red, red edge, nir\"\n",
    "elif image[-28:-27] == 'd':\n",
    "    inputdataset.SetMetadataItem(\"Platform\",\"DJI Phantom 4\")\n",
    "    inputdataset.SetMetadataItem(\"Sensor\",\"DJI RGB WM331A\")  \n",
    "    bands = \"blue, green, red\"\n",
    "elif image[-28:-27] == 'e':\n",
    "    inputdataset.SetMetadataItem(\"Platform\",\"DJI Phantom 4\")\n",
    "    inputdataset.SetMetadataItem(\"Sensor\",\"DJI RGB WM331A\") \n",
    "    bands = \"blue, green, red\"\n",
    "elif image[-28:-27] == 'g':\n",
    "    inputdataset.SetMetadataItem(\"Platform\",\"DJI Phantom 4 RTK01\")\n",
    "    inputdataset.SetMetadataItem(\"Sensor\",\"DJI RGB WM331A\")\n",
    "    bands = \"blue, green, red\"\n",
    "elif image[-28:-27] == 'h':\n",
    "    inputdataset.SetMetadataItem(\"Platform\",\"DJI Phantom 4 RTK02\")\n",
    "    inputdataset.SetMetadataItem(\"Sensor\",\"DJI RGB WM331A\") \n",
    "    bands = \"blue, green, red\"\n",
    "elif image[-28:-27] == 'i':\n",
    "    inputdataset.SetMetadataItem(\"Platform\",\"DJI Phantom 4 RTK02\")\n",
    "    inputdataset.SetMetadataItem(\"Sensor\",\"DJI RGB WM331A\")\n",
    "    bands = \"blue, green, red\"\n",
    "    \n",
    "else:\n",
    "    pass\n",
    "    \n",
    "inputdataset.SetMetadataItem(\"Processing date\",\"{0}\".format(processing_date))\n",
    "                             \n",
    "#datum                             \n",
    "if utm == '52':                     \n",
    "    inputdataset.SetMetadataItem(\"Datum\",\"WGS 1984\")\n",
    "    inputdataset.SetMetadataItem(\"Projection\",\"UTM zone 52S\")\n",
    "    inputdataset.SetMetadataItem(\"EPSG\",\"32752\")\n",
    "elif utm == '53':\n",
    "    inputdataset.SetMetadataItem(\"Datum\",\"WGS 1984\")\n",
    "    inputdataset.SetMetadataItem(\"Projection\",\"UTM zone 53S\")\n",
    "    inputdataset.SetMetadataItem(\"EPSG\",\"32753\") \n",
    "else:\n",
    "    pass\n",
    "\n",
    "gcp = image[-7:-6]\n",
    "if gcp == 'g':\n",
    "    inputdataset.SetMetadataItem(\"Geo-rectified\",\"Yes\")\n",
    "elif gcp == 'n':\n",
    "    inputdataset.SetMetadataItem(\"Geo-rectified\",\"No\")\n",
    "else:\n",
    "    pass\n",
    "\n",
    "inputdataset.SetMetadataItem(\"Band composition\",\"{0}\".format(bands))\n",
    "\n",
    "inputdataset = None\n",
    "\n",
    "src = gdal.Open(image, gdalconst.GA_ReadOnly)\n",
    "\n",
    "print(src.GetMetadata())\n"
   ]
  },
  {
   "cell_type": "code",
   "execution_count": null,
   "metadata": {},
   "outputs": [],
   "source": []
  },
  {
   "cell_type": "code",
   "execution_count": null,
   "metadata": {},
   "outputs": [],
   "source": [
    "shutil.rmtree(r\"{0}\\{1}\\mosaic_n\".format(directory, site))"
   ]
  },
  {
   "cell_type": "code",
   "execution_count": null,
   "metadata": {},
   "outputs": [],
   "source": [
    "shutil.rmtree(r\"{0}\\{1}\\mosaic_g\".format(directory, site))"
   ]
  }
 ],
 "metadata": {
  "kernelspec": {
   "display_name": "Python 3",
   "language": "python",
   "name": "python3"
  },
  "language_info": {
   "codemirror_mode": {
    "name": "ipython",
    "version": 3
   },
   "file_extension": ".py",
   "mimetype": "text/x-python",
   "name": "python",
   "nbconvert_exporter": "python",
   "pygments_lexer": "ipython3",
   "version": "3.7.7"
  }
 },
 "nbformat": 4,
 "nbformat_minor": 4
}
