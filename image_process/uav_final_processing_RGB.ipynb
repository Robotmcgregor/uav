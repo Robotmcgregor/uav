{
 "cells": [
  {
   "cell_type": "code",
   "execution_count": 2,
   "metadata": {},
   "outputs": [],
   "source": [
    "import os\n",
    "import shutil\n",
    "import gdal\n",
    "import numpy as np\n",
    "from osgeo import gdal, gdalconst"
   ]
  },
  {
   "cell_type": "code",
   "execution_count": null,
   "metadata": {},
   "outputs": [],
   "source": [
    "## clipping RGB"
   ]
  },
  {
   "cell_type": "code",
   "execution_count": 66,
   "metadata": {},
   "outputs": [
    {
     "name": "stdout",
     "output_type": "stream",
     "text": [
      "U:\\mmp\\dhmmp\\9_scripts\\code_uav\\image_process\n"
     ]
    }
   ],
   "source": [
    "cd U:\\mmp\\dhmmp\\9_scripts\\code_uav\\image_process"
   ]
  },
  {
   "cell_type": "code",
   "execution_count": 109,
   "metadata": {},
   "outputs": [
    {
     "name": "stdout",
     "output_type": "stream",
     "text": [
      "32752 +proj=utm +zone=52 +south +ellps=WGS84 +datum=WGS84 +units=m +no_defs\n"
     ]
    }
   ],
   "source": [
    "%run clip_tool_rasterio.py \\\n",
    "--raster Y:/PGB/Raster/uav/2023/bhc02/pro/p4if_bhc_02_n/3_dsm_ortho/2_mosaic/p4if_bhc_02_n_mosaic_group1.tif \\\n",
    "    --shpfile Y:\\PGB\\Raster\\uav\\2023\\bhc02\\shp\\bhc_extent.shp \\\n",
    "        --outfile Y:/PGB/Raster/uav/2023/bhc02/p4if_bhc02_20230905_rgbnm2.tif\n",
    "            \n",
    "            "
   ]
  },
  {
   "cell_type": "code",
   "execution_count": 75,
   "metadata": {},
   "outputs": [],
   "source": [
    "## Metadata update"
   ]
  },
  {
   "cell_type": "code",
   "execution_count": 4,
   "metadata": {},
   "outputs": [],
   "source": [
    "capture_date = '20230905'\n",
    "pilot = 'Rafaela Salum'\n",
    "processing_date = \"20240213\"\n",
    "utm = '52'\n",
    "image_code = 'p4if'\n",
    "\n",
    "site = \"bhc02\"\n",
    "dir_ = \"2_mosaic\"\n",
    "directory = r\"Y:\\PGB\\Raster\\uav\\2023\""
   ]
  },
  {
   "cell_type": "code",
   "execution_count": 60,
   "metadata": {},
   "outputs": [
    {
     "name": "stdout",
     "output_type": "stream",
     "text": [
      "Y:\\PGB\\Raster\\uav\\2023\\era01\\p4if_era01_20230803_rgbgm2.tif\n"
     ]
    }
   ],
   "source": [
    "#image = r\"{0}\\{1}\\{3}_{1}_{2}_rgbnm{4}.tif\".format(directory, site, capture_date, image_code, utm[1])\n",
    "print(image)"
   ]
  },
  {
   "cell_type": "code",
   "execution_count": 5,
   "metadata": {},
   "outputs": [
    {
     "name": "stdout",
     "output_type": "stream",
     "text": [
      "Y:\\PGB\\Raster\\uav\\2023\\bhc02\\p4if_bhc02_20230905_rgbnm2.tif\n"
     ]
    }
   ],
   "source": [
    "image = r\"{0}\\{1}\\{3}_{1}_{2}_rgbnm{4}.tif\".format(directory, site, capture_date, image_code, utm[1])\n",
    "print(image)"
   ]
  },
  {
   "cell_type": "code",
   "execution_count": 105,
   "metadata": {},
   "outputs": [
    {
     "name": "stdout",
     "output_type": "stream",
     "text": [
      "Y:\\PGB\\Raster\\uav\\2023\\bhb02\\p4if_bhb02_20230904_rgbgm2.tif\n"
     ]
    }
   ],
   "source": [
    "image = r\"{0}\\{1}\\{3}_{1}_{2}_rgbgm{4}.tif\".format(directory, site, capture_date, image_code, utm[1])\n",
    "print(image)"
   ]
  },
  {
   "cell_type": "code",
   "execution_count": 106,
   "metadata": {},
   "outputs": [],
   "source": [
    "## Run metadata update\n"
   ]
  },
  {
   "cell_type": "code",
   "execution_count": 6,
   "metadata": {},
   "outputs": [
    {
     "name": "stdout",
     "output_type": "stream",
     "text": [
      "Update metadata for:  Y:\\PGB\\Raster\\uav\\2023\\bhc02\\p4if_bhc02_20230905_rgbnm2.tif\n",
      "{'AREA_OR_POINT': 'Area', 'Band composition': 'blue, green, red', 'Datum': 'WGS 1984', 'EPSG': '32752', 'Flight': 'bhc02', 'Flight date': '20230905', 'Geo-rectified': 'No', 'Pilot': 'Rafaela Salum', 'Platform': 'DJI Phantom 4 RTK02', 'Processing date': '20240213', 'Projection': 'UTM zone 52S', 'Sensor': 'DJI RGB WM331A'}\n"
     ]
    }
   ],
   "source": [
    "\n",
    "#image = r\"{0}\\{1}\\{3}_{1}_{2}_rgbnm2.tif\".format(directory, site, capture_date, image_code)\n",
    "print('Update metadata for: ',  image)\n",
    "gdal.AllRegister()\n",
    "\n",
    "inputdataset = gdal.Open(image)\n",
    "\n",
    "inputdataset.SetMetadataItem(\"Flight\",\"{0}\".format(site))\n",
    "\n",
    "inputdataset.SetMetadataItem(\"Flight date\",\"{0}\".format(capture_date))\n",
    "inputdataset.SetMetadataItem(\"Pilot\",\"{0}\".format(pilot))\n",
    "\n",
    "# platform and sensor\n",
    "if image[-28:-27] == 'a':\n",
    "    inputdataset.SetMetadataItem(\"Platform\",\"DJI Phantom 4\")\n",
    "    inputdataset.SetMetadataItem(\"Sensor\",\"Micasense RedEdge-3\")\n",
    "    bands = \"blue, green, red, red edge, nir\"\n",
    "elif image[-28:-27] == 'b':\n",
    "    inputdataset.SetMetadataItem(\"Platform\",\"DJI Phantom 4\")\n",
    "    inputdataset.SetMetadataItem(\"Sensor\",\"Micasence RedEdge-M\") \n",
    "    bands = \"blue, green, red, red edge, nir\"\n",
    "elif image[-28:-27] == 'c':\n",
    "    inputdataset.SetMetadataItem(\"Platform\",\"DJI Phantom 4 RTK01\")\n",
    "    inputdataset.SetMetadataItem(\"Sensor\",\"DJI Multi WM331A\")\n",
    "    bands = \"blue, green, red, red edge, nir\"\n",
    "elif image[-28:-27] == 'd':\n",
    "    inputdataset.SetMetadataItem(\"Platform\",\"DJI Phantom 4\")\n",
    "    inputdataset.SetMetadataItem(\"Sensor\",\"DJI RGB WM331A\")  \n",
    "    bands = \"blue, green, red\"\n",
    "elif image[-28:-27] == 'e':\n",
    "    inputdataset.SetMetadataItem(\"Platform\",\"DJI Phantom 4\")\n",
    "    inputdataset.SetMetadataItem(\"Sensor\",\"DJI RGB WM331A\") \n",
    "    bands = \"blue, green, red\"\n",
    "elif image[-28:-27] == 'g':\n",
    "    inputdataset.SetMetadataItem(\"Platform\",\"DJI Phantom 4 RTK01\")\n",
    "    inputdataset.SetMetadataItem(\"Sensor\",\"DJI RGB WM331A\")\n",
    "    bands = \"blue, green, red\"\n",
    "elif image[-28:-27] == 'h':\n",
    "    inputdataset.SetMetadataItem(\"Platform\",\"DJI Phantom 4 RTK02\")\n",
    "    inputdataset.SetMetadataItem(\"Sensor\",\"DJI RGB WM331A\") \n",
    "    bands = \"blue, green, red\"\n",
    "elif image[-28:-27] == 'i':\n",
    "    inputdataset.SetMetadataItem(\"Platform\",\"DJI Phantom 4 RTK02\")\n",
    "    inputdataset.SetMetadataItem(\"Sensor\",\"DJI RGB WM331A\")\n",
    "    bands = \"blue, green, red\"\n",
    "    \n",
    "else:\n",
    "    pass\n",
    "    \n",
    "inputdataset.SetMetadataItem(\"Processing date\",\"{0}\".format(processing_date))\n",
    "                             \n",
    "#datum                             \n",
    "if utm == '52':                     \n",
    "    inputdataset.SetMetadataItem(\"Datum\",\"WGS 1984\")\n",
    "    inputdataset.SetMetadataItem(\"Projection\",\"UTM zone 52S\")\n",
    "    inputdataset.SetMetadataItem(\"EPSG\",\"32752\")\n",
    "elif utm == '53':\n",
    "    inputdataset.SetMetadataItem(\"Datum\",\"WGS 1984\")\n",
    "    inputdataset.SetMetadataItem(\"Projection\",\"UTM zone 53S\")\n",
    "    inputdataset.SetMetadataItem(\"EPSG\",\"32753\") \n",
    "else:\n",
    "    pass\n",
    "\n",
    "gcp = image[-7:-6]\n",
    "if gcp == 'g':\n",
    "    inputdataset.SetMetadataItem(\"Geo-rectified\",\"Yes\")\n",
    "elif gcp == 'n':\n",
    "    inputdataset.SetMetadataItem(\"Geo-rectified\",\"No\")\n",
    "else:\n",
    "    pass\n",
    "\n",
    "inputdataset.SetMetadataItem(\"Band composition\",\"{0}\".format(bands))\n",
    "\n",
    "inputdataset = None\n",
    "\n",
    "src = gdal.Open(image, gdalconst.GA_ReadOnly)\n",
    "\n",
    "print(src.GetMetadata())\n"
   ]
  },
  {
   "cell_type": "code",
   "execution_count": 7,
   "metadata": {},
   "outputs": [
    {
     "ename": "FileNotFoundError",
     "evalue": "[WinError 3] The system cannot find the path specified: 'Y:\\\\PGB\\\\Raster\\\\uav\\\\2023\\\\bhc02\\\\mosaic_n'",
     "output_type": "error",
     "traceback": [
      "\u001b[1;31m---------------------------------------------------------------------------\u001b[0m",
      "\u001b[1;31mFileNotFoundError\u001b[0m                         Traceback (most recent call last)",
      "\u001b[1;32m<ipython-input-7-f21cccee6878>\u001b[0m in \u001b[0;36m<module>\u001b[1;34m()\u001b[0m\n\u001b[1;32m----> 1\u001b[1;33m \u001b[0mshutil\u001b[0m\u001b[1;33m.\u001b[0m\u001b[0mrmtree\u001b[0m\u001b[1;33m(\u001b[0m\u001b[1;34mr\"{0}\\{1}\\mosaic_n\"\u001b[0m\u001b[1;33m.\u001b[0m\u001b[0mformat\u001b[0m\u001b[1;33m(\u001b[0m\u001b[0mdirectory\u001b[0m\u001b[1;33m,\u001b[0m \u001b[0msite\u001b[0m\u001b[1;33m)\u001b[0m\u001b[1;33m)\u001b[0m\u001b[1;33m\u001b[0m\u001b[1;33m\u001b[0m\u001b[0m\n\u001b[0m",
      "\u001b[1;32mC:\\ProgramData\\Miniconda3\\envs\\rmb_zonal\\lib\\shutil.py\u001b[0m in \u001b[0;36mrmtree\u001b[1;34m(path, ignore_errors, onerror)\u001b[0m\n\u001b[0;32m    514\u001b[0m             \u001b[1;31m# can't continue even if onerror hook returns\u001b[0m\u001b[1;33m\u001b[0m\u001b[1;33m\u001b[0m\u001b[1;33m\u001b[0m\u001b[0m\n\u001b[0;32m    515\u001b[0m             \u001b[1;32mreturn\u001b[0m\u001b[1;33m\u001b[0m\u001b[1;33m\u001b[0m\u001b[0m\n\u001b[1;32m--> 516\u001b[1;33m         \u001b[1;32mreturn\u001b[0m \u001b[0m_rmtree_unsafe\u001b[0m\u001b[1;33m(\u001b[0m\u001b[0mpath\u001b[0m\u001b[1;33m,\u001b[0m \u001b[0monerror\u001b[0m\u001b[1;33m)\u001b[0m\u001b[1;33m\u001b[0m\u001b[1;33m\u001b[0m\u001b[0m\n\u001b[0m\u001b[0;32m    517\u001b[0m \u001b[1;33m\u001b[0m\u001b[0m\n\u001b[0;32m    518\u001b[0m \u001b[1;31m# Allow introspection of whether or not the hardening against symlink\u001b[0m\u001b[1;33m\u001b[0m\u001b[1;33m\u001b[0m\u001b[1;33m\u001b[0m\u001b[0m\n",
      "\u001b[1;32mC:\\ProgramData\\Miniconda3\\envs\\rmb_zonal\\lib\\shutil.py\u001b[0m in \u001b[0;36m_rmtree_unsafe\u001b[1;34m(path, onerror)\u001b[0m\n\u001b[0;32m    375\u001b[0m             \u001b[0mentries\u001b[0m \u001b[1;33m=\u001b[0m \u001b[0mlist\u001b[0m\u001b[1;33m(\u001b[0m\u001b[0mscandir_it\u001b[0m\u001b[1;33m)\u001b[0m\u001b[1;33m\u001b[0m\u001b[1;33m\u001b[0m\u001b[0m\n\u001b[0;32m    376\u001b[0m     \u001b[1;32mexcept\u001b[0m \u001b[0mOSError\u001b[0m\u001b[1;33m:\u001b[0m\u001b[1;33m\u001b[0m\u001b[1;33m\u001b[0m\u001b[0m\n\u001b[1;32m--> 377\u001b[1;33m         \u001b[0monerror\u001b[0m\u001b[1;33m(\u001b[0m\u001b[0mos\u001b[0m\u001b[1;33m.\u001b[0m\u001b[0mscandir\u001b[0m\u001b[1;33m,\u001b[0m \u001b[0mpath\u001b[0m\u001b[1;33m,\u001b[0m \u001b[0msys\u001b[0m\u001b[1;33m.\u001b[0m\u001b[0mexc_info\u001b[0m\u001b[1;33m(\u001b[0m\u001b[1;33m)\u001b[0m\u001b[1;33m)\u001b[0m\u001b[1;33m\u001b[0m\u001b[1;33m\u001b[0m\u001b[0m\n\u001b[0m\u001b[0;32m    378\u001b[0m         \u001b[0mentries\u001b[0m \u001b[1;33m=\u001b[0m \u001b[1;33m[\u001b[0m\u001b[1;33m]\u001b[0m\u001b[1;33m\u001b[0m\u001b[1;33m\u001b[0m\u001b[0m\n\u001b[0;32m    379\u001b[0m     \u001b[1;32mfor\u001b[0m \u001b[0mentry\u001b[0m \u001b[1;32min\u001b[0m \u001b[0mentries\u001b[0m\u001b[1;33m:\u001b[0m\u001b[1;33m\u001b[0m\u001b[1;33m\u001b[0m\u001b[0m\n",
      "\u001b[1;32mC:\\ProgramData\\Miniconda3\\envs\\rmb_zonal\\lib\\shutil.py\u001b[0m in \u001b[0;36m_rmtree_unsafe\u001b[1;34m(path, onerror)\u001b[0m\n\u001b[0;32m    372\u001b[0m \u001b[1;32mdef\u001b[0m \u001b[0m_rmtree_unsafe\u001b[0m\u001b[1;33m(\u001b[0m\u001b[0mpath\u001b[0m\u001b[1;33m,\u001b[0m \u001b[0monerror\u001b[0m\u001b[1;33m)\u001b[0m\u001b[1;33m:\u001b[0m\u001b[1;33m\u001b[0m\u001b[1;33m\u001b[0m\u001b[0m\n\u001b[0;32m    373\u001b[0m     \u001b[1;32mtry\u001b[0m\u001b[1;33m:\u001b[0m\u001b[1;33m\u001b[0m\u001b[1;33m\u001b[0m\u001b[0m\n\u001b[1;32m--> 374\u001b[1;33m         \u001b[1;32mwith\u001b[0m \u001b[0mos\u001b[0m\u001b[1;33m.\u001b[0m\u001b[0mscandir\u001b[0m\u001b[1;33m(\u001b[0m\u001b[0mpath\u001b[0m\u001b[1;33m)\u001b[0m \u001b[1;32mas\u001b[0m \u001b[0mscandir_it\u001b[0m\u001b[1;33m:\u001b[0m\u001b[1;33m\u001b[0m\u001b[1;33m\u001b[0m\u001b[0m\n\u001b[0m\u001b[0;32m    375\u001b[0m             \u001b[0mentries\u001b[0m \u001b[1;33m=\u001b[0m \u001b[0mlist\u001b[0m\u001b[1;33m(\u001b[0m\u001b[0mscandir_it\u001b[0m\u001b[1;33m)\u001b[0m\u001b[1;33m\u001b[0m\u001b[1;33m\u001b[0m\u001b[0m\n\u001b[0;32m    376\u001b[0m     \u001b[1;32mexcept\u001b[0m \u001b[0mOSError\u001b[0m\u001b[1;33m:\u001b[0m\u001b[1;33m\u001b[0m\u001b[1;33m\u001b[0m\u001b[0m\n",
      "\u001b[1;31mFileNotFoundError\u001b[0m: [WinError 3] The system cannot find the path specified: 'Y:\\\\PGB\\\\Raster\\\\uav\\\\2023\\\\bhc02\\\\mosaic_n'"
     ]
    }
   ],
   "source": [
    "#shutil.rmtree(r\"{0}\\{1}\\mosaic_n\".format(directory, site))"
   ]
  },
  {
   "cell_type": "code",
   "execution_count": 9,
   "metadata": {},
   "outputs": [],
   "source": [
    "from glob import glob\n",
    "import os\n",
    "import sys\n",
    "import zipfile\n",
    "import shutil"
   ]
  },
  {
   "cell_type": "code",
   "execution_count": 11,
   "metadata": {},
   "outputs": [
    {
     "name": "stdout",
     "output_type": "stream",
     "text": [
      "['bhc02_0001.JPG', 'bhc02_0002.JPG', 'bhc02_0003.JPG', 'bhc02_0004.JPG', 'bhc02_0005.JPG', 'bhc02_0006.JPG', 'bhc02_0007.JPG', 'bhc02_0008.JPG', 'bhc02_0009.JPG', 'bhc02_0010.JPG', 'bhc02_0011.JPG', 'bhc02_0012.JPG', 'bhc02_0013.JPG', 'bhc02_0014.JPG', 'bhc02_0015.JPG', 'bhc02_0016.JPG', 'bhc02_0017.JPG', 'bhc02_0018.JPG', 'bhc02_0019.JPG', 'bhc02_0020.JPG', 'bhc02_0021.JPG', 'bhc02_0022.JPG', 'bhc02_0023.JPG', 'bhc02_0024.JPG', 'bhc02_0025.JPG', 'bhc02_0026.JPG', 'bhc02_0027.JPG', 'bhc02_0028.JPG', 'bhc02_0029.JPG', 'bhc02_0030.JPG', 'bhc02_0031.JPG', 'bhc02_0032.JPG', 'bhc02_0033.JPG', 'bhc02_0034.JPG', 'bhc02_0035.JPG', 'bhc02_0036.JPG', 'bhc02_0037.JPG', 'bhc02_0038.JPG', 'bhc02_0039.JPG', 'bhc02_0040.JPG', 'bhc02_0041.JPG', 'bhc02_0042.JPG', 'bhc02_0043.JPG', 'bhc02_0044.JPG', 'bhc02_0045.JPG', 'bhc02_0046.JPG', 'bhc02_0047.JPG', 'bhc02_0048.JPG', 'bhc02_0049.JPG', 'bhc02_0050.JPG', 'bhc02_0051.JPG', 'bhc02_0052.JPG', 'bhc02_0053.JPG', 'bhc02_0054.JPG', 'bhc02_0055.JPG', 'bhc02_0056.JPG', 'bhc02_0057.JPG', 'bhc02_0058.JPG', 'bhc02_0059.JPG', 'bhc02_0060.JPG', 'bhc02_0061.JPG', 'bhc02_0062.JPG', 'bhc02_0063.JPG', 'bhc02_0064.JPG', 'bhc02_0065.JPG', 'bhc02_0066.JPG', 'bhc02_0067.JPG', 'bhc02_0068.JPG', 'bhc02_0069.JPG', 'bhc02_0070.JPG', 'bhc02_0071.JPG', 'bhc02_0072.JPG', 'bhc02_0073.JPG', 'bhc02_0074.JPG', 'bhc02_0075.JPG', 'bhc02_0076.JPG', 'bhc02_0077.JPG', 'bhc02_0078.JPG', 'bhc02_0079.JPG', 'bhc02_0080.JPG', 'bhc02_0081.JPG', 'bhc02_0082.JPG', 'bhc02_0083.JPG', 'bhc02_0084.JPG', 'bhc02_0085.JPG', 'bhc02_0086.JPG', 'bhc02_0087.JPG', 'bhc02_0088.JPG', 'bhc02_0089.JPG', 'bhc02_0090.JPG', 'bhc02_0091.JPG', 'bhc02_0092.JPG', 'bhc02_0093.JPG', 'bhc02_0094.JPG', 'bhc02_0095.JPG', 'bhc02_0096.JPG', 'bhc02_0097.JPG', 'bhc02_0098.JPG', 'bhc02_0099.JPG', 'bhc02_0100.JPG', 'bhc02_0101.JPG', 'bhc02_0102.JPG', 'bhc02_0103.JPG', 'bhc02_0104.JPG', 'bhc02_0105.JPG', 'bhc02_0106.JPG', 'bhc02_0107.JPG', 'bhc02_0108.JPG', 'bhc02_0109.JPG', 'bhc02_0110.JPG', 'bhc02_0111.JPG', 'bhc02_0112.JPG', 'bhc02_0113.JPG', 'bhc02_0114.JPG', 'bhc02_0115.JPG', 'bhc02_0116.JPG', 'bhc02_0117.JPG', 'bhc02_0118.JPG', 'bhc02_0119.JPG', 'bhc02_0120.JPG', 'bhc02_0121.JPG', 'bhc02_0122.JPG', 'bhc02_0123.JPG', 'bhc02_0124.JPG', 'bhc02_0125.JPG', 'bhc02_0126.JPG', 'bhc02_0127.JPG', 'bhc02_0128.JPG', 'bhc02_0129.JPG', 'bhc02_0130.JPG', 'bhc02_0131.JPG', 'bhc02_0132.JPG', 'bhc02_0133.JPG', 'bhc02_0134.JPG', 'bhc02_0135.JPG', 'bhc02_0136.JPG', 'bhc02_0137.JPG', 'bhc02_0138.JPG', 'bhc02_0139.JPG', 'bhc02_0140.JPG', 'bhc02_0141.JPG', 'bhc02_0142.JPG', 'bhc02_0143.JPG', 'bhc02_0144.JPG', 'bhc02_0145.JPG', 'bhc02_0146.JPG', 'bhc02_0147.JPG', 'bhc02_0148.JPG', 'bhc02_0149.JPG', 'bhc02_0150.JPG', 'bhc02_0151.JPG', 'bhc02_0152.JPG', 'bhc02_0153.JPG', 'bhc02_0154.JPG', 'bhc02_0155.JPG', 'bhc02_0156.JPG', 'bhc02_0157.JPG', 'bhc02_0158.JPG', 'bhc02_0159.JPG', 'bhc02_0160.JPG', 'bhc02_0161.JPG', 'bhc02_0162.JPG', 'bhc02_0163.JPG', 'bhc02_0164.JPG', 'bhc02_0165.JPG', 'bhc02_0166.JPG', 'bhc02_0167.JPG', 'bhc02_0168.JPG', 'bhc02_0169.JPG', 'bhc02_0170.JPG', 'bhc02_0171.JPG', 'bhc02_0172.JPG', 'bhc02_0173.JPG', 'bhc02_0174.JPG', 'bhc02_0175.JPG', 'bhc02_0176.JPG', 'bhc02_0177.JPG', 'bhc02_0178.JPG', 'bhc02_0179.JPG', 'bhc02_0180.JPG', 'bhc02_0181.JPG', 'bhc02_0182.JPG', 'bhc02_0183.JPG', 'bhc02_0184.JPG', 'bhc02_0185.JPG', 'bhc02_0186.JPG', 'bhc02_0187.JPG', 'bhc02_0188.JPG', 'bhc02_0189.JPG', 'bhc02_0190.JPG', 'bhc02_0191.JPG', 'bhc02_0192.JPG', 'bhc02_0193.JPG', 'bhc02_0194.JPG', 'bhc02_0195.JPG', 'bhc02_0196.JPG', 'bhc02_0197.JPG', 'bhc02_0198.JPG', 'bhc02_0199.JPG', 'bhc02_0200.JPG', 'bhc02_0201.JPG', 'bhc02_0202.JPG', 'p4if_bhc02_jpg.zip']\n"
     ]
    }
   ],
   "source": [
    "flight_tag = \"bhc02\"\n",
    "flight_code = \"p4if\"\n",
    "image = \"jpg\"\n",
    "directory = r\"Y:\\PGB\\Raster\\uav\\2023\\{0}\\raw\".format(flight_tag)\n",
    " \n",
    "zip_file = zipfile.ZipFile(os.path.join(directory, \"{0}_{1}_{2}.zip\".format(flight_code, flight_tag, image.lower())), 'w')\n",
    "                           \n",
    "for folder, subfolders, files in os.walk(directory):\n",
    "    print(files)\n",
    " \n",
    "    for file in files:\n",
    "        if file.endswith(image.upper()):\n",
    "            zip_file.write(os.path.join(folder, file), os.path.relpath(os.path.join(folder,file), directory), compress_type = zipfile.ZIP_DEFLATED)\n",
    "            \n",
    "        elif file.endswith(image.lower()):\n",
    "            zip_file.write(os.path.join(folder, file), os.path.relpath(os.path.join(folder,file), directory), compress_type = zipfile.ZIP_DEFLATED)     \n",
    "zip_file.close()"
   ]
  },
  {
   "cell_type": "code",
   "execution_count": 12,
   "metadata": {},
   "outputs": [
    {
     "ename": "ModuleNotFoundError",
     "evalue": "No module named 'exif'",
     "output_type": "error",
     "traceback": [
      "\u001b[1;31m---------------------------------------------------------------------------\u001b[0m",
      "\u001b[1;31mModuleNotFoundError\u001b[0m                       Traceback (most recent call last)",
      "\u001b[1;32m<ipython-input-12-5decef933626>\u001b[0m in \u001b[0;36m<module>\u001b[1;34m()\u001b[0m\n\u001b[1;32m----> 1\u001b[1;33m \u001b[1;32mimport\u001b[0m \u001b[0mexif\u001b[0m\u001b[1;33m\u001b[0m\u001b[1;33m\u001b[0m\u001b[0m\n\u001b[0m\u001b[0;32m      2\u001b[0m \u001b[1;32mfrom\u001b[0m \u001b[0mexif\u001b[0m \u001b[1;32mimport\u001b[0m \u001b[0mImage\u001b[0m\u001b[1;33m\u001b[0m\u001b[1;33m\u001b[0m\u001b[0m\n",
      "\u001b[1;31mModuleNotFoundError\u001b[0m: No module named 'exif'"
     ]
    }
   ],
   "source": [
    "import exif\n",
    "from exif import Image"
   ]
  },
  {
   "cell_type": "code",
   "execution_count": null,
   "metadata": {},
   "outputs": [],
   "source": [
    "folder_path = 'sample_images'\n",
    "img_filename = 'image_1.jpg'\n",
    "img_path = f'{folder_path}/{img_filename}'\n",
    "\n",
    "with open(img_path, 'rb') as img_file:\n",
    "    img = Image(img_file)\n",
    "    \n",
    "print(img.has_exif)"
   ]
  }
 ],
 "metadata": {
  "kernelspec": {
   "display_name": "Python 3",
   "language": "python",
   "name": "python3"
  },
  "language_info": {
   "codemirror_mode": {
    "name": "ipython",
    "version": 3
   },
   "file_extension": ".py",
   "mimetype": "text/x-python",
   "name": "python",
   "nbconvert_exporter": "python",
   "pygments_lexer": "ipython3",
   "version": "3.7.7"
  }
 },
 "nbformat": 4,
 "nbformat_minor": 2
}
